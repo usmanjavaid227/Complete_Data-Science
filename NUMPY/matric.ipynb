{
 "cells": [
  {
   "cell_type": "code",
   "execution_count": 1,
   "metadata": {},
   "outputs": [
    {
     "name": "stdout",
     "output_type": "stream",
     "text": [
      "[[1 2]\n",
      " [2 3]]\n"
     ]
    }
   ],
   "source": [
    "import numpy as np\n",
    "x=np.matrix([[1,2],[2,3]])\n",
    "print(x)"
   ]
  },
  {
   "cell_type": "markdown",
   "metadata": {},
   "source": [
    "for multiplication we use dot() function "
   ]
  },
  {
   "cell_type": "code",
   "execution_count": 4,
   "metadata": {},
   "outputs": [
    {
     "name": "stdout",
     "output_type": "stream",
     "text": [
      "[[ 7  8]\n",
      " [13 13]]\n"
     ]
    }
   ],
   "source": [
    "x=np.matrix([[1,2],[2,3]])\n",
    "y=np.matrix([[5,2],[1,3]])\n",
    "print(x.dot(y))"
   ]
  },
  {
   "cell_type": "markdown",
   "metadata": {},
   "source": [
    "To find Transpose we use ..."
   ]
  },
  {
   "cell_type": "code",
   "execution_count": 11,
   "metadata": {},
   "outputs": [
    {
     "name": "stdout",
     "output_type": "stream",
     "text": [
      "[[1 2]\n",
      " [5 6]] \n",
      "\n",
      "[[1 5]\n",
      " [2 6]]\n"
     ]
    }
   ],
   "source": [
    "x=np.matrix([[1,2],[5,6]])\n",
    "print(x,\"\\n\")\n",
    "print(np.transpose(x))\n",
    "# print(x.T)"
   ]
  },
  {
   "cell_type": "markdown",
   "metadata": {},
   "source": [
    "To swapaxis(x,0,1)"
   ]
  },
  {
   "cell_type": "code",
   "execution_count": 16,
   "metadata": {},
   "outputs": [],
   "source": [
    "x=np.matrix([[1,2],[2,3]])\n",
    "# print(np.swapaxis(x,0,1))"
   ]
  },
  {
   "cell_type": "markdown",
   "metadata": {},
   "source": [
    "inverse matrix\n"
   ]
  },
  {
   "cell_type": "code",
   "execution_count": 17,
   "metadata": {},
   "outputs": [
    {
     "name": "stdout",
     "output_type": "stream",
     "text": [
      "[[-3.  2.]\n",
      " [ 2. -1.]]\n"
     ]
    }
   ],
   "source": [
    "x=np.matrix([[1,2],[2,3]])\n",
    "print(np.linalg.inv(x))"
   ]
  },
  {
   "cell_type": "markdown",
   "metadata": {},
   "source": [
    "power"
   ]
  },
  {
   "cell_type": "code",
   "execution_count": 19,
   "metadata": {},
   "outputs": [
    {
     "name": "stdout",
     "output_type": "stream",
     "text": [
      "[[ 5  8]\n",
      " [ 8 13]]\n",
      "[[1 0]\n",
      " [0 1]]\n",
      "[[-3.  2.]\n",
      " [ 2. -1.]]\n"
     ]
    }
   ],
   "source": [
    "x=np.matrix([[1,2],[2,3]])\n",
    "print(np.linalg.matrix_power(x,2))\n",
    "print(np.linalg.matrix_power(x,0))\n",
    "print(np.linalg.matrix_power(x,-1))"
   ]
  },
  {
   "cell_type": "markdown",
   "metadata": {},
   "source": [
    "deteminant"
   ]
  },
  {
   "cell_type": "code",
   "execution_count": 22,
   "metadata": {},
   "outputs": [
    {
     "name": "stdout",
     "output_type": "stream",
     "text": [
      "25.000000000000007\n"
     ]
    }
   ],
   "source": [
    "x=np.matrix([[9,2],[1,3]])\n",
    "print(np.linalg.det(x))"
   ]
  }
 ],
 "metadata": {
  "interpreter": {
   "hash": "369f2c481f4da34e4445cda3fffd2e751bd1c4d706f27375911949ba6bb62e1c"
  },
  "kernelspec": {
   "display_name": "Python 3.10.4 64-bit",
   "language": "python",
   "name": "python3"
  },
  "language_info": {
   "codemirror_mode": {
    "name": "ipython",
    "version": 3
   },
   "file_extension": ".py",
   "mimetype": "text/x-python",
   "name": "python",
   "nbconvert_exporter": "python",
   "pygments_lexer": "ipython3",
   "version": "3.10.4"
  },
  "orig_nbformat": 4
 },
 "nbformat": 4,
 "nbformat_minor": 2
}
