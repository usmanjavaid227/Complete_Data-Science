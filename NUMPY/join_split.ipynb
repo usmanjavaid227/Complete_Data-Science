{
 "cells": [
  {
   "cell_type": "code",
   "execution_count": 1,
   "metadata": {},
   "outputs": [
    {
     "name": "stdout",
     "output_type": "stream",
     "text": [
      "[1 2 1 2]\n"
     ]
    }
   ],
   "source": [
    "import numpy as np\n",
    "l=np.array([1,2])\n",
    "m=np.array([1,2])\n",
    "n=np.concatenate((l,m))\n",
    "print(n)"
   ]
  },
  {
   "cell_type": "code",
   "execution_count": 3,
   "metadata": {},
   "outputs": [
    {
     "name": "stdout",
     "output_type": "stream",
     "text": [
      "[[1 2]\n",
      " [3 2]\n",
      " [0 7]\n",
      " [4 5]]\n"
     ]
    }
   ],
   "source": [
    "l=np.array([[1,2],[3,2]])\n",
    "m=np.array([[0,7],[4,5]])\n",
    "n=np.concatenate((l,m))\n",
    "print(n)"
   ]
  },
  {
   "cell_type": "code",
   "execution_count": 4,
   "metadata": {},
   "outputs": [
    {
     "name": "stdout",
     "output_type": "stream",
     "text": [
      "[[1 2 0 7]\n",
      " [3 2 4 5]]\n"
     ]
    }
   ],
   "source": [
    "l=np.array([[1,2],[3,2]])\n",
    "m=np.array([[0,7],[4,5]])\n",
    "n=np.concatenate((l,m),axis=1)\n",
    "print(n)"
   ]
  },
  {
   "cell_type": "code",
   "execution_count": 9,
   "metadata": {},
   "outputs": [
    {
     "name": "stdout",
     "output_type": "stream",
     "text": [
      "[[[1 2]\n",
      "  [3 2]]\n",
      "\n",
      " [[0 7]\n",
      "  [4 5]]] \n",
      "\n",
      "[[1 2 0 7]\n",
      " [3 2 4 5]] \n",
      "\n",
      "[[1 2]\n",
      " [3 2]\n",
      " [0 7]\n",
      " [4 5]] \n",
      "\n",
      "[[[1 0]\n",
      "  [2 7]]\n",
      "\n",
      " [[3 4]\n",
      "  [2 5]]]\n"
     ]
    }
   ],
   "source": [
    "l=np.array([[1,2],[3,2]])\n",
    "m=np.array([[0,7],[4,5]])\n",
    "n=np.stack((l,m))\n",
    "print(n,\"\\n\")\n",
    "n=np.hstack((l,m))\n",
    "print(n,\"\\n\")\n",
    "n=np.vstack((l,m))\n",
    "print(n,\"\\n\")\n",
    "n=np.dstack((l,m))\n",
    "print(n)"
   ]
  },
  {
   "cell_type": "markdown",
   "metadata": {},
   "source": [
    "split"
   ]
  },
  {
   "cell_type": "code",
   "execution_count": 25,
   "metadata": {},
   "outputs": [
    {
     "name": "stdout",
     "output_type": "stream",
     "text": [
      "[array([1, 2, 3]), array([4, 5, 6]), array([7, 8, 9])]\n"
     ]
    }
   ],
   "source": [
    "import numpy as np\n",
    "l=np.array([1,2,3,4,5,6,7,8,9])\n",
    "x=np.array_split(l,3)\n",
    "print(x)\n",
    "\n",
    "\n"
   ]
  },
  {
   "cell_type": "code",
   "execution_count": 29,
   "metadata": {},
   "outputs": [
    {
     "name": "stdout",
     "output_type": "stream",
     "text": [
      "[array([[1],\n",
      "       [4],\n",
      "       [7]]), array([[2],\n",
      "       [5],\n",
      "       [8]]), array([[3],\n",
      "       [6],\n",
      "       [9]])]\n"
     ]
    }
   ],
   "source": [
    "l=np.array([[1,2,3],[4,5,6],[7,8,9]])\n",
    "x=np.array_split(l,3,axis=1)\n",
    "print(x)"
   ]
  }
 ],
 "metadata": {
  "interpreter": {
   "hash": "369f2c481f4da34e4445cda3fffd2e751bd1c4d706f27375911949ba6bb62e1c"
  },
  "kernelspec": {
   "display_name": "Python 3.10.4 64-bit",
   "language": "python",
   "name": "python3"
  },
  "language_info": {
   "codemirror_mode": {
    "name": "ipython",
    "version": 3
   },
   "file_extension": ".py",
   "mimetype": "text/x-python",
   "name": "python",
   "nbconvert_exporter": "python",
   "pygments_lexer": "ipython3",
   "version": "3.10.4"
  },
  "orig_nbformat": 4
 },
 "nbformat": 4,
 "nbformat_minor": 2
}
