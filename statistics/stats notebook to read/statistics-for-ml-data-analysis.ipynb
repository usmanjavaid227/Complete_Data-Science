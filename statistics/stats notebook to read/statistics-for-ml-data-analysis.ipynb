{
 "cells": [
  {
   "cell_type": "markdown",
   "metadata": {
    "papermill": {
     "duration": 0.263343,
     "end_time": "2021-04-17T17:34:24.707823",
     "exception": false,
     "start_time": "2021-04-17T17:34:24.444480",
     "status": "completed"
    },
    "tags": []
   },
   "source": [
    "## Summary => <br>\n",
    "This notebook includes the following topics. <br><br>\n",
    "\n",
    "The notebook will be constructed in two stages. <br>\n",
    "* 1st Stage -> Complete python implementations along with brief descriptions. (Est. Date of Completion - 28-03-2021)\n",
    "* 2nd Stage -> Solving questions on these topics using python. (Est. Date of Completion - 31-04-2021)\n",
    "* Continuous Development and Improvisations...."
   ]
  },
  {
   "cell_type": "markdown",
   "metadata": {
    "papermill": {
     "duration": 0.262033,
     "end_time": "2021-04-17T17:34:25.231230",
     "exception": false,
     "start_time": "2021-04-17T17:34:24.969197",
     "status": "completed"
    },
    "tags": []
   },
   "source": [
    "## Table of Contents\n",
    "\n",
    "* Understanding Data types\n",
    "    * Interval Scale\n",
    "    * Binary \n",
    "    * Categorical\n",
    "    * Ordinal \n",
    "    * Ratio Scaled\n",
    "    * Mixed Type\n",
    "* Different types of distances\n",
    "* Simmilarity and Dissimilarity Matrix\n",
    "* Familiarizing with different types of Error Metrics\n",
    "* Handling Missing data values\n",
    "* Central Tendency & Dispersion\n",
    "* Descriptive Statistics\n",
    "* Summary Statistics\n",
    "    * Central Tendency Statistics\n",
    "        * Arithmetic Mean\n",
    "        * Weighted Mean\n",
    "        * Median\n",
    "        * Percentile\n",
    "    * Dispersion\n",
    "        * Skewness\n",
    "        * Kurtosis\n",
    "        * Range\n",
    "        * Interquartile Range\n",
    "        * Variance\n",
    "        * Standard Score\n",
    "        * Coefficient of Variation\n",
    "* [Sample](https://www.kaggle.com/antoreepjana/statistics-for-ml-data-analysis/#16.-Sample-Statistics) vs [Population statistics](https://www.kaggle.com/antoreepjana/statistics-for-ml-data-analysis/#17.-Population-Statistics)\n",
    "* Random Variables\n",
    "* Probability Distribution Functions\n",
    "    * Uniform Distribution\n",
    "    * Exponential Distribution\n",
    "    * [Binomial Distribution](https://www.kaggle.com/antoreepjana/statistics-for-ml-data-analysis/#8.-Binomial-Distribution)\n",
    "    * [Normal Distributions](https://www.kaggle.com/antoreepjana/statistics-for-ml-data-analysis/#9.-Normal-Distribution)\n",
    "    * [Poisson Distributions](https://www.kaggle.com/antoreepjana/statistics-for-ml-data-analysis/#10.-Poisson-Distribution)\n",
    "    * [Bernoulli Distribution](https://www.kaggle.com/antoreepjana/statistics-for-ml-data-analysis/#11.-Bernoulli-Distribution)\n",
    "* [Measuring p-value](https://www.kaggle.com/antoreepjana/statistics-for-ml-data-analysis/#13.-Calculating-p-Value)\n",
    "* [Measuring Correlation](https://www.kaggle.com/antoreepjana/statistics-for-ml-data-analysis/#14.-Measuring-Correlation)\n",
    "* [Measuring Variance](https://www.kaggle.com/antoreepjana/statistics-for-ml-data-analysis/#15.-Measuring-Variance)\n",
    "* Expected Value\n",
    "\n",
    "* [z-score](https://www.kaggle.com/antoreepjana/statistics-for-ml-data-analysis/#5.-Z-Test)\n",
    "* Hypothesis Testing\n",
    "    * Null & Alternate Hypothesis\n",
    "    * Type 1 Error; Type 2 Error\n",
    "    * Various Approaches\n",
    "        * p-value\n",
    "        * critical value\n",
    "        * confidence interval value\n",
    "* z-stats vs t-stats\n",
    "\n",
    "* Two Sample Tests\n",
    "* Confidence Interval\n",
    "* Similarity & Dissimilarity Matrices\n",
    "* [Central Limit Theorem](https://www.kaggle.com/antoreepjana/statistics-for-ml-data-analysis/#12.-Central-Limit-Theorem)\n",
    "* [Chi Square Test](https://www.kaggle.com/antoreepjana/statistics-for-ml-data-analysis/#3.-Chi-Square-Test)\n",
    "* [T Test](https://www.kaggle.com/antoreepjana/statistics-for-ml-data-analysis/#4.-T-Test)\n",
    "* [ANOVA Test](https://www.kaggle.com/antoreepjana/statistics-for-ml-data-analysis/#6.-ANOVA-Test)\n",
    "    * [One Way Anova Test](https://www.kaggle.com/antoreepjana/statistics-for-ml-data-analysis/#6.1-One-Way-ANOVA-Test)\n",
    "        * F Test (LSD Test)\n",
    "        * Tukey Kramer Test\n",
    "    * [Two Way Anova Test](https://www.kaggle.com/antoreepjana/statistics-for-ml-data-analysis/#6.2-Two-Way-ANOVA-Test)\n",
    "        * Interaction Effects\n",
    "* [F Stats](https://www.kaggle.com/antoreepjana/statistics-for-ml-data-analysis/#7.-F-Stats-Test)\n",
    "* [Regressions (Linear, Multiple) + ROC](https://www.kaggle.com/antoreepjana/statistics-for-ml-data-analysis/#2.-Regressions)\n",
    "* Logistic Regression\n",
    "    * Python Implementation\n",
    "    * Calculating G Statistics\n",
    "* Residual Analysis\n",
    "* Maximum Likelihood Estimation\n",
    "* Cluster Analysis\n",
    "    * Partitioning Cluster Methods\n",
    "        * K-Means\n",
    "        * K Mediods\n",
    "    * Hierarchial Cluster Methods\n",
    "        * Agglomerative\n",
    "    * Density Based Cluster Methods\n",
    "        * DBSCAN\n",
    "* [CART Algorithms](https://www.kaggle.com/antoreepjana/statistics-for-ml-data-analysis/#1.-CART-Algorithms)\n",
    "    * Python Implementation\n",
    "    * various Calculations involved\n",
    "        * Information Gain\n",
    "        * Gain Ratio\n",
    "        * Gini Index\n",
    "* Confusion Metrics, ROC & Regression Analysis\n",
    "* Bonus Topics\n",
    "    * Classification Thresholding\n",
    "    * Prediction Bias\n",
    "    * Sampling Methods\n",
    "        * Simple\n",
    "        * Convenience\n",
    "        * Systematic\n",
    "        * Cluster\n",
    "        * Stratified"
   ]
  },
  {
   "cell_type": "code",
   "execution_count": null,
   "metadata": {
    "papermill": {
     "duration": 0.259298,
     "end_time": "2021-04-17T17:34:25.752771",
     "exception": false,
     "start_time": "2021-04-17T17:34:25.493473",
     "status": "completed"
    },
    "tags": []
   },
   "outputs": [],
   "source": []
  },
  {
   "cell_type": "code",
   "execution_count": null,
   "metadata": {
    "papermill": {
     "duration": 0.259262,
     "end_time": "2021-04-17T17:34:26.274517",
     "exception": false,
     "start_time": "2021-04-17T17:34:26.015255",
     "status": "completed"
    },
    "tags": []
   },
   "outputs": [],
   "source": []
  },
  {
   "cell_type": "code",
   "execution_count": 1,
   "metadata": {
    "_cell_guid": "b1076dfc-b9ad-4769-8c92-a6c4dae69d19",
    "_uuid": "8f2839f25d086af736a60e9eeb907d3b93b6e0e5",
    "execution": {
     "iopub.execute_input": "2021-04-17T17:34:26.844143Z",
     "iopub.status.busy": "2021-04-17T17:34:26.843199Z",
     "iopub.status.idle": "2021-04-17T17:34:27.645547Z",
     "shell.execute_reply": "2021-04-17T17:34:27.646030Z"
    },
    "papermill": {
     "duration": 1.113745,
     "end_time": "2021-04-17T17:34:27.646356",
     "exception": false,
     "start_time": "2021-04-17T17:34:26.532611",
     "status": "completed"
    },
    "tags": []
   },
   "outputs": [],
   "source": [
    "import numpy as np\n",
    "import pandas as pd \n",
    "import os\n",
    "import random\n",
    "import statistics\n",
    "from scipy import stats"
   ]
  },
  {
   "cell_type": "code",
   "execution_count": 2,
   "metadata": {
    "execution": {
     "iopub.execute_input": "2021-04-17T17:34:28.169751Z",
     "iopub.status.busy": "2021-04-17T17:34:28.169025Z",
     "iopub.status.idle": "2021-04-17T17:34:28.171545Z",
     "shell.execute_reply": "2021-04-17T17:34:28.172020Z"
    },
    "papermill": {
     "duration": 0.266441,
     "end_time": "2021-04-17T17:34:28.172182",
     "exception": false,
     "start_time": "2021-04-17T17:34:27.905741",
     "status": "completed"
    },
    "tags": []
   },
   "outputs": [],
   "source": [
    "random.seed(2021)\n",
    "np.random.seed(2021)"
   ]
  },
  {
   "cell_type": "code",
   "execution_count": 3,
   "metadata": {
    "execution": {
     "iopub.execute_input": "2021-04-17T17:34:28.697954Z",
     "iopub.status.busy": "2021-04-17T17:34:28.697260Z",
     "iopub.status.idle": "2021-04-17T17:34:28.776446Z",
     "shell.execute_reply": "2021-04-17T17:34:28.775883Z"
    },
    "papermill": {
     "duration": 0.345291,
     "end_time": "2021-04-17T17:34:28.776599",
     "exception": false,
     "start_time": "2021-04-17T17:34:28.431308",
     "status": "completed"
    },
    "tags": []
   },
   "outputs": [],
   "source": [
    "import matplotlib.pyplot as plt\n",
    "import seaborn as sns\n",
    "%matplotlib inline"
   ]
  },
  {
   "cell_type": "markdown",
   "metadata": {
    "papermill": {
     "duration": 0.260719,
     "end_time": "2021-04-17T17:34:29.318061",
     "exception": false,
     "start_time": "2021-04-17T17:34:29.057342",
     "status": "completed"
    },
    "tags": []
   },
   "source": [
    "### 1. CART Algorithms"
   ]
  },
  {
   "cell_type": "markdown",
   "metadata": {
    "papermill": {
     "duration": 0.258874,
     "end_time": "2021-04-17T17:34:29.837053",
     "exception": false,
     "start_time": "2021-04-17T17:34:29.578179",
     "status": "completed"
    },
    "tags": []
   },
   "source": [
    "Brief Description -> "
   ]
  },
  {
   "cell_type": "markdown",
   "metadata": {
    "papermill": {
     "duration": 0.259464,
     "end_time": "2021-04-17T17:34:30.357252",
     "exception": false,
     "start_time": "2021-04-17T17:34:30.097788",
     "status": "completed"
    },
    "tags": []
   },
   "source": [
    "##### Tools Used\n",
    "\n",
    "Dataset Used -> Boston Dataset (UCI Machine Learning Repository)"
   ]
  },
  {
   "cell_type": "code",
   "execution_count": 4,
   "metadata": {
    "execution": {
     "iopub.execute_input": "2021-04-17T17:34:30.881279Z",
     "iopub.status.busy": "2021-04-17T17:34:30.880315Z",
     "iopub.status.idle": "2021-04-17T17:34:31.219855Z",
     "shell.execute_reply": "2021-04-17T17:34:31.218522Z"
    },
    "papermill": {
     "duration": 0.60434,
     "end_time": "2021-04-17T17:34:31.220028",
     "exception": false,
     "start_time": "2021-04-17T17:34:30.615688",
     "status": "completed"
    },
    "tags": []
   },
   "outputs": [],
   "source": [
    "from sklearn.datasets import load_boston\n",
    "boston_dataset = load_boston()"
   ]
  },
  {
   "cell_type": "code",
   "execution_count": 5,
   "metadata": {
    "execution": {
     "iopub.execute_input": "2021-04-17T17:34:31.748031Z",
     "iopub.status.busy": "2021-04-17T17:34:31.747398Z",
     "iopub.status.idle": "2021-04-17T17:34:31.749862Z",
     "shell.execute_reply": "2021-04-17T17:34:31.750305Z"
    },
    "papermill": {
     "duration": 0.271058,
     "end_time": "2021-04-17T17:34:31.750501",
     "exception": false,
     "start_time": "2021-04-17T17:34:31.479443",
     "status": "completed"
    },
    "tags": []
   },
   "outputs": [],
   "source": [
    "boston = pd.DataFrame(boston_dataset.data, columns = boston_dataset.feature_names)"
   ]
  },
  {
   "cell_type": "code",
   "execution_count": 6,
   "metadata": {
    "execution": {
     "iopub.execute_input": "2021-04-17T17:34:32.281028Z",
     "iopub.status.busy": "2021-04-17T17:34:32.280347Z",
     "iopub.status.idle": "2021-04-17T17:34:32.310906Z",
     "shell.execute_reply": "2021-04-17T17:34:32.311506Z"
    },
    "papermill": {
     "duration": 0.302843,
     "end_time": "2021-04-17T17:34:32.311695",
     "exception": false,
     "start_time": "2021-04-17T17:34:32.008852",
     "status": "completed"
    },
    "tags": []
   },
   "outputs": [
    {
     "data": {
      "text/html": [
       "<div>\n",
       "<style scoped>\n",
       "    .dataframe tbody tr th:only-of-type {\n",
       "        vertical-align: middle;\n",
       "    }\n",
       "\n",
       "    .dataframe tbody tr th {\n",
       "        vertical-align: top;\n",
       "    }\n",
       "\n",
       "    .dataframe thead th {\n",
       "        text-align: right;\n",
       "    }\n",
       "</style>\n",
       "<table border=\"1\" class=\"dataframe\">\n",
       "  <thead>\n",
       "    <tr style=\"text-align: right;\">\n",
       "      <th></th>\n",
       "      <th>CRIM</th>\n",
       "      <th>ZN</th>\n",
       "      <th>INDUS</th>\n",
       "      <th>CHAS</th>\n",
       "      <th>NOX</th>\n",
       "      <th>RM</th>\n",
       "      <th>AGE</th>\n",
       "      <th>DIS</th>\n",
       "      <th>RAD</th>\n",
       "      <th>TAX</th>\n",
       "      <th>PTRATIO</th>\n",
       "      <th>B</th>\n",
       "      <th>LSTAT</th>\n",
       "    </tr>\n",
       "  </thead>\n",
       "  <tbody>\n",
       "    <tr>\n",
       "      <th>0</th>\n",
       "      <td>0.00632</td>\n",
       "      <td>18.0</td>\n",
       "      <td>2.31</td>\n",
       "      <td>0.0</td>\n",
       "      <td>0.538</td>\n",
       "      <td>6.575</td>\n",
       "      <td>65.2</td>\n",
       "      <td>4.0900</td>\n",
       "      <td>1.0</td>\n",
       "      <td>296.0</td>\n",
       "      <td>15.3</td>\n",
       "      <td>396.90</td>\n",
       "      <td>4.98</td>\n",
       "    </tr>\n",
       "    <tr>\n",
       "      <th>1</th>\n",
       "      <td>0.02731</td>\n",
       "      <td>0.0</td>\n",
       "      <td>7.07</td>\n",
       "      <td>0.0</td>\n",
       "      <td>0.469</td>\n",
       "      <td>6.421</td>\n",
       "      <td>78.9</td>\n",
       "      <td>4.9671</td>\n",
       "      <td>2.0</td>\n",
       "      <td>242.0</td>\n",
       "      <td>17.8</td>\n",
       "      <td>396.90</td>\n",
       "      <td>9.14</td>\n",
       "    </tr>\n",
       "    <tr>\n",
       "      <th>2</th>\n",
       "      <td>0.02729</td>\n",
       "      <td>0.0</td>\n",
       "      <td>7.07</td>\n",
       "      <td>0.0</td>\n",
       "      <td>0.469</td>\n",
       "      <td>7.185</td>\n",
       "      <td>61.1</td>\n",
       "      <td>4.9671</td>\n",
       "      <td>2.0</td>\n",
       "      <td>242.0</td>\n",
       "      <td>17.8</td>\n",
       "      <td>392.83</td>\n",
       "      <td>4.03</td>\n",
       "    </tr>\n",
       "    <tr>\n",
       "      <th>3</th>\n",
       "      <td>0.03237</td>\n",
       "      <td>0.0</td>\n",
       "      <td>2.18</td>\n",
       "      <td>0.0</td>\n",
       "      <td>0.458</td>\n",
       "      <td>6.998</td>\n",
       "      <td>45.8</td>\n",
       "      <td>6.0622</td>\n",
       "      <td>3.0</td>\n",
       "      <td>222.0</td>\n",
       "      <td>18.7</td>\n",
       "      <td>394.63</td>\n",
       "      <td>2.94</td>\n",
       "    </tr>\n",
       "    <tr>\n",
       "      <th>4</th>\n",
       "      <td>0.06905</td>\n",
       "      <td>0.0</td>\n",
       "      <td>2.18</td>\n",
       "      <td>0.0</td>\n",
       "      <td>0.458</td>\n",
       "      <td>7.147</td>\n",
       "      <td>54.2</td>\n",
       "      <td>6.0622</td>\n",
       "      <td>3.0</td>\n",
       "      <td>222.0</td>\n",
       "      <td>18.7</td>\n",
       "      <td>396.90</td>\n",
       "      <td>5.33</td>\n",
       "    </tr>\n",
       "  </tbody>\n",
       "</table>\n",
       "</div>"
      ],
      "text/plain": [
       "      CRIM    ZN  INDUS  CHAS    NOX     RM   AGE     DIS  RAD    TAX  \\\n",
       "0  0.00632  18.0   2.31   0.0  0.538  6.575  65.2  4.0900  1.0  296.0   \n",
       "1  0.02731   0.0   7.07   0.0  0.469  6.421  78.9  4.9671  2.0  242.0   \n",
       "2  0.02729   0.0   7.07   0.0  0.469  7.185  61.1  4.9671  2.0  242.0   \n",
       "3  0.03237   0.0   2.18   0.0  0.458  6.998  45.8  6.0622  3.0  222.0   \n",
       "4  0.06905   0.0   2.18   0.0  0.458  7.147  54.2  6.0622  3.0  222.0   \n",
       "\n",
       "   PTRATIO       B  LSTAT  \n",
       "0     15.3  396.90   4.98  \n",
       "1     17.8  396.90   9.14  \n",
       "2     17.8  392.83   4.03  \n",
       "3     18.7  394.63   2.94  \n",
       "4     18.7  396.90   5.33  "
      ]
     },
     "execution_count": 6,
     "metadata": {},
     "output_type": "execute_result"
    }
   ],
   "source": [
    "boston.head()"
   ]
  },
  {
   "cell_type": "code",
   "execution_count": 7,
   "metadata": {
    "execution": {
     "iopub.execute_input": "2021-04-17T17:34:32.833002Z",
     "iopub.status.busy": "2021-04-17T17:34:32.832382Z",
     "iopub.status.idle": "2021-04-17T17:34:32.837136Z",
     "shell.execute_reply": "2021-04-17T17:34:32.837647Z"
    },
    "papermill": {
     "duration": 0.268188,
     "end_time": "2021-04-17T17:34:32.837843",
     "exception": false,
     "start_time": "2021-04-17T17:34:32.569655",
     "status": "completed"
    },
    "tags": []
   },
   "outputs": [],
   "source": [
    "boston['MEDV'] = boston_dataset.target"
   ]
  },
  {
   "cell_type": "code",
   "execution_count": 8,
   "metadata": {
    "execution": {
     "iopub.execute_input": "2021-04-17T17:34:33.401703Z",
     "iopub.status.busy": "2021-04-17T17:34:33.401081Z",
     "iopub.status.idle": "2021-04-17T17:34:33.405902Z",
     "shell.execute_reply": "2021-04-17T17:34:33.405391Z"
    },
    "papermill": {
     "duration": 0.306588,
     "end_time": "2021-04-17T17:34:33.406044",
     "exception": false,
     "start_time": "2021-04-17T17:34:33.099456",
     "status": "completed"
    },
    "tags": []
   },
   "outputs": [],
   "source": [
    "names = boston_dataset.feature_names"
   ]
  },
  {
   "cell_type": "code",
   "execution_count": 9,
   "metadata": {
    "execution": {
     "iopub.execute_input": "2021-04-17T17:34:33.930872Z",
     "iopub.status.busy": "2021-04-17T17:34:33.930199Z",
     "iopub.status.idle": "2021-04-17T17:34:34.191543Z",
     "shell.execute_reply": "2021-04-17T17:34:34.191015Z"
    },
    "papermill": {
     "duration": 0.525315,
     "end_time": "2021-04-17T17:34:34.191719",
     "exception": false,
     "start_time": "2021-04-17T17:34:33.666404",
     "status": "completed"
    },
    "tags": []
   },
   "outputs": [],
   "source": [
    "from sklearn.tree import DecisionTreeRegressor"
   ]
  },
  {
   "cell_type": "code",
   "execution_count": 10,
   "metadata": {
    "execution": {
     "iopub.execute_input": "2021-04-17T17:34:34.716933Z",
     "iopub.status.busy": "2021-04-17T17:34:34.716269Z",
     "iopub.status.idle": "2021-04-17T17:34:34.719035Z",
     "shell.execute_reply": "2021-04-17T17:34:34.719581Z"
    },
    "papermill": {
     "duration": 0.268093,
     "end_time": "2021-04-17T17:34:34.719792",
     "exception": false,
     "start_time": "2021-04-17T17:34:34.451699",
     "status": "completed"
    },
    "tags": []
   },
   "outputs": [],
   "source": [
    "array = boston.values\n",
    "\n",
    "X = array[:, 0:13]\n",
    "Y = array[:, 13]"
   ]
  },
  {
   "cell_type": "code",
   "execution_count": 11,
   "metadata": {
    "execution": {
     "iopub.execute_input": "2021-04-17T17:34:35.245879Z",
     "iopub.status.busy": "2021-04-17T17:34:35.245253Z",
     "iopub.status.idle": "2021-04-17T17:34:35.251153Z",
     "shell.execute_reply": "2021-04-17T17:34:35.250529Z"
    },
    "papermill": {
     "duration": 0.270489,
     "end_time": "2021-04-17T17:34:35.251303",
     "exception": false,
     "start_time": "2021-04-17T17:34:34.980814",
     "status": "completed"
    },
    "tags": []
   },
   "outputs": [],
   "source": [
    "from sklearn.model_selection import train_test_split\n",
    "X_train, X_test, Y_train, Y_test = train_test_split(X,Y, test_size = 0.3, random_state = 1234)"
   ]
  },
  {
   "cell_type": "code",
   "execution_count": 12,
   "metadata": {
    "execution": {
     "iopub.execute_input": "2021-04-17T17:34:35.778591Z",
     "iopub.status.busy": "2021-04-17T17:34:35.777955Z",
     "iopub.status.idle": "2021-04-17T17:34:35.780974Z",
     "shell.execute_reply": "2021-04-17T17:34:35.780422Z"
    },
    "papermill": {
     "duration": 0.268104,
     "end_time": "2021-04-17T17:34:35.781113",
     "exception": false,
     "start_time": "2021-04-17T17:34:35.513009",
     "status": "completed"
    },
    "tags": []
   },
   "outputs": [],
   "source": [
    "model = DecisionTreeRegressor(max_leaf_nodes = 20)"
   ]
  },
  {
   "cell_type": "code",
   "execution_count": 13,
   "metadata": {
    "execution": {
     "iopub.execute_input": "2021-04-17T17:34:36.312057Z",
     "iopub.status.busy": "2021-04-17T17:34:36.311384Z",
     "iopub.status.idle": "2021-04-17T17:34:36.319763Z",
     "shell.execute_reply": "2021-04-17T17:34:36.319141Z"
    },
    "papermill": {
     "duration": 0.276231,
     "end_time": "2021-04-17T17:34:36.319911",
     "exception": false,
     "start_time": "2021-04-17T17:34:36.043680",
     "status": "completed"
    },
    "tags": []
   },
   "outputs": [
    {
     "data": {
      "text/plain": [
       "DecisionTreeRegressor(max_leaf_nodes=20)"
      ]
     },
     "execution_count": 13,
     "metadata": {},
     "output_type": "execute_result"
    }
   ],
   "source": [
    "model.fit(X_train, Y_train)"
   ]
  },
  {
   "cell_type": "code",
   "execution_count": 14,
   "metadata": {
    "execution": {
     "iopub.execute_input": "2021-04-17T17:34:36.915423Z",
     "iopub.status.busy": "2021-04-17T17:34:36.914817Z",
     "iopub.status.idle": "2021-04-17T17:34:36.920152Z",
     "shell.execute_reply": "2021-04-17T17:34:36.919601Z"
    },
    "papermill": {
     "duration": 0.323733,
     "end_time": "2021-04-17T17:34:36.920298",
     "exception": false,
     "start_time": "2021-04-17T17:34:36.596565",
     "status": "completed"
    },
    "tags": []
   },
   "outputs": [],
   "source": [
    "from sklearn.metrics import r2_score"
   ]
  },
  {
   "cell_type": "code",
   "execution_count": 15,
   "metadata": {
    "execution": {
     "iopub.execute_input": "2021-04-17T17:34:37.452468Z",
     "iopub.status.busy": "2021-04-17T17:34:37.451852Z",
     "iopub.status.idle": "2021-04-17T17:34:37.455962Z",
     "shell.execute_reply": "2021-04-17T17:34:37.456498Z"
    },
    "papermill": {
     "duration": 0.272277,
     "end_time": "2021-04-17T17:34:37.456715",
     "exception": false,
     "start_time": "2021-04-17T17:34:37.184438",
     "status": "completed"
    },
    "tags": []
   },
   "outputs": [],
   "source": [
    "YHat = model.predict(X_test)"
   ]
  },
  {
   "cell_type": "code",
   "execution_count": 16,
   "metadata": {
    "execution": {
     "iopub.execute_input": "2021-04-17T17:34:37.982063Z",
     "iopub.status.busy": "2021-04-17T17:34:37.981421Z",
     "iopub.status.idle": "2021-04-17T17:34:37.988113Z",
     "shell.execute_reply": "2021-04-17T17:34:37.989161Z"
    },
    "papermill": {
     "duration": 0.271717,
     "end_time": "2021-04-17T17:34:37.989400",
     "exception": false,
     "start_time": "2021-04-17T17:34:37.717683",
     "status": "completed"
    },
    "tags": []
   },
   "outputs": [
    {
     "name": "stdout",
     "output_type": "stream",
     "text": [
      "R2 Score ->  0.8567122297482948\n"
     ]
    }
   ],
   "source": [
    "r2 = r2_score(Y_test, YHat)\n",
    "print(\"R2 Score -> \", r2)"
   ]
  },
  {
   "cell_type": "markdown",
   "metadata": {
    "papermill": {
     "duration": 0.259605,
     "end_time": "2021-04-17T17:34:38.509356",
     "exception": false,
     "start_time": "2021-04-17T17:34:38.249751",
     "status": "completed"
    },
    "tags": []
   },
   "source": [
    "### plot the decision tree as a graph "
   ]
  },
  {
   "cell_type": "code",
   "execution_count": 17,
   "metadata": {
    "execution": {
     "iopub.execute_input": "2021-04-17T17:34:39.036052Z",
     "iopub.status.busy": "2021-04-17T17:34:39.035434Z",
     "iopub.status.idle": "2021-04-17T17:34:39.050552Z",
     "shell.execute_reply": "2021-04-17T17:34:39.051069Z"
    },
    "papermill": {
     "duration": 0.280416,
     "end_time": "2021-04-17T17:34:39.051250",
     "exception": false,
     "start_time": "2021-04-17T17:34:38.770834",
     "status": "completed"
    },
    "tags": []
   },
   "outputs": [],
   "source": [
    "import graphviz\n",
    "from sklearn import tree"
   ]
  },
  {
   "cell_type": "markdown",
   "metadata": {
    "papermill": {
     "duration": 0.259928,
     "end_time": "2021-04-17T17:34:39.572863",
     "exception": false,
     "start_time": "2021-04-17T17:34:39.312935",
     "status": "completed"
    },
    "tags": []
   },
   "source": [
    "method 1"
   ]
  },
  {
   "cell_type": "code",
   "execution_count": 18,
   "metadata": {
    "execution": {
     "iopub.execute_input": "2021-04-17T17:34:40.136487Z",
     "iopub.status.busy": "2021-04-17T17:34:40.135876Z",
     "iopub.status.idle": "2021-04-17T17:34:41.852452Z",
     "shell.execute_reply": "2021-04-17T17:34:41.852981Z"
    },
    "papermill": {
     "duration": 2.019356,
     "end_time": "2021-04-17T17:34:41.853156",
     "exception": false,
     "start_time": "2021-04-17T17:34:39.833800",
     "status": "completed"
    },
    "tags": []
   },
   "outputs": [
    {
     "data": {
      "image/png": "[encoded data removed]",
      "text/plain": [
       "<Figure size 1800x1440 with 1 Axes>"
      ]
     },
     "metadata": {
      "needs_background": "light"
     },
     "output_type": "display_data"
    }
   ],
   "source": [
    "fig = plt.figure(figsize=(25,20))\n",
    "_ = tree.plot_tree(model, \n",
    "                   feature_names=names,  \n",
    "                   class_names=boston_dataset.target,\n",
    "                   filled=True)"
   ]
  },
  {
   "cell_type": "markdown",
   "metadata": {
    "papermill": {
     "duration": 0.270524,
     "end_time": "2021-04-17T17:34:42.393719",
     "exception": false,
     "start_time": "2021-04-17T17:34:42.123195",
     "status": "completed"
    },
    "tags": []
   },
   "source": [
    "method 2"
   ]
  },
  {
   "cell_type": "code",
   "execution_count": 19,
   "metadata": {
    "execution": {
     "iopub.execute_input": "2021-04-17T17:34:42.942082Z",
     "iopub.status.busy": "2021-04-17T17:34:42.939282Z",
     "iopub.status.idle": "2021-04-17T17:34:43.452259Z",
     "shell.execute_reply": "2021-04-17T17:34:43.452757Z"
    },
    "papermill": {
     "duration": 0.790707,
     "end_time": "2021-04-17T17:34:43.452938",
     "exception": false,
     "start_time": "2021-04-17T17:34:42.662231",
     "status": "completed"
    },
    "tags": []
   },
   "outputs": [
    {
     "data": {
      "image/svg+xml": "<?xml version=\"1.0\" encoding=\"UTF-8\" standalone=\"no\"?>\n<!DOCTYPE svg PUBLIC \"-//W3C//DTD SVG 1.1//EN\"\n \"http://www.w3.org/Graphics/SVG/1.1/DTD/svg11.dtd\">\n<!-- Generated by graphviz version 2.42.3 (20191010.1750)\n -->\n<!-- Title: Tree Pages: 1 -->\n<svg width=\"1580pt\" height=\"789pt\"\n viewBox=\"0.00 0.00 1580.00 789.00\" xmlns=\"http://www.w3.org/2000/svg\" xmlns:xlink=\"http://www.w3.org/1999/xlink\">\n<g id=\"graph0\" class=\"graph\" transform=\"scale(1 1) rotate(0) translate(4 785)\">\n<title>Tree</title>\n<polygon fill=\"white\" stroke=\"transparent\" points=\"-4,4 -4,-785 1576,-785 1576,4 -4,4\"/>\n<!-- 0 -->\n<g id=\"node1\" class=\"node\">\n<title>0</title>\n<path fill=\"#f7d8c2\" stroke=\"black\" d=\"M863,-781C863,-781 771,-781 771,-781 765,-781 759,-775 759,-769 759,-769 759,-725 759,-725 759,-719 765,-713 771,-713 771,-713 863,-713 863,-713 869,-713 875,-719 875,-725 875,-725 875,-769 875,-769 875,-775 869,-781 863,-781\"/>\n<text text-anchor=\"middle\" x=\"817\" y=\"-765.8\" font-family=\"Helvetica,sans-Serif\" font-size=\"14.00\">LSTAT &lt;= 9.725</text>\n<text text-anchor=\"middle\" x=\"817\" y=\"-750.8\" font-family=\"Helvetica,sans-Serif\" font-size=\"14.00\">mse = 81.081</text>\n<text text-anchor=\"middle\" x=\"817\" y=\"-735.8\" font-family=\"Helvetica,sans-Serif\" font-size=\"14.00\">samples = 354</text>\n<text text-anchor=\"middle\" x=\"817\" y=\"-720.8\" font-family=\"Helvetica,sans-Serif\" font-size=\"14.00\">value = 22.488</text>\n</g>\n<!-- 1 -->\n<g id=\"node2\" class=\"node\">\n<title>1</title>\n<path fill=\"#f2c19e\" stroke=\"black\" d=\"M791,-677C791,-677 709,-677 709,-677 703,-677 697,-671 697,-665 697,-665 697,-621 697,-621 697,-615 703,-609 709,-609 709,-609 791,-609 791,-609 797,-609 803,-615 803,-621 803,-621 803,-665 803,-665 803,-671 797,-677 791,-677\"/>\n<text text-anchor=\"middle\" x=\"750\" y=\"-661.8\" font-family=\"Helvetica,sans-Serif\" font-size=\"14.00\">RM &lt;= 7.435</text>\n<text text-anchor=\"middle\" x=\"750\" y=\"-646.8\" font-family=\"Helvetica,sans-Serif\" font-size=\"14.00\">mse = 78.714</text>\n<text text-anchor=\"middle\" x=\"750\" y=\"-631.8\" font-family=\"Helvetica,sans-Serif\" font-size=\"14.00\">samples = 144</text>\n<text text-anchor=\"middle\" x=\"750\" y=\"-616.8\" font-family=\"Helvetica,sans-Serif\" font-size=\"14.00\">value = 29.715</text>\n</g>\n<!-- 0&#45;&gt;1 -->\n<g id=\"edge1\" class=\"edge\">\n<title>0&#45;&gt;1</title>\n<path fill=\"none\" stroke=\"black\" d=\"M795.25,-712.88C789.57,-704.24 783.38,-694.82 777.45,-685.79\"/>\n<polygon fill=\"black\" stroke=\"black\" points=\"780.29,-683.74 771.87,-677.3 774.44,-687.58 780.29,-683.74\"/>\n<text text-anchor=\"middle\" x=\"766.8\" y=\"-698.08\" font-family=\"Helvetica,sans-Serif\" font-size=\"14.00\">True</text>\n</g>\n<!-- 2 -->\n<g id=\"node25\" class=\"node\">\n<title>2</title>\n<path fill=\"#fae8db\" stroke=\"black\" d=\"M979,-677C979,-677 887,-677 887,-677 881,-677 875,-671 875,-665 875,-665 875,-621 875,-621 875,-615 881,-609 887,-609 887,-609 979,-609 979,-609 985,-609 991,-615 991,-621 991,-621 991,-665 991,-665 991,-671 985,-677 979,-677\"/>\n<text text-anchor=\"middle\" x=\"933\" y=\"-661.8\" font-family=\"Helvetica,sans-Serif\" font-size=\"14.00\">LSTAT &lt;= 16.21</text>\n<text text-anchor=\"middle\" x=\"933\" y=\"-646.8\" font-family=\"Helvetica,sans-Serif\" font-size=\"14.00\">mse = 22.34</text>\n<text text-anchor=\"middle\" x=\"933\" y=\"-631.8\" font-family=\"Helvetica,sans-Serif\" font-size=\"14.00\">samples = 210</text>\n<text text-anchor=\"middle\" x=\"933\" y=\"-616.8\" font-family=\"Helvetica,sans-Serif\" font-size=\"14.00\">value = 17.533</text>\n</g>\n<!-- 0&#45;&gt;2 -->\n<g id=\"edge24\" class=\"edge\">\n<title>0&#45;&gt;2</title>\n<path fill=\"none\" stroke=\"black\" d=\"M854.66,-712.88C865.1,-703.71 876.54,-693.65 887.37,-684.12\"/>\n<polygon fill=\"black\" stroke=\"black\" points=\"889.93,-686.53 895.13,-677.3 885.31,-681.27 889.93,-686.53\"/>\n<text text-anchor=\"middle\" x=\"893.53\" y=\"-698.55\" font-family=\"Helvetica,sans-Serif\" font-size=\"14.00\">False</text>\n</g>\n<!-- 3 -->\n<g id=\"node3\" class=\"node\">\n<title>3</title>\n<path fill=\"#f4c9aa\" stroke=\"black\" d=\"M577,-573C577,-573 495,-573 495,-573 489,-573 483,-567 483,-561 483,-561 483,-517 483,-517 483,-511 489,-505 495,-505 495,-505 577,-505 577,-505 583,-505 589,-511 589,-517 589,-517 589,-561 589,-561 589,-567 583,-573 577,-573\"/>\n<text text-anchor=\"middle\" x=\"536\" y=\"-557.8\" font-family=\"Helvetica,sans-Serif\" font-size=\"14.00\">DIS &lt;= 1.473</text>\n<text text-anchor=\"middle\" x=\"536\" y=\"-542.8\" font-family=\"Helvetica,sans-Serif\" font-size=\"14.00\">mse = 42.639</text>\n<text text-anchor=\"middle\" x=\"536\" y=\"-527.8\" font-family=\"Helvetica,sans-Serif\" font-size=\"14.00\">samples = 125</text>\n<text text-anchor=\"middle\" x=\"536\" y=\"-512.8\" font-family=\"Helvetica,sans-Serif\" font-size=\"14.00\">value = 27.394</text>\n</g>\n<!-- 1&#45;&gt;3 -->\n<g id=\"edge2\" class=\"edge\">\n<title>1&#45;&gt;3</title>\n<path fill=\"none\" stroke=\"black\" d=\"M696.83,-616.66C666.97,-602.42 629.55,-584.59 598.32,-569.71\"/>\n<polygon fill=\"black\" stroke=\"black\" points=\"599.8,-566.53 589.27,-565.39 596.79,-572.85 599.8,-566.53\"/>\n</g>\n<!-- 4 -->\n<g id=\"node20\" class=\"node\">\n<title>4</title>\n<path fill=\"#e89152\" stroke=\"black\" d=\"M801,-573C801,-573 699,-573 699,-573 693,-573 687,-567 687,-561 687,-561 687,-517 687,-517 687,-511 693,-505 699,-505 699,-505 801,-505 801,-505 807,-505 813,-511 813,-517 813,-517 813,-561 813,-561 813,-567 807,-573 801,-573\"/>\n<text text-anchor=\"middle\" x=\"750\" y=\"-557.8\" font-family=\"Helvetica,sans-Serif\" font-size=\"14.00\">PTRATIO &lt;= 18.3</text>\n<text text-anchor=\"middle\" x=\"750\" y=\"-542.8\" font-family=\"Helvetica,sans-Serif\" font-size=\"14.00\">mse = 47.634</text>\n<text text-anchor=\"middle\" x=\"750\" y=\"-527.8\" font-family=\"Helvetica,sans-Serif\" font-size=\"14.00\">samples = 19</text>\n<text text-anchor=\"middle\" x=\"750\" y=\"-512.8\" font-family=\"Helvetica,sans-Serif\" font-size=\"14.00\">value = 44.979</text>\n</g>\n<!-- 1&#45;&gt;4 -->\n<g id=\"edge19\" class=\"edge\">\n<title>1&#45;&gt;4</title>\n<path fill=\"none\" stroke=\"black\" d=\"M750,-608.88C750,-600.78 750,-591.98 750,-583.47\"/>\n<polygon fill=\"black\" stroke=\"black\" points=\"753.5,-583.3 750,-573.3 746.5,-583.3 753.5,-583.3\"/>\n</g>\n<!-- 5 -->\n<g id=\"node4\" class=\"node\">\n<title>5</title>\n<path fill=\"#e58139\" stroke=\"black\" d=\"M452.5,-461.5C452.5,-461.5 385.5,-461.5 385.5,-461.5 379.5,-461.5 373.5,-455.5 373.5,-449.5 373.5,-449.5 373.5,-420.5 373.5,-420.5 373.5,-414.5 379.5,-408.5 385.5,-408.5 385.5,-408.5 452.5,-408.5 452.5,-408.5 458.5,-408.5 464.5,-414.5 464.5,-420.5 464.5,-420.5 464.5,-449.5 464.5,-449.5 464.5,-455.5 458.5,-461.5 452.5,-461.5\"/>\n<text text-anchor=\"middle\" x=\"419\" y=\"-446.3\" font-family=\"Helvetica,sans-Serif\" font-size=\"14.00\">mse = 0.0</text>\n<text text-anchor=\"middle\" x=\"419\" y=\"-431.3\" font-family=\"Helvetica,sans-Serif\" font-size=\"14.00\">samples = 4</text>\n<text text-anchor=\"middle\" x=\"419\" y=\"-416.3\" font-family=\"Helvetica,sans-Serif\" font-size=\"14.00\">value = 50.0</text>\n</g>\n<!-- 3&#45;&gt;5 -->\n<g id=\"edge3\" class=\"edge\">\n<title>3&#45;&gt;5</title>\n<path fill=\"none\" stroke=\"black\" d=\"M498.01,-504.88C484.52,-493.12 469.35,-479.89 455.94,-468.2\"/>\n<polygon fill=\"black\" stroke=\"black\" points=\"458.11,-465.45 448.27,-461.52 453.51,-470.73 458.11,-465.45\"/>\n</g>\n<!-- 6 -->\n<g id=\"node5\" class=\"node\">\n<title>6</title>\n<path fill=\"#f4cbad\" stroke=\"black\" d=\"M577,-469C577,-469 495,-469 495,-469 489,-469 483,-463 483,-457 483,-457 483,-413 483,-413 483,-407 489,-401 495,-401 495,-401 577,-401 577,-401 583,-401 589,-407 589,-413 589,-413 589,-457 589,-457 589,-463 583,-469 577,-469\"/>\n<text text-anchor=\"middle\" x=\"536\" y=\"-453.8\" font-family=\"Helvetica,sans-Serif\" font-size=\"14.00\">RM &lt;= 6.797</text>\n<text text-anchor=\"middle\" x=\"536\" y=\"-438.8\" font-family=\"Helvetica,sans-Serif\" font-size=\"14.00\">mse = 26.597</text>\n<text text-anchor=\"middle\" x=\"536\" y=\"-423.8\" font-family=\"Helvetica,sans-Serif\" font-size=\"14.00\">samples = 121</text>\n<text text-anchor=\"middle\" x=\"536\" y=\"-408.8\" font-family=\"Helvetica,sans-Serif\" font-size=\"14.00\">value = 26.647</text>\n</g>\n<!-- 3&#45;&gt;6 -->\n<g id=\"edge4\" class=\"edge\">\n<title>3&#45;&gt;6</title>\n<path fill=\"none\" stroke=\"black\" d=\"M536,-504.88C536,-496.78 536,-487.98 536,-479.47\"/>\n<polygon fill=\"black\" stroke=\"black\" points=\"539.5,-479.3 536,-469.3 532.5,-479.3 539.5,-479.3\"/>\n</g>\n<!-- 9 -->\n<g id=\"node6\" class=\"node\">\n<title>9</title>\n<path fill=\"#f6d3b9\" stroke=\"black\" d=\"M401,-365C401,-365 319,-365 319,-365 313,-365 307,-359 307,-353 307,-353 307,-309 307,-309 307,-303 313,-297 319,-297 319,-297 401,-297 401,-297 407,-297 413,-303 413,-309 413,-309 413,-353 413,-353 413,-359 407,-365 401,-365\"/>\n<text text-anchor=\"middle\" x=\"360\" y=\"-349.8\" font-family=\"Helvetica,sans-Serif\" font-size=\"14.00\">RM &lt;= 6.428</text>\n<text text-anchor=\"middle\" x=\"360\" y=\"-334.8\" font-family=\"Helvetica,sans-Serif\" font-size=\"14.00\">mse = 11.277</text>\n<text text-anchor=\"middle\" x=\"360\" y=\"-319.8\" font-family=\"Helvetica,sans-Serif\" font-size=\"14.00\">samples = 85</text>\n<text text-anchor=\"middle\" x=\"360\" y=\"-304.8\" font-family=\"Helvetica,sans-Serif\" font-size=\"14.00\">value = 24.195</text>\n</g>\n<!-- 6&#45;&gt;9 -->\n<g id=\"edge5\" class=\"edge\">\n<title>6&#45;&gt;9</title>\n<path fill=\"none\" stroke=\"black\" d=\"M482.72,-403.12C463.5,-391.99 441.66,-379.33 421.78,-367.81\"/>\n<polygon fill=\"black\" stroke=\"black\" points=\"423.51,-364.76 413.1,-362.78 420,-370.82 423.51,-364.76\"/>\n</g>\n<!-- 10 -->\n<g id=\"node13\" class=\"node\">\n<title>10</title>\n<path fill=\"#f0b990\" stroke=\"black\" d=\"M592,-365C592,-365 490,-365 490,-365 484,-365 478,-359 478,-353 478,-353 478,-309 478,-309 478,-303 484,-297 490,-297 490,-297 592,-297 592,-297 598,-297 604,-303 604,-309 604,-309 604,-353 604,-353 604,-359 598,-365 592,-365\"/>\n<text text-anchor=\"middle\" x=\"541\" y=\"-349.8\" font-family=\"Helvetica,sans-Serif\" font-size=\"14.00\">PTRATIO &lt;= 19.7</text>\n<text text-anchor=\"middle\" x=\"541\" y=\"-334.8\" font-family=\"Helvetica,sans-Serif\" font-size=\"14.00\">mse = 15.065</text>\n<text text-anchor=\"middle\" x=\"541\" y=\"-319.8\" font-family=\"Helvetica,sans-Serif\" font-size=\"14.00\">samples = 36</text>\n<text text-anchor=\"middle\" x=\"541\" y=\"-304.8\" font-family=\"Helvetica,sans-Serif\" font-size=\"14.00\">value = 32.436</text>\n</g>\n<!-- 6&#45;&gt;10 -->\n<g id=\"edge12\" class=\"edge\">\n<title>6&#45;&gt;10</title>\n<path fill=\"none\" stroke=\"black\" d=\"M537.62,-400.88C538.02,-392.78 538.45,-383.98 538.87,-375.47\"/>\n<polygon fill=\"black\" stroke=\"black\" points=\"542.37,-375.46 539.37,-365.3 535.38,-375.12 542.37,-375.46\"/>\n</g>\n<!-- 15 -->\n<g id=\"node7\" class=\"node\">\n<title>15</title>\n<path fill=\"#f7d8c2\" stroke=\"black\" d=\"M219.5,-261C219.5,-261 134.5,-261 134.5,-261 128.5,-261 122.5,-255 122.5,-249 122.5,-249 122.5,-205 122.5,-205 122.5,-199 128.5,-193 134.5,-193 134.5,-193 219.5,-193 219.5,-193 225.5,-193 231.5,-199 231.5,-205 231.5,-205 231.5,-249 231.5,-249 231.5,-255 225.5,-261 219.5,-261\"/>\n<text text-anchor=\"middle\" x=\"177\" y=\"-245.8\" font-family=\"Helvetica,sans-Serif\" font-size=\"14.00\">LSTAT &lt;= 7.81</text>\n<text text-anchor=\"middle\" x=\"177\" y=\"-230.8\" font-family=\"Helvetica,sans-Serif\" font-size=\"14.00\">mse = 6.556</text>\n<text text-anchor=\"middle\" x=\"177\" y=\"-215.8\" font-family=\"Helvetica,sans-Serif\" font-size=\"14.00\">samples = 47</text>\n<text text-anchor=\"middle\" x=\"177\" y=\"-200.8\" font-family=\"Helvetica,sans-Serif\" font-size=\"14.00\">value = 22.413</text>\n</g>\n<!-- 9&#45;&gt;15 -->\n<g id=\"edge6\" class=\"edge\">\n<title>9&#45;&gt;15</title>\n<path fill=\"none\" stroke=\"black\" d=\"M306.58,-300.22C285.9,-288.7 262.07,-275.41 240.52,-263.4\"/>\n<polygon fill=\"black\" stroke=\"black\" points=\"242.2,-260.33 231.76,-258.52 238.79,-266.45 242.2,-260.33\"/>\n</g>\n<!-- 16 -->\n<g id=\"node10\" class=\"node\">\n<title>16</title>\n<path fill=\"#f4ccaf\" stroke=\"black\" d=\"M415,-261C415,-261 305,-261 305,-261 299,-261 293,-255 293,-249 293,-249 293,-205 293,-205 293,-199 299,-193 305,-193 305,-193 415,-193 415,-193 421,-193 427,-199 427,-205 427,-205 427,-249 427,-249 427,-255 421,-261 415,-261\"/>\n<text text-anchor=\"middle\" x=\"360\" y=\"-245.8\" font-family=\"Helvetica,sans-Serif\" font-size=\"14.00\">PTRATIO &lt;= 18.35</text>\n<text text-anchor=\"middle\" x=\"360\" y=\"-230.8\" font-family=\"Helvetica,sans-Serif\" font-size=\"14.00\">mse = 8.324</text>\n<text text-anchor=\"middle\" x=\"360\" y=\"-215.8\" font-family=\"Helvetica,sans-Serif\" font-size=\"14.00\">samples = 38</text>\n<text text-anchor=\"middle\" x=\"360\" y=\"-200.8\" font-family=\"Helvetica,sans-Serif\" font-size=\"14.00\">value = 26.4</text>\n</g>\n<!-- 9&#45;&gt;16 -->\n<g id=\"edge9\" class=\"edge\">\n<title>9&#45;&gt;16</title>\n<path fill=\"none\" stroke=\"black\" d=\"M360,-296.88C360,-288.78 360,-279.98 360,-271.47\"/>\n<polygon fill=\"black\" stroke=\"black\" points=\"363.5,-271.3 360,-261.3 356.5,-271.3 363.5,-271.3\"/>\n</g>\n<!-- 31 -->\n<g id=\"node8\" class=\"node\">\n<title>31</title>\n<path fill=\"#f6d4bc\" stroke=\"black\" d=\"M94,-149.5C94,-149.5 12,-149.5 12,-149.5 6,-149.5 0,-143.5 0,-137.5 0,-137.5 0,-108.5 0,-108.5 0,-102.5 6,-96.5 12,-96.5 12,-96.5 94,-96.5 94,-96.5 100,-96.5 106,-102.5 106,-108.5 106,-108.5 106,-137.5 106,-137.5 106,-143.5 100,-149.5 94,-149.5\"/>\n<text text-anchor=\"middle\" x=\"53\" y=\"-134.3\" font-family=\"Helvetica,sans-Serif\" font-size=\"14.00\">mse = 2.396</text>\n<text text-anchor=\"middle\" x=\"53\" y=\"-119.3\" font-family=\"Helvetica,sans-Serif\" font-size=\"14.00\">samples = 24</text>\n<text text-anchor=\"middle\" x=\"53\" y=\"-104.3\" font-family=\"Helvetica,sans-Serif\" font-size=\"14.00\">value = 23.717</text>\n</g>\n<!-- 15&#45;&gt;31 -->\n<g id=\"edge7\" class=\"edge\">\n<title>15&#45;&gt;31</title>\n<path fill=\"none\" stroke=\"black\" d=\"M136.74,-192.88C122.3,-181.01 106.06,-167.65 91.75,-155.88\"/>\n<polygon fill=\"black\" stroke=\"black\" points=\"93.97,-153.17 84.02,-149.52 89.52,-158.58 93.97,-153.17\"/>\n</g>\n<!-- 32 -->\n<g id=\"node9\" class=\"node\">\n<title>32</title>\n<path fill=\"#f8ddc9\" stroke=\"black\" d=\"M218,-149.5C218,-149.5 136,-149.5 136,-149.5 130,-149.5 124,-143.5 124,-137.5 124,-137.5 124,-108.5 124,-108.5 124,-102.5 130,-96.5 136,-96.5 136,-96.5 218,-96.5 218,-96.5 224,-96.5 230,-102.5 230,-108.5 230,-108.5 230,-137.5 230,-137.5 230,-143.5 224,-149.5 218,-149.5\"/>\n<text text-anchor=\"middle\" x=\"177\" y=\"-134.3\" font-family=\"Helvetica,sans-Serif\" font-size=\"14.00\">mse = 7.273</text>\n<text text-anchor=\"middle\" x=\"177\" y=\"-119.3\" font-family=\"Helvetica,sans-Serif\" font-size=\"14.00\">samples = 23</text>\n<text text-anchor=\"middle\" x=\"177\" y=\"-104.3\" font-family=\"Helvetica,sans-Serif\" font-size=\"14.00\">value = 21.052</text>\n</g>\n<!-- 15&#45;&gt;32 -->\n<g id=\"edge8\" class=\"edge\">\n<title>15&#45;&gt;32</title>\n<path fill=\"none\" stroke=\"black\" d=\"M177,-192.88C177,-182.33 177,-170.6 177,-159.85\"/>\n<polygon fill=\"black\" stroke=\"black\" points=\"180.5,-159.52 177,-149.52 173.5,-159.52 180.5,-159.52\"/>\n</g>\n<!-- 37 -->\n<g id=\"node11\" class=\"node\">\n<title>37</title>\n<path fill=\"#f4c8a8\" stroke=\"black\" d=\"M334,-149.5C334,-149.5 260,-149.5 260,-149.5 254,-149.5 248,-143.5 248,-137.5 248,-137.5 248,-108.5 248,-108.5 248,-102.5 254,-96.5 260,-96.5 260,-96.5 334,-96.5 334,-96.5 340,-96.5 346,-102.5 346,-108.5 346,-108.5 346,-137.5 346,-137.5 346,-143.5 340,-149.5 334,-149.5\"/>\n<text text-anchor=\"middle\" x=\"297\" y=\"-134.3\" font-family=\"Helvetica,sans-Serif\" font-size=\"14.00\">mse = 8.594</text>\n<text text-anchor=\"middle\" x=\"297\" y=\"-119.3\" font-family=\"Helvetica,sans-Serif\" font-size=\"14.00\">samples = 20</text>\n<text text-anchor=\"middle\" x=\"297\" y=\"-104.3\" font-family=\"Helvetica,sans-Serif\" font-size=\"14.00\">value = 27.73</text>\n</g>\n<!-- 16&#45;&gt;37 -->\n<g id=\"edge10\" class=\"edge\">\n<title>16&#45;&gt;37</title>\n<path fill=\"none\" stroke=\"black\" d=\"M339.55,-192.88C332.68,-181.78 325.02,-169.37 318.11,-158.18\"/>\n<polygon fill=\"black\" stroke=\"black\" points=\"321,-156.19 312.76,-149.52 315.04,-159.87 321,-156.19\"/>\n</g>\n<!-- 38 -->\n<g id=\"node12\" class=\"node\">\n<title>38</title>\n<path fill=\"#f5d0b6\" stroke=\"black\" d=\"M458,-149.5C458,-149.5 376,-149.5 376,-149.5 370,-149.5 364,-143.5 364,-137.5 364,-137.5 364,-108.5 364,-108.5 364,-102.5 370,-96.5 376,-96.5 376,-96.5 458,-96.5 458,-96.5 464,-96.5 470,-102.5 470,-108.5 470,-108.5 470,-137.5 470,-137.5 470,-143.5 464,-149.5 458,-149.5\"/>\n<text text-anchor=\"middle\" x=\"417\" y=\"-134.3\" font-family=\"Helvetica,sans-Serif\" font-size=\"14.00\">mse = 3.875</text>\n<text text-anchor=\"middle\" x=\"417\" y=\"-119.3\" font-family=\"Helvetica,sans-Serif\" font-size=\"14.00\">samples = 18</text>\n<text text-anchor=\"middle\" x=\"417\" y=\"-104.3\" font-family=\"Helvetica,sans-Serif\" font-size=\"14.00\">value = 24.922</text>\n</g>\n<!-- 16&#45;&gt;38 -->\n<g id=\"edge11\" class=\"edge\">\n<title>16&#45;&gt;38</title>\n<path fill=\"none\" stroke=\"black\" d=\"M378.51,-192.88C384.65,-181.89 391.51,-169.62 397.71,-158.52\"/>\n<polygon fill=\"black\" stroke=\"black\" points=\"400.92,-159.96 402.74,-149.52 394.81,-156.54 400.92,-159.96\"/>\n</g>\n<!-- 25 -->\n<g id=\"node14\" class=\"node\">\n<title>25</title>\n<path fill=\"#f0b78e\" stroke=\"black\" d=\"M582,-261C582,-261 500,-261 500,-261 494,-261 488,-255 488,-249 488,-249 488,-205 488,-205 488,-199 494,-193 500,-193 500,-193 582,-193 582,-193 588,-193 594,-199 594,-205 594,-205 594,-249 594,-249 594,-255 588,-261 582,-261\"/>\n<text text-anchor=\"middle\" x=\"541\" y=\"-245.8\" font-family=\"Helvetica,sans-Serif\" font-size=\"14.00\">TAX &lt;= 384.0</text>\n<text text-anchor=\"middle\" x=\"541\" y=\"-230.8\" font-family=\"Helvetica,sans-Serif\" font-size=\"14.00\">mse = 11.961</text>\n<text text-anchor=\"middle\" x=\"541\" y=\"-215.8\" font-family=\"Helvetica,sans-Serif\" font-size=\"14.00\">samples = 34</text>\n<text text-anchor=\"middle\" x=\"541\" y=\"-200.8\" font-family=\"Helvetica,sans-Serif\" font-size=\"14.00\">value = 32.906</text>\n</g>\n<!-- 10&#45;&gt;25 -->\n<g id=\"edge13\" class=\"edge\">\n<title>10&#45;&gt;25</title>\n<path fill=\"none\" stroke=\"black\" d=\"M541,-296.88C541,-288.78 541,-279.98 541,-271.47\"/>\n<polygon fill=\"black\" stroke=\"black\" points=\"544.5,-271.3 541,-261.3 537.5,-271.3 544.5,-271.3\"/>\n</g>\n<!-- 26 -->\n<g id=\"node19\" class=\"node\">\n<title>26</title>\n<path fill=\"#f6d2b8\" stroke=\"black\" d=\"M698,-253.5C698,-253.5 624,-253.5 624,-253.5 618,-253.5 612,-247.5 612,-241.5 612,-241.5 612,-212.5 612,-212.5 612,-206.5 618,-200.5 624,-200.5 624,-200.5 698,-200.5 698,-200.5 704,-200.5 710,-206.5 710,-212.5 710,-212.5 710,-241.5 710,-241.5 710,-247.5 704,-253.5 698,-253.5\"/>\n<text text-anchor=\"middle\" x=\"661\" y=\"-238.3\" font-family=\"Helvetica,sans-Serif\" font-size=\"14.00\">mse = 0.303</text>\n<text text-anchor=\"middle\" x=\"661\" y=\"-223.3\" font-family=\"Helvetica,sans-Serif\" font-size=\"14.00\">samples = 2</text>\n<text text-anchor=\"middle\" x=\"661\" y=\"-208.3\" font-family=\"Helvetica,sans-Serif\" font-size=\"14.00\">value = 24.45</text>\n</g>\n<!-- 10&#45;&gt;26 -->\n<g id=\"edge18\" class=\"edge\">\n<title>10&#45;&gt;26</title>\n<path fill=\"none\" stroke=\"black\" d=\"M579.96,-296.88C593.8,-285.12 609.36,-271.89 623.11,-260.2\"/>\n<polygon fill=\"black\" stroke=\"black\" points=\"625.62,-262.66 630.98,-253.52 621.09,-257.33 625.62,-262.66\"/>\n</g>\n<!-- 33 -->\n<g id=\"node15\" class=\"node\">\n<title>33</title>\n<path fill=\"#f0b990\" stroke=\"black\" d=\"M582,-157C582,-157 500,-157 500,-157 494,-157 488,-151 488,-145 488,-145 488,-101 488,-101 488,-95 494,-89 500,-89 500,-89 582,-89 582,-89 588,-89 594,-95 594,-101 594,-101 594,-145 594,-145 594,-151 588,-157 582,-157\"/>\n<text text-anchor=\"middle\" x=\"541\" y=\"-141.8\" font-family=\"Helvetica,sans-Serif\" font-size=\"14.00\">TAX &lt;= 264.5</text>\n<text text-anchor=\"middle\" x=\"541\" y=\"-126.8\" font-family=\"Helvetica,sans-Serif\" font-size=\"14.00\">mse = 9.959</text>\n<text text-anchor=\"middle\" x=\"541\" y=\"-111.8\" font-family=\"Helvetica,sans-Serif\" font-size=\"14.00\">samples = 31</text>\n<text text-anchor=\"middle\" x=\"541\" y=\"-96.8\" font-family=\"Helvetica,sans-Serif\" font-size=\"14.00\">value = 32.439</text>\n</g>\n<!-- 25&#45;&gt;33 -->\n<g id=\"edge14\" class=\"edge\">\n<title>25&#45;&gt;33</title>\n<path fill=\"none\" stroke=\"black\" d=\"M541,-192.88C541,-184.78 541,-175.98 541,-167.47\"/>\n<polygon fill=\"black\" stroke=\"black\" points=\"544.5,-167.3 541,-157.3 537.5,-167.3 544.5,-167.3\"/>\n</g>\n<!-- 34 -->\n<g id=\"node18\" class=\"node\">\n<title>34</title>\n<path fill=\"#eda876\" stroke=\"black\" d=\"M706,-149.5C706,-149.5 624,-149.5 624,-149.5 618,-149.5 612,-143.5 612,-137.5 612,-137.5 612,-108.5 612,-108.5 612,-102.5 618,-96.5 624,-96.5 624,-96.5 706,-96.5 706,-96.5 712,-96.5 718,-102.5 718,-108.5 718,-108.5 718,-137.5 718,-137.5 718,-143.5 712,-149.5 706,-149.5\"/>\n<text text-anchor=\"middle\" x=\"665\" y=\"-134.3\" font-family=\"Helvetica,sans-Serif\" font-size=\"14.00\">mse = 7.096</text>\n<text text-anchor=\"middle\" x=\"665\" y=\"-119.3\" font-family=\"Helvetica,sans-Serif\" font-size=\"14.00\">samples = 3</text>\n<text text-anchor=\"middle\" x=\"665\" y=\"-104.3\" font-family=\"Helvetica,sans-Serif\" font-size=\"14.00\">value = 37.733</text>\n</g>\n<!-- 25&#45;&gt;34 -->\n<g id=\"edge17\" class=\"edge\">\n<title>25&#45;&gt;34</title>\n<path fill=\"none\" stroke=\"black\" d=\"M581.26,-192.88C595.7,-181.01 611.94,-167.65 626.25,-155.88\"/>\n<polygon fill=\"black\" stroke=\"black\" points=\"628.48,-158.58 633.98,-149.52 624.03,-153.17 628.48,-158.58\"/>\n</g>\n<!-- 35 -->\n<g id=\"node16\" class=\"node\">\n<title>35</title>\n<path fill=\"#efb387\" stroke=\"black\" d=\"M518,-53C518,-53 444,-53 444,-53 438,-53 432,-47 432,-41 432,-41 432,-12 432,-12 432,-6 438,0 444,0 444,0 518,0 518,0 524,0 530,-6 530,-12 530,-12 530,-41 530,-41 530,-47 524,-53 518,-53\"/>\n<text text-anchor=\"middle\" x=\"481\" y=\"-37.8\" font-family=\"Helvetica,sans-Serif\" font-size=\"14.00\">mse = 6.609</text>\n<text text-anchor=\"middle\" x=\"481\" y=\"-22.8\" font-family=\"Helvetica,sans-Serif\" font-size=\"14.00\">samples = 15</text>\n<text text-anchor=\"middle\" x=\"481\" y=\"-7.8\" font-family=\"Helvetica,sans-Serif\" font-size=\"14.00\">value = 34.26</text>\n</g>\n<!-- 33&#45;&gt;35 -->\n<g id=\"edge15\" class=\"edge\">\n<title>33&#45;&gt;35</title>\n<path fill=\"none\" stroke=\"black\" d=\"M520.01,-88.95C514.44,-80.17 508.41,-70.66 502.79,-61.82\"/>\n<polygon fill=\"black\" stroke=\"black\" points=\"505.66,-59.8 497.34,-53.24 499.75,-63.55 505.66,-59.8\"/>\n</g>\n<!-- 36 -->\n<g id=\"node17\" class=\"node\">\n<title>36</title>\n<path fill=\"#f2be99\" stroke=\"black\" d=\"M642,-53C642,-53 560,-53 560,-53 554,-53 548,-47 548,-41 548,-41 548,-12 548,-12 548,-6 554,0 560,0 560,0 642,0 642,0 648,0 654,-6 654,-12 654,-12 654,-41 654,-41 654,-47 648,-53 642,-53\"/>\n<text text-anchor=\"middle\" x=\"601\" y=\"-37.8\" font-family=\"Helvetica,sans-Serif\" font-size=\"14.00\">mse = 7.073</text>\n<text text-anchor=\"middle\" x=\"601\" y=\"-22.8\" font-family=\"Helvetica,sans-Serif\" font-size=\"14.00\">samples = 16</text>\n<text text-anchor=\"middle\" x=\"601\" y=\"-7.8\" font-family=\"Helvetica,sans-Serif\" font-size=\"14.00\">value = 30.731</text>\n</g>\n<!-- 33&#45;&gt;36 -->\n<g id=\"edge16\" class=\"edge\">\n<title>33&#45;&gt;36</title>\n<path fill=\"none\" stroke=\"black\" d=\"M561.99,-88.95C567.56,-80.17 573.59,-70.66 579.21,-61.82\"/>\n<polygon fill=\"black\" stroke=\"black\" points=\"582.25,-63.55 584.66,-53.24 576.34,-59.8 582.25,-63.55\"/>\n</g>\n<!-- 11 -->\n<g id=\"node21\" class=\"node\">\n<title>11</title>\n<path fill=\"#e78b48\" stroke=\"black\" d=\"M701,-461.5C701,-461.5 619,-461.5 619,-461.5 613,-461.5 607,-455.5 607,-449.5 607,-449.5 607,-420.5 607,-420.5 607,-414.5 613,-408.5 619,-408.5 619,-408.5 701,-408.5 701,-408.5 707,-408.5 713,-414.5 713,-420.5 713,-420.5 713,-449.5 713,-449.5 713,-455.5 707,-461.5 701,-461.5\"/>\n<text text-anchor=\"middle\" x=\"660\" y=\"-446.3\" font-family=\"Helvetica,sans-Serif\" font-size=\"14.00\">mse = 12.546</text>\n<text text-anchor=\"middle\" x=\"660\" y=\"-431.3\" font-family=\"Helvetica,sans-Serif\" font-size=\"14.00\">samples = 17</text>\n<text text-anchor=\"middle\" x=\"660\" y=\"-416.3\" font-family=\"Helvetica,sans-Serif\" font-size=\"14.00\">value = 46.912</text>\n</g>\n<!-- 4&#45;&gt;11 -->\n<g id=\"edge20\" class=\"edge\">\n<title>4&#45;&gt;11</title>\n<path fill=\"none\" stroke=\"black\" d=\"M720.78,-504.88C710.69,-493.45 699.38,-480.63 689.29,-469.19\"/>\n<polygon fill=\"black\" stroke=\"black\" points=\"691.76,-466.7 682.52,-461.52 686.51,-471.33 691.76,-466.7\"/>\n</g>\n<!-- 12 -->\n<g id=\"node22\" class=\"node\">\n<title>12</title>\n<path fill=\"#f3c5a4\" stroke=\"black\" d=\"M819,-469C819,-469 743,-469 743,-469 737,-469 731,-463 731,-457 731,-457 731,-413 731,-413 731,-407 737,-401 743,-401 743,-401 819,-401 819,-401 825,-401 831,-407 831,-413 831,-413 831,-457 831,-457 831,-463 825,-469 819,-469\"/>\n<text text-anchor=\"middle\" x=\"781\" y=\"-453.8\" font-family=\"Helvetica,sans-Serif\" font-size=\"14.00\">RAD &lt;= 13.5</text>\n<text text-anchor=\"middle\" x=\"781\" y=\"-438.8\" font-family=\"Helvetica,sans-Serif\" font-size=\"14.00\">mse = 44.223</text>\n<text text-anchor=\"middle\" x=\"781\" y=\"-423.8\" font-family=\"Helvetica,sans-Serif\" font-size=\"14.00\">samples = 2</text>\n<text text-anchor=\"middle\" x=\"781\" y=\"-408.8\" font-family=\"Helvetica,sans-Serif\" font-size=\"14.00\">value = 28.55</text>\n</g>\n<!-- 4&#45;&gt;12 -->\n<g id=\"edge21\" class=\"edge\">\n<title>4&#45;&gt;12</title>\n<path fill=\"none\" stroke=\"black\" d=\"M760.06,-504.88C762.58,-496.6 765.32,-487.6 767.96,-478.91\"/>\n<polygon fill=\"black\" stroke=\"black\" points=\"771.32,-479.89 770.88,-469.3 764.62,-477.85 771.32,-479.89\"/>\n</g>\n<!-- 29 -->\n<g id=\"node23\" class=\"node\">\n<title>29</title>\n<path fill=\"#efb083\" stroke=\"black\" d=\"M709.5,-357.5C709.5,-357.5 642.5,-357.5 642.5,-357.5 636.5,-357.5 630.5,-351.5 630.5,-345.5 630.5,-345.5 630.5,-316.5 630.5,-316.5 630.5,-310.5 636.5,-304.5 642.5,-304.5 642.5,-304.5 709.5,-304.5 709.5,-304.5 715.5,-304.5 721.5,-310.5 721.5,-316.5 721.5,-316.5 721.5,-345.5 721.5,-345.5 721.5,-351.5 715.5,-357.5 709.5,-357.5\"/>\n<text text-anchor=\"middle\" x=\"676\" y=\"-342.3\" font-family=\"Helvetica,sans-Serif\" font-size=\"14.00\">mse = 0.0</text>\n<text text-anchor=\"middle\" x=\"676\" y=\"-327.3\" font-family=\"Helvetica,sans-Serif\" font-size=\"14.00\">samples = 1</text>\n<text text-anchor=\"middle\" x=\"676\" y=\"-312.3\" font-family=\"Helvetica,sans-Serif\" font-size=\"14.00\">value = 35.2</text>\n</g>\n<!-- 12&#45;&gt;29 -->\n<g id=\"edge22\" class=\"edge\">\n<title>12&#45;&gt;29</title>\n<path fill=\"none\" stroke=\"black\" d=\"M746.91,-400.88C734.91,-389.23 721.44,-376.14 709.49,-364.53\"/>\n<polygon fill=\"black\" stroke=\"black\" points=\"711.88,-361.98 702.27,-357.52 707,-367 711.88,-361.98\"/>\n</g>\n<!-- 30 -->\n<g id=\"node24\" class=\"node\">\n<title>30</title>\n<path fill=\"#f7dac5\" stroke=\"black\" d=\"M818.5,-357.5C818.5,-357.5 751.5,-357.5 751.5,-357.5 745.5,-357.5 739.5,-351.5 739.5,-345.5 739.5,-345.5 739.5,-316.5 739.5,-316.5 739.5,-310.5 745.5,-304.5 751.5,-304.5 751.5,-304.5 818.5,-304.5 818.5,-304.5 824.5,-304.5 830.5,-310.5 830.5,-316.5 830.5,-316.5 830.5,-345.5 830.5,-345.5 830.5,-351.5 824.5,-357.5 818.5,-357.5\"/>\n<text text-anchor=\"middle\" x=\"785\" y=\"-342.3\" font-family=\"Helvetica,sans-Serif\" font-size=\"14.00\">mse = &#45;0.0</text>\n<text text-anchor=\"middle\" x=\"785\" y=\"-327.3\" font-family=\"Helvetica,sans-Serif\" font-size=\"14.00\">samples = 1</text>\n<text text-anchor=\"middle\" x=\"785\" y=\"-312.3\" font-family=\"Helvetica,sans-Serif\" font-size=\"14.00\">value = 21.9</text>\n</g>\n<!-- 12&#45;&gt;30 -->\n<g id=\"edge23\" class=\"edge\">\n<title>12&#45;&gt;30</title>\n<path fill=\"none\" stroke=\"black\" d=\"M782.3,-400.88C782.72,-390.22 783.18,-378.35 783.61,-367.52\"/>\n<polygon fill=\"black\" stroke=\"black\" points=\"787.1,-367.65 784,-357.52 780.11,-367.38 787.1,-367.65\"/>\n</g>\n<!-- 7 -->\n<g id=\"node26\" class=\"node\">\n<title>7</title>\n<path fill=\"#f8dfcc\" stroke=\"black\" d=\"M974,-573C974,-573 892,-573 892,-573 886,-573 880,-567 880,-561 880,-561 880,-517 880,-517 880,-511 886,-505 892,-505 892,-505 974,-505 974,-505 980,-505 986,-511 986,-517 986,-517 986,-561 986,-561 986,-567 980,-573 974,-573\"/>\n<text text-anchor=\"middle\" x=\"933\" y=\"-557.8\" font-family=\"Helvetica,sans-Serif\" font-size=\"14.00\">B &lt;= 116.025</text>\n<text text-anchor=\"middle\" x=\"933\" y=\"-542.8\" font-family=\"Helvetica,sans-Serif\" font-size=\"14.00\">mse = 10.347</text>\n<text text-anchor=\"middle\" x=\"933\" y=\"-527.8\" font-family=\"Helvetica,sans-Serif\" font-size=\"14.00\">samples = 115</text>\n<text text-anchor=\"middle\" x=\"933\" y=\"-512.8\" font-family=\"Helvetica,sans-Serif\" font-size=\"14.00\">value = 20.39</text>\n</g>\n<!-- 2&#45;&gt;7 -->\n<g id=\"edge25\" class=\"edge\">\n<title>2&#45;&gt;7</title>\n<path fill=\"none\" stroke=\"black\" d=\"M933,-608.88C933,-600.78 933,-591.98 933,-583.47\"/>\n<polygon fill=\"black\" stroke=\"black\" points=\"936.5,-583.3 933,-573.3 929.5,-583.3 936.5,-583.3\"/>\n</g>\n<!-- 8 -->\n<g id=\"node31\" class=\"node\">\n<title>8</title>\n<path fill=\"#fcf3ec\" stroke=\"black\" d=\"M1250,-573C1250,-573 1168,-573 1168,-573 1162,-573 1156,-567 1156,-561 1156,-561 1156,-517 1156,-517 1156,-511 1162,-505 1168,-505 1168,-505 1250,-505 1250,-505 1256,-505 1262,-511 1262,-517 1262,-517 1262,-561 1262,-561 1262,-567 1256,-573 1250,-573\"/>\n<text text-anchor=\"middle\" x=\"1209\" y=\"-557.8\" font-family=\"Helvetica,sans-Serif\" font-size=\"14.00\">DIS &lt;= 2.004</text>\n<text text-anchor=\"middle\" x=\"1209\" y=\"-542.8\" font-family=\"Helvetica,sans-Serif\" font-size=\"14.00\">mse = 15.019</text>\n<text text-anchor=\"middle\" x=\"1209\" y=\"-527.8\" font-family=\"Helvetica,sans-Serif\" font-size=\"14.00\">samples = 95</text>\n<text text-anchor=\"middle\" x=\"1209\" y=\"-512.8\" font-family=\"Helvetica,sans-Serif\" font-size=\"14.00\">value = 14.075</text>\n</g>\n<!-- 2&#45;&gt;8 -->\n<g id=\"edge30\" class=\"edge\">\n<title>2&#45;&gt;8</title>\n<path fill=\"none\" stroke=\"black\" d=\"M991.2,-620.49C1036.52,-603.74 1099.36,-580.52 1145.89,-563.32\"/>\n<polygon fill=\"black\" stroke=\"black\" points=\"1147.39,-566.5 1155.56,-559.75 1144.97,-559.93 1147.39,-566.5\"/>\n</g>\n<!-- 17 -->\n<g id=\"node27\" class=\"node\">\n<title>17</title>\n<path fill=\"#fcf1ea\" stroke=\"black\" d=\"M943,-461.5C943,-461.5 861,-461.5 861,-461.5 855,-461.5 849,-455.5 849,-449.5 849,-449.5 849,-420.5 849,-420.5 849,-414.5 855,-408.5 861,-408.5 861,-408.5 943,-408.5 943,-408.5 949,-408.5 955,-414.5 955,-420.5 955,-420.5 955,-449.5 955,-449.5 955,-455.5 949,-461.5 943,-461.5\"/>\n<text text-anchor=\"middle\" x=\"902\" y=\"-446.3\" font-family=\"Helvetica,sans-Serif\" font-size=\"14.00\">mse = 7.859</text>\n<text text-anchor=\"middle\" x=\"902\" y=\"-431.3\" font-family=\"Helvetica,sans-Serif\" font-size=\"14.00\">samples = 6</text>\n<text text-anchor=\"middle\" x=\"902\" y=\"-416.3\" font-family=\"Helvetica,sans-Serif\" font-size=\"14.00\">value = 14.533</text>\n</g>\n<!-- 7&#45;&gt;17 -->\n<g id=\"edge26\" class=\"edge\">\n<title>7&#45;&gt;17</title>\n<path fill=\"none\" stroke=\"black\" d=\"M922.94,-504.88C919.66,-494.11 916.01,-482.11 912.69,-471.18\"/>\n<polygon fill=\"black\" stroke=\"black\" points=\"916.01,-470.07 909.76,-461.52 909.32,-472.11 916.01,-470.07\"/>\n</g>\n<!-- 18 -->\n<g id=\"node28\" class=\"node\">\n<title>18</title>\n<path fill=\"#f8decb\" stroke=\"black\" d=\"M1067,-469C1067,-469 985,-469 985,-469 979,-469 973,-463 973,-457 973,-457 973,-413 973,-413 973,-407 979,-401 985,-401 985,-401 1067,-401 1067,-401 1073,-401 1079,-407 1079,-413 1079,-413 1079,-457 1079,-457 1079,-463 1073,-469 1067,-469\"/>\n<text text-anchor=\"middle\" x=\"1026\" y=\"-453.8\" font-family=\"Helvetica,sans-Serif\" font-size=\"14.00\">RM &lt;= 6.696</text>\n<text text-anchor=\"middle\" x=\"1026\" y=\"-438.8\" font-family=\"Helvetica,sans-Serif\" font-size=\"14.00\">mse = 8.492</text>\n<text text-anchor=\"middle\" x=\"1026\" y=\"-423.8\" font-family=\"Helvetica,sans-Serif\" font-size=\"14.00\">samples = 109</text>\n<text text-anchor=\"middle\" x=\"1026\" y=\"-408.8\" font-family=\"Helvetica,sans-Serif\" font-size=\"14.00\">value = 20.712</text>\n</g>\n<!-- 7&#45;&gt;18 -->\n<g id=\"edge27\" class=\"edge\">\n<title>7&#45;&gt;18</title>\n<path fill=\"none\" stroke=\"black\" d=\"M963.19,-504.88C971.32,-495.98 980.2,-486.24 988.66,-476.96\"/>\n<polygon fill=\"black\" stroke=\"black\" points=\"991.49,-479.05 995.64,-469.3 986.31,-474.33 991.49,-479.05\"/>\n</g>\n<!-- 19 -->\n<g id=\"node29\" class=\"node\">\n<title>19</title>\n<path fill=\"#f8dfcc\" stroke=\"black\" d=\"M946,-357.5C946,-357.5 864,-357.5 864,-357.5 858,-357.5 852,-351.5 852,-345.5 852,-345.5 852,-316.5 852,-316.5 852,-310.5 858,-304.5 864,-304.5 864,-304.5 946,-304.5 946,-304.5 952,-304.5 958,-310.5 958,-316.5 958,-316.5 958,-345.5 958,-345.5 958,-351.5 952,-357.5 946,-357.5\"/>\n<text text-anchor=\"middle\" x=\"905\" y=\"-342.3\" font-family=\"Helvetica,sans-Serif\" font-size=\"14.00\">mse = 6.558</text>\n<text text-anchor=\"middle\" x=\"905\" y=\"-327.3\" font-family=\"Helvetica,sans-Serif\" font-size=\"14.00\">samples = 105</text>\n<text text-anchor=\"middle\" x=\"905\" y=\"-312.3\" font-family=\"Helvetica,sans-Serif\" font-size=\"14.00\">value = 20.453</text>\n</g>\n<!-- 18&#45;&gt;19 -->\n<g id=\"edge28\" class=\"edge\">\n<title>18&#45;&gt;19</title>\n<path fill=\"none\" stroke=\"black\" d=\"M986.71,-400.88C972.76,-389.12 957.07,-375.89 943.2,-364.2\"/>\n<polygon fill=\"black\" stroke=\"black\" points=\"945.18,-361.29 935.27,-357.52 940.66,-366.64 945.18,-361.29\"/>\n</g>\n<!-- 20 -->\n<g id=\"node30\" class=\"node\">\n<title>20</title>\n<path fill=\"#f4c8a9\" stroke=\"black\" d=\"M1064,-357.5C1064,-357.5 988,-357.5 988,-357.5 982,-357.5 976,-351.5 976,-345.5 976,-345.5 976,-316.5 976,-316.5 976,-310.5 982,-304.5 988,-304.5 988,-304.5 1064,-304.5 1064,-304.5 1070,-304.5 1076,-310.5 1076,-316.5 1076,-316.5 1076,-345.5 1076,-345.5 1076,-351.5 1070,-357.5 1064,-357.5\"/>\n<text text-anchor=\"middle\" x=\"1026\" y=\"-342.3\" font-family=\"Helvetica,sans-Serif\" font-size=\"14.00\">mse = 11.445</text>\n<text text-anchor=\"middle\" x=\"1026\" y=\"-327.3\" font-family=\"Helvetica,sans-Serif\" font-size=\"14.00\">samples = 4</text>\n<text text-anchor=\"middle\" x=\"1026\" y=\"-312.3\" font-family=\"Helvetica,sans-Serif\" font-size=\"14.00\">value = 27.5</text>\n</g>\n<!-- 18&#45;&gt;20 -->\n<g id=\"edge29\" class=\"edge\">\n<title>18&#45;&gt;20</title>\n<path fill=\"none\" stroke=\"black\" d=\"M1026,-400.88C1026,-390.33 1026,-378.6 1026,-367.85\"/>\n<polygon fill=\"black\" stroke=\"black\" points=\"1029.5,-367.52 1026,-357.52 1022.5,-367.52 1029.5,-367.52\"/>\n</g>\n<!-- 13 -->\n<g id=\"node32\" class=\"node\">\n<title>13</title>\n<path fill=\"#fefaf7\" stroke=\"black\" d=\"M1250,-469C1250,-469 1168,-469 1168,-469 1162,-469 1156,-463 1156,-457 1156,-457 1156,-413 1156,-413 1156,-407 1162,-401 1168,-401 1168,-401 1250,-401 1250,-401 1256,-401 1262,-407 1262,-413 1262,-413 1262,-457 1262,-457 1262,-463 1256,-469 1250,-469\"/>\n<text text-anchor=\"middle\" x=\"1209\" y=\"-453.8\" font-family=\"Helvetica,sans-Serif\" font-size=\"14.00\">TAX &lt;= 551.5</text>\n<text text-anchor=\"middle\" x=\"1209\" y=\"-438.8\" font-family=\"Helvetica,sans-Serif\" font-size=\"14.00\">mse = 10.93</text>\n<text text-anchor=\"middle\" x=\"1209\" y=\"-423.8\" font-family=\"Helvetica,sans-Serif\" font-size=\"14.00\">samples = 48</text>\n<text text-anchor=\"middle\" x=\"1209\" y=\"-408.8\" font-family=\"Helvetica,sans-Serif\" font-size=\"14.00\">value = 11.779</text>\n</g>\n<!-- 8&#45;&gt;13 -->\n<g id=\"edge31\" class=\"edge\">\n<title>8&#45;&gt;13</title>\n<path fill=\"none\" stroke=\"black\" d=\"M1209,-504.88C1209,-496.78 1209,-487.98 1209,-479.47\"/>\n<polygon fill=\"black\" stroke=\"black\" points=\"1212.5,-479.3 1209,-469.3 1205.5,-479.3 1212.5,-479.3\"/>\n</g>\n<!-- 14 -->\n<g id=\"node37\" class=\"node\">\n<title>14</title>\n<path fill=\"#fbebe0\" stroke=\"black\" d=\"M1438,-469C1438,-469 1352,-469 1352,-469 1346,-469 1340,-463 1340,-457 1340,-457 1340,-413 1340,-413 1340,-407 1346,-401 1352,-401 1352,-401 1438,-401 1438,-401 1444,-401 1450,-407 1450,-413 1450,-413 1450,-457 1450,-457 1450,-463 1444,-469 1438,-469\"/>\n<text text-anchor=\"middle\" x=\"1395\" y=\"-453.8\" font-family=\"Helvetica,sans-Serif\" font-size=\"14.00\">CRIM &lt;= 0.767</text>\n<text text-anchor=\"middle\" x=\"1395\" y=\"-438.8\" font-family=\"Helvetica,sans-Serif\" font-size=\"14.00\">mse = 8.317</text>\n<text text-anchor=\"middle\" x=\"1395\" y=\"-423.8\" font-family=\"Helvetica,sans-Serif\" font-size=\"14.00\">samples = 47</text>\n<text text-anchor=\"middle\" x=\"1395\" y=\"-408.8\" font-family=\"Helvetica,sans-Serif\" font-size=\"14.00\">value = 16.419</text>\n</g>\n<!-- 8&#45;&gt;14 -->\n<g id=\"edge36\" class=\"edge\">\n<title>8&#45;&gt;14</title>\n<path fill=\"none\" stroke=\"black\" d=\"M1262.3,-508.77C1283.72,-497.03 1308.59,-483.38 1330.98,-471.11\"/>\n<polygon fill=\"black\" stroke=\"black\" points=\"1332.67,-474.18 1339.75,-466.3 1329.3,-468.04 1332.67,-474.18\"/>\n</g>\n<!-- 21 -->\n<g id=\"node33\" class=\"node\">\n<title>21</title>\n<path fill=\"#fcf0e7\" stroke=\"black\" d=\"M1188,-357.5C1188,-357.5 1106,-357.5 1106,-357.5 1100,-357.5 1094,-351.5 1094,-345.5 1094,-345.5 1094,-316.5 1094,-316.5 1094,-310.5 1100,-304.5 1106,-304.5 1106,-304.5 1188,-304.5 1188,-304.5 1194,-304.5 1200,-310.5 1200,-316.5 1200,-316.5 1200,-345.5 1200,-345.5 1200,-351.5 1194,-357.5 1188,-357.5\"/>\n<text text-anchor=\"middle\" x=\"1147\" y=\"-342.3\" font-family=\"Helvetica,sans-Serif\" font-size=\"14.00\">mse = 2.871</text>\n<text text-anchor=\"middle\" x=\"1147\" y=\"-327.3\" font-family=\"Helvetica,sans-Serif\" font-size=\"14.00\">samples = 11</text>\n<text text-anchor=\"middle\" x=\"1147\" y=\"-312.3\" font-family=\"Helvetica,sans-Serif\" font-size=\"14.00\">value = 15.082</text>\n</g>\n<!-- 13&#45;&gt;21 -->\n<g id=\"edge32\" class=\"edge\">\n<title>13&#45;&gt;21</title>\n<path fill=\"none\" stroke=\"black\" d=\"M1188.87,-400.88C1182.12,-389.78 1174.58,-377.37 1167.78,-366.18\"/>\n<polygon fill=\"black\" stroke=\"black\" points=\"1170.7,-364.25 1162.51,-357.52 1164.72,-367.88 1170.7,-364.25\"/>\n</g>\n<!-- 22 -->\n<g id=\"node34\" class=\"node\">\n<title>22</title>\n<path fill=\"#fffdfc\" stroke=\"black\" d=\"M1312,-365C1312,-365 1230,-365 1230,-365 1224,-365 1218,-359 1218,-353 1218,-353 1218,-309 1218,-309 1218,-303 1224,-297 1230,-297 1230,-297 1312,-297 1312,-297 1318,-297 1324,-303 1324,-309 1324,-309 1324,-353 1324,-353 1324,-359 1318,-365 1312,-365\"/>\n<text text-anchor=\"middle\" x=\"1271\" y=\"-349.8\" font-family=\"Helvetica,sans-Serif\" font-size=\"14.00\">NOX &lt;= 0.603</text>\n<text text-anchor=\"middle\" x=\"1271\" y=\"-334.8\" font-family=\"Helvetica,sans-Serif\" font-size=\"14.00\">mse = 9.12</text>\n<text text-anchor=\"middle\" x=\"1271\" y=\"-319.8\" font-family=\"Helvetica,sans-Serif\" font-size=\"14.00\">samples = 37</text>\n<text text-anchor=\"middle\" x=\"1271\" y=\"-304.8\" font-family=\"Helvetica,sans-Serif\" font-size=\"14.00\">value = 10.797</text>\n</g>\n<!-- 13&#45;&gt;22 -->\n<g id=\"edge33\" class=\"edge\">\n<title>13&#45;&gt;22</title>\n<path fill=\"none\" stroke=\"black\" d=\"M1229.13,-400.88C1234.33,-392.33 1239.99,-383.01 1245.43,-374.07\"/>\n<polygon fill=\"black\" stroke=\"black\" points=\"1248.56,-375.66 1250.76,-365.3 1242.57,-372.03 1248.56,-375.66\"/>\n</g>\n<!-- 27 -->\n<g id=\"node35\" class=\"node\">\n<title>27</title>\n<path fill=\"#fae9dd\" stroke=\"black\" d=\"M1250,-253.5C1250,-253.5 1168,-253.5 1168,-253.5 1162,-253.5 1156,-247.5 1156,-241.5 1156,-241.5 1156,-212.5 1156,-212.5 1156,-206.5 1162,-200.5 1168,-200.5 1168,-200.5 1250,-200.5 1250,-200.5 1256,-200.5 1262,-206.5 1262,-212.5 1262,-212.5 1262,-241.5 1262,-241.5 1262,-247.5 1256,-253.5 1250,-253.5\"/>\n<text text-anchor=\"middle\" x=\"1209\" y=\"-238.3\" font-family=\"Helvetica,sans-Serif\" font-size=\"14.00\">mse = 0.429</text>\n<text text-anchor=\"middle\" x=\"1209\" y=\"-223.3\" font-family=\"Helvetica,sans-Serif\" font-size=\"14.00\">samples = 3</text>\n<text text-anchor=\"middle\" x=\"1209\" y=\"-208.3\" font-family=\"Helvetica,sans-Serif\" font-size=\"14.00\">value = 17.133</text>\n</g>\n<!-- 22&#45;&gt;27 -->\n<g id=\"edge34\" class=\"edge\">\n<title>22&#45;&gt;27</title>\n<path fill=\"none\" stroke=\"black\" d=\"M1250.87,-296.88C1244.12,-285.78 1236.58,-273.37 1229.78,-262.18\"/>\n<polygon fill=\"black\" stroke=\"black\" points=\"1232.7,-260.25 1224.51,-253.52 1226.72,-263.88 1232.7,-260.25\"/>\n</g>\n<!-- 28 -->\n<g id=\"node36\" class=\"node\">\n<title>28</title>\n<path fill=\"#ffffff\" stroke=\"black\" d=\"M1374,-253.5C1374,-253.5 1292,-253.5 1292,-253.5 1286,-253.5 1280,-247.5 1280,-241.5 1280,-241.5 1280,-212.5 1280,-212.5 1280,-206.5 1286,-200.5 1292,-200.5 1292,-200.5 1374,-200.5 1374,-200.5 1380,-200.5 1386,-206.5 1386,-212.5 1386,-212.5 1386,-241.5 1386,-241.5 1386,-247.5 1380,-253.5 1374,-253.5\"/>\n<text text-anchor=\"middle\" x=\"1333\" y=\"-238.3\" font-family=\"Helvetica,sans-Serif\" font-size=\"14.00\">mse = 6.032</text>\n<text text-anchor=\"middle\" x=\"1333\" y=\"-223.3\" font-family=\"Helvetica,sans-Serif\" font-size=\"14.00\">samples = 34</text>\n<text text-anchor=\"middle\" x=\"1333\" y=\"-208.3\" font-family=\"Helvetica,sans-Serif\" font-size=\"14.00\">value = 10.238</text>\n</g>\n<!-- 22&#45;&gt;28 -->\n<g id=\"edge35\" class=\"edge\">\n<title>22&#45;&gt;28</title>\n<path fill=\"none\" stroke=\"black\" d=\"M1291.13,-296.88C1297.88,-285.78 1305.42,-273.37 1312.22,-262.18\"/>\n<polygon fill=\"black\" stroke=\"black\" points=\"1315.28,-263.88 1317.49,-253.52 1309.3,-260.25 1315.28,-263.88\"/>\n</g>\n<!-- 23 -->\n<g id=\"node38\" class=\"node\">\n<title>23</title>\n<path fill=\"#f9e4d4\" stroke=\"black\" d=\"M1436,-357.5C1436,-357.5 1354,-357.5 1354,-357.5 1348,-357.5 1342,-351.5 1342,-345.5 1342,-345.5 1342,-316.5 1342,-316.5 1342,-310.5 1348,-304.5 1354,-304.5 1354,-304.5 1436,-304.5 1436,-304.5 1442,-304.5 1448,-310.5 1448,-316.5 1448,-316.5 1448,-345.5 1448,-345.5 1448,-351.5 1442,-357.5 1436,-357.5\"/>\n<text text-anchor=\"middle\" x=\"1395\" y=\"-342.3\" font-family=\"Helvetica,sans-Serif\" font-size=\"14.00\">mse = 6.193</text>\n<text text-anchor=\"middle\" x=\"1395\" y=\"-327.3\" font-family=\"Helvetica,sans-Serif\" font-size=\"14.00\">samples = 16</text>\n<text text-anchor=\"middle\" x=\"1395\" y=\"-312.3\" font-family=\"Helvetica,sans-Serif\" font-size=\"14.00\">value = 18.831</text>\n</g>\n<!-- 14&#45;&gt;23 -->\n<g id=\"edge37\" class=\"edge\">\n<title>14&#45;&gt;23</title>\n<path fill=\"none\" stroke=\"black\" d=\"M1395,-400.88C1395,-390.33 1395,-378.6 1395,-367.85\"/>\n<polygon fill=\"black\" stroke=\"black\" points=\"1398.5,-367.52 1395,-357.52 1391.5,-367.52 1398.5,-367.52\"/>\n</g>\n<!-- 24 -->\n<g id=\"node39\" class=\"node\">\n<title>24</title>\n<path fill=\"#fcefe6\" stroke=\"black\" d=\"M1560,-357.5C1560,-357.5 1478,-357.5 1478,-357.5 1472,-357.5 1466,-351.5 1466,-345.5 1466,-345.5 1466,-316.5 1466,-316.5 1466,-310.5 1472,-304.5 1478,-304.5 1478,-304.5 1560,-304.5 1560,-304.5 1566,-304.5 1572,-310.5 1572,-316.5 1572,-316.5 1572,-345.5 1572,-345.5 1572,-351.5 1566,-357.5 1560,-357.5\"/>\n<text text-anchor=\"middle\" x=\"1519\" y=\"-342.3\" font-family=\"Helvetica,sans-Serif\" font-size=\"14.00\">mse = 4.861</text>\n<text text-anchor=\"middle\" x=\"1519\" y=\"-327.3\" font-family=\"Helvetica,sans-Serif\" font-size=\"14.00\">samples = 31</text>\n<text text-anchor=\"middle\" x=\"1519\" y=\"-312.3\" font-family=\"Helvetica,sans-Serif\" font-size=\"14.00\">value = 15.174</text>\n</g>\n<!-- 14&#45;&gt;24 -->\n<g id=\"edge38\" class=\"edge\">\n<title>14&#45;&gt;24</title>\n<path fill=\"none\" stroke=\"black\" d=\"M1435.26,-400.88C1449.7,-389.01 1465.94,-375.65 1480.25,-363.88\"/>\n<polygon fill=\"black\" stroke=\"black\" points=\"1482.48,-366.58 1487.98,-357.52 1478.03,-361.17 1482.48,-366.58\"/>\n</g>\n</g>\n</svg>\n",
      "text/plain": [
       "<graphviz.files.Source at 0x7f22b33074d0>"
      ]
     },
     "execution_count": 19,
     "metadata": {},
     "output_type": "execute_result"
    },
    {
     "data": {
      "text/plain": [
       "<Figure size 1440x1440 with 0 Axes>"
      ]
     },
     "metadata": {},
     "output_type": "display_data"
    }
   ],
   "source": [
    "plt.figure(figsize = (20,20))\n",
    "dot_data = tree.export_graphviz(model, out_file=None, \n",
    "                                feature_names=names,  \n",
    "                                class_names=boston_dataset.target,\n",
    "                                filled=True, rounded= True)\n",
    "\n",
    "# Draw graph\n",
    "graph = graphviz.Source(dot_data, format=\"png\") \n",
    "graph"
   ]
  },
  {
   "cell_type": "markdown",
   "metadata": {
    "papermill": {
     "duration": 0.273484,
     "end_time": "2021-04-17T17:34:44.041519",
     "exception": false,
     "start_time": "2021-04-17T17:34:43.768035",
     "status": "completed"
    },
    "tags": []
   },
   "source": [
    "We'll learn how to custom paint your graph from the default settings (coming soon)"
   ]
  },
  {
   "cell_type": "code",
   "execution_count": null,
   "metadata": {
    "papermill": {
     "duration": 0.271069,
     "end_time": "2021-04-17T17:34:44.586275",
     "exception": false,
     "start_time": "2021-04-17T17:34:44.315206",
     "status": "completed"
    },
    "tags": []
   },
   "outputs": [],
   "source": []
  },
  {
   "cell_type": "code",
   "execution_count": 20,
   "metadata": {
    "execution": {
     "iopub.execute_input": "2021-04-17T17:34:45.143576Z",
     "iopub.status.busy": "2021-04-17T17:34:45.142904Z",
     "iopub.status.idle": "2021-04-17T17:34:45.146507Z",
     "shell.execute_reply": "2021-04-17T17:34:45.147183Z"
    },
    "papermill": {
     "duration": 0.284954,
     "end_time": "2021-04-17T17:34:45.147364",
     "exception": false,
     "start_time": "2021-04-17T17:34:44.862410",
     "status": "completed"
    },
    "tags": []
   },
   "outputs": [
    {
     "data": {
      "text/plain": [
       "\"import pydotplus\\ngraph = pydotplus.graph_from_dot_data(dot_data)\\nnodes = graph.get_node_list()\\n\\nfor node in nodes:\\n    if node.get_label():\\n        print(node.get_label())\\n        node.set_fillcolor('yellow')\\n        \\n\\ngraph.write_png('colored_tree.png')\\n\""
      ]
     },
     "execution_count": 20,
     "metadata": {},
     "output_type": "execute_result"
    }
   ],
   "source": [
    "\"\"\"import pydotplus\n",
    "graph = pydotplus.graph_from_dot_data(dot_data)\n",
    "nodes = graph.get_node_list()\n",
    "\n",
    "for node in nodes:\n",
    "    if node.get_label():\n",
    "        print(node.get_label())\n",
    "        node.set_fillcolor('yellow')\n",
    "        \n",
    "\n",
    "graph.write_png('colored_tree.png')\n",
    "\"\"\""
   ]
  },
  {
   "cell_type": "code",
   "execution_count": null,
   "metadata": {
    "papermill": {
     "duration": 0.271316,
     "end_time": "2021-04-17T17:34:45.689813",
     "exception": false,
     "start_time": "2021-04-17T17:34:45.418497",
     "status": "completed"
    },
    "tags": []
   },
   "outputs": [],
   "source": []
  },
  {
   "cell_type": "markdown",
   "metadata": {
    "papermill": {
     "duration": 0.274084,
     "end_time": "2021-04-17T17:34:46.236139",
     "exception": false,
     "start_time": "2021-04-17T17:34:45.962055",
     "status": "completed"
    },
    "tags": []
   },
   "source": [
    "### 2. Regressions"
   ]
  },
  {
   "cell_type": "markdown",
   "metadata": {
    "papermill": {
     "duration": 0.272207,
     "end_time": "2021-04-17T17:34:46.780109",
     "exception": false,
     "start_time": "2021-04-17T17:34:46.507902",
     "status": "completed"
    },
    "tags": []
   },
   "source": [
    "Regression is a problem where you need to find a function that maps some features or variables to others sufficiently well.<br>\n",
    "Dependent features are called the dependent variables. <br>\n",
    "Independent features are called the independent variables. <br>\n",
    "\n",
    "Regression is useful to forecast a response using a set of predictors. <br>\n",
    "When implementing linear regression of some dependent variable y on set of independent variables x, 𝑦 = 𝛽₀ + 𝛽₁𝑥₁ + ⋯ + 𝛽ᵣ𝑥ᵣ + 𝜀. is called the regression equation. 𝜀 is the random error."
   ]
  },
  {
   "cell_type": "markdown",
   "metadata": {
    "papermill": {
     "duration": 0.27285,
     "end_time": "2021-04-17T17:34:47.330414",
     "exception": false,
     "start_time": "2021-04-17T17:34:47.057564",
     "status": "completed"
    },
    "tags": []
   },
   "source": [
    "Useful Resources -> <br>\n",
    "\n",
    "* https://www.maths.usyd.edu.au/u/UG/SM/STAT3022/r/current/Lecture/lecture03_2020JC.html#1\n",
    "* https://towardsdatascience.com/maximum-likelihood-estimation-explained-normal-distribution-6207b322e47f#:~:text=%E2%80%9CA%20method%20of%20estimating%20the,observed%20data%20is%20most%20probable.%E2%80%9D&text=By%20assuming%20normality%2C%20we%20simply,the%20popular%20Gaussian%20bell%20curve.\n",
    "* https://online.stat.psu.edu/stat462/node/207/\n",
    "* https://psychscenehub.com/psychpedia/odds-ratio-2/\n",
    "* http://statkat.com/stat-tests/logistic-regression.php#:~:text=Logistic%20regression%20analysis%20tests%20the,%3D%CE%B2K%3D0"
   ]
  },
  {
   "cell_type": "markdown",
   "metadata": {
    "papermill": {
     "duration": 0.272998,
     "end_time": "2021-04-17T17:34:47.875149",
     "exception": false,
     "start_time": "2021-04-17T17:34:47.602151",
     "status": "completed"
    },
    "tags": []
   },
   "source": [
    "Regression analysis involves identifying the relationship between a dependent variable and one or more independent variables. <br>\n",
    "A model of the relationship is hypothesized, and estimates of the parameter values are used to develop an estimated regression equation. <br>\n",
    "<br><br>\n",
    "**Regression Model** <br>\n",
    "In simple linear regression, the model used to describe the relationship between a single dependent variable y and a single independent variable x is y = β0 + β1x + ε. <br>\n",
    "β0 and β1 are referred to as the model parameters,and ε is a probabilistic error term that accounts for the variability in y that cannot be explained by the linear relationship with x <br><br>\n",
    "The difference between the observed value of y and the value of y predicted by the estimated regression equation is called a residual.<br>"
   ]
  },
  {
   "cell_type": "markdown",
   "metadata": {
    "papermill": {
     "duration": 0.271786,
     "end_time": "2021-04-17T17:34:48.418066",
     "exception": false,
     "start_time": "2021-04-17T17:34:48.146280",
     "status": "completed"
    },
    "tags": []
   },
   "source": [
    "**Key Assumptions ->** <br>\n",
    "* ε is a random variable with an expected value of 0\n",
    "* the variance of ε is the same for all values of x\n",
    "* the values of ε are independent,\n",
    "* ε is a normally distributed random variable."
   ]
  },
  {
   "cell_type": "markdown",
   "metadata": {
    "papermill": {
     "duration": 0.273766,
     "end_time": "2021-04-17T17:34:48.963487",
     "exception": false,
     "start_time": "2021-04-17T17:34:48.689721",
     "status": "completed"
    },
    "tags": []
   },
   "source": [
    "**Residual Analysis ->** <br><br>\n",
    "The analysis of residuals plays an important role in validating the regression model. <br>\n",
    "If the error term satisfies the above 4 assumptions, then the regression model is valid. "
   ]
  },
  {
   "cell_type": "markdown",
   "metadata": {
    "papermill": {
     "duration": 0.271382,
     "end_time": "2021-04-17T17:34:49.507551",
     "exception": false,
     "start_time": "2021-04-17T17:34:49.236169",
     "status": "completed"
    },
    "tags": []
   },
   "source": [
    "So-called dummy variables are used to represent qualitative variables in regression analysis. In general, k - 1 dummy variables are needed to model the effect of a qualitative variable that may assume k values."
   ]
  },
  {
   "cell_type": "markdown",
   "metadata": {
    "papermill": {
     "duration": 0.277411,
     "end_time": "2021-04-17T17:34:50.055949",
     "exception": false,
     "start_time": "2021-04-17T17:34:49.778538",
     "status": "completed"
    },
    "tags": []
   },
   "source": [
    "An F-Test based on MSR / MSE can be used to test the statistical significance of the overall relationship between the dependent variable and the set of independent variables. <br>\n",
    "Large values of F support the conclusion that the overall is statistically significant. "
   ]
  },
  {
   "cell_type": "markdown",
   "metadata": {
    "papermill": {
     "duration": 0.273738,
     "end_time": "2021-04-17T17:34:50.645679",
     "exception": false,
     "start_time": "2021-04-17T17:34:50.371941",
     "status": "completed"
    },
    "tags": []
   },
   "source": [
    "**Key Terms ->** <br><br><br>\n",
    "* Coefficient of Determination -> R^2, tells you the amount of variation in y based on the dependence on x. Larger R^2 indicates a better fit and means that the model can \n",
    "* Coefficient of Correlation -> \n",
    "* SSE ->\n",
    "* SSR -> Sum of Squared Residuals\n",
    "* SST -> \n",
    "* Error Term ε -> \n",
    "* Regression Equation -> \n",
    "* Correlation Equation -> \n",
    "* Estimated Regression Equation -> \n",
    "* Regression Model ->\n",
    "* F Statistic -> \n",
    "* MSE\n",
    "* MSR\n",
    "* Dummy Variable -> A variable that takes values of 0 or 1 and is used to consider the effect of qualitative variables in a regression model\n",
    "* Correlation vs Causation -> \n",
    "* Standard Error ->\n",
    "* Confidence Interval Estimate -> The interval estimate of the mean value of y for a given value of x.\n",
    "* OLS -> Method of Ordinary Least Squares. To get the best model weights, we use the method of OLS to minimize the SSR. "
   ]
  },
  {
   "cell_type": "markdown",
   "metadata": {
    "papermill": {
     "duration": 0.283087,
     "end_time": "2021-04-17T17:34:51.212491",
     "exception": false,
     "start_time": "2021-04-17T17:34:50.929404",
     "status": "completed"
    },
    "tags": []
   },
   "source": [
    "1. Linear Regression Analysis"
   ]
  },
  {
   "cell_type": "markdown",
   "metadata": {
    "papermill": {
     "duration": 0.271889,
     "end_time": "2021-04-17T17:34:51.756920",
     "exception": false,
     "start_time": "2021-04-17T17:34:51.485031",
     "status": "completed"
    },
    "tags": []
   },
   "source": [
    "Regression tries to search for relationships among variables. "
   ]
  },
  {
   "cell_type": "code",
   "execution_count": null,
   "metadata": {
    "papermill": {
     "duration": 0.272482,
     "end_time": "2021-04-17T17:34:52.304309",
     "exception": false,
     "start_time": "2021-04-17T17:34:52.031827",
     "status": "completed"
    },
    "tags": []
   },
   "outputs": [],
   "source": []
  },
  {
   "cell_type": "code",
   "execution_count": 21,
   "metadata": {
    "execution": {
     "iopub.execute_input": "2021-04-17T17:34:52.851012Z",
     "iopub.status.busy": "2021-04-17T17:34:52.850344Z",
     "iopub.status.idle": "2021-04-17T17:34:52.854228Z",
     "shell.execute_reply": "2021-04-17T17:34:52.854729Z"
    },
    "papermill": {
     "duration": 0.279133,
     "end_time": "2021-04-17T17:34:52.854892",
     "exception": false,
     "start_time": "2021-04-17T17:34:52.575759",
     "status": "completed"
    },
    "tags": []
   },
   "outputs": [],
   "source": [
    "from sklearn.linear_model import LinearRegression"
   ]
  },
  {
   "cell_type": "code",
   "execution_count": 22,
   "metadata": {
    "execution": {
     "iopub.execute_input": "2021-04-17T17:34:53.402440Z",
     "iopub.status.busy": "2021-04-17T17:34:53.401805Z",
     "iopub.status.idle": "2021-04-17T17:34:53.406128Z",
     "shell.execute_reply": "2021-04-17T17:34:53.406661Z"
    },
    "papermill": {
     "duration": 0.28013,
     "end_time": "2021-04-17T17:34:53.406864",
     "exception": false,
     "start_time": "2021-04-17T17:34:53.126734",
     "status": "completed"
    },
    "tags": []
   },
   "outputs": [],
   "source": [
    "X = np.array([5, 15, 25, 35, 45, 55]).reshape((-1, 1))\n",
    "y = np.array([5, 20, 14, 32, 22, 38])"
   ]
  },
  {
   "cell_type": "code",
   "execution_count": 23,
   "metadata": {
    "execution": {
     "iopub.execute_input": "2021-04-17T17:34:53.954311Z",
     "iopub.status.busy": "2021-04-17T17:34:53.953709Z",
     "iopub.status.idle": "2021-04-17T17:34:53.976905Z",
     "shell.execute_reply": "2021-04-17T17:34:53.976173Z"
    },
    "papermill": {
     "duration": 0.298572,
     "end_time": "2021-04-17T17:34:53.977041",
     "exception": false,
     "start_time": "2021-04-17T17:34:53.678469",
     "status": "completed"
    },
    "tags": []
   },
   "outputs": [
    {
     "name": "stdout",
     "output_type": "stream",
     "text": [
      "Coefficient of Determination ->  0.7158756137479542\n",
      "Intercept ->  5.633333333333329\n",
      "Slope ->  [0.54]\n"
     ]
    }
   ],
   "source": [
    "model = LinearRegression()\n",
    "\n",
    "model.fit(X,y)\n",
    "\n",
    "r2_score = model.score(X,y)\n",
    "print(\"Coefficient of Determination -> \" , r2_score)\n",
    "\n",
    "print(\"Intercept -> \", model.intercept_)\n",
    "print(\"Slope -> \", model.coef_)"
   ]
  },
  {
   "cell_type": "markdown",
   "metadata": {
    "papermill": {
     "duration": 0.272341,
     "end_time": "2021-04-17T17:34:54.522730",
     "exception": false,
     "start_time": "2021-04-17T17:34:54.250389",
     "status": "completed"
    },
    "tags": []
   },
   "source": [
    "2. Multiple Regression Analysis"
   ]
  },
  {
   "cell_type": "markdown",
   "metadata": {
    "papermill": {
     "duration": 0.275586,
     "end_time": "2021-04-17T17:34:55.071801",
     "exception": false,
     "start_time": "2021-04-17T17:34:54.796215",
     "status": "completed"
    },
    "tags": []
   },
   "source": [
    "Multiple or multivariate linear regression is linear regression with two or more independent variables. <br>\n",
    "Polynomial Regression is considered a generalized case of linear regression. You assume polynomial dependence between the output and the input.  Which means, the regression equation can now include non-linear terms. "
   ]
  },
  {
   "cell_type": "code",
   "execution_count": 24,
   "metadata": {
    "execution": {
     "iopub.execute_input": "2021-04-17T17:34:55.645799Z",
     "iopub.status.busy": "2021-04-17T17:34:55.645037Z",
     "iopub.status.idle": "2021-04-17T17:34:55.648832Z",
     "shell.execute_reply": "2021-04-17T17:34:55.648024Z"
    },
    "papermill": {
     "duration": 0.292997,
     "end_time": "2021-04-17T17:34:55.648983",
     "exception": false,
     "start_time": "2021-04-17T17:34:55.355986",
     "status": "completed"
    },
    "tags": []
   },
   "outputs": [
    {
     "name": "stdout",
     "output_type": "stream",
     "text": [
      "Coefficient of Determination ->  0.8615939258756775\n",
      "Model Intercept =>  5.52257927519819\n",
      "Slope =>  [0.44706965 0.25502548]\n"
     ]
    }
   ],
   "source": [
    "x = [[0, 1], [5, 1], [15, 2], [25, 5], [35, 11], [45, 15], [55, 34], [60, 35]]\n",
    "y = [4, 5, 20, 14, 32, 22, 38, 43]\n",
    "\n",
    "X = np.array(x)\n",
    "y = np.array(y)\n",
    "\n",
    "\n",
    "model = LinearRegression()\n",
    "\n",
    "model.fit(X,y)\n",
    "\n",
    "\n",
    "r2_score = model.score(X,y)\n",
    "\n",
    "print(\"Coefficient of Determination -> \", r2_score)\n",
    "\n",
    "print(\"Model Intercept => \", model.intercept_)\n",
    "\n",
    "print(\"Slope => \", model.coef_)"
   ]
  },
  {
   "cell_type": "markdown",
   "metadata": {
    "papermill": {
     "duration": 0.275322,
     "end_time": "2021-04-17T17:34:56.202775",
     "exception": false,
     "start_time": "2021-04-17T17:34:55.927453",
     "status": "completed"
    },
    "tags": []
   },
   "source": [
    "#### Linear Regression using statsmodels"
   ]
  },
  {
   "cell_type": "code",
   "execution_count": 25,
   "metadata": {
    "execution": {
     "iopub.execute_input": "2021-04-17T17:34:56.754890Z",
     "iopub.status.busy": "2021-04-17T17:34:56.754223Z",
     "iopub.status.idle": "2021-04-17T17:34:57.554714Z",
     "shell.execute_reply": "2021-04-17T17:34:57.554135Z"
    },
    "papermill": {
     "duration": 1.077973,
     "end_time": "2021-04-17T17:34:57.554917",
     "exception": false,
     "start_time": "2021-04-17T17:34:56.476944",
     "status": "completed"
    },
    "tags": []
   },
   "outputs": [],
   "source": [
    "import statsmodels.api as sm"
   ]
  },
  {
   "cell_type": "code",
   "execution_count": 26,
   "metadata": {
    "execution": {
     "iopub.execute_input": "2021-04-17T17:34:58.113829Z",
     "iopub.status.busy": "2021-04-17T17:34:58.113048Z",
     "iopub.status.idle": "2021-04-17T17:34:58.139904Z",
     "shell.execute_reply": "2021-04-17T17:34:58.138636Z"
    },
    "papermill": {
     "duration": 0.310463,
     "end_time": "2021-04-17T17:34:58.140171",
     "exception": false,
     "start_time": "2021-04-17T17:34:57.829708",
     "status": "completed"
    },
    "tags": []
   },
   "outputs": [
    {
     "name": "stdout",
     "output_type": "stream",
     "text": [
      "                            OLS Regression Results                            \n",
      "==============================================================================\n",
      "Dep. Variable:                      y   R-squared:                       0.862\n",
      "Model:                            OLS   Adj. R-squared:                  0.806\n",
      "Method:                 Least Squares   F-statistic:                     15.56\n",
      "Date:                Sat, 17 Apr 2021   Prob (F-statistic):            0.00713\n",
      "Time:                        17:34:58   Log-Likelihood:                -24.316\n",
      "No. Observations:                   8   AIC:                             54.63\n",
      "Df Residuals:                       5   BIC:                             54.87\n",
      "Df Model:                           2                                         \n",
      "Covariance Type:            nonrobust                                         \n",
      "==============================================================================\n",
      "                 coef    std err          t      P>|t|      [0.025      0.975]\n",
      "------------------------------------------------------------------------------\n",
      "const          5.5226      4.431      1.246      0.268      -5.867      16.912\n",
      "x1             0.4471      0.285      1.567      0.178      -0.286       1.180\n",
      "x2             0.2550      0.453      0.563      0.598      -0.910       1.420\n",
      "==============================================================================\n",
      "Omnibus:                        0.561   Durbin-Watson:                   3.268\n",
      "Prob(Omnibus):                  0.755   Jarque-Bera (JB):                0.534\n",
      "Skew:                           0.380   Prob(JB):                        0.766\n",
      "Kurtosis:                       1.987   Cond. No.                         80.1\n",
      "==============================================================================\n",
      "\n",
      "Notes:\n",
      "[1] Standard Errors assume that the covariance matrix of the errors is correctly specified.\n"
     ]
    },
    {
     "name": "stderr",
     "output_type": "stream",
     "text": [
      "/opt/conda/lib/python3.7/site-packages/scipy/stats/stats.py:1604: UserWarning: kurtosistest only valid for n>=20 ... continuing anyway, n=8\n",
      "  \"anyway, n=%i\" % int(n))\n"
     ]
    }
   ],
   "source": [
    "x = [[0,1], [5,1], [15,2], [25,5], [35,11], [45,15], [55,34], [60,35]]\n",
    "y = [4,5,20,14,32,22,38,43]\n",
    "\n",
    "x, y = np.array(x), np.array(y)\n",
    "\n",
    "\n",
    "x = sm.add_constant(x)\n",
    "\n",
    "model = sm.OLS(y, x)\n",
    "\n",
    "\n",
    "results = model.fit()\n",
    "\n",
    "print(results.summary())"
   ]
  },
  {
   "cell_type": "code",
   "execution_count": 27,
   "metadata": {
    "execution": {
     "iopub.execute_input": "2021-04-17T17:34:58.699305Z",
     "iopub.status.busy": "2021-04-17T17:34:58.698627Z",
     "iopub.status.idle": "2021-04-17T17:34:58.703583Z",
     "shell.execute_reply": "2021-04-17T17:34:58.702895Z"
    },
    "papermill": {
     "duration": 0.28542,
     "end_time": "2021-04-17T17:34:58.703790",
     "exception": false,
     "start_time": "2021-04-17T17:34:58.418370",
     "status": "completed"
    },
    "tags": []
   },
   "outputs": [
    {
     "name": "stdout",
     "output_type": "stream",
     "text": [
      "Coefficient of Determination ->  0.8615939258756776\n",
      "Adjusted Coefficient of Determination =>  0.8062314962259487\n",
      "Regression coefficients =>  [5.52257928 0.44706965 0.25502548]\n"
     ]
    }
   ],
   "source": [
    "print(\"Coefficient of Determination -> \", results.rsquared)\n",
    "\n",
    "print(\"Adjusted Coefficient of Determination => \", results.rsquared_adj)\n",
    "\n",
    "print(\"Regression coefficients => \", results.params)"
   ]
  },
  {
   "cell_type": "markdown",
   "metadata": {
    "papermill": {
     "duration": 0.277455,
     "end_time": "2021-04-17T17:34:59.259776",
     "exception": false,
     "start_time": "2021-04-17T17:34:58.982321",
     "status": "completed"
    },
    "tags": []
   },
   "source": [
    "**(Bonus or Optional) Polynomial Regression with Scikit-Learn** <br>\n",
    "In polynomial regression, you need to transform the inputs to include non-linear terms."
   ]
  },
  {
   "cell_type": "code",
   "execution_count": 28,
   "metadata": {
    "execution": {
     "iopub.execute_input": "2021-04-17T17:34:59.814040Z",
     "iopub.status.busy": "2021-04-17T17:34:59.813194Z",
     "iopub.status.idle": "2021-04-17T17:34:59.816404Z",
     "shell.execute_reply": "2021-04-17T17:34:59.815824Z"
    },
    "papermill": {
     "duration": 0.281927,
     "end_time": "2021-04-17T17:34:59.816545",
     "exception": false,
     "start_time": "2021-04-17T17:34:59.534618",
     "status": "completed"
    },
    "tags": []
   },
   "outputs": [],
   "source": [
    "from sklearn.preprocessing import PolynomialFeatures"
   ]
  },
  {
   "cell_type": "code",
   "execution_count": 29,
   "metadata": {
    "execution": {
     "iopub.execute_input": "2021-04-17T17:35:00.380132Z",
     "iopub.status.busy": "2021-04-17T17:35:00.379074Z",
     "iopub.status.idle": "2021-04-17T17:35:00.384023Z",
     "shell.execute_reply": "2021-04-17T17:35:00.385022Z"
    },
    "papermill": {
     "duration": 0.291734,
     "end_time": "2021-04-17T17:35:00.385260",
     "exception": false,
     "start_time": "2021-04-17T17:35:00.093526",
     "status": "completed"
    },
    "tags": []
   },
   "outputs": [
    {
     "name": "stdout",
     "output_type": "stream",
     "text": [
      "Coefficient of Determination =>  0.8908516262498563\n",
      "Intercept ->  21.37232142857144\n",
      "Coefficients =>  [-1.32357143  0.02839286]\n"
     ]
    }
   ],
   "source": [
    "x = np.array([5, 15, 25, 35, 45, 55]).reshape((-1, 1))\n",
    "y = np.array([15, 11, 2, 8, 25, 32])\n",
    "\n",
    "\n",
    "transformer = PolynomialFeatures(degree = 2, include_bias = False)\n",
    "\n",
    "x = transformer.fit_transform(x)\n",
    "\n",
    "model = LinearRegression().fit(x,y)\n",
    "\n",
    "r2_score = model.score(x,y)\n",
    "\n",
    "print(\"Coefficient of Determination => \", r2_score)\n",
    "\n",
    "print(\"Intercept -> \", model.intercept_)\n",
    "print(\"Coefficients => \", model.coef_)"
   ]
  },
  {
   "cell_type": "markdown",
   "metadata": {
    "papermill": {
     "duration": 0.282625,
     "end_time": "2021-04-17T17:35:00.943875",
     "exception": false,
     "start_time": "2021-04-17T17:35:00.661250",
     "status": "completed"
    },
    "tags": []
   },
   "source": [
    "Neither regression nor correlation analyses can be interpreted as establishing cause-and-effect relationships. <br><br> They can indicate only how or to what extent variables are associated with each other.<br><br> The correlation coefficient measures only the degree of linear association between two variables. Any conclusions about a cause-and-effect relationship must be based on the judgment of the analyst."
   ]
  },
  {
   "cell_type": "markdown",
   "metadata": {
    "papermill": {
     "duration": 0.316946,
     "end_time": "2021-04-17T17:35:01.537351",
     "exception": false,
     "start_time": "2021-04-17T17:35:01.220405",
     "status": "completed"
    },
    "tags": []
   },
   "source": [
    "### 3. Chi Square Test"
   ]
  },
  {
   "cell_type": "markdown",
   "metadata": {
    "papermill": {
     "duration": 0.313141,
     "end_time": "2021-04-17T17:35:02.127037",
     "exception": false,
     "start_time": "2021-04-17T17:35:01.813896",
     "status": "completed"
    },
    "tags": []
   },
   "source": [
    "background -> \n",
    "\n",
    "* used to analyze the frequencies of two variables with multiple categories to determine their independency\n",
    "* qualitative variables\n",
    "* nominal data"
   ]
  },
  {
   "cell_type": "markdown",
   "metadata": {
    "papermill": {
     "duration": 0.27525,
     "end_time": "2021-04-17T17:35:02.679821",
     "exception": false,
     "start_time": "2021-04-17T17:35:02.404571",
     "status": "completed"
    },
    "tags": []
   },
   "source": [
    "degrees of freedom for the chi-squared distribution -> (rows -1) * (cols -1)"
   ]
  },
  {
   "cell_type": "markdown",
   "metadata": {
    "papermill": {
     "duration": 0.277605,
     "end_time": "2021-04-17T17:35:03.233193",
     "exception": false,
     "start_time": "2021-04-17T17:35:02.955588",
     "status": "completed"
    },
    "tags": []
   },
   "source": [
    "a. Understanding Contigency Tables (also known as crosstab)"
   ]
  },
  {
   "cell_type": "markdown",
   "metadata": {
    "papermill": {
     "duration": 0.275962,
     "end_time": "2021-04-17T17:35:03.785339",
     "exception": false,
     "start_time": "2021-04-17T17:35:03.509377",
     "status": "completed"
    },
    "tags": []
   },
   "source": [
    "* useful for multiple population proportions\n",
    "* classify sample observations according to two or more characterstics\n",
    "* also called cross-classification table"
   ]
  },
  {
   "cell_type": "markdown",
   "metadata": {
    "papermill": {
     "duration": 0.278908,
     "end_time": "2021-04-17T17:35:04.341683",
     "exception": false,
     "start_time": "2021-04-17T17:35:04.062775",
     "status": "completed"
    },
    "tags": []
   },
   "source": [
    "Contigency tables are the pivot tables obtained by utilizing the categorical variable. The contigency here is whether a variable affects the values of the caegorical variable. <br>\n"
   ]
  },
  {
   "cell_type": "code",
   "execution_count": null,
   "metadata": {
    "papermill": {
     "duration": 0.276142,
     "end_time": "2021-04-17T17:35:04.894678",
     "exception": false,
     "start_time": "2021-04-17T17:35:04.618536",
     "status": "completed"
    },
    "tags": []
   },
   "outputs": [],
   "source": []
  },
  {
   "cell_type": "markdown",
   "metadata": {
    "papermill": {
     "duration": 0.275013,
     "end_time": "2021-04-17T17:35:05.448231",
     "exception": false,
     "start_time": "2021-04-17T17:35:05.173218",
     "status": "completed"
    },
    "tags": []
   },
   "source": [
    "b. Performing Chi-Square Tests"
   ]
  },
  {
   "cell_type": "code",
   "execution_count": null,
   "metadata": {
    "papermill": {
     "duration": 0.2835,
     "end_time": "2021-04-17T17:35:06.006849",
     "exception": false,
     "start_time": "2021-04-17T17:35:05.723349",
     "status": "completed"
    },
    "tags": []
   },
   "outputs": [],
   "source": []
  },
  {
   "cell_type": "markdown",
   "metadata": {
    "papermill": {
     "duration": 0.274169,
     "end_time": "2021-04-17T17:35:06.555574",
     "exception": false,
     "start_time": "2021-04-17T17:35:06.281405",
     "status": "completed"
    },
    "tags": []
   },
   "source": [
    "c. Chi-Square Tests for Feature Selection"
   ]
  },
  {
   "cell_type": "markdown",
   "metadata": {
    "papermill": {
     "duration": 0.282157,
     "end_time": "2021-04-17T17:35:07.112759",
     "exception": false,
     "start_time": "2021-04-17T17:35:06.830602",
     "status": "completed"
    },
    "tags": []
   },
   "source": [
    "**Assumption** -> each cell in the contigency table has expected frequency atleast **5**"
   ]
  },
  {
   "cell_type": "markdown",
   "metadata": {
    "papermill": {
     "duration": 0.274352,
     "end_time": "2021-04-17T17:35:07.664214",
     "exception": false,
     "start_time": "2021-04-17T17:35:07.389862",
     "status": "completed"
    },
    "tags": []
   },
   "source": [
    "![](https://media.geeksforgeeks.org/wp-content/uploads/Capture-214.png)"
   ]
  },
  {
   "cell_type": "markdown",
   "metadata": {
    "papermill": {
     "duration": 0.339671,
     "end_time": "2021-04-17T17:35:08.278560",
     "exception": false,
     "start_time": "2021-04-17T17:35:07.938889",
     "status": "completed"
    },
    "tags": []
   },
   "source": [
    "#### Note:- Used only for Categorical Features."
   ]
  },
  {
   "cell_type": "markdown",
   "metadata": {
    "papermill": {
     "duration": 0.281354,
     "end_time": "2021-04-17T17:35:08.858343",
     "exception": false,
     "start_time": "2021-04-17T17:35:08.576989",
     "status": "completed"
    },
    "tags": []
   },
   "source": [
    "Dataset used -> https://www.kaggle.com/c/cat-in-the-dat"
   ]
  },
  {
   "cell_type": "code",
   "execution_count": 30,
   "metadata": {
    "execution": {
     "iopub.execute_input": "2021-04-17T17:35:09.428110Z",
     "iopub.status.busy": "2021-04-17T17:35:09.427428Z",
     "iopub.status.idle": "2021-04-17T17:35:11.112211Z",
     "shell.execute_reply": "2021-04-17T17:35:11.110982Z"
    },
    "papermill": {
     "duration": 1.971455,
     "end_time": "2021-04-17T17:35:11.112367",
     "exception": false,
     "start_time": "2021-04-17T17:35:09.140912",
     "status": "completed"
    },
    "tags": []
   },
   "outputs": [],
   "source": [
    "from sklearn.feature_selection import SelectKBest \n",
    "from sklearn.feature_selection import chi2 \n",
    "\n",
    "\n",
    "data = pd.read_csv('../input/cat-in-the-dat/train.csv')"
   ]
  },
  {
   "cell_type": "code",
   "execution_count": 31,
   "metadata": {
    "execution": {
     "iopub.execute_input": "2021-04-17T17:35:11.696922Z",
     "iopub.status.busy": "2021-04-17T17:35:11.696018Z",
     "iopub.status.idle": "2021-04-17T17:35:11.699717Z",
     "shell.execute_reply": "2021-04-17T17:35:11.700211Z"
    },
    "papermill": {
     "duration": 0.311735,
     "end_time": "2021-04-17T17:35:11.700380",
     "exception": false,
     "start_time": "2021-04-17T17:35:11.388645",
     "status": "completed"
    },
    "tags": []
   },
   "outputs": [
    {
     "data": {
      "text/html": [
       "<div>\n",
       "<style scoped>\n",
       "    .dataframe tbody tr th:only-of-type {\n",
       "        vertical-align: middle;\n",
       "    }\n",
       "\n",
       "    .dataframe tbody tr th {\n",
       "        vertical-align: top;\n",
       "    }\n",
       "\n",
       "    .dataframe thead th {\n",
       "        text-align: right;\n",
       "    }\n",
       "</style>\n",
       "<table border=\"1\" class=\"dataframe\">\n",
       "  <thead>\n",
       "    <tr style=\"text-align: right;\">\n",
       "      <th></th>\n",
       "      <th>id</th>\n",
       "      <th>bin_0</th>\n",
       "      <th>bin_1</th>\n",
       "      <th>bin_2</th>\n",
       "      <th>bin_3</th>\n",
       "      <th>bin_4</th>\n",
       "      <th>nom_0</th>\n",
       "      <th>nom_1</th>\n",
       "      <th>nom_2</th>\n",
       "      <th>nom_3</th>\n",
       "      <th>...</th>\n",
       "      <th>nom_9</th>\n",
       "      <th>ord_0</th>\n",
       "      <th>ord_1</th>\n",
       "      <th>ord_2</th>\n",
       "      <th>ord_3</th>\n",
       "      <th>ord_4</th>\n",
       "      <th>ord_5</th>\n",
       "      <th>day</th>\n",
       "      <th>month</th>\n",
       "      <th>target</th>\n",
       "    </tr>\n",
       "  </thead>\n",
       "  <tbody>\n",
       "    <tr>\n",
       "      <th>0</th>\n",
       "      <td>0</td>\n",
       "      <td>0</td>\n",
       "      <td>0</td>\n",
       "      <td>0</td>\n",
       "      <td>T</td>\n",
       "      <td>Y</td>\n",
       "      <td>Green</td>\n",
       "      <td>Triangle</td>\n",
       "      <td>Snake</td>\n",
       "      <td>Finland</td>\n",
       "      <td>...</td>\n",
       "      <td>2f4cb3d51</td>\n",
       "      <td>2</td>\n",
       "      <td>Grandmaster</td>\n",
       "      <td>Cold</td>\n",
       "      <td>h</td>\n",
       "      <td>D</td>\n",
       "      <td>kr</td>\n",
       "      <td>2</td>\n",
       "      <td>2</td>\n",
       "      <td>0</td>\n",
       "    </tr>\n",
       "    <tr>\n",
       "      <th>1</th>\n",
       "      <td>1</td>\n",
       "      <td>0</td>\n",
       "      <td>1</td>\n",
       "      <td>0</td>\n",
       "      <td>T</td>\n",
       "      <td>Y</td>\n",
       "      <td>Green</td>\n",
       "      <td>Trapezoid</td>\n",
       "      <td>Hamster</td>\n",
       "      <td>Russia</td>\n",
       "      <td>...</td>\n",
       "      <td>f83c56c21</td>\n",
       "      <td>1</td>\n",
       "      <td>Grandmaster</td>\n",
       "      <td>Hot</td>\n",
       "      <td>a</td>\n",
       "      <td>A</td>\n",
       "      <td>bF</td>\n",
       "      <td>7</td>\n",
       "      <td>8</td>\n",
       "      <td>0</td>\n",
       "    </tr>\n",
       "    <tr>\n",
       "      <th>2</th>\n",
       "      <td>2</td>\n",
       "      <td>0</td>\n",
       "      <td>0</td>\n",
       "      <td>0</td>\n",
       "      <td>F</td>\n",
       "      <td>Y</td>\n",
       "      <td>Blue</td>\n",
       "      <td>Trapezoid</td>\n",
       "      <td>Lion</td>\n",
       "      <td>Russia</td>\n",
       "      <td>...</td>\n",
       "      <td>ae6800dd0</td>\n",
       "      <td>1</td>\n",
       "      <td>Expert</td>\n",
       "      <td>Lava Hot</td>\n",
       "      <td>h</td>\n",
       "      <td>R</td>\n",
       "      <td>Jc</td>\n",
       "      <td>7</td>\n",
       "      <td>2</td>\n",
       "      <td>0</td>\n",
       "    </tr>\n",
       "    <tr>\n",
       "      <th>3</th>\n",
       "      <td>3</td>\n",
       "      <td>0</td>\n",
       "      <td>1</td>\n",
       "      <td>0</td>\n",
       "      <td>F</td>\n",
       "      <td>Y</td>\n",
       "      <td>Red</td>\n",
       "      <td>Trapezoid</td>\n",
       "      <td>Snake</td>\n",
       "      <td>Canada</td>\n",
       "      <td>...</td>\n",
       "      <td>8270f0d71</td>\n",
       "      <td>1</td>\n",
       "      <td>Grandmaster</td>\n",
       "      <td>Boiling Hot</td>\n",
       "      <td>i</td>\n",
       "      <td>D</td>\n",
       "      <td>kW</td>\n",
       "      <td>2</td>\n",
       "      <td>1</td>\n",
       "      <td>1</td>\n",
       "    </tr>\n",
       "    <tr>\n",
       "      <th>4</th>\n",
       "      <td>4</td>\n",
       "      <td>0</td>\n",
       "      <td>0</td>\n",
       "      <td>0</td>\n",
       "      <td>F</td>\n",
       "      <td>N</td>\n",
       "      <td>Red</td>\n",
       "      <td>Trapezoid</td>\n",
       "      <td>Lion</td>\n",
       "      <td>Canada</td>\n",
       "      <td>...</td>\n",
       "      <td>b164b72a7</td>\n",
       "      <td>1</td>\n",
       "      <td>Grandmaster</td>\n",
       "      <td>Freezing</td>\n",
       "      <td>a</td>\n",
       "      <td>R</td>\n",
       "      <td>qP</td>\n",
       "      <td>7</td>\n",
       "      <td>8</td>\n",
       "      <td>0</td>\n",
       "    </tr>\n",
       "  </tbody>\n",
       "</table>\n",
       "<p>5 rows × 25 columns</p>\n",
       "</div>"
      ],
      "text/plain": [
       "   id  bin_0  bin_1  bin_2 bin_3 bin_4  nom_0      nom_1    nom_2    nom_3  \\\n",
       "0   0      0      0      0     T     Y  Green   Triangle    Snake  Finland   \n",
       "1   1      0      1      0     T     Y  Green  Trapezoid  Hamster   Russia   \n",
       "2   2      0      0      0     F     Y   Blue  Trapezoid     Lion   Russia   \n",
       "3   3      0      1      0     F     Y    Red  Trapezoid    Snake   Canada   \n",
       "4   4      0      0      0     F     N    Red  Trapezoid     Lion   Canada   \n",
       "\n",
       "   ...      nom_9 ord_0        ord_1        ord_2 ord_3 ord_4  ord_5 day  \\\n",
       "0  ...  2f4cb3d51     2  Grandmaster         Cold     h     D     kr   2   \n",
       "1  ...  f83c56c21     1  Grandmaster          Hot     a     A     bF   7   \n",
       "2  ...  ae6800dd0     1       Expert     Lava Hot     h     R     Jc   7   \n",
       "3  ...  8270f0d71     1  Grandmaster  Boiling Hot     i     D     kW   2   \n",
       "4  ...  b164b72a7     1  Grandmaster     Freezing     a     R     qP   7   \n",
       "\n",
       "  month target  \n",
       "0     2      0  \n",
       "1     8      0  \n",
       "2     2      0  \n",
       "3     1      1  \n",
       "4     8      0  \n",
       "\n",
       "[5 rows x 25 columns]"
      ]
     },
     "execution_count": 31,
     "metadata": {},
     "output_type": "execute_result"
    }
   ],
   "source": [
    "data.head()"
   ]
  },
  {
   "cell_type": "code",
   "execution_count": 32,
   "metadata": {
    "execution": {
     "iopub.execute_input": "2021-04-17T17:35:12.271420Z",
     "iopub.status.busy": "2021-04-17T17:35:12.270770Z",
     "iopub.status.idle": "2021-04-17T17:35:12.324176Z",
     "shell.execute_reply": "2021-04-17T17:35:12.323590Z"
    },
    "papermill": {
     "duration": 0.342781,
     "end_time": "2021-04-17T17:35:12.324335",
     "exception": false,
     "start_time": "2021-04-17T17:35:11.981554",
     "status": "completed"
    },
    "tags": []
   },
   "outputs": [],
   "source": [
    "data.drop(['id'], axis = 1, inplace = True)"
   ]
  },
  {
   "cell_type": "code",
   "execution_count": 33,
   "metadata": {
    "execution": {
     "iopub.execute_input": "2021-04-17T17:35:12.909945Z",
     "iopub.status.busy": "2021-04-17T17:35:12.908951Z",
     "iopub.status.idle": "2021-04-17T17:35:12.913707Z",
     "shell.execute_reply": "2021-04-17T17:35:12.914416Z"
    },
    "papermill": {
     "duration": 0.306864,
     "end_time": "2021-04-17T17:35:12.914647",
     "exception": false,
     "start_time": "2021-04-17T17:35:12.607783",
     "status": "completed"
    },
    "tags": []
   },
   "outputs": [
    {
     "data": {
      "text/plain": [
       "bin_0      int64\n",
       "bin_1      int64\n",
       "bin_2      int64\n",
       "bin_3     object\n",
       "bin_4     object\n",
       "nom_0     object\n",
       "nom_1     object\n",
       "nom_2     object\n",
       "nom_3     object\n",
       "nom_4     object\n",
       "nom_5     object\n",
       "nom_6     object\n",
       "nom_7     object\n",
       "nom_8     object\n",
       "nom_9     object\n",
       "ord_0      int64\n",
       "ord_1     object\n",
       "ord_2     object\n",
       "ord_3     object\n",
       "ord_4     object\n",
       "ord_5     object\n",
       "day        int64\n",
       "month      int64\n",
       "target     int64\n",
       "dtype: object"
      ]
     },
     "execution_count": 33,
     "metadata": {},
     "output_type": "execute_result"
    }
   ],
   "source": [
    "data.dtypes"
   ]
  },
  {
   "cell_type": "code",
   "execution_count": 34,
   "metadata": {
    "execution": {
     "iopub.execute_input": "2021-04-17T17:35:13.501427Z",
     "iopub.status.busy": "2021-04-17T17:35:13.500821Z",
     "iopub.status.idle": "2021-04-17T17:35:14.536610Z",
     "shell.execute_reply": "2021-04-17T17:35:14.537341Z"
    },
    "papermill": {
     "duration": 1.317539,
     "end_time": "2021-04-17T17:35:14.537539",
     "exception": false,
     "start_time": "2021-04-17T17:35:13.220000",
     "status": "completed"
    },
    "tags": []
   },
   "outputs": [
    {
     "name": "stdout",
     "output_type": "stream",
     "text": [
      "bin_0 2\n",
      "bin_1 2\n",
      "bin_2 2\n",
      "bin_3 2\n",
      "bin_4 2\n",
      "nom_0 3\n",
      "nom_1 6\n",
      "nom_2 6\n",
      "nom_3 6\n",
      "nom_4 4\n",
      "nom_5 222\n",
      "nom_6 522\n",
      "nom_7 1220\n",
      "nom_8 2215\n",
      "nom_9 11981\n",
      "ord_0 3\n",
      "ord_1 5\n",
      "ord_2 6\n",
      "ord_3 15\n",
      "ord_4 26\n",
      "ord_5 192\n",
      "day 7\n",
      "month 12\n",
      "target 2\n"
     ]
    }
   ],
   "source": [
    "for col in data.columns:\n",
    "    print(col, data[col].nunique())"
   ]
  },
  {
   "cell_type": "code",
   "execution_count": 35,
   "metadata": {
    "execution": {
     "iopub.execute_input": "2021-04-17T17:35:15.105592Z",
     "iopub.status.busy": "2021-04-17T17:35:15.104699Z",
     "iopub.status.idle": "2021-04-17T17:35:16.410339Z",
     "shell.execute_reply": "2021-04-17T17:35:16.409700Z"
    },
    "papermill": {
     "duration": 1.59479,
     "end_time": "2021-04-17T17:35:16.410478",
     "exception": false,
     "start_time": "2021-04-17T17:35:14.815688",
     "status": "completed"
    },
    "tags": []
   },
   "outputs": [
    {
     "name": "stdout",
     "output_type": "stream",
     "text": [
      "bin_0 \n",
      "\n",
      " 0    261749\n",
      "1     38251\n",
      "Name: bin_0, dtype: int64\n",
      "----------\n",
      "bin_1 \n",
      "\n",
      " 0    223018\n",
      "1     76982\n",
      "Name: bin_1, dtype: int64\n",
      "----------\n",
      "bin_2 \n",
      "\n",
      " 0    185033\n",
      "1    114967\n",
      "Name: bin_2, dtype: int64\n",
      "----------\n",
      "bin_3 \n",
      "\n",
      " T    153535\n",
      "F    146465\n",
      "Name: bin_3, dtype: int64\n",
      "----------\n",
      "bin_4 \n",
      "\n",
      " Y    191633\n",
      "N    108367\n",
      "Name: bin_4, dtype: int64\n",
      "----------\n",
      "nom_0 \n",
      "\n",
      " Green    127341\n",
      "Blue      96166\n",
      "Red       76493\n",
      "Name: nom_0, dtype: int64\n",
      "----------\n",
      "nom_1 \n",
      "\n",
      " Trapezoid    101181\n",
      "Square        49597\n",
      "Star          45904\n",
      "Circle        37320\n",
      "Polygon       36143\n",
      "Triangle      29855\n",
      "Name: nom_1, dtype: int64\n",
      "----------\n",
      "nom_2 \n",
      "\n",
      " Lion       101295\n",
      "Cat         49659\n",
      "Snake       45979\n",
      "Dog         37444\n",
      "Axolotl     36136\n",
      "Hamster     29487\n",
      "Name: nom_2, dtype: int64\n",
      "----------\n",
      "nom_3 \n",
      "\n",
      " Russia        101123\n",
      "Canada         49951\n",
      "China          46044\n",
      "Finland        36942\n",
      "Costa Rica     35988\n",
      "India          29952\n",
      "Name: nom_3, dtype: int64\n",
      "----------\n",
      "nom_4 \n",
      "\n",
      " Oboe        92293\n",
      "Piano       84517\n",
      "Bassoon     68448\n",
      "Theremin    54742\n",
      "Name: nom_4, dtype: int64\n",
      "----------\n",
      "nom_5 \n",
      "\n",
      " f7821e391    2801\n",
      "06eeaf0aa    2750\n",
      "472efea17    2729\n",
      "20b10a832    2725\n",
      "b97f51ac4    2717\n",
      "             ... \n",
      "91c80026f      64\n",
      "88f104c00      59\n",
      "f802a9849      46\n",
      "1fd0233cd      41\n",
      "f710fca39      26\n",
      "Name: nom_5, Length: 222, dtype: int64\n",
      "----------\n",
      "nom_6 \n",
      "\n",
      " d173ac7ca    1218\n",
      "2ed5a94b0    1210\n",
      "c9eedfbc2    1193\n",
      "50d7ad46a    1175\n",
      "0922e3cb8    1169\n",
      "             ... \n",
      "26bf5ddd9      16\n",
      "28630a5c8      12\n",
      "8367b78fc      11\n",
      "e97824431       8\n",
      "4dcab4fc8       5\n",
      "Name: nom_6, Length: 522, dtype: int64\n",
      "----------\n",
      "nom_7 \n",
      "\n",
      " 3a114adea    534\n",
      "3b679e531    518\n",
      "6f3940b72    518\n",
      "fcf2b8dce    517\n",
      "fe27cc23d    515\n",
      "            ... \n",
      "2b5df4f24      3\n",
      "f718e6e9c      3\n",
      "446df0c98      3\n",
      "74a1b69b1      2\n",
      "3460d7c4b      1\n",
      "Name: nom_7, Length: 1220, dtype: int64\n",
      "----------\n",
      "nom_8 \n",
      "\n",
      " c720f85ca    299\n",
      "9ff6898e5    294\n",
      "3cec7c3f5    292\n",
      "d69adef8b    288\n",
      "fdcd0dada    287\n",
      "            ... \n",
      "5361d3b53      2\n",
      "dc9f5c70f      2\n",
      "40b8df5b6      1\n",
      "83a266f13      1\n",
      "4b30750de      1\n",
      "Name: nom_8, Length: 2215, dtype: int64\n",
      "----------\n",
      "nom_9 \n",
      "\n",
      " 163cc60fa    72\n",
      "21578b358    70\n",
      "412859a59    67\n",
      "e8be2364b    67\n",
      "f12f038cc    66\n",
      "             ..\n",
      "bfe92cd28     1\n",
      "118e5fe71     1\n",
      "03df49ad7     1\n",
      "7c678f3a7     1\n",
      "9a93bd265     1\n",
      "Name: nom_9, Length: 11981, dtype: int64\n",
      "----------\n",
      "ord_0 \n",
      "\n",
      " 1    194846\n",
      "2     66438\n",
      "3     38716\n",
      "Name: ord_0, dtype: int64\n",
      "----------\n",
      "ord_1 \n",
      "\n",
      " Novice         126583\n",
      "Grandmaster     77428\n",
      "Contributor     42871\n",
      "Master          28053\n",
      "Expert          25065\n",
      "Name: ord_1, dtype: int64\n",
      "----------\n",
      "ord_2 \n",
      "\n",
      " Freezing       99816\n",
      "Lava Hot       63908\n",
      "Boiling Hot    60627\n",
      "Cold           33768\n",
      "Hot            22227\n",
      "Warm           19654\n",
      "Name: ord_2, dtype: int64\n",
      "----------\n",
      "ord_3 \n",
      "\n",
      " g    36405\n",
      "l    36124\n",
      "a    35276\n",
      "k    28619\n",
      "i    28048\n",
      "h    24740\n",
      "j    24647\n",
      "f    22384\n",
      "e    21331\n",
      "b    11916\n",
      "o    11320\n",
      "d     7904\n",
      "c     6944\n",
      "n     4014\n",
      "m      328\n",
      "Name: ord_3, dtype: int64\n",
      "----------\n",
      "ord_4 \n",
      "\n",
      " L    19066\n",
      "G    18899\n",
      "S    18875\n",
      "A    18258\n",
      "R    16927\n",
      "Q    15925\n",
      "K    14698\n",
      "I    14644\n",
      "Z    14232\n",
      "T    14220\n",
      "V    14143\n",
      "J    12878\n",
      "P    12839\n",
      "U    12775\n",
      "H    12743\n",
      "F    11717\n",
      "E    11303\n",
      "W     9197\n",
      "Y     8490\n",
      "X     6292\n",
      "B     6169\n",
      "O     5836\n",
      "D     3974\n",
      "C     3575\n",
      "N     2166\n",
      "M      159\n",
      "Name: ord_4, dtype: int64\n",
      "----------\n",
      "ord_5 \n",
      "\n",
      " od    5019\n",
      "fO    3435\n",
      "Zq    2926\n",
      "sD    2880\n",
      "qP    2854\n",
      "      ... \n",
      "eg      47\n",
      "tv      40\n",
      "kU      37\n",
      "vq      35\n",
      "Cl      28\n",
      "Name: ord_5, Length: 192, dtype: int64\n",
      "----------\n",
      "day \n",
      "\n",
      " 2    74315\n",
      "1    67144\n",
      "3    66357\n",
      "4    40434\n",
      "7    33051\n",
      "5    17787\n",
      "6      912\n",
      "Name: day, dtype: int64\n",
      "----------\n",
      "month \n",
      "\n",
      " 2     45305\n",
      "3     40867\n",
      "1     40848\n",
      "11    25732\n",
      "12    25204\n",
      "4     24920\n",
      "9     24857\n",
      "10    22112\n",
      "7     19867\n",
      "8     18730\n",
      "5     10995\n",
      "6       563\n",
      "Name: month, dtype: int64\n",
      "----------\n",
      "target \n",
      "\n",
      " 0    208236\n",
      "1     91764\n",
      "Name: target, dtype: int64\n",
      "----------\n"
     ]
    }
   ],
   "source": [
    "for col in data.columns:\n",
    "    print(col, '\\n\\n',data[col].value_counts())\n",
    "    print('-'*10)"
   ]
  },
  {
   "cell_type": "markdown",
   "metadata": {
    "papermill": {
     "duration": 0.285026,
     "end_time": "2021-04-17T17:35:16.975946",
     "exception": false,
     "start_time": "2021-04-17T17:35:16.690920",
     "status": "completed"
    },
    "tags": []
   },
   "source": [
    "bin_3, bin_4 has T/F values. <br>\n",
    "nom_0, nom_1, nom_2, nom_3, nom_4 have 3-6 unique values. <br>\n",
    "nom_5, nom_6, nom_7, nom_8, nom_9 have many unique values <br>\n",
    "THen comes the ordinal variables"
   ]
  },
  {
   "cell_type": "code",
   "execution_count": null,
   "metadata": {
    "papermill": {
     "duration": 0.278705,
     "end_time": "2021-04-17T17:35:17.537977",
     "exception": false,
     "start_time": "2021-04-17T17:35:17.259272",
     "status": "completed"
    },
    "tags": []
   },
   "outputs": [],
   "source": []
  },
  {
   "cell_type": "code",
   "execution_count": 36,
   "metadata": {
    "execution": {
     "iopub.execute_input": "2021-04-17T17:35:18.141291Z",
     "iopub.status.busy": "2021-04-17T17:35:18.112800Z",
     "iopub.status.idle": "2021-04-17T17:35:18.303678Z",
     "shell.execute_reply": "2021-04-17T17:35:18.302626Z"
    },
    "papermill": {
     "duration": 0.486385,
     "end_time": "2021-04-17T17:35:18.303842",
     "exception": false,
     "start_time": "2021-04-17T17:35:17.817457",
     "status": "completed"
    },
    "tags": []
   },
   "outputs": [],
   "source": [
    "data['bin_3'] = data['bin_3'].map({\"T\" : 1, \"F\" : 0})\n",
    "data['bin_4'] = data['bin_4'].map({\"Y\" : 1, \"N\" : 0})"
   ]
  },
  {
   "cell_type": "code",
   "execution_count": 37,
   "metadata": {
    "execution": {
     "iopub.execute_input": "2021-04-17T17:35:18.932206Z",
     "iopub.status.busy": "2021-04-17T17:35:18.931260Z",
     "iopub.status.idle": "2021-04-17T17:35:18.935970Z",
     "shell.execute_reply": "2021-04-17T17:35:18.935346Z"
    },
    "papermill": {
     "duration": 0.310648,
     "end_time": "2021-04-17T17:35:18.936115",
     "exception": false,
     "start_time": "2021-04-17T17:35:18.625467",
     "status": "completed"
    },
    "tags": []
   },
   "outputs": [
    {
     "data": {
      "text/html": [
       "<div>\n",
       "<style scoped>\n",
       "    .dataframe tbody tr th:only-of-type {\n",
       "        vertical-align: middle;\n",
       "    }\n",
       "\n",
       "    .dataframe tbody tr th {\n",
       "        vertical-align: top;\n",
       "    }\n",
       "\n",
       "    .dataframe thead th {\n",
       "        text-align: right;\n",
       "    }\n",
       "</style>\n",
       "<table border=\"1\" class=\"dataframe\">\n",
       "  <thead>\n",
       "    <tr style=\"text-align: right;\">\n",
       "      <th></th>\n",
       "      <th>bin_0</th>\n",
       "      <th>bin_1</th>\n",
       "      <th>bin_2</th>\n",
       "      <th>bin_3</th>\n",
       "      <th>bin_4</th>\n",
       "      <th>nom_0</th>\n",
       "      <th>nom_1</th>\n",
       "      <th>nom_2</th>\n",
       "      <th>nom_3</th>\n",
       "      <th>nom_4</th>\n",
       "      <th>...</th>\n",
       "      <th>nom_9</th>\n",
       "      <th>ord_0</th>\n",
       "      <th>ord_1</th>\n",
       "      <th>ord_2</th>\n",
       "      <th>ord_3</th>\n",
       "      <th>ord_4</th>\n",
       "      <th>ord_5</th>\n",
       "      <th>day</th>\n",
       "      <th>month</th>\n",
       "      <th>target</th>\n",
       "    </tr>\n",
       "  </thead>\n",
       "  <tbody>\n",
       "    <tr>\n",
       "      <th>0</th>\n",
       "      <td>0</td>\n",
       "      <td>0</td>\n",
       "      <td>0</td>\n",
       "      <td>1</td>\n",
       "      <td>1</td>\n",
       "      <td>Green</td>\n",
       "      <td>Triangle</td>\n",
       "      <td>Snake</td>\n",
       "      <td>Finland</td>\n",
       "      <td>Bassoon</td>\n",
       "      <td>...</td>\n",
       "      <td>2f4cb3d51</td>\n",
       "      <td>2</td>\n",
       "      <td>Grandmaster</td>\n",
       "      <td>Cold</td>\n",
       "      <td>h</td>\n",
       "      <td>D</td>\n",
       "      <td>kr</td>\n",
       "      <td>2</td>\n",
       "      <td>2</td>\n",
       "      <td>0</td>\n",
       "    </tr>\n",
       "    <tr>\n",
       "      <th>1</th>\n",
       "      <td>0</td>\n",
       "      <td>1</td>\n",
       "      <td>0</td>\n",
       "      <td>1</td>\n",
       "      <td>1</td>\n",
       "      <td>Green</td>\n",
       "      <td>Trapezoid</td>\n",
       "      <td>Hamster</td>\n",
       "      <td>Russia</td>\n",
       "      <td>Piano</td>\n",
       "      <td>...</td>\n",
       "      <td>f83c56c21</td>\n",
       "      <td>1</td>\n",
       "      <td>Grandmaster</td>\n",
       "      <td>Hot</td>\n",
       "      <td>a</td>\n",
       "      <td>A</td>\n",
       "      <td>bF</td>\n",
       "      <td>7</td>\n",
       "      <td>8</td>\n",
       "      <td>0</td>\n",
       "    </tr>\n",
       "    <tr>\n",
       "      <th>2</th>\n",
       "      <td>0</td>\n",
       "      <td>0</td>\n",
       "      <td>0</td>\n",
       "      <td>0</td>\n",
       "      <td>1</td>\n",
       "      <td>Blue</td>\n",
       "      <td>Trapezoid</td>\n",
       "      <td>Lion</td>\n",
       "      <td>Russia</td>\n",
       "      <td>Theremin</td>\n",
       "      <td>...</td>\n",
       "      <td>ae6800dd0</td>\n",
       "      <td>1</td>\n",
       "      <td>Expert</td>\n",
       "      <td>Lava Hot</td>\n",
       "      <td>h</td>\n",
       "      <td>R</td>\n",
       "      <td>Jc</td>\n",
       "      <td>7</td>\n",
       "      <td>2</td>\n",
       "      <td>0</td>\n",
       "    </tr>\n",
       "    <tr>\n",
       "      <th>3</th>\n",
       "      <td>0</td>\n",
       "      <td>1</td>\n",
       "      <td>0</td>\n",
       "      <td>0</td>\n",
       "      <td>1</td>\n",
       "      <td>Red</td>\n",
       "      <td>Trapezoid</td>\n",
       "      <td>Snake</td>\n",
       "      <td>Canada</td>\n",
       "      <td>Oboe</td>\n",
       "      <td>...</td>\n",
       "      <td>8270f0d71</td>\n",
       "      <td>1</td>\n",
       "      <td>Grandmaster</td>\n",
       "      <td>Boiling Hot</td>\n",
       "      <td>i</td>\n",
       "      <td>D</td>\n",
       "      <td>kW</td>\n",
       "      <td>2</td>\n",
       "      <td>1</td>\n",
       "      <td>1</td>\n",
       "    </tr>\n",
       "    <tr>\n",
       "      <th>4</th>\n",
       "      <td>0</td>\n",
       "      <td>0</td>\n",
       "      <td>0</td>\n",
       "      <td>0</td>\n",
       "      <td>0</td>\n",
       "      <td>Red</td>\n",
       "      <td>Trapezoid</td>\n",
       "      <td>Lion</td>\n",
       "      <td>Canada</td>\n",
       "      <td>Oboe</td>\n",
       "      <td>...</td>\n",
       "      <td>b164b72a7</td>\n",
       "      <td>1</td>\n",
       "      <td>Grandmaster</td>\n",
       "      <td>Freezing</td>\n",
       "      <td>a</td>\n",
       "      <td>R</td>\n",
       "      <td>qP</td>\n",
       "      <td>7</td>\n",
       "      <td>8</td>\n",
       "      <td>0</td>\n",
       "    </tr>\n",
       "  </tbody>\n",
       "</table>\n",
       "<p>5 rows × 24 columns</p>\n",
       "</div>"
      ],
      "text/plain": [
       "   bin_0  bin_1  bin_2  bin_3  bin_4  nom_0      nom_1    nom_2    nom_3  \\\n",
       "0      0      0      0      1      1  Green   Triangle    Snake  Finland   \n",
       "1      0      1      0      1      1  Green  Trapezoid  Hamster   Russia   \n",
       "2      0      0      0      0      1   Blue  Trapezoid     Lion   Russia   \n",
       "3      0      1      0      0      1    Red  Trapezoid    Snake   Canada   \n",
       "4      0      0      0      0      0    Red  Trapezoid     Lion   Canada   \n",
       "\n",
       "      nom_4  ...      nom_9 ord_0        ord_1        ord_2 ord_3  ord_4  \\\n",
       "0   Bassoon  ...  2f4cb3d51     2  Grandmaster         Cold     h      D   \n",
       "1     Piano  ...  f83c56c21     1  Grandmaster          Hot     a      A   \n",
       "2  Theremin  ...  ae6800dd0     1       Expert     Lava Hot     h      R   \n",
       "3      Oboe  ...  8270f0d71     1  Grandmaster  Boiling Hot     i      D   \n",
       "4      Oboe  ...  b164b72a7     1  Grandmaster     Freezing     a      R   \n",
       "\n",
       "  ord_5 day month target  \n",
       "0    kr   2     2      0  \n",
       "1    bF   7     8      0  \n",
       "2    Jc   7     2      0  \n",
       "3    kW   2     1      1  \n",
       "4    qP   7     8      0  \n",
       "\n",
       "[5 rows x 24 columns]"
      ]
     },
     "execution_count": 37,
     "metadata": {},
     "output_type": "execute_result"
    }
   ],
   "source": [
    "data.head()"
   ]
  },
  {
   "cell_type": "markdown",
   "metadata": {
    "papermill": {
     "duration": 0.283039,
     "end_time": "2021-04-17T17:35:19.502501",
     "exception": false,
     "start_time": "2021-04-17T17:35:19.219462",
     "status": "completed"
    },
    "tags": []
   },
   "source": [
    "We're done with dealing of binary variables. <br>\n",
    "Now we're left to deal with the nominals & ordinals."
   ]
  },
  {
   "cell_type": "code",
   "execution_count": null,
   "metadata": {
    "papermill": {
     "duration": 0.283383,
     "end_time": "2021-04-17T17:35:20.067925",
     "exception": false,
     "start_time": "2021-04-17T17:35:19.784542",
     "status": "completed"
    },
    "tags": []
   },
   "outputs": [],
   "source": []
  },
  {
   "cell_type": "markdown",
   "metadata": {
    "papermill": {
     "duration": 0.281461,
     "end_time": "2021-04-17T17:35:20.630619",
     "exception": false,
     "start_time": "2021-04-17T17:35:20.349158",
     "status": "completed"
    },
    "tags": []
   },
   "source": [
    "We have 5 ordinal variables of which 4 have few unique values and can be dealt in a similar manner. <br>\n",
    "ord_5 has multiple unique values and needs to be handled separately. "
   ]
  },
  {
   "cell_type": "code",
   "execution_count": 38,
   "metadata": {
    "execution": {
     "iopub.execute_input": "2021-04-17T17:35:21.202080Z",
     "iopub.status.busy": "2021-04-17T17:35:21.201336Z",
     "iopub.status.idle": "2021-04-17T17:35:22.809004Z",
     "shell.execute_reply": "2021-04-17T17:35:22.808347Z"
    },
    "papermill": {
     "duration": 1.897415,
     "end_time": "2021-04-17T17:35:22.809154",
     "exception": false,
     "start_time": "2021-04-17T17:35:20.911739",
     "status": "completed"
    },
    "tags": []
   },
   "outputs": [
    {
     "name": "stdout",
     "output_type": "stream",
     "text": [
      "ord_1 ['Contributor', 'Expert', 'Grandmaster', 'Master', 'Novice']\n",
      "ord_2 ['Boiling Hot', 'Cold', 'Freezing', 'Hot', 'Lava Hot', 'Warm']\n",
      "ord_3 ['a', 'b', 'c', 'd', 'e', 'f', 'g', 'h', 'i', 'j', 'k', 'l', 'm', 'n', 'o']\n",
      "ord_4 ['A', 'B', 'C', 'D', 'E', 'F', 'G', 'H', 'I', 'J', 'K', 'L', 'M', 'N', 'O', 'P', 'Q', 'R', 'S', 'T', 'U', 'V', 'W', 'X', 'Y', 'Z']\n"
     ]
    }
   ],
   "source": [
    "for col in ['ord_1', 'ord_2', 'ord_3', 'ord_4']:\n",
    "    print(col, list(np.unique(data[col])))"
   ]
  },
  {
   "cell_type": "code",
   "execution_count": 39,
   "metadata": {
    "execution": {
     "iopub.execute_input": "2021-04-17T17:35:23.421490Z",
     "iopub.status.busy": "2021-04-17T17:35:23.420853Z",
     "iopub.status.idle": "2021-04-17T17:35:23.474987Z",
     "shell.execute_reply": "2021-04-17T17:35:23.474257Z"
    },
    "papermill": {
     "duration": 0.378177,
     "end_time": "2021-04-17T17:35:23.475131",
     "exception": false,
     "start_time": "2021-04-17T17:35:23.096954",
     "status": "completed"
    },
    "tags": []
   },
   "outputs": [],
   "source": [
    "m1_ord1 = {'Novice' : 0, 'Contributor' : 1, 'Expert' : 2, 'Master' : 3, 'Grandmaster' : 4}\n",
    "\n",
    "data['ord_1'] = data['ord_1'].map(m1_ord1)"
   ]
  },
  {
   "cell_type": "code",
   "execution_count": 40,
   "metadata": {
    "execution": {
     "iopub.execute_input": "2021-04-17T17:35:24.086934Z",
     "iopub.status.busy": "2021-04-17T17:35:24.086281Z",
     "iopub.status.idle": "2021-04-17T17:35:24.090438Z",
     "shell.execute_reply": "2021-04-17T17:35:24.089639Z"
    },
    "papermill": {
     "duration": 0.333256,
     "end_time": "2021-04-17T17:35:24.090604",
     "exception": false,
     "start_time": "2021-04-17T17:35:23.757348",
     "status": "completed"
    },
    "tags": []
   },
   "outputs": [
    {
     "data": {
      "text/html": [
       "<div>\n",
       "<style scoped>\n",
       "    .dataframe tbody tr th:only-of-type {\n",
       "        vertical-align: middle;\n",
       "    }\n",
       "\n",
       "    .dataframe tbody tr th {\n",
       "        vertical-align: top;\n",
       "    }\n",
       "\n",
       "    .dataframe thead th {\n",
       "        text-align: right;\n",
       "    }\n",
       "</style>\n",
       "<table border=\"1\" class=\"dataframe\">\n",
       "  <thead>\n",
       "    <tr style=\"text-align: right;\">\n",
       "      <th></th>\n",
       "      <th>bin_0</th>\n",
       "      <th>bin_1</th>\n",
       "      <th>bin_2</th>\n",
       "      <th>bin_3</th>\n",
       "      <th>bin_4</th>\n",
       "      <th>nom_0</th>\n",
       "      <th>nom_1</th>\n",
       "      <th>nom_2</th>\n",
       "      <th>nom_3</th>\n",
       "      <th>nom_4</th>\n",
       "      <th>...</th>\n",
       "      <th>nom_9</th>\n",
       "      <th>ord_0</th>\n",
       "      <th>ord_1</th>\n",
       "      <th>ord_2</th>\n",
       "      <th>ord_3</th>\n",
       "      <th>ord_4</th>\n",
       "      <th>ord_5</th>\n",
       "      <th>day</th>\n",
       "      <th>month</th>\n",
       "      <th>target</th>\n",
       "    </tr>\n",
       "  </thead>\n",
       "  <tbody>\n",
       "    <tr>\n",
       "      <th>0</th>\n",
       "      <td>0</td>\n",
       "      <td>0</td>\n",
       "      <td>0</td>\n",
       "      <td>1</td>\n",
       "      <td>1</td>\n",
       "      <td>Green</td>\n",
       "      <td>Triangle</td>\n",
       "      <td>Snake</td>\n",
       "      <td>Finland</td>\n",
       "      <td>Bassoon</td>\n",
       "      <td>...</td>\n",
       "      <td>2f4cb3d51</td>\n",
       "      <td>2</td>\n",
       "      <td>4</td>\n",
       "      <td>Cold</td>\n",
       "      <td>h</td>\n",
       "      <td>D</td>\n",
       "      <td>kr</td>\n",
       "      <td>2</td>\n",
       "      <td>2</td>\n",
       "      <td>0</td>\n",
       "    </tr>\n",
       "    <tr>\n",
       "      <th>1</th>\n",
       "      <td>0</td>\n",
       "      <td>1</td>\n",
       "      <td>0</td>\n",
       "      <td>1</td>\n",
       "      <td>1</td>\n",
       "      <td>Green</td>\n",
       "      <td>Trapezoid</td>\n",
       "      <td>Hamster</td>\n",
       "      <td>Russia</td>\n",
       "      <td>Piano</td>\n",
       "      <td>...</td>\n",
       "      <td>f83c56c21</td>\n",
       "      <td>1</td>\n",
       "      <td>4</td>\n",
       "      <td>Hot</td>\n",
       "      <td>a</td>\n",
       "      <td>A</td>\n",
       "      <td>bF</td>\n",
       "      <td>7</td>\n",
       "      <td>8</td>\n",
       "      <td>0</td>\n",
       "    </tr>\n",
       "    <tr>\n",
       "      <th>2</th>\n",
       "      <td>0</td>\n",
       "      <td>0</td>\n",
       "      <td>0</td>\n",
       "      <td>0</td>\n",
       "      <td>1</td>\n",
       "      <td>Blue</td>\n",
       "      <td>Trapezoid</td>\n",
       "      <td>Lion</td>\n",
       "      <td>Russia</td>\n",
       "      <td>Theremin</td>\n",
       "      <td>...</td>\n",
       "      <td>ae6800dd0</td>\n",
       "      <td>1</td>\n",
       "      <td>2</td>\n",
       "      <td>Lava Hot</td>\n",
       "      <td>h</td>\n",
       "      <td>R</td>\n",
       "      <td>Jc</td>\n",
       "      <td>7</td>\n",
       "      <td>2</td>\n",
       "      <td>0</td>\n",
       "    </tr>\n",
       "    <tr>\n",
       "      <th>3</th>\n",
       "      <td>0</td>\n",
       "      <td>1</td>\n",
       "      <td>0</td>\n",
       "      <td>0</td>\n",
       "      <td>1</td>\n",
       "      <td>Red</td>\n",
       "      <td>Trapezoid</td>\n",
       "      <td>Snake</td>\n",
       "      <td>Canada</td>\n",
       "      <td>Oboe</td>\n",
       "      <td>...</td>\n",
       "      <td>8270f0d71</td>\n",
       "      <td>1</td>\n",
       "      <td>4</td>\n",
       "      <td>Boiling Hot</td>\n",
       "      <td>i</td>\n",
       "      <td>D</td>\n",
       "      <td>kW</td>\n",
       "      <td>2</td>\n",
       "      <td>1</td>\n",
       "      <td>1</td>\n",
       "    </tr>\n",
       "    <tr>\n",
       "      <th>4</th>\n",
       "      <td>0</td>\n",
       "      <td>0</td>\n",
       "      <td>0</td>\n",
       "      <td>0</td>\n",
       "      <td>0</td>\n",
       "      <td>Red</td>\n",
       "      <td>Trapezoid</td>\n",
       "      <td>Lion</td>\n",
       "      <td>Canada</td>\n",
       "      <td>Oboe</td>\n",
       "      <td>...</td>\n",
       "      <td>b164b72a7</td>\n",
       "      <td>1</td>\n",
       "      <td>4</td>\n",
       "      <td>Freezing</td>\n",
       "      <td>a</td>\n",
       "      <td>R</td>\n",
       "      <td>qP</td>\n",
       "      <td>7</td>\n",
       "      <td>8</td>\n",
       "      <td>0</td>\n",
       "    </tr>\n",
       "  </tbody>\n",
       "</table>\n",
       "<p>5 rows × 24 columns</p>\n",
       "</div>"
      ],
      "text/plain": [
       "   bin_0  bin_1  bin_2  bin_3  bin_4  nom_0      nom_1    nom_2    nom_3  \\\n",
       "0      0      0      0      1      1  Green   Triangle    Snake  Finland   \n",
       "1      0      1      0      1      1  Green  Trapezoid  Hamster   Russia   \n",
       "2      0      0      0      0      1   Blue  Trapezoid     Lion   Russia   \n",
       "3      0      1      0      0      1    Red  Trapezoid    Snake   Canada   \n",
       "4      0      0      0      0      0    Red  Trapezoid     Lion   Canada   \n",
       "\n",
       "      nom_4  ...      nom_9 ord_0 ord_1        ord_2 ord_3  ord_4  ord_5 day  \\\n",
       "0   Bassoon  ...  2f4cb3d51     2     4         Cold     h      D     kr   2   \n",
       "1     Piano  ...  f83c56c21     1     4          Hot     a      A     bF   7   \n",
       "2  Theremin  ...  ae6800dd0     1     2     Lava Hot     h      R     Jc   7   \n",
       "3      Oboe  ...  8270f0d71     1     4  Boiling Hot     i      D     kW   2   \n",
       "4      Oboe  ...  b164b72a7     1     4     Freezing     a      R     qP   7   \n",
       "\n",
       "  month target  \n",
       "0     2      0  \n",
       "1     8      0  \n",
       "2     2      0  \n",
       "3     1      1  \n",
       "4     8      0  \n",
       "\n",
       "[5 rows x 24 columns]"
      ]
     },
     "execution_count": 40,
     "metadata": {},
     "output_type": "execute_result"
    }
   ],
   "source": [
    "data.head()"
   ]
  },
  {
   "cell_type": "code",
   "execution_count": 41,
   "metadata": {
    "execution": {
     "iopub.execute_input": "2021-04-17T17:35:24.703597Z",
     "iopub.status.busy": "2021-04-17T17:35:24.702918Z",
     "iopub.status.idle": "2021-04-17T17:35:24.756567Z",
     "shell.execute_reply": "2021-04-17T17:35:24.755879Z"
    },
    "papermill": {
     "duration": 0.381396,
     "end_time": "2021-04-17T17:35:24.756734",
     "exception": false,
     "start_time": "2021-04-17T17:35:24.375338",
     "status": "completed"
    },
    "tags": []
   },
   "outputs": [],
   "source": [
    "m2_ord2 = {'Boiling Hot' : 0, 'Cold' : 1, 'Freezing' : 2, 'Hot' : 3, 'Lava Hot' : 4, 'Warm' : 5}\n",
    "\n",
    "data['ord_2'] = data['ord_2'].map(m2_ord2)"
   ]
  },
  {
   "cell_type": "code",
   "execution_count": 42,
   "metadata": {
    "execution": {
     "iopub.execute_input": "2021-04-17T17:35:25.345834Z",
     "iopub.status.busy": "2021-04-17T17:35:25.338251Z",
     "iopub.status.idle": "2021-04-17T17:35:25.357920Z",
     "shell.execute_reply": "2021-04-17T17:35:25.358360Z"
    },
    "papermill": {
     "duration": 0.314002,
     "end_time": "2021-04-17T17:35:25.358550",
     "exception": false,
     "start_time": "2021-04-17T17:35:25.044548",
     "status": "completed"
    },
    "tags": []
   },
   "outputs": [
    {
     "data": {
      "text/html": [
       "<div>\n",
       "<style scoped>\n",
       "    .dataframe tbody tr th:only-of-type {\n",
       "        vertical-align: middle;\n",
       "    }\n",
       "\n",
       "    .dataframe tbody tr th {\n",
       "        vertical-align: top;\n",
       "    }\n",
       "\n",
       "    .dataframe thead th {\n",
       "        text-align: right;\n",
       "    }\n",
       "</style>\n",
       "<table border=\"1\" class=\"dataframe\">\n",
       "  <thead>\n",
       "    <tr style=\"text-align: right;\">\n",
       "      <th></th>\n",
       "      <th>bin_0</th>\n",
       "      <th>bin_1</th>\n",
       "      <th>bin_2</th>\n",
       "      <th>bin_3</th>\n",
       "      <th>bin_4</th>\n",
       "      <th>nom_0</th>\n",
       "      <th>nom_1</th>\n",
       "      <th>nom_2</th>\n",
       "      <th>nom_3</th>\n",
       "      <th>nom_4</th>\n",
       "      <th>...</th>\n",
       "      <th>nom_9</th>\n",
       "      <th>ord_0</th>\n",
       "      <th>ord_1</th>\n",
       "      <th>ord_2</th>\n",
       "      <th>ord_3</th>\n",
       "      <th>ord_4</th>\n",
       "      <th>ord_5</th>\n",
       "      <th>day</th>\n",
       "      <th>month</th>\n",
       "      <th>target</th>\n",
       "    </tr>\n",
       "  </thead>\n",
       "  <tbody>\n",
       "    <tr>\n",
       "      <th>0</th>\n",
       "      <td>0</td>\n",
       "      <td>0</td>\n",
       "      <td>0</td>\n",
       "      <td>1</td>\n",
       "      <td>1</td>\n",
       "      <td>Green</td>\n",
       "      <td>Triangle</td>\n",
       "      <td>Snake</td>\n",
       "      <td>Finland</td>\n",
       "      <td>Bassoon</td>\n",
       "      <td>...</td>\n",
       "      <td>2f4cb3d51</td>\n",
       "      <td>2</td>\n",
       "      <td>4</td>\n",
       "      <td>1</td>\n",
       "      <td>h</td>\n",
       "      <td>D</td>\n",
       "      <td>kr</td>\n",
       "      <td>2</td>\n",
       "      <td>2</td>\n",
       "      <td>0</td>\n",
       "    </tr>\n",
       "    <tr>\n",
       "      <th>1</th>\n",
       "      <td>0</td>\n",
       "      <td>1</td>\n",
       "      <td>0</td>\n",
       "      <td>1</td>\n",
       "      <td>1</td>\n",
       "      <td>Green</td>\n",
       "      <td>Trapezoid</td>\n",
       "      <td>Hamster</td>\n",
       "      <td>Russia</td>\n",
       "      <td>Piano</td>\n",
       "      <td>...</td>\n",
       "      <td>f83c56c21</td>\n",
       "      <td>1</td>\n",
       "      <td>4</td>\n",
       "      <td>3</td>\n",
       "      <td>a</td>\n",
       "      <td>A</td>\n",
       "      <td>bF</td>\n",
       "      <td>7</td>\n",
       "      <td>8</td>\n",
       "      <td>0</td>\n",
       "    </tr>\n",
       "    <tr>\n",
       "      <th>2</th>\n",
       "      <td>0</td>\n",
       "      <td>0</td>\n",
       "      <td>0</td>\n",
       "      <td>0</td>\n",
       "      <td>1</td>\n",
       "      <td>Blue</td>\n",
       "      <td>Trapezoid</td>\n",
       "      <td>Lion</td>\n",
       "      <td>Russia</td>\n",
       "      <td>Theremin</td>\n",
       "      <td>...</td>\n",
       "      <td>ae6800dd0</td>\n",
       "      <td>1</td>\n",
       "      <td>2</td>\n",
       "      <td>4</td>\n",
       "      <td>h</td>\n",
       "      <td>R</td>\n",
       "      <td>Jc</td>\n",
       "      <td>7</td>\n",
       "      <td>2</td>\n",
       "      <td>0</td>\n",
       "    </tr>\n",
       "    <tr>\n",
       "      <th>3</th>\n",
       "      <td>0</td>\n",
       "      <td>1</td>\n",
       "      <td>0</td>\n",
       "      <td>0</td>\n",
       "      <td>1</td>\n",
       "      <td>Red</td>\n",
       "      <td>Trapezoid</td>\n",
       "      <td>Snake</td>\n",
       "      <td>Canada</td>\n",
       "      <td>Oboe</td>\n",
       "      <td>...</td>\n",
       "      <td>8270f0d71</td>\n",
       "      <td>1</td>\n",
       "      <td>4</td>\n",
       "      <td>0</td>\n",
       "      <td>i</td>\n",
       "      <td>D</td>\n",
       "      <td>kW</td>\n",
       "      <td>2</td>\n",
       "      <td>1</td>\n",
       "      <td>1</td>\n",
       "    </tr>\n",
       "    <tr>\n",
       "      <th>4</th>\n",
       "      <td>0</td>\n",
       "      <td>0</td>\n",
       "      <td>0</td>\n",
       "      <td>0</td>\n",
       "      <td>0</td>\n",
       "      <td>Red</td>\n",
       "      <td>Trapezoid</td>\n",
       "      <td>Lion</td>\n",
       "      <td>Canada</td>\n",
       "      <td>Oboe</td>\n",
       "      <td>...</td>\n",
       "      <td>b164b72a7</td>\n",
       "      <td>1</td>\n",
       "      <td>4</td>\n",
       "      <td>2</td>\n",
       "      <td>a</td>\n",
       "      <td>R</td>\n",
       "      <td>qP</td>\n",
       "      <td>7</td>\n",
       "      <td>8</td>\n",
       "      <td>0</td>\n",
       "    </tr>\n",
       "  </tbody>\n",
       "</table>\n",
       "<p>5 rows × 24 columns</p>\n",
       "</div>"
      ],
      "text/plain": [
       "   bin_0  bin_1  bin_2  bin_3  bin_4  nom_0      nom_1    nom_2    nom_3  \\\n",
       "0      0      0      0      1      1  Green   Triangle    Snake  Finland   \n",
       "1      0      1      0      1      1  Green  Trapezoid  Hamster   Russia   \n",
       "2      0      0      0      0      1   Blue  Trapezoid     Lion   Russia   \n",
       "3      0      1      0      0      1    Red  Trapezoid    Snake   Canada   \n",
       "4      0      0      0      0      0    Red  Trapezoid     Lion   Canada   \n",
       "\n",
       "      nom_4  ...      nom_9 ord_0 ord_1 ord_2 ord_3  ord_4  ord_5  day month  \\\n",
       "0   Bassoon  ...  2f4cb3d51     2     4     1     h      D     kr    2     2   \n",
       "1     Piano  ...  f83c56c21     1     4     3     a      A     bF    7     8   \n",
       "2  Theremin  ...  ae6800dd0     1     2     4     h      R     Jc    7     2   \n",
       "3      Oboe  ...  8270f0d71     1     4     0     i      D     kW    2     1   \n",
       "4      Oboe  ...  b164b72a7     1     4     2     a      R     qP    7     8   \n",
       "\n",
       "  target  \n",
       "0      0  \n",
       "1      0  \n",
       "2      0  \n",
       "3      1  \n",
       "4      0  \n",
       "\n",
       "[5 rows x 24 columns]"
      ]
     },
     "execution_count": 42,
     "metadata": {},
     "output_type": "execute_result"
    }
   ],
   "source": [
    "data.head()"
   ]
  },
  {
   "cell_type": "code",
   "execution_count": null,
   "metadata": {
    "papermill": {
     "duration": 0.282802,
     "end_time": "2021-04-17T17:35:25.925425",
     "exception": false,
     "start_time": "2021-04-17T17:35:25.642623",
     "status": "completed"
    },
    "tags": []
   },
   "outputs": [],
   "source": []
  },
  {
   "cell_type": "code",
   "execution_count": 43,
   "metadata": {
    "execution": {
     "iopub.execute_input": "2021-04-17T17:35:26.502528Z",
     "iopub.status.busy": "2021-04-17T17:35:26.501866Z",
     "iopub.status.idle": "2021-04-17T17:35:27.030119Z",
     "shell.execute_reply": "2021-04-17T17:35:27.030606Z"
    },
    "papermill": {
     "duration": 0.816547,
     "end_time": "2021-04-17T17:35:27.030810",
     "exception": false,
     "start_time": "2021-04-17T17:35:26.214263",
     "status": "completed"
    },
    "tags": []
   },
   "outputs": [],
   "source": [
    "data['ord_3'] = data['ord_3'].apply(lambda x : ord(x) - ord('a'))\n",
    "data['ord_4'] = data['ord_4'].apply(lambda x : ord(x) - ord('A'))"
   ]
  },
  {
   "cell_type": "code",
   "execution_count": 44,
   "metadata": {
    "execution": {
     "iopub.execute_input": "2021-04-17T17:35:27.605185Z",
     "iopub.status.busy": "2021-04-17T17:35:27.604513Z",
     "iopub.status.idle": "2021-04-17T17:35:27.627461Z",
     "shell.execute_reply": "2021-04-17T17:35:27.627949Z"
    },
    "papermill": {
     "duration": 0.31049,
     "end_time": "2021-04-17T17:35:27.628135",
     "exception": false,
     "start_time": "2021-04-17T17:35:27.317645",
     "status": "completed"
    },
    "tags": []
   },
   "outputs": [
    {
     "data": {
      "text/html": [
       "<div>\n",
       "<style scoped>\n",
       "    .dataframe tbody tr th:only-of-type {\n",
       "        vertical-align: middle;\n",
       "    }\n",
       "\n",
       "    .dataframe tbody tr th {\n",
       "        vertical-align: top;\n",
       "    }\n",
       "\n",
       "    .dataframe thead th {\n",
       "        text-align: right;\n",
       "    }\n",
       "</style>\n",
       "<table border=\"1\" class=\"dataframe\">\n",
       "  <thead>\n",
       "    <tr style=\"text-align: right;\">\n",
       "      <th></th>\n",
       "      <th>bin_0</th>\n",
       "      <th>bin_1</th>\n",
       "      <th>bin_2</th>\n",
       "      <th>bin_3</th>\n",
       "      <th>bin_4</th>\n",
       "      <th>nom_0</th>\n",
       "      <th>nom_1</th>\n",
       "      <th>nom_2</th>\n",
       "      <th>nom_3</th>\n",
       "      <th>nom_4</th>\n",
       "      <th>...</th>\n",
       "      <th>nom_9</th>\n",
       "      <th>ord_0</th>\n",
       "      <th>ord_1</th>\n",
       "      <th>ord_2</th>\n",
       "      <th>ord_3</th>\n",
       "      <th>ord_4</th>\n",
       "      <th>ord_5</th>\n",
       "      <th>day</th>\n",
       "      <th>month</th>\n",
       "      <th>target</th>\n",
       "    </tr>\n",
       "  </thead>\n",
       "  <tbody>\n",
       "    <tr>\n",
       "      <th>0</th>\n",
       "      <td>0</td>\n",
       "      <td>0</td>\n",
       "      <td>0</td>\n",
       "      <td>1</td>\n",
       "      <td>1</td>\n",
       "      <td>Green</td>\n",
       "      <td>Triangle</td>\n",
       "      <td>Snake</td>\n",
       "      <td>Finland</td>\n",
       "      <td>Bassoon</td>\n",
       "      <td>...</td>\n",
       "      <td>2f4cb3d51</td>\n",
       "      <td>2</td>\n",
       "      <td>4</td>\n",
       "      <td>1</td>\n",
       "      <td>7</td>\n",
       "      <td>3</td>\n",
       "      <td>kr</td>\n",
       "      <td>2</td>\n",
       "      <td>2</td>\n",
       "      <td>0</td>\n",
       "    </tr>\n",
       "    <tr>\n",
       "      <th>1</th>\n",
       "      <td>0</td>\n",
       "      <td>1</td>\n",
       "      <td>0</td>\n",
       "      <td>1</td>\n",
       "      <td>1</td>\n",
       "      <td>Green</td>\n",
       "      <td>Trapezoid</td>\n",
       "      <td>Hamster</td>\n",
       "      <td>Russia</td>\n",
       "      <td>Piano</td>\n",
       "      <td>...</td>\n",
       "      <td>f83c56c21</td>\n",
       "      <td>1</td>\n",
       "      <td>4</td>\n",
       "      <td>3</td>\n",
       "      <td>0</td>\n",
       "      <td>0</td>\n",
       "      <td>bF</td>\n",
       "      <td>7</td>\n",
       "      <td>8</td>\n",
       "      <td>0</td>\n",
       "    </tr>\n",
       "    <tr>\n",
       "      <th>2</th>\n",
       "      <td>0</td>\n",
       "      <td>0</td>\n",
       "      <td>0</td>\n",
       "      <td>0</td>\n",
       "      <td>1</td>\n",
       "      <td>Blue</td>\n",
       "      <td>Trapezoid</td>\n",
       "      <td>Lion</td>\n",
       "      <td>Russia</td>\n",
       "      <td>Theremin</td>\n",
       "      <td>...</td>\n",
       "      <td>ae6800dd0</td>\n",
       "      <td>1</td>\n",
       "      <td>2</td>\n",
       "      <td>4</td>\n",
       "      <td>7</td>\n",
       "      <td>17</td>\n",
       "      <td>Jc</td>\n",
       "      <td>7</td>\n",
       "      <td>2</td>\n",
       "      <td>0</td>\n",
       "    </tr>\n",
       "    <tr>\n",
       "      <th>3</th>\n",
       "      <td>0</td>\n",
       "      <td>1</td>\n",
       "      <td>0</td>\n",
       "      <td>0</td>\n",
       "      <td>1</td>\n",
       "      <td>Red</td>\n",
       "      <td>Trapezoid</td>\n",
       "      <td>Snake</td>\n",
       "      <td>Canada</td>\n",
       "      <td>Oboe</td>\n",
       "      <td>...</td>\n",
       "      <td>8270f0d71</td>\n",
       "      <td>1</td>\n",
       "      <td>4</td>\n",
       "      <td>0</td>\n",
       "      <td>8</td>\n",
       "      <td>3</td>\n",
       "      <td>kW</td>\n",
       "      <td>2</td>\n",
       "      <td>1</td>\n",
       "      <td>1</td>\n",
       "    </tr>\n",
       "    <tr>\n",
       "      <th>4</th>\n",
       "      <td>0</td>\n",
       "      <td>0</td>\n",
       "      <td>0</td>\n",
       "      <td>0</td>\n",
       "      <td>0</td>\n",
       "      <td>Red</td>\n",
       "      <td>Trapezoid</td>\n",
       "      <td>Lion</td>\n",
       "      <td>Canada</td>\n",
       "      <td>Oboe</td>\n",
       "      <td>...</td>\n",
       "      <td>b164b72a7</td>\n",
       "      <td>1</td>\n",
       "      <td>4</td>\n",
       "      <td>2</td>\n",
       "      <td>0</td>\n",
       "      <td>17</td>\n",
       "      <td>qP</td>\n",
       "      <td>7</td>\n",
       "      <td>8</td>\n",
       "      <td>0</td>\n",
       "    </tr>\n",
       "  </tbody>\n",
       "</table>\n",
       "<p>5 rows × 24 columns</p>\n",
       "</div>"
      ],
      "text/plain": [
       "   bin_0  bin_1  bin_2  bin_3  bin_4  nom_0      nom_1    nom_2    nom_3  \\\n",
       "0      0      0      0      1      1  Green   Triangle    Snake  Finland   \n",
       "1      0      1      0      1      1  Green  Trapezoid  Hamster   Russia   \n",
       "2      0      0      0      0      1   Blue  Trapezoid     Lion   Russia   \n",
       "3      0      1      0      0      1    Red  Trapezoid    Snake   Canada   \n",
       "4      0      0      0      0      0    Red  Trapezoid     Lion   Canada   \n",
       "\n",
       "      nom_4  ...      nom_9 ord_0 ord_1 ord_2 ord_3  ord_4  ord_5  day  month  \\\n",
       "0   Bassoon  ...  2f4cb3d51     2     4     1     7      3     kr    2      2   \n",
       "1     Piano  ...  f83c56c21     1     4     3     0      0     bF    7      8   \n",
       "2  Theremin  ...  ae6800dd0     1     2     4     7     17     Jc    7      2   \n",
       "3      Oboe  ...  8270f0d71     1     4     0     8      3     kW    2      1   \n",
       "4      Oboe  ...  b164b72a7     1     4     2     0     17     qP    7      8   \n",
       "\n",
       "   target  \n",
       "0       0  \n",
       "1       0  \n",
       "2       0  \n",
       "3       1  \n",
       "4       0  \n",
       "\n",
       "[5 rows x 24 columns]"
      ]
     },
     "execution_count": 44,
     "metadata": {},
     "output_type": "execute_result"
    }
   ],
   "source": [
    "data.head()"
   ]
  },
  {
   "cell_type": "code",
   "execution_count": 45,
   "metadata": {
    "execution": {
     "iopub.execute_input": "2021-04-17T17:35:28.205739Z",
     "iopub.status.busy": "2021-04-17T17:35:28.204652Z",
     "iopub.status.idle": "2021-04-17T17:35:29.452901Z",
     "shell.execute_reply": "2021-04-17T17:35:29.453379Z"
    },
    "papermill": {
     "duration": 1.538804,
     "end_time": "2021-04-17T17:35:29.453563",
     "exception": false,
     "start_time": "2021-04-17T17:35:27.914759",
     "status": "completed"
    },
    "tags": []
   },
   "outputs": [],
   "source": [
    "data['ord_5a'] = data['ord_5'].str[0]\n",
    "data['ord_5b'] = data['ord_5'].str[1]\n",
    "\n",
    "data['ord_5a'] = data['ord_5a'].map({val : idx for idx, val in enumerate(np.unique(data['ord_5a']))})\n",
    "data['ord_5b'] = data['ord_5b'].map({val : idx for idx, val in enumerate(np.unique(data['ord_5b']))})"
   ]
  },
  {
   "cell_type": "code",
   "execution_count": 46,
   "metadata": {
    "execution": {
     "iopub.execute_input": "2021-04-17T17:35:30.031200Z",
     "iopub.status.busy": "2021-04-17T17:35:30.030221Z",
     "iopub.status.idle": "2021-04-17T17:35:30.053972Z",
     "shell.execute_reply": "2021-04-17T17:35:30.054501Z"
    },
    "papermill": {
     "duration": 0.315685,
     "end_time": "2021-04-17T17:35:30.054705",
     "exception": false,
     "start_time": "2021-04-17T17:35:29.739020",
     "status": "completed"
    },
    "tags": []
   },
   "outputs": [
    {
     "data": {
      "text/html": [
       "<div>\n",
       "<style scoped>\n",
       "    .dataframe tbody tr th:only-of-type {\n",
       "        vertical-align: middle;\n",
       "    }\n",
       "\n",
       "    .dataframe tbody tr th {\n",
       "        vertical-align: top;\n",
       "    }\n",
       "\n",
       "    .dataframe thead th {\n",
       "        text-align: right;\n",
       "    }\n",
       "</style>\n",
       "<table border=\"1\" class=\"dataframe\">\n",
       "  <thead>\n",
       "    <tr style=\"text-align: right;\">\n",
       "      <th></th>\n",
       "      <th>bin_0</th>\n",
       "      <th>bin_1</th>\n",
       "      <th>bin_2</th>\n",
       "      <th>bin_3</th>\n",
       "      <th>bin_4</th>\n",
       "      <th>nom_0</th>\n",
       "      <th>nom_1</th>\n",
       "      <th>nom_2</th>\n",
       "      <th>nom_3</th>\n",
       "      <th>nom_4</th>\n",
       "      <th>...</th>\n",
       "      <th>ord_1</th>\n",
       "      <th>ord_2</th>\n",
       "      <th>ord_3</th>\n",
       "      <th>ord_4</th>\n",
       "      <th>ord_5</th>\n",
       "      <th>day</th>\n",
       "      <th>month</th>\n",
       "      <th>target</th>\n",
       "      <th>ord_5a</th>\n",
       "      <th>ord_5b</th>\n",
       "    </tr>\n",
       "  </thead>\n",
       "  <tbody>\n",
       "    <tr>\n",
       "      <th>0</th>\n",
       "      <td>0</td>\n",
       "      <td>0</td>\n",
       "      <td>0</td>\n",
       "      <td>1</td>\n",
       "      <td>1</td>\n",
       "      <td>Green</td>\n",
       "      <td>Triangle</td>\n",
       "      <td>Snake</td>\n",
       "      <td>Finland</td>\n",
       "      <td>Bassoon</td>\n",
       "      <td>...</td>\n",
       "      <td>4</td>\n",
       "      <td>1</td>\n",
       "      <td>7</td>\n",
       "      <td>3</td>\n",
       "      <td>kr</td>\n",
       "      <td>2</td>\n",
       "      <td>2</td>\n",
       "      <td>0</td>\n",
       "      <td>36</td>\n",
       "      <td>43</td>\n",
       "    </tr>\n",
       "    <tr>\n",
       "      <th>1</th>\n",
       "      <td>0</td>\n",
       "      <td>1</td>\n",
       "      <td>0</td>\n",
       "      <td>1</td>\n",
       "      <td>1</td>\n",
       "      <td>Green</td>\n",
       "      <td>Trapezoid</td>\n",
       "      <td>Hamster</td>\n",
       "      <td>Russia</td>\n",
       "      <td>Piano</td>\n",
       "      <td>...</td>\n",
       "      <td>4</td>\n",
       "      <td>3</td>\n",
       "      <td>0</td>\n",
       "      <td>0</td>\n",
       "      <td>bF</td>\n",
       "      <td>7</td>\n",
       "      <td>8</td>\n",
       "      <td>0</td>\n",
       "      <td>27</td>\n",
       "      <td>5</td>\n",
       "    </tr>\n",
       "    <tr>\n",
       "      <th>2</th>\n",
       "      <td>0</td>\n",
       "      <td>0</td>\n",
       "      <td>0</td>\n",
       "      <td>0</td>\n",
       "      <td>1</td>\n",
       "      <td>Blue</td>\n",
       "      <td>Trapezoid</td>\n",
       "      <td>Lion</td>\n",
       "      <td>Russia</td>\n",
       "      <td>Theremin</td>\n",
       "      <td>...</td>\n",
       "      <td>2</td>\n",
       "      <td>4</td>\n",
       "      <td>7</td>\n",
       "      <td>17</td>\n",
       "      <td>Jc</td>\n",
       "      <td>7</td>\n",
       "      <td>2</td>\n",
       "      <td>0</td>\n",
       "      <td>9</td>\n",
       "      <td>28</td>\n",
       "    </tr>\n",
       "    <tr>\n",
       "      <th>3</th>\n",
       "      <td>0</td>\n",
       "      <td>1</td>\n",
       "      <td>0</td>\n",
       "      <td>0</td>\n",
       "      <td>1</td>\n",
       "      <td>Red</td>\n",
       "      <td>Trapezoid</td>\n",
       "      <td>Snake</td>\n",
       "      <td>Canada</td>\n",
       "      <td>Oboe</td>\n",
       "      <td>...</td>\n",
       "      <td>4</td>\n",
       "      <td>0</td>\n",
       "      <td>8</td>\n",
       "      <td>3</td>\n",
       "      <td>kW</td>\n",
       "      <td>2</td>\n",
       "      <td>1</td>\n",
       "      <td>1</td>\n",
       "      <td>36</td>\n",
       "      <td>22</td>\n",
       "    </tr>\n",
       "    <tr>\n",
       "      <th>4</th>\n",
       "      <td>0</td>\n",
       "      <td>0</td>\n",
       "      <td>0</td>\n",
       "      <td>0</td>\n",
       "      <td>0</td>\n",
       "      <td>Red</td>\n",
       "      <td>Trapezoid</td>\n",
       "      <td>Lion</td>\n",
       "      <td>Canada</td>\n",
       "      <td>Oboe</td>\n",
       "      <td>...</td>\n",
       "      <td>4</td>\n",
       "      <td>2</td>\n",
       "      <td>0</td>\n",
       "      <td>17</td>\n",
       "      <td>qP</td>\n",
       "      <td>7</td>\n",
       "      <td>8</td>\n",
       "      <td>0</td>\n",
       "      <td>42</td>\n",
       "      <td>15</td>\n",
       "    </tr>\n",
       "  </tbody>\n",
       "</table>\n",
       "<p>5 rows × 26 columns</p>\n",
       "</div>"
      ],
      "text/plain": [
       "   bin_0  bin_1  bin_2  bin_3  bin_4  nom_0      nom_1    nom_2    nom_3  \\\n",
       "0      0      0      0      1      1  Green   Triangle    Snake  Finland   \n",
       "1      0      1      0      1      1  Green  Trapezoid  Hamster   Russia   \n",
       "2      0      0      0      0      1   Blue  Trapezoid     Lion   Russia   \n",
       "3      0      1      0      0      1    Red  Trapezoid    Snake   Canada   \n",
       "4      0      0      0      0      0    Red  Trapezoid     Lion   Canada   \n",
       "\n",
       "      nom_4  ... ord_1 ord_2 ord_3 ord_4 ord_5  day  month  target  ord_5a  \\\n",
       "0   Bassoon  ...     4     1     7     3    kr    2      2       0      36   \n",
       "1     Piano  ...     4     3     0     0    bF    7      8       0      27   \n",
       "2  Theremin  ...     2     4     7    17    Jc    7      2       0       9   \n",
       "3      Oboe  ...     4     0     8     3    kW    2      1       1      36   \n",
       "4      Oboe  ...     4     2     0    17    qP    7      8       0      42   \n",
       "\n",
       "   ord_5b  \n",
       "0      43  \n",
       "1       5  \n",
       "2      28  \n",
       "3      22  \n",
       "4      15  \n",
       "\n",
       "[5 rows x 26 columns]"
      ]
     },
     "execution_count": 46,
     "metadata": {},
     "output_type": "execute_result"
    }
   ],
   "source": [
    "data.head()"
   ]
  },
  {
   "cell_type": "markdown",
   "metadata": {
    "papermill": {
     "duration": 0.326278,
     "end_time": "2021-04-17T17:35:30.669240",
     "exception": false,
     "start_time": "2021-04-17T17:35:30.342962",
     "status": "completed"
    },
    "tags": []
   },
   "source": [
    "Let's deal the nominal variables."
   ]
  },
  {
   "cell_type": "code",
   "execution_count": 47,
   "metadata": {
    "execution": {
     "iopub.execute_input": "2021-04-17T17:35:31.246535Z",
     "iopub.status.busy": "2021-04-17T17:35:31.245563Z",
     "iopub.status.idle": "2021-04-17T17:35:31.313773Z",
     "shell.execute_reply": "2021-04-17T17:35:31.314255Z"
    },
    "papermill": {
     "duration": 0.359469,
     "end_time": "2021-04-17T17:35:31.314420",
     "exception": false,
     "start_time": "2021-04-17T17:35:30.954951",
     "status": "completed"
    },
    "tags": []
   },
   "outputs": [
    {
     "data": {
      "text/html": [
       "<div>\n",
       "<style scoped>\n",
       "    .dataframe tbody tr th:only-of-type {\n",
       "        vertical-align: middle;\n",
       "    }\n",
       "\n",
       "    .dataframe tbody tr th {\n",
       "        vertical-align: top;\n",
       "    }\n",
       "\n",
       "    .dataframe thead th {\n",
       "        text-align: right;\n",
       "    }\n",
       "</style>\n",
       "<table border=\"1\" class=\"dataframe\">\n",
       "  <thead>\n",
       "    <tr style=\"text-align: right;\">\n",
       "      <th></th>\n",
       "      <th>nom_0</th>\n",
       "      <th>nom_2</th>\n",
       "      <th>nom_3</th>\n",
       "      <th>nom_4</th>\n",
       "      <th>nom_5</th>\n",
       "      <th>nom_6</th>\n",
       "      <th>nom_7</th>\n",
       "      <th>nom_8</th>\n",
       "      <th>nom_9</th>\n",
       "    </tr>\n",
       "  </thead>\n",
       "  <tbody>\n",
       "    <tr>\n",
       "      <th>0</th>\n",
       "      <td>Green</td>\n",
       "      <td>Snake</td>\n",
       "      <td>Finland</td>\n",
       "      <td>Bassoon</td>\n",
       "      <td>50f116bcf</td>\n",
       "      <td>3ac1b8814</td>\n",
       "      <td>68f6ad3e9</td>\n",
       "      <td>c389000ab</td>\n",
       "      <td>2f4cb3d51</td>\n",
       "    </tr>\n",
       "    <tr>\n",
       "      <th>1</th>\n",
       "      <td>Green</td>\n",
       "      <td>Hamster</td>\n",
       "      <td>Russia</td>\n",
       "      <td>Piano</td>\n",
       "      <td>b3b4d25d0</td>\n",
       "      <td>fbcb50fc1</td>\n",
       "      <td>3b6dd5612</td>\n",
       "      <td>4cd920251</td>\n",
       "      <td>f83c56c21</td>\n",
       "    </tr>\n",
       "    <tr>\n",
       "      <th>2</th>\n",
       "      <td>Blue</td>\n",
       "      <td>Lion</td>\n",
       "      <td>Russia</td>\n",
       "      <td>Theremin</td>\n",
       "      <td>3263bdce5</td>\n",
       "      <td>0922e3cb8</td>\n",
       "      <td>a6a36f527</td>\n",
       "      <td>de9c9f684</td>\n",
       "      <td>ae6800dd0</td>\n",
       "    </tr>\n",
       "    <tr>\n",
       "      <th>3</th>\n",
       "      <td>Red</td>\n",
       "      <td>Snake</td>\n",
       "      <td>Canada</td>\n",
       "      <td>Oboe</td>\n",
       "      <td>f12246592</td>\n",
       "      <td>50d7ad46a</td>\n",
       "      <td>ec69236eb</td>\n",
       "      <td>4ade6ab69</td>\n",
       "      <td>8270f0d71</td>\n",
       "    </tr>\n",
       "    <tr>\n",
       "      <th>4</th>\n",
       "      <td>Red</td>\n",
       "      <td>Lion</td>\n",
       "      <td>Canada</td>\n",
       "      <td>Oboe</td>\n",
       "      <td>5b0f5acd5</td>\n",
       "      <td>1fe17a1fd</td>\n",
       "      <td>04ddac2be</td>\n",
       "      <td>cb43ab175</td>\n",
       "      <td>b164b72a7</td>\n",
       "    </tr>\n",
       "    <tr>\n",
       "      <th>...</th>\n",
       "      <td>...</td>\n",
       "      <td>...</td>\n",
       "      <td>...</td>\n",
       "      <td>...</td>\n",
       "      <td>...</td>\n",
       "      <td>...</td>\n",
       "      <td>...</td>\n",
       "      <td>...</td>\n",
       "      <td>...</td>\n",
       "    </tr>\n",
       "    <tr>\n",
       "      <th>299995</th>\n",
       "      <td>Red</td>\n",
       "      <td>Snake</td>\n",
       "      <td>India</td>\n",
       "      <td>Oboe</td>\n",
       "      <td>35f65a9bf</td>\n",
       "      <td>788ba7aea</td>\n",
       "      <td>86a8e4ca0</td>\n",
       "      <td>7508f4ef1</td>\n",
       "      <td>e027decef</td>\n",
       "    </tr>\n",
       "    <tr>\n",
       "      <th>299996</th>\n",
       "      <td>Green</td>\n",
       "      <td>Lion</td>\n",
       "      <td>Russia</td>\n",
       "      <td>Piano</td>\n",
       "      <td>472efea17</td>\n",
       "      <td>3b9693870</td>\n",
       "      <td>c4455f4a8</td>\n",
       "      <td>397dd0274</td>\n",
       "      <td>80f1411c8</td>\n",
       "    </tr>\n",
       "    <tr>\n",
       "      <th>299997</th>\n",
       "      <td>Blue</td>\n",
       "      <td>Axolotl</td>\n",
       "      <td>Russia</td>\n",
       "      <td>Oboe</td>\n",
       "      <td>0dee9b39a</td>\n",
       "      <td>6046454de</td>\n",
       "      <td>ba9901303</td>\n",
       "      <td>5d7806f53</td>\n",
       "      <td>314dcc15b</td>\n",
       "    </tr>\n",
       "    <tr>\n",
       "      <th>299998</th>\n",
       "      <td>Green</td>\n",
       "      <td>Axolotl</td>\n",
       "      <td>Costa Rica</td>\n",
       "      <td>Piano</td>\n",
       "      <td>e1558b071</td>\n",
       "      <td>0000ee65f</td>\n",
       "      <td>c8ae4ea14</td>\n",
       "      <td>1f820c7ce</td>\n",
       "      <td>ab0ce192b</td>\n",
       "    </tr>\n",
       "    <tr>\n",
       "      <th>299999</th>\n",
       "      <td>Blue</td>\n",
       "      <td>Dog</td>\n",
       "      <td>Russia</td>\n",
       "      <td>Bassoon</td>\n",
       "      <td>416a8f3ab</td>\n",
       "      <td>8d1b72979</td>\n",
       "      <td>c073efb40</td>\n",
       "      <td>c13d3ebdf</td>\n",
       "      <td>ad1af2b45</td>\n",
       "    </tr>\n",
       "  </tbody>\n",
       "</table>\n",
       "<p>300000 rows × 9 columns</p>\n",
       "</div>"
      ],
      "text/plain": [
       "        nom_0    nom_2       nom_3     nom_4      nom_5      nom_6      nom_7  \\\n",
       "0       Green    Snake     Finland   Bassoon  50f116bcf  3ac1b8814  68f6ad3e9   \n",
       "1       Green  Hamster      Russia     Piano  b3b4d25d0  fbcb50fc1  3b6dd5612   \n",
       "2        Blue     Lion      Russia  Theremin  3263bdce5  0922e3cb8  a6a36f527   \n",
       "3         Red    Snake      Canada      Oboe  f12246592  50d7ad46a  ec69236eb   \n",
       "4         Red     Lion      Canada      Oboe  5b0f5acd5  1fe17a1fd  04ddac2be   \n",
       "...       ...      ...         ...       ...        ...        ...        ...   \n",
       "299995    Red    Snake       India      Oboe  35f65a9bf  788ba7aea  86a8e4ca0   \n",
       "299996  Green     Lion      Russia     Piano  472efea17  3b9693870  c4455f4a8   \n",
       "299997   Blue  Axolotl      Russia      Oboe  0dee9b39a  6046454de  ba9901303   \n",
       "299998  Green  Axolotl  Costa Rica     Piano  e1558b071  0000ee65f  c8ae4ea14   \n",
       "299999   Blue      Dog      Russia   Bassoon  416a8f3ab  8d1b72979  c073efb40   \n",
       "\n",
       "            nom_8      nom_9  \n",
       "0       c389000ab  2f4cb3d51  \n",
       "1       4cd920251  f83c56c21  \n",
       "2       de9c9f684  ae6800dd0  \n",
       "3       4ade6ab69  8270f0d71  \n",
       "4       cb43ab175  b164b72a7  \n",
       "...           ...        ...  \n",
       "299995  7508f4ef1  e027decef  \n",
       "299996  397dd0274  80f1411c8  \n",
       "299997  5d7806f53  314dcc15b  \n",
       "299998  1f820c7ce  ab0ce192b  \n",
       "299999  c13d3ebdf  ad1af2b45  \n",
       "\n",
       "[300000 rows x 9 columns]"
      ]
     },
     "execution_count": 47,
     "metadata": {},
     "output_type": "execute_result"
    }
   ],
   "source": [
    "data[['nom_0', 'nom_2', 'nom_3', 'nom_4', 'nom_5', 'nom_6', 'nom_7', 'nom_8', 'nom_9']]"
   ]
  },
  {
   "cell_type": "code",
   "execution_count": 48,
   "metadata": {
    "execution": {
     "iopub.execute_input": "2021-04-17T17:35:31.893766Z",
     "iopub.status.busy": "2021-04-17T17:35:31.892808Z",
     "iopub.status.idle": "2021-04-17T17:35:31.974039Z",
     "shell.execute_reply": "2021-04-17T17:35:31.974540Z"
    },
    "papermill": {
     "duration": 0.374041,
     "end_time": "2021-04-17T17:35:31.974737",
     "exception": false,
     "start_time": "2021-04-17T17:35:31.600696",
     "status": "completed"
    },
    "tags": []
   },
   "outputs": [
    {
     "data": {
      "text/plain": [
       "Trapezoid    101181\n",
       "Square        49597\n",
       "Star          45904\n",
       "Circle        37320\n",
       "Polygon       36143\n",
       "Triangle      29855\n",
       "Name: nom_1, dtype: int64"
      ]
     },
     "execution_count": 48,
     "metadata": {},
     "output_type": "execute_result"
    }
   ],
   "source": [
    "data['nom_1'].value_counts()"
   ]
  },
  {
   "cell_type": "code",
   "execution_count": 49,
   "metadata": {
    "execution": {
     "iopub.execute_input": "2021-04-17T17:35:32.629979Z",
     "iopub.status.busy": "2021-04-17T17:35:32.629266Z",
     "iopub.status.idle": "2021-04-17T17:35:32.636638Z",
     "shell.execute_reply": "2021-04-17T17:35:32.636076Z"
    },
    "papermill": {
     "duration": 0.37335,
     "end_time": "2021-04-17T17:35:32.636799",
     "exception": false,
     "start_time": "2021-04-17T17:35:32.263449",
     "status": "completed"
    },
    "tags": []
   },
   "outputs": [
    {
     "data": {
      "text/plain": [
       "Lion       101295\n",
       "Cat         49659\n",
       "Snake       45979\n",
       "Dog         37444\n",
       "Axolotl     36136\n",
       "Hamster     29487\n",
       "Name: nom_2, dtype: int64"
      ]
     },
     "execution_count": 49,
     "metadata": {},
     "output_type": "execute_result"
    }
   ],
   "source": [
    "data['nom_2'].value_counts()"
   ]
  },
  {
   "cell_type": "code",
   "execution_count": 50,
   "metadata": {
    "execution": {
     "iopub.execute_input": "2021-04-17T17:35:33.295142Z",
     "iopub.status.busy": "2021-04-17T17:35:33.294424Z",
     "iopub.status.idle": "2021-04-17T17:35:33.300774Z",
     "shell.execute_reply": "2021-04-17T17:35:33.300160Z"
    },
    "papermill": {
     "duration": 0.375764,
     "end_time": "2021-04-17T17:35:33.300912",
     "exception": false,
     "start_time": "2021-04-17T17:35:32.925148",
     "status": "completed"
    },
    "tags": []
   },
   "outputs": [
    {
     "data": {
      "text/plain": [
       "Russia        101123\n",
       "Canada         49951\n",
       "China          46044\n",
       "Finland        36942\n",
       "Costa Rica     35988\n",
       "India          29952\n",
       "Name: nom_3, dtype: int64"
      ]
     },
     "execution_count": 50,
     "metadata": {},
     "output_type": "execute_result"
    }
   ],
   "source": [
    "data['nom_3'].value_counts()"
   ]
  },
  {
   "cell_type": "code",
   "execution_count": 51,
   "metadata": {
    "execution": {
     "iopub.execute_input": "2021-04-17T17:35:33.957473Z",
     "iopub.status.busy": "2021-04-17T17:35:33.956501Z",
     "iopub.status.idle": "2021-04-17T17:35:33.963634Z",
     "shell.execute_reply": "2021-04-17T17:35:33.963118Z"
    },
    "papermill": {
     "duration": 0.374039,
     "end_time": "2021-04-17T17:35:33.963784",
     "exception": false,
     "start_time": "2021-04-17T17:35:33.589745",
     "status": "completed"
    },
    "tags": []
   },
   "outputs": [
    {
     "data": {
      "text/plain": [
       "Oboe        92293\n",
       "Piano       84517\n",
       "Bassoon     68448\n",
       "Theremin    54742\n",
       "Name: nom_4, dtype: int64"
      ]
     },
     "execution_count": 51,
     "metadata": {},
     "output_type": "execute_result"
    }
   ],
   "source": [
    "data['nom_4'].value_counts()"
   ]
  },
  {
   "cell_type": "code",
   "execution_count": 52,
   "metadata": {
    "execution": {
     "iopub.execute_input": "2021-04-17T17:35:34.620134Z",
     "iopub.status.busy": "2021-04-17T17:35:34.619423Z",
     "iopub.status.idle": "2021-04-17T17:35:34.627903Z",
     "shell.execute_reply": "2021-04-17T17:35:34.627299Z"
    },
    "papermill": {
     "duration": 0.374649,
     "end_time": "2021-04-17T17:35:34.628042",
     "exception": false,
     "start_time": "2021-04-17T17:35:34.253393",
     "status": "completed"
    },
    "tags": []
   },
   "outputs": [
    {
     "data": {
      "text/plain": [
       "f7821e391    2801\n",
       "06eeaf0aa    2750\n",
       "472efea17    2729\n",
       "20b10a832    2725\n",
       "b97f51ac4    2717\n",
       "             ... \n",
       "91c80026f      64\n",
       "88f104c00      59\n",
       "f802a9849      46\n",
       "1fd0233cd      41\n",
       "f710fca39      26\n",
       "Name: nom_5, Length: 222, dtype: int64"
      ]
     },
     "execution_count": 52,
     "metadata": {},
     "output_type": "execute_result"
    }
   ],
   "source": [
    "data['nom_5'].value_counts()"
   ]
  },
  {
   "cell_type": "code",
   "execution_count": 53,
   "metadata": {
    "execution": {
     "iopub.execute_input": "2021-04-17T17:35:35.317599Z",
     "iopub.status.busy": "2021-04-17T17:35:35.316598Z",
     "iopub.status.idle": "2021-04-17T17:35:35.325965Z",
     "shell.execute_reply": "2021-04-17T17:35:35.325372Z"
    },
    "papermill": {
     "duration": 0.39157,
     "end_time": "2021-04-17T17:35:35.326114",
     "exception": false,
     "start_time": "2021-04-17T17:35:34.934544",
     "status": "completed"
    },
    "tags": []
   },
   "outputs": [
    {
     "data": {
      "text/plain": [
       "d173ac7ca    1218\n",
       "2ed5a94b0    1210\n",
       "c9eedfbc2    1193\n",
       "50d7ad46a    1175\n",
       "0922e3cb8    1169\n",
       "             ... \n",
       "26bf5ddd9      16\n",
       "28630a5c8      12\n",
       "8367b78fc      11\n",
       "e97824431       8\n",
       "4dcab4fc8       5\n",
       "Name: nom_6, Length: 522, dtype: int64"
      ]
     },
     "execution_count": 53,
     "metadata": {},
     "output_type": "execute_result"
    }
   ],
   "source": [
    "data['nom_6'].value_counts()"
   ]
  },
  {
   "cell_type": "code",
   "execution_count": 54,
   "metadata": {
    "execution": {
     "iopub.execute_input": "2021-04-17T17:35:35.987887Z",
     "iopub.status.busy": "2021-04-17T17:35:35.986907Z",
     "iopub.status.idle": "2021-04-17T17:35:35.997092Z",
     "shell.execute_reply": "2021-04-17T17:35:35.996491Z"
    },
    "papermill": {
     "duration": 0.378421,
     "end_time": "2021-04-17T17:35:35.997232",
     "exception": false,
     "start_time": "2021-04-17T17:35:35.618811",
     "status": "completed"
    },
    "tags": []
   },
   "outputs": [
    {
     "data": {
      "text/plain": [
       "3a114adea    534\n",
       "3b679e531    518\n",
       "6f3940b72    518\n",
       "fcf2b8dce    517\n",
       "fe27cc23d    515\n",
       "            ... \n",
       "2b5df4f24      3\n",
       "f718e6e9c      3\n",
       "446df0c98      3\n",
       "74a1b69b1      2\n",
       "3460d7c4b      1\n",
       "Name: nom_7, Length: 1220, dtype: int64"
      ]
     },
     "execution_count": 54,
     "metadata": {},
     "output_type": "execute_result"
    }
   ],
   "source": [
    "data['nom_7'].value_counts()"
   ]
  },
  {
   "cell_type": "code",
   "execution_count": 55,
   "metadata": {
    "execution": {
     "iopub.execute_input": "2021-04-17T17:35:36.614526Z",
     "iopub.status.busy": "2021-04-17T17:35:36.601530Z",
     "iopub.status.idle": "2021-04-17T17:35:36.617650Z",
     "shell.execute_reply": "2021-04-17T17:35:36.616996Z"
    },
    "papermill": {
     "duration": 0.327165,
     "end_time": "2021-04-17T17:35:36.617805",
     "exception": false,
     "start_time": "2021-04-17T17:35:36.290640",
     "status": "completed"
    },
    "tags": []
   },
   "outputs": [],
   "source": [
    "data.drop(['ord_5', 'nom_5', 'nom_6', 'nom_7', 'nom_8', 'nom_9'], axis = 1, inplace = True)"
   ]
  },
  {
   "cell_type": "code",
   "execution_count": null,
   "metadata": {
    "papermill": {
     "duration": 0.293222,
     "end_time": "2021-04-17T17:35:37.206719",
     "exception": false,
     "start_time": "2021-04-17T17:35:36.913497",
     "status": "completed"
    },
    "tags": []
   },
   "outputs": [],
   "source": []
  },
  {
   "cell_type": "code",
   "execution_count": 56,
   "metadata": {
    "execution": {
     "iopub.execute_input": "2021-04-17T17:35:37.792450Z",
     "iopub.status.busy": "2021-04-17T17:35:37.791858Z",
     "iopub.status.idle": "2021-04-17T17:35:37.796178Z",
     "shell.execute_reply": "2021-04-17T17:35:37.796676Z"
    },
    "papermill": {
     "duration": 0.299803,
     "end_time": "2021-04-17T17:35:37.796854",
     "exception": false,
     "start_time": "2021-04-17T17:35:37.497051",
     "status": "completed"
    },
    "tags": []
   },
   "outputs": [
    {
     "data": {
      "text/plain": [
       "\"data['day'] = data['day'] / 7.0\\n\\ndata['month'] = data['month'] / 12.0\""
      ]
     },
     "execution_count": 56,
     "metadata": {},
     "output_type": "execute_result"
    }
   ],
   "source": [
    "\"\"\"data['day'] = data['day'] / 7.0\n",
    "\n",
    "data['month'] = data['month'] / 12.0\"\"\""
   ]
  },
  {
   "cell_type": "code",
   "execution_count": 57,
   "metadata": {
    "execution": {
     "iopub.execute_input": "2021-04-17T17:35:38.399499Z",
     "iopub.status.busy": "2021-04-17T17:35:38.398785Z",
     "iopub.status.idle": "2021-04-17T17:35:38.403798Z",
     "shell.execute_reply": "2021-04-17T17:35:38.402996Z"
    },
    "papermill": {
     "duration": 0.315167,
     "end_time": "2021-04-17T17:35:38.403944",
     "exception": false,
     "start_time": "2021-04-17T17:35:38.088777",
     "status": "completed"
    },
    "tags": []
   },
   "outputs": [
    {
     "data": {
      "text/html": [
       "<div>\n",
       "<style scoped>\n",
       "    .dataframe tbody tr th:only-of-type {\n",
       "        vertical-align: middle;\n",
       "    }\n",
       "\n",
       "    .dataframe tbody tr th {\n",
       "        vertical-align: top;\n",
       "    }\n",
       "\n",
       "    .dataframe thead th {\n",
       "        text-align: right;\n",
       "    }\n",
       "</style>\n",
       "<table border=\"1\" class=\"dataframe\">\n",
       "  <thead>\n",
       "    <tr style=\"text-align: right;\">\n",
       "      <th></th>\n",
       "      <th>bin_0</th>\n",
       "      <th>bin_1</th>\n",
       "      <th>bin_2</th>\n",
       "      <th>bin_3</th>\n",
       "      <th>bin_4</th>\n",
       "      <th>nom_0</th>\n",
       "      <th>nom_1</th>\n",
       "      <th>nom_2</th>\n",
       "      <th>nom_3</th>\n",
       "      <th>nom_4</th>\n",
       "      <th>ord_0</th>\n",
       "      <th>ord_1</th>\n",
       "      <th>ord_2</th>\n",
       "      <th>ord_3</th>\n",
       "      <th>ord_4</th>\n",
       "      <th>day</th>\n",
       "      <th>month</th>\n",
       "      <th>target</th>\n",
       "      <th>ord_5a</th>\n",
       "      <th>ord_5b</th>\n",
       "    </tr>\n",
       "  </thead>\n",
       "  <tbody>\n",
       "    <tr>\n",
       "      <th>0</th>\n",
       "      <td>0</td>\n",
       "      <td>0</td>\n",
       "      <td>0</td>\n",
       "      <td>1</td>\n",
       "      <td>1</td>\n",
       "      <td>Green</td>\n",
       "      <td>Triangle</td>\n",
       "      <td>Snake</td>\n",
       "      <td>Finland</td>\n",
       "      <td>Bassoon</td>\n",
       "      <td>2</td>\n",
       "      <td>4</td>\n",
       "      <td>1</td>\n",
       "      <td>7</td>\n",
       "      <td>3</td>\n",
       "      <td>2</td>\n",
       "      <td>2</td>\n",
       "      <td>0</td>\n",
       "      <td>36</td>\n",
       "      <td>43</td>\n",
       "    </tr>\n",
       "    <tr>\n",
       "      <th>1</th>\n",
       "      <td>0</td>\n",
       "      <td>1</td>\n",
       "      <td>0</td>\n",
       "      <td>1</td>\n",
       "      <td>1</td>\n",
       "      <td>Green</td>\n",
       "      <td>Trapezoid</td>\n",
       "      <td>Hamster</td>\n",
       "      <td>Russia</td>\n",
       "      <td>Piano</td>\n",
       "      <td>1</td>\n",
       "      <td>4</td>\n",
       "      <td>3</td>\n",
       "      <td>0</td>\n",
       "      <td>0</td>\n",
       "      <td>7</td>\n",
       "      <td>8</td>\n",
       "      <td>0</td>\n",
       "      <td>27</td>\n",
       "      <td>5</td>\n",
       "    </tr>\n",
       "    <tr>\n",
       "      <th>2</th>\n",
       "      <td>0</td>\n",
       "      <td>0</td>\n",
       "      <td>0</td>\n",
       "      <td>0</td>\n",
       "      <td>1</td>\n",
       "      <td>Blue</td>\n",
       "      <td>Trapezoid</td>\n",
       "      <td>Lion</td>\n",
       "      <td>Russia</td>\n",
       "      <td>Theremin</td>\n",
       "      <td>1</td>\n",
       "      <td>2</td>\n",
       "      <td>4</td>\n",
       "      <td>7</td>\n",
       "      <td>17</td>\n",
       "      <td>7</td>\n",
       "      <td>2</td>\n",
       "      <td>0</td>\n",
       "      <td>9</td>\n",
       "      <td>28</td>\n",
       "    </tr>\n",
       "    <tr>\n",
       "      <th>3</th>\n",
       "      <td>0</td>\n",
       "      <td>1</td>\n",
       "      <td>0</td>\n",
       "      <td>0</td>\n",
       "      <td>1</td>\n",
       "      <td>Red</td>\n",
       "      <td>Trapezoid</td>\n",
       "      <td>Snake</td>\n",
       "      <td>Canada</td>\n",
       "      <td>Oboe</td>\n",
       "      <td>1</td>\n",
       "      <td>4</td>\n",
       "      <td>0</td>\n",
       "      <td>8</td>\n",
       "      <td>3</td>\n",
       "      <td>2</td>\n",
       "      <td>1</td>\n",
       "      <td>1</td>\n",
       "      <td>36</td>\n",
       "      <td>22</td>\n",
       "    </tr>\n",
       "    <tr>\n",
       "      <th>4</th>\n",
       "      <td>0</td>\n",
       "      <td>0</td>\n",
       "      <td>0</td>\n",
       "      <td>0</td>\n",
       "      <td>0</td>\n",
       "      <td>Red</td>\n",
       "      <td>Trapezoid</td>\n",
       "      <td>Lion</td>\n",
       "      <td>Canada</td>\n",
       "      <td>Oboe</td>\n",
       "      <td>1</td>\n",
       "      <td>4</td>\n",
       "      <td>2</td>\n",
       "      <td>0</td>\n",
       "      <td>17</td>\n",
       "      <td>7</td>\n",
       "      <td>8</td>\n",
       "      <td>0</td>\n",
       "      <td>42</td>\n",
       "      <td>15</td>\n",
       "    </tr>\n",
       "  </tbody>\n",
       "</table>\n",
       "</div>"
      ],
      "text/plain": [
       "   bin_0  bin_1  bin_2  bin_3  bin_4  nom_0      nom_1    nom_2    nom_3  \\\n",
       "0      0      0      0      1      1  Green   Triangle    Snake  Finland   \n",
       "1      0      1      0      1      1  Green  Trapezoid  Hamster   Russia   \n",
       "2      0      0      0      0      1   Blue  Trapezoid     Lion   Russia   \n",
       "3      0      1      0      0      1    Red  Trapezoid    Snake   Canada   \n",
       "4      0      0      0      0      0    Red  Trapezoid     Lion   Canada   \n",
       "\n",
       "      nom_4  ord_0  ord_1  ord_2  ord_3  ord_4  day  month  target  ord_5a  \\\n",
       "0   Bassoon      2      4      1      7      3    2      2       0      36   \n",
       "1     Piano      1      4      3      0      0    7      8       0      27   \n",
       "2  Theremin      1      2      4      7     17    7      2       0       9   \n",
       "3      Oboe      1      4      0      8      3    2      1       1      36   \n",
       "4      Oboe      1      4      2      0     17    7      8       0      42   \n",
       "\n",
       "   ord_5b  \n",
       "0      43  \n",
       "1       5  \n",
       "2      28  \n",
       "3      22  \n",
       "4      15  "
      ]
     },
     "execution_count": 57,
     "metadata": {},
     "output_type": "execute_result"
    }
   ],
   "source": [
    "data.head()"
   ]
  },
  {
   "cell_type": "markdown",
   "metadata": {
    "papermill": {
     "duration": 0.335044,
     "end_time": "2021-04-17T17:35:39.027778",
     "exception": false,
     "start_time": "2021-04-17T17:35:38.692734",
     "status": "completed"
    },
    "tags": []
   },
   "source": [
    "Let's encode the remaining of the nominal values"
   ]
  },
  {
   "cell_type": "code",
   "execution_count": 58,
   "metadata": {
    "execution": {
     "iopub.execute_input": "2021-04-17T17:35:39.658267Z",
     "iopub.status.busy": "2021-04-17T17:35:39.657534Z",
     "iopub.status.idle": "2021-04-17T17:35:39.692943Z",
     "shell.execute_reply": "2021-04-17T17:35:39.693429Z"
    },
    "papermill": {
     "duration": 0.374,
     "end_time": "2021-04-17T17:35:39.693607",
     "exception": false,
     "start_time": "2021-04-17T17:35:39.319607",
     "status": "completed"
    },
    "tags": []
   },
   "outputs": [
    {
     "data": {
      "text/plain": [
       "Trapezoid    101181\n",
       "Square        49597\n",
       "Star          45904\n",
       "Circle        37320\n",
       "Polygon       36143\n",
       "Triangle      29855\n",
       "Name: nom_1, dtype: int64"
      ]
     },
     "execution_count": 58,
     "metadata": {},
     "output_type": "execute_result"
    }
   ],
   "source": [
    "data['nom_1'].value_counts()"
   ]
  },
  {
   "cell_type": "code",
   "execution_count": 59,
   "metadata": {
    "execution": {
     "iopub.execute_input": "2021-04-17T17:35:40.283441Z",
     "iopub.status.busy": "2021-04-17T17:35:40.282836Z",
     "iopub.status.idle": "2021-04-17T17:35:40.345111Z",
     "shell.execute_reply": "2021-04-17T17:35:40.345703Z"
    },
    "papermill": {
     "duration": 0.360146,
     "end_time": "2021-04-17T17:35:40.345877",
     "exception": false,
     "start_time": "2021-04-17T17:35:39.985731",
     "status": "completed"
    },
    "tags": []
   },
   "outputs": [],
   "source": [
    "m1_nom1 = {'Trapezoid' : 0, 'Square' : 1, 'Star' : 2, 'Circle' : 3, 'Polygon' : 4, 'Triangle' : 5}\n",
    "\n",
    "data['nom_1'] = data['nom_1'].map(m1_nom1)"
   ]
  },
  {
   "cell_type": "code",
   "execution_count": 60,
   "metadata": {
    "execution": {
     "iopub.execute_input": "2021-04-17T17:35:41.031602Z",
     "iopub.status.busy": "2021-04-17T17:35:41.030721Z",
     "iopub.status.idle": "2021-04-17T17:35:41.066562Z",
     "shell.execute_reply": "2021-04-17T17:35:41.067033Z"
    },
    "papermill": {
     "duration": 0.396667,
     "end_time": "2021-04-17T17:35:41.067209",
     "exception": false,
     "start_time": "2021-04-17T17:35:40.670542",
     "status": "completed"
    },
    "tags": []
   },
   "outputs": [
    {
     "data": {
      "text/plain": [
       "Lion       101295\n",
       "Cat         49659\n",
       "Snake       45979\n",
       "Dog         37444\n",
       "Axolotl     36136\n",
       "Hamster     29487\n",
       "Name: nom_2, dtype: int64"
      ]
     },
     "execution_count": 60,
     "metadata": {},
     "output_type": "execute_result"
    }
   ],
   "source": [
    "data['nom_2'].value_counts()"
   ]
  },
  {
   "cell_type": "code",
   "execution_count": 61,
   "metadata": {
    "execution": {
     "iopub.execute_input": "2021-04-17T17:35:41.663605Z",
     "iopub.status.busy": "2021-04-17T17:35:41.662615Z",
     "iopub.status.idle": "2021-04-17T17:35:41.721803Z",
     "shell.execute_reply": "2021-04-17T17:35:41.722268Z"
    },
    "papermill": {
     "duration": 0.357451,
     "end_time": "2021-04-17T17:35:41.722447",
     "exception": false,
     "start_time": "2021-04-17T17:35:41.364996",
     "status": "completed"
    },
    "tags": []
   },
   "outputs": [],
   "source": [
    "m2_nom2 = {'Lion' : 0, 'Cat' : 1, 'Snake' : 2, 'Dog' : 3, 'Axolotl' : 4, 'Hamster' : 5}\n",
    "data['nom_2'] = data['nom_2'].map(m2_nom2)"
   ]
  },
  {
   "cell_type": "code",
   "execution_count": 62,
   "metadata": {
    "execution": {
     "iopub.execute_input": "2021-04-17T17:35:42.313902Z",
     "iopub.status.busy": "2021-04-17T17:35:42.312968Z",
     "iopub.status.idle": "2021-04-17T17:35:42.392771Z",
     "shell.execute_reply": "2021-04-17T17:35:42.393259Z"
    },
    "papermill": {
     "duration": 0.377928,
     "end_time": "2021-04-17T17:35:42.393427",
     "exception": false,
     "start_time": "2021-04-17T17:35:42.015499",
     "status": "completed"
    },
    "tags": []
   },
   "outputs": [
    {
     "data": {
      "text/plain": [
       "Russia        101123\n",
       "Canada         49951\n",
       "China          46044\n",
       "Finland        36942\n",
       "Costa Rica     35988\n",
       "India          29952\n",
       "Name: nom_3, dtype: int64"
      ]
     },
     "execution_count": 62,
     "metadata": {},
     "output_type": "execute_result"
    }
   ],
   "source": [
    "data['nom_3'].value_counts()"
   ]
  },
  {
   "cell_type": "code",
   "execution_count": 63,
   "metadata": {
    "execution": {
     "iopub.execute_input": "2021-04-17T17:35:42.982926Z",
     "iopub.status.busy": "2021-04-17T17:35:42.981935Z",
     "iopub.status.idle": "2021-04-17T17:35:43.033687Z",
     "shell.execute_reply": "2021-04-17T17:35:43.032996Z"
    },
    "papermill": {
     "duration": 0.347854,
     "end_time": "2021-04-17T17:35:43.033832",
     "exception": false,
     "start_time": "2021-04-17T17:35:42.685978",
     "status": "completed"
    },
    "tags": []
   },
   "outputs": [],
   "source": [
    "m3_nom3 = {'Russia' : 0, 'Canada' : 1, 'China' : 2, 'Finland' : 3, 'Costa Rica' : 4, 'India' : 5}\n",
    "\n",
    "data['nom_3'] = data['nom_3'].map(m3_nom3)"
   ]
  },
  {
   "cell_type": "code",
   "execution_count": 64,
   "metadata": {
    "execution": {
     "iopub.execute_input": "2021-04-17T17:35:43.701609Z",
     "iopub.status.busy": "2021-04-17T17:35:43.700955Z",
     "iopub.status.idle": "2021-04-17T17:35:43.707729Z",
     "shell.execute_reply": "2021-04-17T17:35:43.707227Z"
    },
    "papermill": {
     "duration": 0.378259,
     "end_time": "2021-04-17T17:35:43.707870",
     "exception": false,
     "start_time": "2021-04-17T17:35:43.329611",
     "status": "completed"
    },
    "tags": []
   },
   "outputs": [
    {
     "data": {
      "text/plain": [
       "Oboe        92293\n",
       "Piano       84517\n",
       "Bassoon     68448\n",
       "Theremin    54742\n",
       "Name: nom_4, dtype: int64"
      ]
     },
     "execution_count": 64,
     "metadata": {},
     "output_type": "execute_result"
    }
   ],
   "source": [
    "data['nom_4'].value_counts()"
   ]
  },
  {
   "cell_type": "code",
   "execution_count": 65,
   "metadata": {
    "execution": {
     "iopub.execute_input": "2021-04-17T17:35:44.349994Z",
     "iopub.status.busy": "2021-04-17T17:35:44.349254Z",
     "iopub.status.idle": "2021-04-17T17:35:44.356248Z",
     "shell.execute_reply": "2021-04-17T17:35:44.355588Z"
    },
    "papermill": {
     "duration": 0.350118,
     "end_time": "2021-04-17T17:35:44.356386",
     "exception": false,
     "start_time": "2021-04-17T17:35:44.006268",
     "status": "completed"
    },
    "tags": []
   },
   "outputs": [],
   "source": [
    "m4_nom4 = {'Oboe' : 0, 'Piano' : 1, 'Bassoon' : 2, 'Theremin' : 3}\n",
    "\n",
    "data['nom_4'] = data['nom_4'].map(m4_nom4)"
   ]
  },
  {
   "cell_type": "code",
   "execution_count": 66,
   "metadata": {
    "execution": {
     "iopub.execute_input": "2021-04-17T17:35:44.967004Z",
     "iopub.status.busy": "2021-04-17T17:35:44.960178Z",
     "iopub.status.idle": "2021-04-17T17:35:44.971891Z",
     "shell.execute_reply": "2021-04-17T17:35:44.971358Z"
    },
    "papermill": {
     "duration": 0.320242,
     "end_time": "2021-04-17T17:35:44.972038",
     "exception": false,
     "start_time": "2021-04-17T17:35:44.651796",
     "status": "completed"
    },
    "tags": []
   },
   "outputs": [
    {
     "data": {
      "text/html": [
       "<div>\n",
       "<style scoped>\n",
       "    .dataframe tbody tr th:only-of-type {\n",
       "        vertical-align: middle;\n",
       "    }\n",
       "\n",
       "    .dataframe tbody tr th {\n",
       "        vertical-align: top;\n",
       "    }\n",
       "\n",
       "    .dataframe thead th {\n",
       "        text-align: right;\n",
       "    }\n",
       "</style>\n",
       "<table border=\"1\" class=\"dataframe\">\n",
       "  <thead>\n",
       "    <tr style=\"text-align: right;\">\n",
       "      <th></th>\n",
       "      <th>bin_0</th>\n",
       "      <th>bin_1</th>\n",
       "      <th>bin_2</th>\n",
       "      <th>bin_3</th>\n",
       "      <th>bin_4</th>\n",
       "      <th>nom_0</th>\n",
       "      <th>nom_1</th>\n",
       "      <th>nom_2</th>\n",
       "      <th>nom_3</th>\n",
       "      <th>nom_4</th>\n",
       "      <th>ord_0</th>\n",
       "      <th>ord_1</th>\n",
       "      <th>ord_2</th>\n",
       "      <th>ord_3</th>\n",
       "      <th>ord_4</th>\n",
       "      <th>day</th>\n",
       "      <th>month</th>\n",
       "      <th>target</th>\n",
       "      <th>ord_5a</th>\n",
       "      <th>ord_5b</th>\n",
       "    </tr>\n",
       "  </thead>\n",
       "  <tbody>\n",
       "    <tr>\n",
       "      <th>0</th>\n",
       "      <td>0</td>\n",
       "      <td>0</td>\n",
       "      <td>0</td>\n",
       "      <td>1</td>\n",
       "      <td>1</td>\n",
       "      <td>Green</td>\n",
       "      <td>5</td>\n",
       "      <td>2</td>\n",
       "      <td>3</td>\n",
       "      <td>2</td>\n",
       "      <td>2</td>\n",
       "      <td>4</td>\n",
       "      <td>1</td>\n",
       "      <td>7</td>\n",
       "      <td>3</td>\n",
       "      <td>2</td>\n",
       "      <td>2</td>\n",
       "      <td>0</td>\n",
       "      <td>36</td>\n",
       "      <td>43</td>\n",
       "    </tr>\n",
       "    <tr>\n",
       "      <th>1</th>\n",
       "      <td>0</td>\n",
       "      <td>1</td>\n",
       "      <td>0</td>\n",
       "      <td>1</td>\n",
       "      <td>1</td>\n",
       "      <td>Green</td>\n",
       "      <td>0</td>\n",
       "      <td>5</td>\n",
       "      <td>0</td>\n",
       "      <td>1</td>\n",
       "      <td>1</td>\n",
       "      <td>4</td>\n",
       "      <td>3</td>\n",
       "      <td>0</td>\n",
       "      <td>0</td>\n",
       "      <td>7</td>\n",
       "      <td>8</td>\n",
       "      <td>0</td>\n",
       "      <td>27</td>\n",
       "      <td>5</td>\n",
       "    </tr>\n",
       "    <tr>\n",
       "      <th>2</th>\n",
       "      <td>0</td>\n",
       "      <td>0</td>\n",
       "      <td>0</td>\n",
       "      <td>0</td>\n",
       "      <td>1</td>\n",
       "      <td>Blue</td>\n",
       "      <td>0</td>\n",
       "      <td>0</td>\n",
       "      <td>0</td>\n",
       "      <td>3</td>\n",
       "      <td>1</td>\n",
       "      <td>2</td>\n",
       "      <td>4</td>\n",
       "      <td>7</td>\n",
       "      <td>17</td>\n",
       "      <td>7</td>\n",
       "      <td>2</td>\n",
       "      <td>0</td>\n",
       "      <td>9</td>\n",
       "      <td>28</td>\n",
       "    </tr>\n",
       "    <tr>\n",
       "      <th>3</th>\n",
       "      <td>0</td>\n",
       "      <td>1</td>\n",
       "      <td>0</td>\n",
       "      <td>0</td>\n",
       "      <td>1</td>\n",
       "      <td>Red</td>\n",
       "      <td>0</td>\n",
       "      <td>2</td>\n",
       "      <td>1</td>\n",
       "      <td>0</td>\n",
       "      <td>1</td>\n",
       "      <td>4</td>\n",
       "      <td>0</td>\n",
       "      <td>8</td>\n",
       "      <td>3</td>\n",
       "      <td>2</td>\n",
       "      <td>1</td>\n",
       "      <td>1</td>\n",
       "      <td>36</td>\n",
       "      <td>22</td>\n",
       "    </tr>\n",
       "    <tr>\n",
       "      <th>4</th>\n",
       "      <td>0</td>\n",
       "      <td>0</td>\n",
       "      <td>0</td>\n",
       "      <td>0</td>\n",
       "      <td>0</td>\n",
       "      <td>Red</td>\n",
       "      <td>0</td>\n",
       "      <td>0</td>\n",
       "      <td>1</td>\n",
       "      <td>0</td>\n",
       "      <td>1</td>\n",
       "      <td>4</td>\n",
       "      <td>2</td>\n",
       "      <td>0</td>\n",
       "      <td>17</td>\n",
       "      <td>7</td>\n",
       "      <td>8</td>\n",
       "      <td>0</td>\n",
       "      <td>42</td>\n",
       "      <td>15</td>\n",
       "    </tr>\n",
       "  </tbody>\n",
       "</table>\n",
       "</div>"
      ],
      "text/plain": [
       "   bin_0  bin_1  bin_2  bin_3  bin_4  nom_0  nom_1  nom_2  nom_3  nom_4  \\\n",
       "0      0      0      0      1      1  Green      5      2      3      2   \n",
       "1      0      1      0      1      1  Green      0      5      0      1   \n",
       "2      0      0      0      0      1   Blue      0      0      0      3   \n",
       "3      0      1      0      0      1    Red      0      2      1      0   \n",
       "4      0      0      0      0      0    Red      0      0      1      0   \n",
       "\n",
       "   ord_0  ord_1  ord_2  ord_3  ord_4  day  month  target  ord_5a  ord_5b  \n",
       "0      2      4      1      7      3    2      2       0      36      43  \n",
       "1      1      4      3      0      0    7      8       0      27       5  \n",
       "2      1      2      4      7     17    7      2       0       9      28  \n",
       "3      1      4      0      8      3    2      1       1      36      22  \n",
       "4      1      4      2      0     17    7      8       0      42      15  "
      ]
     },
     "execution_count": 66,
     "metadata": {},
     "output_type": "execute_result"
    }
   ],
   "source": [
    "data.head()"
   ]
  },
  {
   "cell_type": "code",
   "execution_count": 67,
   "metadata": {
    "execution": {
     "iopub.execute_input": "2021-04-17T17:35:45.681239Z",
     "iopub.status.busy": "2021-04-17T17:35:45.680562Z",
     "iopub.status.idle": "2021-04-17T17:35:45.687112Z",
     "shell.execute_reply": "2021-04-17T17:35:45.686596Z"
    },
    "papermill": {
     "duration": 0.376835,
     "end_time": "2021-04-17T17:35:45.687253",
     "exception": false,
     "start_time": "2021-04-17T17:35:45.310418",
     "status": "completed"
    },
    "tags": []
   },
   "outputs": [
    {
     "data": {
      "text/plain": [
       "Green    127341\n",
       "Blue      96166\n",
       "Red       76493\n",
       "Name: nom_0, dtype: int64"
      ]
     },
     "execution_count": 67,
     "metadata": {},
     "output_type": "execute_result"
    }
   ],
   "source": [
    "data['nom_0'].value_counts()"
   ]
  },
  {
   "cell_type": "code",
   "execution_count": 68,
   "metadata": {
    "execution": {
     "iopub.execute_input": "2021-04-17T17:35:46.342274Z",
     "iopub.status.busy": "2021-04-17T17:35:46.341129Z",
     "iopub.status.idle": "2021-04-17T17:35:46.346695Z",
     "shell.execute_reply": "2021-04-17T17:35:46.346117Z"
    },
    "papermill": {
     "duration": 0.341999,
     "end_time": "2021-04-17T17:35:46.346855",
     "exception": false,
     "start_time": "2021-04-17T17:35:46.004856",
     "status": "completed"
    },
    "tags": []
   },
   "outputs": [],
   "source": [
    "m0_nom0 = {'Green' : 0, 'Blue' : 1, 'Red' : 2}\n",
    "\n",
    "data['nom_0'] = data['nom_0'].map(m0_nom0)"
   ]
  },
  {
   "cell_type": "code",
   "execution_count": null,
   "metadata": {
    "papermill": {
     "duration": 0.298345,
     "end_time": "2021-04-17T17:35:46.939650",
     "exception": false,
     "start_time": "2021-04-17T17:35:46.641305",
     "status": "completed"
    },
    "tags": []
   },
   "outputs": [],
   "source": []
  },
  {
   "cell_type": "markdown",
   "metadata": {
    "papermill": {
     "duration": 0.294756,
     "end_time": "2021-04-17T17:35:47.531971",
     "exception": false,
     "start_time": "2021-04-17T17:35:47.237215",
     "status": "completed"
    },
    "tags": []
   },
   "source": [
    "Perform One Hot Encoding of the ordinal features"
   ]
  },
  {
   "cell_type": "markdown",
   "metadata": {
    "papermill": {
     "duration": 0.297427,
     "end_time": "2021-04-17T17:35:48.121827",
     "exception": false,
     "start_time": "2021-04-17T17:35:47.824400",
     "status": "completed"
    },
    "tags": []
   },
   "source": [
    "Label Encoding multiple columns"
   ]
  },
  {
   "cell_type": "code",
   "execution_count": 69,
   "metadata": {
    "execution": {
     "iopub.execute_input": "2021-04-17T17:35:48.716070Z",
     "iopub.status.busy": "2021-04-17T17:35:48.715362Z",
     "iopub.status.idle": "2021-04-17T17:35:48.797588Z",
     "shell.execute_reply": "2021-04-17T17:35:48.797038Z"
    },
    "papermill": {
     "duration": 0.379294,
     "end_time": "2021-04-17T17:35:48.797757",
     "exception": false,
     "start_time": "2021-04-17T17:35:48.418463",
     "status": "completed"
    },
    "tags": []
   },
   "outputs": [],
   "source": [
    "df_copy = data.copy()\n",
    "df_copy.drop(['target'], axis = 1, inplace = True)"
   ]
  },
  {
   "cell_type": "code",
   "execution_count": 70,
   "metadata": {
    "execution": {
     "iopub.execute_input": "2021-04-17T17:35:49.416107Z",
     "iopub.status.busy": "2021-04-17T17:35:49.415420Z",
     "iopub.status.idle": "2021-04-17T17:35:49.697883Z",
     "shell.execute_reply": "2021-04-17T17:35:49.698334Z"
    },
    "papermill": {
     "duration": 0.604113,
     "end_time": "2021-04-17T17:35:49.698508",
     "exception": false,
     "start_time": "2021-04-17T17:35:49.094395",
     "status": "completed"
    },
    "tags": []
   },
   "outputs": [
    {
     "data": {
      "text/html": [
       "<div>\n",
       "<style scoped>\n",
       "    .dataframe tbody tr th:only-of-type {\n",
       "        vertical-align: middle;\n",
       "    }\n",
       "\n",
       "    .dataframe tbody tr th {\n",
       "        vertical-align: top;\n",
       "    }\n",
       "\n",
       "    .dataframe thead th {\n",
       "        text-align: right;\n",
       "    }\n",
       "</style>\n",
       "<table border=\"1\" class=\"dataframe\">\n",
       "  <thead>\n",
       "    <tr style=\"text-align: right;\">\n",
       "      <th></th>\n",
       "      <th>bin_0_0</th>\n",
       "      <th>bin_0_1</th>\n",
       "      <th>bin_1_0</th>\n",
       "      <th>bin_1_1</th>\n",
       "      <th>bin_2_0</th>\n",
       "      <th>bin_2_1</th>\n",
       "      <th>bin_3_0</th>\n",
       "      <th>bin_3_1</th>\n",
       "      <th>bin_4_0</th>\n",
       "      <th>bin_4_1</th>\n",
       "      <th>...</th>\n",
       "      <th>ord_5b_41</th>\n",
       "      <th>ord_5b_42</th>\n",
       "      <th>ord_5b_43</th>\n",
       "      <th>ord_5b_44</th>\n",
       "      <th>ord_5b_45</th>\n",
       "      <th>ord_5b_46</th>\n",
       "      <th>ord_5b_47</th>\n",
       "      <th>ord_5b_48</th>\n",
       "      <th>ord_5b_49</th>\n",
       "      <th>ord_5b_50</th>\n",
       "    </tr>\n",
       "  </thead>\n",
       "  <tbody>\n",
       "    <tr>\n",
       "      <th>0</th>\n",
       "      <td>1</td>\n",
       "      <td>0</td>\n",
       "      <td>1</td>\n",
       "      <td>0</td>\n",
       "      <td>1</td>\n",
       "      <td>0</td>\n",
       "      <td>0</td>\n",
       "      <td>1</td>\n",
       "      <td>0</td>\n",
       "      <td>1</td>\n",
       "      <td>...</td>\n",
       "      <td>0</td>\n",
       "      <td>0</td>\n",
       "      <td>1</td>\n",
       "      <td>0</td>\n",
       "      <td>0</td>\n",
       "      <td>0</td>\n",
       "      <td>0</td>\n",
       "      <td>0</td>\n",
       "      <td>0</td>\n",
       "      <td>0</td>\n",
       "    </tr>\n",
       "    <tr>\n",
       "      <th>1</th>\n",
       "      <td>1</td>\n",
       "      <td>0</td>\n",
       "      <td>0</td>\n",
       "      <td>1</td>\n",
       "      <td>1</td>\n",
       "      <td>0</td>\n",
       "      <td>0</td>\n",
       "      <td>1</td>\n",
       "      <td>0</td>\n",
       "      <td>1</td>\n",
       "      <td>...</td>\n",
       "      <td>0</td>\n",
       "      <td>0</td>\n",
       "      <td>0</td>\n",
       "      <td>0</td>\n",
       "      <td>0</td>\n",
       "      <td>0</td>\n",
       "      <td>0</td>\n",
       "      <td>0</td>\n",
       "      <td>0</td>\n",
       "      <td>0</td>\n",
       "    </tr>\n",
       "    <tr>\n",
       "      <th>2</th>\n",
       "      <td>1</td>\n",
       "      <td>0</td>\n",
       "      <td>1</td>\n",
       "      <td>0</td>\n",
       "      <td>1</td>\n",
       "      <td>0</td>\n",
       "      <td>1</td>\n",
       "      <td>0</td>\n",
       "      <td>0</td>\n",
       "      <td>1</td>\n",
       "      <td>...</td>\n",
       "      <td>0</td>\n",
       "      <td>0</td>\n",
       "      <td>0</td>\n",
       "      <td>0</td>\n",
       "      <td>0</td>\n",
       "      <td>0</td>\n",
       "      <td>0</td>\n",
       "      <td>0</td>\n",
       "      <td>0</td>\n",
       "      <td>0</td>\n",
       "    </tr>\n",
       "    <tr>\n",
       "      <th>3</th>\n",
       "      <td>1</td>\n",
       "      <td>0</td>\n",
       "      <td>0</td>\n",
       "      <td>1</td>\n",
       "      <td>1</td>\n",
       "      <td>0</td>\n",
       "      <td>1</td>\n",
       "      <td>0</td>\n",
       "      <td>0</td>\n",
       "      <td>1</td>\n",
       "      <td>...</td>\n",
       "      <td>0</td>\n",
       "      <td>0</td>\n",
       "      <td>0</td>\n",
       "      <td>0</td>\n",
       "      <td>0</td>\n",
       "      <td>0</td>\n",
       "      <td>0</td>\n",
       "      <td>0</td>\n",
       "      <td>0</td>\n",
       "      <td>0</td>\n",
       "    </tr>\n",
       "    <tr>\n",
       "      <th>4</th>\n",
       "      <td>1</td>\n",
       "      <td>0</td>\n",
       "      <td>1</td>\n",
       "      <td>0</td>\n",
       "      <td>1</td>\n",
       "      <td>0</td>\n",
       "      <td>1</td>\n",
       "      <td>0</td>\n",
       "      <td>1</td>\n",
       "      <td>0</td>\n",
       "      <td>...</td>\n",
       "      <td>0</td>\n",
       "      <td>0</td>\n",
       "      <td>0</td>\n",
       "      <td>0</td>\n",
       "      <td>0</td>\n",
       "      <td>0</td>\n",
       "      <td>0</td>\n",
       "      <td>0</td>\n",
       "      <td>0</td>\n",
       "      <td>0</td>\n",
       "    </tr>\n",
       "    <tr>\n",
       "      <th>...</th>\n",
       "      <td>...</td>\n",
       "      <td>...</td>\n",
       "      <td>...</td>\n",
       "      <td>...</td>\n",
       "      <td>...</td>\n",
       "      <td>...</td>\n",
       "      <td>...</td>\n",
       "      <td>...</td>\n",
       "      <td>...</td>\n",
       "      <td>...</td>\n",
       "      <td>...</td>\n",
       "      <td>...</td>\n",
       "      <td>...</td>\n",
       "      <td>...</td>\n",
       "      <td>...</td>\n",
       "      <td>...</td>\n",
       "      <td>...</td>\n",
       "      <td>...</td>\n",
       "      <td>...</td>\n",
       "      <td>...</td>\n",
       "      <td>...</td>\n",
       "    </tr>\n",
       "    <tr>\n",
       "      <th>299995</th>\n",
       "      <td>1</td>\n",
       "      <td>0</td>\n",
       "      <td>1</td>\n",
       "      <td>0</td>\n",
       "      <td>1</td>\n",
       "      <td>0</td>\n",
       "      <td>0</td>\n",
       "      <td>1</td>\n",
       "      <td>1</td>\n",
       "      <td>0</td>\n",
       "      <td>...</td>\n",
       "      <td>0</td>\n",
       "      <td>0</td>\n",
       "      <td>0</td>\n",
       "      <td>0</td>\n",
       "      <td>0</td>\n",
       "      <td>0</td>\n",
       "      <td>0</td>\n",
       "      <td>0</td>\n",
       "      <td>0</td>\n",
       "      <td>0</td>\n",
       "    </tr>\n",
       "    <tr>\n",
       "      <th>299996</th>\n",
       "      <td>1</td>\n",
       "      <td>0</td>\n",
       "      <td>1</td>\n",
       "      <td>0</td>\n",
       "      <td>1</td>\n",
       "      <td>0</td>\n",
       "      <td>1</td>\n",
       "      <td>0</td>\n",
       "      <td>0</td>\n",
       "      <td>1</td>\n",
       "      <td>...</td>\n",
       "      <td>0</td>\n",
       "      <td>0</td>\n",
       "      <td>0</td>\n",
       "      <td>0</td>\n",
       "      <td>0</td>\n",
       "      <td>0</td>\n",
       "      <td>0</td>\n",
       "      <td>0</td>\n",
       "      <td>0</td>\n",
       "      <td>0</td>\n",
       "    </tr>\n",
       "    <tr>\n",
       "      <th>299997</th>\n",
       "      <td>1</td>\n",
       "      <td>0</td>\n",
       "      <td>1</td>\n",
       "      <td>0</td>\n",
       "      <td>1</td>\n",
       "      <td>0</td>\n",
       "      <td>1</td>\n",
       "      <td>0</td>\n",
       "      <td>0</td>\n",
       "      <td>1</td>\n",
       "      <td>...</td>\n",
       "      <td>0</td>\n",
       "      <td>0</td>\n",
       "      <td>0</td>\n",
       "      <td>0</td>\n",
       "      <td>0</td>\n",
       "      <td>0</td>\n",
       "      <td>0</td>\n",
       "      <td>0</td>\n",
       "      <td>0</td>\n",
       "      <td>0</td>\n",
       "    </tr>\n",
       "    <tr>\n",
       "      <th>299998</th>\n",
       "      <td>1</td>\n",
       "      <td>0</td>\n",
       "      <td>0</td>\n",
       "      <td>1</td>\n",
       "      <td>1</td>\n",
       "      <td>0</td>\n",
       "      <td>1</td>\n",
       "      <td>0</td>\n",
       "      <td>0</td>\n",
       "      <td>1</td>\n",
       "      <td>...</td>\n",
       "      <td>0</td>\n",
       "      <td>0</td>\n",
       "      <td>0</td>\n",
       "      <td>0</td>\n",
       "      <td>0</td>\n",
       "      <td>0</td>\n",
       "      <td>0</td>\n",
       "      <td>0</td>\n",
       "      <td>0</td>\n",
       "      <td>0</td>\n",
       "    </tr>\n",
       "    <tr>\n",
       "      <th>299999</th>\n",
       "      <td>1</td>\n",
       "      <td>0</td>\n",
       "      <td>1</td>\n",
       "      <td>0</td>\n",
       "      <td>1</td>\n",
       "      <td>0</td>\n",
       "      <td>1</td>\n",
       "      <td>0</td>\n",
       "      <td>0</td>\n",
       "      <td>1</td>\n",
       "      <td>...</td>\n",
       "      <td>0</td>\n",
       "      <td>0</td>\n",
       "      <td>0</td>\n",
       "      <td>0</td>\n",
       "      <td>0</td>\n",
       "      <td>0</td>\n",
       "      <td>0</td>\n",
       "      <td>0</td>\n",
       "      <td>0</td>\n",
       "      <td>0</td>\n",
       "    </tr>\n",
       "  </tbody>\n",
       "</table>\n",
       "<p>300000 rows × 212 columns</p>\n",
       "</div>"
      ],
      "text/plain": [
       "        bin_0_0  bin_0_1  bin_1_0  bin_1_1  bin_2_0  bin_2_1  bin_3_0  \\\n",
       "0             1        0        1        0        1        0        0   \n",
       "1             1        0        0        1        1        0        0   \n",
       "2             1        0        1        0        1        0        1   \n",
       "3             1        0        0        1        1        0        1   \n",
       "4             1        0        1        0        1        0        1   \n",
       "...         ...      ...      ...      ...      ...      ...      ...   \n",
       "299995        1        0        1        0        1        0        0   \n",
       "299996        1        0        1        0        1        0        1   \n",
       "299997        1        0        1        0        1        0        1   \n",
       "299998        1        0        0        1        1        0        1   \n",
       "299999        1        0        1        0        1        0        1   \n",
       "\n",
       "        bin_3_1  bin_4_0  bin_4_1  ...  ord_5b_41  ord_5b_42  ord_5b_43  \\\n",
       "0             1        0        1  ...          0          0          1   \n",
       "1             1        0        1  ...          0          0          0   \n",
       "2             0        0        1  ...          0          0          0   \n",
       "3             0        0        1  ...          0          0          0   \n",
       "4             0        1        0  ...          0          0          0   \n",
       "...         ...      ...      ...  ...        ...        ...        ...   \n",
       "299995        1        1        0  ...          0          0          0   \n",
       "299996        0        0        1  ...          0          0          0   \n",
       "299997        0        0        1  ...          0          0          0   \n",
       "299998        0        0        1  ...          0          0          0   \n",
       "299999        0        0        1  ...          0          0          0   \n",
       "\n",
       "        ord_5b_44  ord_5b_45  ord_5b_46  ord_5b_47  ord_5b_48  ord_5b_49  \\\n",
       "0               0          0          0          0          0          0   \n",
       "1               0          0          0          0          0          0   \n",
       "2               0          0          0          0          0          0   \n",
       "3               0          0          0          0          0          0   \n",
       "4               0          0          0          0          0          0   \n",
       "...           ...        ...        ...        ...        ...        ...   \n",
       "299995          0          0          0          0          0          0   \n",
       "299996          0          0          0          0          0          0   \n",
       "299997          0          0          0          0          0          0   \n",
       "299998          0          0          0          0          0          0   \n",
       "299999          0          0          0          0          0          0   \n",
       "\n",
       "        ord_5b_50  \n",
       "0               0  \n",
       "1               0  \n",
       "2               0  \n",
       "3               0  \n",
       "4               0  \n",
       "...           ...  \n",
       "299995          0  \n",
       "299996          0  \n",
       "299997          0  \n",
       "299998          0  \n",
       "299999          0  \n",
       "\n",
       "[300000 rows x 212 columns]"
      ]
     },
     "execution_count": 70,
     "metadata": {},
     "output_type": "execute_result"
    }
   ],
   "source": [
    "df_copy = pd.get_dummies(df_copy, columns = df_copy.columns)\n",
    "df_copy"
   ]
  },
  {
   "cell_type": "code",
   "execution_count": null,
   "metadata": {
    "papermill": {
     "duration": 0.298087,
     "end_time": "2021-04-17T17:35:50.291313",
     "exception": false,
     "start_time": "2021-04-17T17:35:49.993226",
     "status": "completed"
    },
    "tags": []
   },
   "outputs": [],
   "source": []
  },
  {
   "cell_type": "code",
   "execution_count": 71,
   "metadata": {
    "execution": {
     "iopub.execute_input": "2021-04-17T17:35:50.899829Z",
     "iopub.status.busy": "2021-04-17T17:35:50.899174Z",
     "iopub.status.idle": "2021-04-17T17:35:50.903465Z",
     "shell.execute_reply": "2021-04-17T17:35:50.902962Z"
    },
    "papermill": {
     "duration": 0.31645,
     "end_time": "2021-04-17T17:35:50.903647",
     "exception": false,
     "start_time": "2021-04-17T17:35:50.587197",
     "status": "completed"
    },
    "tags": []
   },
   "outputs": [
    {
     "data": {
      "text/html": [
       "<div>\n",
       "<style scoped>\n",
       "    .dataframe tbody tr th:only-of-type {\n",
       "        vertical-align: middle;\n",
       "    }\n",
       "\n",
       "    .dataframe tbody tr th {\n",
       "        vertical-align: top;\n",
       "    }\n",
       "\n",
       "    .dataframe thead th {\n",
       "        text-align: right;\n",
       "    }\n",
       "</style>\n",
       "<table border=\"1\" class=\"dataframe\">\n",
       "  <thead>\n",
       "    <tr style=\"text-align: right;\">\n",
       "      <th></th>\n",
       "      <th>bin_0</th>\n",
       "      <th>bin_1</th>\n",
       "      <th>bin_2</th>\n",
       "      <th>bin_3</th>\n",
       "      <th>bin_4</th>\n",
       "      <th>nom_0</th>\n",
       "      <th>nom_1</th>\n",
       "      <th>nom_2</th>\n",
       "      <th>nom_3</th>\n",
       "      <th>nom_4</th>\n",
       "      <th>ord_0</th>\n",
       "      <th>ord_1</th>\n",
       "      <th>ord_2</th>\n",
       "      <th>ord_3</th>\n",
       "      <th>ord_4</th>\n",
       "      <th>day</th>\n",
       "      <th>month</th>\n",
       "      <th>target</th>\n",
       "      <th>ord_5a</th>\n",
       "      <th>ord_5b</th>\n",
       "    </tr>\n",
       "  </thead>\n",
       "  <tbody>\n",
       "    <tr>\n",
       "      <th>0</th>\n",
       "      <td>0</td>\n",
       "      <td>0</td>\n",
       "      <td>0</td>\n",
       "      <td>1</td>\n",
       "      <td>1</td>\n",
       "      <td>0</td>\n",
       "      <td>5</td>\n",
       "      <td>2</td>\n",
       "      <td>3</td>\n",
       "      <td>2</td>\n",
       "      <td>2</td>\n",
       "      <td>4</td>\n",
       "      <td>1</td>\n",
       "      <td>7</td>\n",
       "      <td>3</td>\n",
       "      <td>2</td>\n",
       "      <td>2</td>\n",
       "      <td>0</td>\n",
       "      <td>36</td>\n",
       "      <td>43</td>\n",
       "    </tr>\n",
       "    <tr>\n",
       "      <th>1</th>\n",
       "      <td>0</td>\n",
       "      <td>1</td>\n",
       "      <td>0</td>\n",
       "      <td>1</td>\n",
       "      <td>1</td>\n",
       "      <td>0</td>\n",
       "      <td>0</td>\n",
       "      <td>5</td>\n",
       "      <td>0</td>\n",
       "      <td>1</td>\n",
       "      <td>1</td>\n",
       "      <td>4</td>\n",
       "      <td>3</td>\n",
       "      <td>0</td>\n",
       "      <td>0</td>\n",
       "      <td>7</td>\n",
       "      <td>8</td>\n",
       "      <td>0</td>\n",
       "      <td>27</td>\n",
       "      <td>5</td>\n",
       "    </tr>\n",
       "    <tr>\n",
       "      <th>2</th>\n",
       "      <td>0</td>\n",
       "      <td>0</td>\n",
       "      <td>0</td>\n",
       "      <td>0</td>\n",
       "      <td>1</td>\n",
       "      <td>1</td>\n",
       "      <td>0</td>\n",
       "      <td>0</td>\n",
       "      <td>0</td>\n",
       "      <td>3</td>\n",
       "      <td>1</td>\n",
       "      <td>2</td>\n",
       "      <td>4</td>\n",
       "      <td>7</td>\n",
       "      <td>17</td>\n",
       "      <td>7</td>\n",
       "      <td>2</td>\n",
       "      <td>0</td>\n",
       "      <td>9</td>\n",
       "      <td>28</td>\n",
       "    </tr>\n",
       "    <tr>\n",
       "      <th>3</th>\n",
       "      <td>0</td>\n",
       "      <td>1</td>\n",
       "      <td>0</td>\n",
       "      <td>0</td>\n",
       "      <td>1</td>\n",
       "      <td>2</td>\n",
       "      <td>0</td>\n",
       "      <td>2</td>\n",
       "      <td>1</td>\n",
       "      <td>0</td>\n",
       "      <td>1</td>\n",
       "      <td>4</td>\n",
       "      <td>0</td>\n",
       "      <td>8</td>\n",
       "      <td>3</td>\n",
       "      <td>2</td>\n",
       "      <td>1</td>\n",
       "      <td>1</td>\n",
       "      <td>36</td>\n",
       "      <td>22</td>\n",
       "    </tr>\n",
       "    <tr>\n",
       "      <th>4</th>\n",
       "      <td>0</td>\n",
       "      <td>0</td>\n",
       "      <td>0</td>\n",
       "      <td>0</td>\n",
       "      <td>0</td>\n",
       "      <td>2</td>\n",
       "      <td>0</td>\n",
       "      <td>0</td>\n",
       "      <td>1</td>\n",
       "      <td>0</td>\n",
       "      <td>1</td>\n",
       "      <td>4</td>\n",
       "      <td>2</td>\n",
       "      <td>0</td>\n",
       "      <td>17</td>\n",
       "      <td>7</td>\n",
       "      <td>8</td>\n",
       "      <td>0</td>\n",
       "      <td>42</td>\n",
       "      <td>15</td>\n",
       "    </tr>\n",
       "  </tbody>\n",
       "</table>\n",
       "</div>"
      ],
      "text/plain": [
       "   bin_0  bin_1  bin_2  bin_3  bin_4  nom_0  nom_1  nom_2  nom_3  nom_4  \\\n",
       "0      0      0      0      1      1      0      5      2      3      2   \n",
       "1      0      1      0      1      1      0      0      5      0      1   \n",
       "2      0      0      0      0      1      1      0      0      0      3   \n",
       "3      0      1      0      0      1      2      0      2      1      0   \n",
       "4      0      0      0      0      0      2      0      0      1      0   \n",
       "\n",
       "   ord_0  ord_1  ord_2  ord_3  ord_4  day  month  target  ord_5a  ord_5b  \n",
       "0      2      4      1      7      3    2      2       0      36      43  \n",
       "1      1      4      3      0      0    7      8       0      27       5  \n",
       "2      1      2      4      7     17    7      2       0       9      28  \n",
       "3      1      4      0      8      3    2      1       1      36      22  \n",
       "4      1      4      2      0     17    7      8       0      42      15  "
      ]
     },
     "execution_count": 71,
     "metadata": {},
     "output_type": "execute_result"
    }
   ],
   "source": [
    "data.head()"
   ]
  },
  {
   "cell_type": "code",
   "execution_count": null,
   "metadata": {
    "papermill": {
     "duration": 0.29744,
     "end_time": "2021-04-17T17:35:51.500804",
     "exception": false,
     "start_time": "2021-04-17T17:35:51.203364",
     "status": "completed"
    },
    "tags": []
   },
   "outputs": [],
   "source": []
  },
  {
   "cell_type": "code",
   "execution_count": 72,
   "metadata": {
    "execution": {
     "iopub.execute_input": "2021-04-17T17:35:52.100778Z",
     "iopub.status.busy": "2021-04-17T17:35:52.100159Z",
     "iopub.status.idle": "2021-04-17T17:35:52.103816Z",
     "shell.execute_reply": "2021-04-17T17:35:52.104275Z"
    },
    "papermill": {
     "duration": 0.307155,
     "end_time": "2021-04-17T17:35:52.104445",
     "exception": false,
     "start_time": "2021-04-17T17:35:51.797290",
     "status": "completed"
    },
    "tags": []
   },
   "outputs": [],
   "source": [
    "#X = data.drop(['target'], axis = 1)\n",
    "X = df_copy\n",
    "y = data.target"
   ]
  },
  {
   "cell_type": "code",
   "execution_count": 73,
   "metadata": {
    "execution": {
     "iopub.execute_input": "2021-04-17T17:35:52.745615Z",
     "iopub.status.busy": "2021-04-17T17:35:52.745032Z",
     "iopub.status.idle": "2021-04-17T17:35:52.749135Z",
     "shell.execute_reply": "2021-04-17T17:35:52.748647Z"
    },
    "papermill": {
     "duration": 0.302493,
     "end_time": "2021-04-17T17:35:52.749262",
     "exception": false,
     "start_time": "2021-04-17T17:35:52.446769",
     "status": "completed"
    },
    "tags": []
   },
   "outputs": [],
   "source": [
    "# perform feature engineering to encode categorical variables so as to be processed by chi2_feature transform"
   ]
  },
  {
   "cell_type": "code",
   "execution_count": null,
   "metadata": {
    "papermill": {
     "duration": 0.297648,
     "end_time": "2021-04-17T17:35:53.345940",
     "exception": false,
     "start_time": "2021-04-17T17:35:53.048292",
     "status": "completed"
    },
    "tags": []
   },
   "outputs": [],
   "source": []
  },
  {
   "cell_type": "code",
   "execution_count": 74,
   "metadata": {
    "execution": {
     "iopub.execute_input": "2021-04-17T17:35:53.944426Z",
     "iopub.status.busy": "2021-04-17T17:35:53.943402Z",
     "iopub.status.idle": "2021-04-17T17:35:55.569837Z",
     "shell.execute_reply": "2021-04-17T17:35:55.570379Z"
    },
    "papermill": {
     "duration": 1.928988,
     "end_time": "2021-04-17T17:35:55.570555",
     "exception": false,
     "start_time": "2021-04-17T17:35:53.641567",
     "status": "completed"
    },
    "tags": []
   },
   "outputs": [
    {
     "name": "stdout",
     "output_type": "stream",
     "text": [
      "Original Number of Features -> (shape) 212\n",
      "K Best Features (shape)->  10\n"
     ]
    }
   ],
   "source": [
    "chi2_features = SelectKBest(chi2, k = 10)\n",
    "X_kbest_features = chi2_features.fit_transform(X,y)\n",
    "\n",
    "print(\"Original Number of Features -> (shape)\", X.shape[1])\n",
    "\n",
    "print(\"K Best Features (shape)-> \",X_kbest_features.shape[1])\n",
    "\n"
   ]
  },
  {
   "cell_type": "code",
   "execution_count": 75,
   "metadata": {
    "execution": {
     "iopub.execute_input": "2021-04-17T17:35:56.175596Z",
     "iopub.status.busy": "2021-04-17T17:35:56.174641Z",
     "iopub.status.idle": "2021-04-17T17:35:56.180406Z",
     "shell.execute_reply": "2021-04-17T17:35:56.181162Z"
    },
    "papermill": {
     "duration": 0.309751,
     "end_time": "2021-04-17T17:35:56.181349",
     "exception": false,
     "start_time": "2021-04-17T17:35:55.871598",
     "status": "completed"
    },
    "tags": []
   },
   "outputs": [
    {
     "data": {
      "text/plain": [
       "array([[0, 0, 1, ..., 0, 0, 0],\n",
       "       [1, 0, 0, ..., 0, 1, 1],\n",
       "       [0, 1, 0, ..., 1, 0, 0],\n",
       "       ...,\n",
       "       [0, 1, 0, ..., 0, 0, 1],\n",
       "       [1, 0, 0, ..., 0, 0, 0],\n",
       "       [0, 1, 1, ..., 0, 0, 0]], dtype=uint8)"
      ]
     },
     "execution_count": 75,
     "metadata": {},
     "output_type": "execute_result"
    }
   ],
   "source": [
    "X_kbest_features"
   ]
  },
  {
   "cell_type": "markdown",
   "metadata": {
    "papermill": {
     "duration": 0.297868,
     "end_time": "2021-04-17T17:35:56.779186",
     "exception": false,
     "start_time": "2021-04-17T17:35:56.481318",
     "status": "completed"
    },
    "tags": []
   },
   "source": [
    "##### solving chi2 test generic questions and numericals using python "
   ]
  },
  {
   "cell_type": "markdown",
   "metadata": {
    "papermill": {
     "duration": 0.298726,
     "end_time": "2021-04-17T17:35:57.410288",
     "exception": false,
     "start_time": "2021-04-17T17:35:57.111562",
     "status": "completed"
    },
    "tags": []
   },
   "source": [
    "q1. A survey of 500 respondents is depicted in the table below. <br> (In Making)\n",
    "\n",
    "\n",
    "\n",
    "|Type| No regular Exercise  | Sporadic Exercise | Regular Exercise | Total  |\n",
    "|----|-----|----|----|-----|\n",
    "|Dormitory| 32  | 30 | 28 | 90 |\n",
    "|On-Campus Apartment| 74 | 64 | 42 | 180 |\n",
    "|Off-Campus Apartment| 110  | 25  | 15  | 150  |\n",
    "|At home| 39 | 6 | 5 | 50 |\n",
    "|Total | 255 | 125 | 90 | 470\n",
    "\n",
    "\n",
    "<br>Based on the above data, is there any relationship between exercise and student's living arrangement? <br>\n",
    "\n",
    "\n",
    "Soln. \n",
    "\n",
    "\n",
    "H0 -> Living arrangement and exercise are independent <br><br>\n",
    "H1 -> Are dependent \n"
   ]
  },
  {
   "cell_type": "code",
   "execution_count": null,
   "metadata": {
    "papermill": {
     "duration": 0.299934,
     "end_time": "2021-04-17T17:35:58.008302",
     "exception": false,
     "start_time": "2021-04-17T17:35:57.708368",
     "status": "completed"
    },
    "tags": []
   },
   "outputs": [],
   "source": []
  },
  {
   "cell_type": "code",
   "execution_count": null,
   "metadata": {
    "papermill": {
     "duration": 0.297767,
     "end_time": "2021-04-17T17:35:58.603673",
     "exception": false,
     "start_time": "2021-04-17T17:35:58.305906",
     "status": "completed"
    },
    "tags": []
   },
   "outputs": [],
   "source": []
  },
  {
   "cell_type": "markdown",
   "metadata": {
    "papermill": {
     "duration": 0.301344,
     "end_time": "2021-04-17T17:35:59.201740",
     "exception": false,
     "start_time": "2021-04-17T17:35:58.900396",
     "status": "completed"
    },
    "tags": []
   },
   "source": [
    "### 4. T-Test"
   ]
  },
  {
   "cell_type": "markdown",
   "metadata": {
    "papermill": {
     "duration": 0.338941,
     "end_time": "2021-04-17T17:35:59.838963",
     "exception": false,
     "start_time": "2021-04-17T17:35:59.500022",
     "status": "completed"
    },
    "tags": []
   },
   "source": [
    "t-test also known as Student's t-test compares the two averages (means) and tells you if they are different from each other. <br>\n",
    "Can also tell you how significant the differences are. "
   ]
  },
  {
   "cell_type": "markdown",
   "metadata": {
    "papermill": {
     "duration": 0.301451,
     "end_time": "2021-04-17T17:36:00.437237",
     "exception": false,
     "start_time": "2021-04-17T17:36:00.135786",
     "status": "completed"
    },
    "tags": []
   },
   "source": [
    "**t-score**"
   ]
  },
  {
   "cell_type": "markdown",
   "metadata": {
    "papermill": {
     "duration": 0.299425,
     "end_time": "2021-04-17T17:36:01.036457",
     "exception": false,
     "start_time": "2021-04-17T17:36:00.737032",
     "status": "completed"
    },
    "tags": []
   },
   "source": [
    "**T-Values vs P-Values**"
   ]
  },
  {
   "cell_type": "code",
   "execution_count": null,
   "metadata": {
    "papermill": {
     "duration": 0.29901,
     "end_time": "2021-04-17T17:36:01.635339",
     "exception": false,
     "start_time": "2021-04-17T17:36:01.336329",
     "status": "completed"
    },
    "tags": []
   },
   "outputs": [],
   "source": []
  },
  {
   "cell_type": "markdown",
   "metadata": {
    "papermill": {
     "duration": 0.300564,
     "end_time": "2021-04-17T17:36:02.231095",
     "exception": false,
     "start_time": "2021-04-17T17:36:01.930531",
     "status": "completed"
    },
    "tags": []
   },
   "source": [
    "Types of T-Test <br>\n",
    "* Independent Samples t-test\n",
    "* Paired Sample t-test\n",
    "* One Sample t-test"
   ]
  },
  {
   "cell_type": "markdown",
   "metadata": {
    "papermill": {
     "duration": 0.296975,
     "end_time": "2021-04-17T17:36:02.827364",
     "exception": false,
     "start_time": "2021-04-17T17:36:02.530389",
     "status": "completed"
    },
    "tags": []
   },
   "source": [
    "### 5. Z-Test"
   ]
  },
  {
   "cell_type": "markdown",
   "metadata": {
    "papermill": {
     "duration": 0.298102,
     "end_time": "2021-04-17T17:36:03.423894",
     "exception": false,
     "start_time": "2021-04-17T17:36:03.125792",
     "status": "completed"
    },
    "tags": []
   },
   "source": [
    "Helps to determine whether the distribution of the test statistics can be approximated by a normal distribution. <br>\n",
    "Helps to determine whether two sample means are approximately the same when their variance is known and the sample size is large enough."
   ]
  },
  {
   "cell_type": "markdown",
   "metadata": {
    "papermill": {
     "duration": 0.297517,
     "end_time": "2021-04-17T17:36:04.017142",
     "exception": false,
     "start_time": "2021-04-17T17:36:03.719625",
     "status": "completed"
    },
    "tags": []
   },
   "source": [
    "Q1. The grades on a physics midterm at Covington are roughly symmetric with μ=72, σ=2.0. <br>\n",
    "Stephanie scored 74 on the exam. <br>\n",
    "Z-Score to stephanie's exam score. "
   ]
  },
  {
   "cell_type": "code",
   "execution_count": 76,
   "metadata": {
    "execution": {
     "iopub.execute_input": "2021-04-17T17:36:04.625598Z",
     "iopub.status.busy": "2021-04-17T17:36:04.624764Z",
     "iopub.status.idle": "2021-04-17T17:36:04.628595Z",
     "shell.execute_reply": "2021-04-17T17:36:04.628117Z"
    },
    "papermill": {
     "duration": 0.309748,
     "end_time": "2021-04-17T17:36:04.628747",
     "exception": false,
     "start_time": "2021-04-17T17:36:04.318999",
     "status": "completed"
    },
    "tags": []
   },
   "outputs": [
    {
     "name": "stdout",
     "output_type": "stream",
     "text": [
      "1.0\n"
     ]
    }
   ],
   "source": [
    "z = (74 - 72 )/ 2\n",
    "\n",
    "print(z)"
   ]
  },
  {
   "cell_type": "markdown",
   "metadata": {
    "papermill": {
     "duration": 0.302795,
     "end_time": "2021-04-17T17:36:05.232111",
     "exception": false,
     "start_time": "2021-04-17T17:36:04.929316",
     "status": "completed"
    },
    "tags": []
   },
   "source": [
    "Q2. Following are the summary statistics of life spans of two breeds of cats. <br>\n",
    "\n",
    "| Breed  |Mean Life Span (yrs)   | Standard Deviation  |  \n",
    "|---|---|---|\n",
    "| Abyssinian  | 12  | 1.5  | \n",
    "| Colorpoint shorthair  |  14 | 1  |   \n",
    "\n",
    "Fluffy was an Abyssinian cat who lived for 13 years, and Mittens was a colorpoint shorthair cat who lived for 15 years.<br>\n",
    "Relative to the breed, which cat had a longer life span? <br><br>\n",
    "\n",
    "* Fluffy \n",
    "* Mittens\n",
    "* Fluffy and Mittens had equally long lifespans relative to their breeds.\n",
    "* It's impossible to say without seeing all of the individual lifespans.\n",
    "* It's impossible to say since we don't know the shape of either distribution."
   ]
  },
  {
   "cell_type": "code",
   "execution_count": 77,
   "metadata": {
    "execution": {
     "iopub.execute_input": "2021-04-17T17:36:05.834431Z",
     "iopub.status.busy": "2021-04-17T17:36:05.833791Z",
     "iopub.status.idle": "2021-04-17T17:36:05.836924Z",
     "shell.execute_reply": "2021-04-17T17:36:05.837389Z"
    },
    "papermill": {
     "duration": 0.307079,
     "end_time": "2021-04-17T17:36:05.837572",
     "exception": false,
     "start_time": "2021-04-17T17:36:05.530493",
     "status": "completed"
    },
    "tags": []
   },
   "outputs": [
    {
     "name": "stdout",
     "output_type": "stream",
     "text": [
      "Z Score for Fluffy ->  0.6666666666666666\n",
      "Z Score for Mittens ->  1.0\n"
     ]
    }
   ],
   "source": [
    "z1 = (13 - 12) / 1.5\n",
    "\n",
    "z2 = (15 - 14) / 1\n",
    "\n",
    "print(\"Z Score for Fluffy -> \", z1)\n",
    "print(\"Z Score for Mittens -> \", z2)"
   ]
  },
  {
   "cell_type": "markdown",
   "metadata": {
    "papermill": {
     "duration": 0.342146,
     "end_time": "2021-04-17T17:36:06.474694",
     "exception": false,
     "start_time": "2021-04-17T17:36:06.132548",
     "status": "completed"
    },
    "tags": []
   },
   "source": [
    "Mittens had a longer lifespan"
   ]
  },
  {
   "cell_type": "code",
   "execution_count": null,
   "metadata": {
    "papermill": {
     "duration": 0.304181,
     "end_time": "2021-04-17T17:36:07.074954",
     "exception": false,
     "start_time": "2021-04-17T17:36:06.770773",
     "status": "completed"
    },
    "tags": []
   },
   "outputs": [],
   "source": []
  },
  {
   "cell_type": "markdown",
   "metadata": {
    "papermill": {
     "duration": 0.298873,
     "end_time": "2021-04-17T17:36:07.674939",
     "exception": false,
     "start_time": "2021-04-17T17:36:07.376066",
     "status": "completed"
    },
    "tags": []
   },
   "source": [
    "### 6. ANOVA Test"
   ]
  },
  {
   "cell_type": "markdown",
   "metadata": {
    "papermill": {
     "duration": 0.302115,
     "end_time": "2021-04-17T17:36:08.308903",
     "exception": false,
     "start_time": "2021-04-17T17:36:08.006788",
     "status": "completed"
    },
    "tags": []
   },
   "source": [
    "ANOVA -> Analysis of Variance. <br>\n",
    "Helps to compare the means of more than 2 groups. <br>\n",
    "ANOVA F Test is also called omnibus test. <br><br><br>\n",
    "\n",
    "Main types of ANOVA Test -> \n",
    "* One-way or One-factor \n",
    "* Two-way or Two-factor"
   ]
  },
  {
   "cell_type": "markdown",
   "metadata": {
    "papermill": {
     "duration": 0.302066,
     "end_time": "2021-04-17T17:36:08.912473",
     "exception": false,
     "start_time": "2021-04-17T17:36:08.610407",
     "status": "completed"
    },
    "tags": []
   },
   "source": [
    "ANOVA Hypotheses -> <br>\n",
    "* Null Hypotheses = Group means are equal. No variation in the groups. \n",
    "* Alternative Hypothesis = At least, one group is different from other groups."
   ]
  },
  {
   "cell_type": "markdown",
   "metadata": {
    "papermill": {
     "duration": 0.299657,
     "end_time": "2021-04-17T17:36:09.514274",
     "exception": false,
     "start_time": "2021-04-17T17:36:09.214617",
     "status": "completed"
    },
    "tags": []
   },
   "source": [
    "ANOVA Assumptions -> <br><br>\n",
    "* Residuals(experimental error) are normally distributed.(Shapiro-Wilks Test)\n",
    "* Homogenity of variances (variances are equal between treatment groups) (Levene's or Bartlett's Test)\n",
    "* Observations are sampled independently from each other. "
   ]
  },
  {
   "cell_type": "markdown",
   "metadata": {
    "papermill": {
     "duration": 0.29994,
     "end_time": "2021-04-17T17:36:10.115044",
     "exception": false,
     "start_time": "2021-04-17T17:36:09.815104",
     "status": "completed"
    },
    "tags": []
   },
   "source": [
    "ANOVA Working -> <br><br>\n",
    "* Check sample sizes, i.e., Equal number of observations in each group. \n",
    "* Calculate Mean Square for each group (MS) (SS of group/degrees of freedom-1)\n",
    "* Calc Mean Sq. Error (SS Error / df of residuals)\n",
    "* Calc F value (MS of group / MSE)"
   ]
  },
  {
   "cell_type": "markdown",
   "metadata": {
    "papermill": {
     "duration": 0.298759,
     "end_time": "2021-04-17T17:36:10.710757",
     "exception": false,
     "start_time": "2021-04-17T17:36:10.411998",
     "status": "completed"
    },
    "tags": []
   },
   "source": [
    "#### 6.1 One-Way ANOVA Test"
   ]
  },
  {
   "cell_type": "code",
   "execution_count": 78,
   "metadata": {
    "execution": {
     "iopub.execute_input": "2021-04-17T17:36:11.313607Z",
     "iopub.status.busy": "2021-04-17T17:36:11.312934Z",
     "iopub.status.idle": "2021-04-17T17:36:11.317580Z",
     "shell.execute_reply": "2021-04-17T17:36:11.316892Z"
    },
    "papermill": {
     "duration": 0.307311,
     "end_time": "2021-04-17T17:36:11.317740",
     "exception": false,
     "start_time": "2021-04-17T17:36:11.010429",
     "status": "completed"
    },
    "tags": []
   },
   "outputs": [],
   "source": [
    "import random"
   ]
  },
  {
   "cell_type": "code",
   "execution_count": 79,
   "metadata": {
    "execution": {
     "iopub.execute_input": "2021-04-17T17:36:11.925945Z",
     "iopub.status.busy": "2021-04-17T17:36:11.925243Z",
     "iopub.status.idle": "2021-04-17T17:36:11.927246Z",
     "shell.execute_reply": "2021-04-17T17:36:11.927703Z"
    },
    "papermill": {
     "duration": 0.305844,
     "end_time": "2021-04-17T17:36:11.927865",
     "exception": false,
     "start_time": "2021-04-17T17:36:11.622021",
     "status": "completed"
    },
    "tags": []
   },
   "outputs": [],
   "source": [
    "random.seed(2021)"
   ]
  },
  {
   "cell_type": "code",
   "execution_count": 80,
   "metadata": {
    "execution": {
     "iopub.execute_input": "2021-04-17T17:36:12.618117Z",
     "iopub.status.busy": "2021-04-17T17:36:12.617229Z",
     "iopub.status.idle": "2021-04-17T17:36:12.623950Z",
     "shell.execute_reply": "2021-04-17T17:36:12.624431Z"
    },
    "papermill": {
     "duration": 0.31341,
     "end_time": "2021-04-17T17:36:12.624606",
     "exception": false,
     "start_time": "2021-04-17T17:36:12.311196",
     "status": "completed"
    },
    "tags": []
   },
   "outputs": [],
   "source": [
    "df = pd.DataFrame([random.sample(range(1, 1000), 4) , random.sample(range(1, 1000), 4), random.sample(range(1, 1000), 4), random.sample(range(1, 1000), 4)], columns = ['A', 'B', 'C', \"D\"])"
   ]
  },
  {
   "cell_type": "code",
   "execution_count": 81,
   "metadata": {
    "execution": {
     "iopub.execute_input": "2021-04-17T17:36:13.236820Z",
     "iopub.status.busy": "2021-04-17T17:36:13.235881Z",
     "iopub.status.idle": "2021-04-17T17:36:13.245361Z",
     "shell.execute_reply": "2021-04-17T17:36:13.245840Z"
    },
    "papermill": {
     "duration": 0.313759,
     "end_time": "2021-04-17T17:36:13.246021",
     "exception": false,
     "start_time": "2021-04-17T17:36:12.932262",
     "status": "completed"
    },
    "tags": []
   },
   "outputs": [
    {
     "data": {
      "text/html": [
       "<div>\n",
       "<style scoped>\n",
       "    .dataframe tbody tr th:only-of-type {\n",
       "        vertical-align: middle;\n",
       "    }\n",
       "\n",
       "    .dataframe tbody tr th {\n",
       "        vertical-align: top;\n",
       "    }\n",
       "\n",
       "    .dataframe thead th {\n",
       "        text-align: right;\n",
       "    }\n",
       "</style>\n",
       "<table border=\"1\" class=\"dataframe\">\n",
       "  <thead>\n",
       "    <tr style=\"text-align: right;\">\n",
       "      <th></th>\n",
       "      <th>A</th>\n",
       "      <th>B</th>\n",
       "      <th>C</th>\n",
       "      <th>D</th>\n",
       "    </tr>\n",
       "  </thead>\n",
       "  <tbody>\n",
       "    <tr>\n",
       "      <th>0</th>\n",
       "      <td>857</td>\n",
       "      <td>414</td>\n",
       "      <td>879</td>\n",
       "      <td>645</td>\n",
       "    </tr>\n",
       "    <tr>\n",
       "      <th>1</th>\n",
       "      <td>558</td>\n",
       "      <td>284</td>\n",
       "      <td>254</td>\n",
       "      <td>900</td>\n",
       "    </tr>\n",
       "    <tr>\n",
       "      <th>2</th>\n",
       "      <td>651</td>\n",
       "      <td>36</td>\n",
       "      <td>997</td>\n",
       "      <td>455</td>\n",
       "    </tr>\n",
       "    <tr>\n",
       "      <th>3</th>\n",
       "      <td>486</td>\n",
       "      <td>589</td>\n",
       "      <td>66</td>\n",
       "      <td>321</td>\n",
       "    </tr>\n",
       "  </tbody>\n",
       "</table>\n",
       "</div>"
      ],
      "text/plain": [
       "     A    B    C    D\n",
       "0  857  414  879  645\n",
       "1  558  284  254  900\n",
       "2  651   36  997  455\n",
       "3  486  589   66  321"
      ]
     },
     "execution_count": 81,
     "metadata": {},
     "output_type": "execute_result"
    }
   ],
   "source": [
    "df"
   ]
  },
  {
   "cell_type": "code",
   "execution_count": 82,
   "metadata": {
    "execution": {
     "iopub.execute_input": "2021-04-17T17:36:13.850326Z",
     "iopub.status.busy": "2021-04-17T17:36:13.849685Z",
     "iopub.status.idle": "2021-04-17T17:36:13.859569Z",
     "shell.execute_reply": "2021-04-17T17:36:13.860115Z"
    },
    "papermill": {
     "duration": 0.313374,
     "end_time": "2021-04-17T17:36:13.860287",
     "exception": false,
     "start_time": "2021-04-17T17:36:13.546913",
     "status": "completed"
    },
    "tags": []
   },
   "outputs": [],
   "source": [
    "df_melt = pd.melt(df.reset_index(), id_vars = ['index'], value_vars = ['A','B','C','D'])\n",
    "df_melt.columns = ['index', 'treatments', 'value']"
   ]
  },
  {
   "cell_type": "code",
   "execution_count": 83,
   "metadata": {
    "execution": {
     "iopub.execute_input": "2021-04-17T17:36:14.467511Z",
     "iopub.status.busy": "2021-04-17T17:36:14.466827Z",
     "iopub.status.idle": "2021-04-17T17:36:14.476919Z",
     "shell.execute_reply": "2021-04-17T17:36:14.477485Z"
    },
    "papermill": {
     "duration": 0.313458,
     "end_time": "2021-04-17T17:36:14.477713",
     "exception": false,
     "start_time": "2021-04-17T17:36:14.164255",
     "status": "completed"
    },
    "tags": []
   },
   "outputs": [
    {
     "data": {
      "text/html": [
       "<div>\n",
       "<style scoped>\n",
       "    .dataframe tbody tr th:only-of-type {\n",
       "        vertical-align: middle;\n",
       "    }\n",
       "\n",
       "    .dataframe tbody tr th {\n",
       "        vertical-align: top;\n",
       "    }\n",
       "\n",
       "    .dataframe thead th {\n",
       "        text-align: right;\n",
       "    }\n",
       "</style>\n",
       "<table border=\"1\" class=\"dataframe\">\n",
       "  <thead>\n",
       "    <tr style=\"text-align: right;\">\n",
       "      <th></th>\n",
       "      <th>index</th>\n",
       "      <th>treatments</th>\n",
       "      <th>value</th>\n",
       "    </tr>\n",
       "  </thead>\n",
       "  <tbody>\n",
       "    <tr>\n",
       "      <th>0</th>\n",
       "      <td>0</td>\n",
       "      <td>A</td>\n",
       "      <td>857</td>\n",
       "    </tr>\n",
       "    <tr>\n",
       "      <th>1</th>\n",
       "      <td>1</td>\n",
       "      <td>A</td>\n",
       "      <td>558</td>\n",
       "    </tr>\n",
       "    <tr>\n",
       "      <th>2</th>\n",
       "      <td>2</td>\n",
       "      <td>A</td>\n",
       "      <td>651</td>\n",
       "    </tr>\n",
       "    <tr>\n",
       "      <th>3</th>\n",
       "      <td>3</td>\n",
       "      <td>A</td>\n",
       "      <td>486</td>\n",
       "    </tr>\n",
       "    <tr>\n",
       "      <th>4</th>\n",
       "      <td>0</td>\n",
       "      <td>B</td>\n",
       "      <td>414</td>\n",
       "    </tr>\n",
       "    <tr>\n",
       "      <th>5</th>\n",
       "      <td>1</td>\n",
       "      <td>B</td>\n",
       "      <td>284</td>\n",
       "    </tr>\n",
       "    <tr>\n",
       "      <th>6</th>\n",
       "      <td>2</td>\n",
       "      <td>B</td>\n",
       "      <td>36</td>\n",
       "    </tr>\n",
       "    <tr>\n",
       "      <th>7</th>\n",
       "      <td>3</td>\n",
       "      <td>B</td>\n",
       "      <td>589</td>\n",
       "    </tr>\n",
       "    <tr>\n",
       "      <th>8</th>\n",
       "      <td>0</td>\n",
       "      <td>C</td>\n",
       "      <td>879</td>\n",
       "    </tr>\n",
       "    <tr>\n",
       "      <th>9</th>\n",
       "      <td>1</td>\n",
       "      <td>C</td>\n",
       "      <td>254</td>\n",
       "    </tr>\n",
       "    <tr>\n",
       "      <th>10</th>\n",
       "      <td>2</td>\n",
       "      <td>C</td>\n",
       "      <td>997</td>\n",
       "    </tr>\n",
       "    <tr>\n",
       "      <th>11</th>\n",
       "      <td>3</td>\n",
       "      <td>C</td>\n",
       "      <td>66</td>\n",
       "    </tr>\n",
       "    <tr>\n",
       "      <th>12</th>\n",
       "      <td>0</td>\n",
       "      <td>D</td>\n",
       "      <td>645</td>\n",
       "    </tr>\n",
       "    <tr>\n",
       "      <th>13</th>\n",
       "      <td>1</td>\n",
       "      <td>D</td>\n",
       "      <td>900</td>\n",
       "    </tr>\n",
       "    <tr>\n",
       "      <th>14</th>\n",
       "      <td>2</td>\n",
       "      <td>D</td>\n",
       "      <td>455</td>\n",
       "    </tr>\n",
       "    <tr>\n",
       "      <th>15</th>\n",
       "      <td>3</td>\n",
       "      <td>D</td>\n",
       "      <td>321</td>\n",
       "    </tr>\n",
       "  </tbody>\n",
       "</table>\n",
       "</div>"
      ],
      "text/plain": [
       "    index treatments  value\n",
       "0       0          A    857\n",
       "1       1          A    558\n",
       "2       2          A    651\n",
       "3       3          A    486\n",
       "4       0          B    414\n",
       "5       1          B    284\n",
       "6       2          B     36\n",
       "7       3          B    589\n",
       "8       0          C    879\n",
       "9       1          C    254\n",
       "10      2          C    997\n",
       "11      3          C     66\n",
       "12      0          D    645\n",
       "13      1          D    900\n",
       "14      2          D    455\n",
       "15      3          D    321"
      ]
     },
     "execution_count": 83,
     "metadata": {},
     "output_type": "execute_result"
    }
   ],
   "source": [
    "df_melt"
   ]
  },
  {
   "cell_type": "code",
   "execution_count": 84,
   "metadata": {
    "execution": {
     "iopub.execute_input": "2021-04-17T17:36:15.085973Z",
     "iopub.status.busy": "2021-04-17T17:36:15.085315Z",
     "iopub.status.idle": "2021-04-17T17:36:15.283777Z",
     "shell.execute_reply": "2021-04-17T17:36:15.282887Z"
    },
    "papermill": {
     "duration": 0.504627,
     "end_time": "2021-04-17T17:36:15.283923",
     "exception": false,
     "start_time": "2021-04-17T17:36:14.779296",
     "status": "completed"
    },
    "tags": []
   },
   "outputs": [
    {
     "data": {
      "image/png": "[encoded data removed]",
      "text/plain": [
       "<Figure size 432x288 with 1 Axes>"
      ]
     },
     "metadata": {
      "needs_background": "light"
     },
     "output_type": "display_data"
    }
   ],
   "source": [
    "sns.boxplot(x='treatments', y='value', data=df_melt, color='#99c2a2')\n",
    "sns.swarmplot(x=\"treatments\", y=\"value\", data=df_melt, color='#7d0013')\n",
    "plt.show()"
   ]
  },
  {
   "cell_type": "code",
   "execution_count": 85,
   "metadata": {
    "execution": {
     "iopub.execute_input": "2021-04-17T17:36:15.895792Z",
     "iopub.status.busy": "2021-04-17T17:36:15.895155Z",
     "iopub.status.idle": "2021-04-17T17:36:15.897691Z",
     "shell.execute_reply": "2021-04-17T17:36:15.898266Z"
    },
    "papermill": {
     "duration": 0.310168,
     "end_time": "2021-04-17T17:36:15.898427",
     "exception": false,
     "start_time": "2021-04-17T17:36:15.588259",
     "status": "completed"
    },
    "tags": []
   },
   "outputs": [],
   "source": [
    "from scipy import stats"
   ]
  },
  {
   "cell_type": "code",
   "execution_count": 86,
   "metadata": {
    "execution": {
     "iopub.execute_input": "2021-04-17T17:36:16.511491Z",
     "iopub.status.busy": "2021-04-17T17:36:16.510563Z",
     "iopub.status.idle": "2021-04-17T17:36:16.518399Z",
     "shell.execute_reply": "2021-04-17T17:36:16.518920Z"
    },
    "papermill": {
     "duration": 0.314114,
     "end_time": "2021-04-17T17:36:16.519089",
     "exception": false,
     "start_time": "2021-04-17T17:36:16.204975",
     "status": "completed"
    },
    "tags": []
   },
   "outputs": [
    {
     "name": "stdout",
     "output_type": "stream",
     "text": [
      "f Value ->  0.8173829088134379\n",
      "p value ->  0.5087624005681269\n"
     ]
    }
   ],
   "source": [
    "fvalue, pvalue = stats.f_oneway(df['A'], df['B'], df['C'], df['D'])\n",
    "print(\"f Value -> \", fvalue)\n",
    "print(\"p value -> \", pvalue)"
   ]
  },
  {
   "cell_type": "code",
   "execution_count": 87,
   "metadata": {
    "execution": {
     "iopub.execute_input": "2021-04-17T17:36:17.132378Z",
     "iopub.status.busy": "2021-04-17T17:36:17.131776Z",
     "iopub.status.idle": "2021-04-17T17:36:17.175597Z",
     "shell.execute_reply": "2021-04-17T17:36:17.175050Z"
    },
    "papermill": {
     "duration": 0.354246,
     "end_time": "2021-04-17T17:36:17.175751",
     "exception": false,
     "start_time": "2021-04-17T17:36:16.821505",
     "status": "completed"
    },
    "tags": []
   },
   "outputs": [
    {
     "data": {
      "text/html": [
       "<div>\n",
       "<style scoped>\n",
       "    .dataframe tbody tr th:only-of-type {\n",
       "        vertical-align: middle;\n",
       "    }\n",
       "\n",
       "    .dataframe tbody tr th {\n",
       "        vertical-align: top;\n",
       "    }\n",
       "\n",
       "    .dataframe thead th {\n",
       "        text-align: right;\n",
       "    }\n",
       "</style>\n",
       "<table border=\"1\" class=\"dataframe\">\n",
       "  <thead>\n",
       "    <tr style=\"text-align: right;\">\n",
       "      <th></th>\n",
       "      <th>sum_sq</th>\n",
       "      <th>df</th>\n",
       "      <th>F</th>\n",
       "      <th>PR(&gt;F)</th>\n",
       "    </tr>\n",
       "  </thead>\n",
       "  <tbody>\n",
       "    <tr>\n",
       "      <th>C(treatments)</th>\n",
       "      <td>216518.5</td>\n",
       "      <td>3.0</td>\n",
       "      <td>0.817383</td>\n",
       "      <td>0.508762</td>\n",
       "    </tr>\n",
       "    <tr>\n",
       "      <th>Residual</th>\n",
       "      <td>1059569.5</td>\n",
       "      <td>12.0</td>\n",
       "      <td>NaN</td>\n",
       "      <td>NaN</td>\n",
       "    </tr>\n",
       "  </tbody>\n",
       "</table>\n",
       "</div>"
      ],
      "text/plain": [
       "                  sum_sq    df         F    PR(>F)\n",
       "C(treatments)   216518.5   3.0  0.817383  0.508762\n",
       "Residual       1059569.5  12.0       NaN       NaN"
      ]
     },
     "execution_count": 87,
     "metadata": {},
     "output_type": "execute_result"
    }
   ],
   "source": [
    "import statsmodels.api as sm\n",
    "from statsmodels.formula.api import ols\n",
    "\n",
    "\n",
    "model = ols('value ~ C(treatments)', data = df_melt).fit()\n",
    "\n",
    "anova_table = sm.stats.anova_lm(model, typ = 2)\n",
    "anova_table"
   ]
  },
  {
   "cell_type": "code",
   "execution_count": null,
   "metadata": {
    "papermill": {
     "duration": 0.301815,
     "end_time": "2021-04-17T17:36:17.779495",
     "exception": false,
     "start_time": "2021-04-17T17:36:17.477680",
     "status": "completed"
    },
    "tags": []
   },
   "outputs": [],
   "source": []
  },
  {
   "cell_type": "markdown",
   "metadata": {
    "papermill": {
     "duration": 0.302151,
     "end_time": "2021-04-17T17:36:18.389055",
     "exception": false,
     "start_time": "2021-04-17T17:36:18.086904",
     "status": "completed"
    },
    "tags": []
   },
   "source": [
    "##### Interpretation"
   ]
  },
  {
   "cell_type": "markdown",
   "metadata": {
    "papermill": {
     "duration": 0.332954,
     "end_time": "2021-04-17T17:36:19.024890",
     "exception": false,
     "start_time": "2021-04-17T17:36:18.691936",
     "status": "completed"
    },
    "tags": []
   },
   "source": [
    "p-value obtained from ANOVA Analysis is not significant (p > 0.05), and therefore, we conclude that there are no significant differences amongst the groups. "
   ]
  },
  {
   "cell_type": "markdown",
   "metadata": {
    "papermill": {
     "duration": 0.303095,
     "end_time": "2021-04-17T17:36:19.675623",
     "exception": false,
     "start_time": "2021-04-17T17:36:19.372528",
     "status": "completed"
    },
    "tags": []
   },
   "source": [
    "#### 6.2 Two-Way ANOVA Test"
   ]
  },
  {
   "cell_type": "markdown",
   "metadata": {
    "papermill": {
     "duration": 0.306133,
     "end_time": "2021-04-17T17:36:20.287027",
     "exception": false,
     "start_time": "2021-04-17T17:36:19.980894",
     "status": "completed"
    },
    "tags": []
   },
   "source": [
    "In Two-Way ANOVA Test, we have 2 independent variables and their different levels"
   ]
  },
  {
   "cell_type": "code",
   "execution_count": 88,
   "metadata": {
    "execution": {
     "iopub.execute_input": "2021-04-17T17:36:20.900758Z",
     "iopub.status.busy": "2021-04-17T17:36:20.900092Z",
     "iopub.status.idle": "2021-04-17T17:36:20.903142Z",
     "shell.execute_reply": "2021-04-17T17:36:20.902603Z"
    },
    "papermill": {
     "duration": 0.31298,
     "end_time": "2021-04-17T17:36:20.903277",
     "exception": false,
     "start_time": "2021-04-17T17:36:20.590297",
     "status": "completed"
    },
    "tags": []
   },
   "outputs": [],
   "source": [
    "data = pd.DataFrame(list(zip(['A','A','A','B','B','B', 'C', 'C', 'C', 'D', 'D', 'D'], [np.random.ranf() for _ in range(12)], [np.random.ranf() for _ in range(12)], [np.random.ranf() for _ in range(12)])), columns = ['Genotype', '1_year', '2_year', '3_year'])"
   ]
  },
  {
   "cell_type": "code",
   "execution_count": 89,
   "metadata": {
    "execution": {
     "iopub.execute_input": "2021-04-17T17:36:21.525129Z",
     "iopub.status.busy": "2021-04-17T17:36:21.520372Z",
     "iopub.status.idle": "2021-04-17T17:36:21.530164Z",
     "shell.execute_reply": "2021-04-17T17:36:21.529560Z"
    },
    "papermill": {
     "duration": 0.321064,
     "end_time": "2021-04-17T17:36:21.530308",
     "exception": false,
     "start_time": "2021-04-17T17:36:21.209244",
     "status": "completed"
    },
    "tags": []
   },
   "outputs": [
    {
     "data": {
      "text/html": [
       "<div>\n",
       "<style scoped>\n",
       "    .dataframe tbody tr th:only-of-type {\n",
       "        vertical-align: middle;\n",
       "    }\n",
       "\n",
       "    .dataframe tbody tr th {\n",
       "        vertical-align: top;\n",
       "    }\n",
       "\n",
       "    .dataframe thead th {\n",
       "        text-align: right;\n",
       "    }\n",
       "</style>\n",
       "<table border=\"1\" class=\"dataframe\">\n",
       "  <thead>\n",
       "    <tr style=\"text-align: right;\">\n",
       "      <th></th>\n",
       "      <th>Genotype</th>\n",
       "      <th>1_year</th>\n",
       "      <th>2_year</th>\n",
       "      <th>3_year</th>\n",
       "    </tr>\n",
       "  </thead>\n",
       "  <tbody>\n",
       "    <tr>\n",
       "      <th>0</th>\n",
       "      <td>A</td>\n",
       "      <td>0.798880</td>\n",
       "      <td>0.242349</td>\n",
       "      <td>0.895479</td>\n",
       "    </tr>\n",
       "    <tr>\n",
       "      <th>1</th>\n",
       "      <td>A</td>\n",
       "      <td>0.444203</td>\n",
       "      <td>0.301017</td>\n",
       "      <td>0.241322</td>\n",
       "    </tr>\n",
       "    <tr>\n",
       "      <th>2</th>\n",
       "      <td>A</td>\n",
       "      <td>0.688146</td>\n",
       "      <td>0.575508</td>\n",
       "      <td>0.334106</td>\n",
       "    </tr>\n",
       "    <tr>\n",
       "      <th>3</th>\n",
       "      <td>B</td>\n",
       "      <td>0.921730</td>\n",
       "      <td>0.283969</td>\n",
       "      <td>0.570733</td>\n",
       "    </tr>\n",
       "    <tr>\n",
       "      <th>4</th>\n",
       "      <td>B</td>\n",
       "      <td>0.484762</td>\n",
       "      <td>0.646569</td>\n",
       "      <td>0.500490</td>\n",
       "    </tr>\n",
       "    <tr>\n",
       "      <th>5</th>\n",
       "      <td>B</td>\n",
       "      <td>0.843816</td>\n",
       "      <td>0.679019</td>\n",
       "      <td>0.311152</td>\n",
       "    </tr>\n",
       "    <tr>\n",
       "      <th>6</th>\n",
       "      <td>C</td>\n",
       "      <td>0.008298</td>\n",
       "      <td>0.582349</td>\n",
       "      <td>0.591713</td>\n",
       "    </tr>\n",
       "    <tr>\n",
       "      <th>7</th>\n",
       "      <td>C</td>\n",
       "      <td>0.403753</td>\n",
       "      <td>0.762290</td>\n",
       "      <td>0.709969</td>\n",
       "    </tr>\n",
       "    <tr>\n",
       "      <th>8</th>\n",
       "      <td>C</td>\n",
       "      <td>0.801937</td>\n",
       "      <td>0.347441</td>\n",
       "      <td>0.527536</td>\n",
       "    </tr>\n",
       "    <tr>\n",
       "      <th>9</th>\n",
       "      <td>D</td>\n",
       "      <td>0.983361</td>\n",
       "      <td>0.660600</td>\n",
       "      <td>0.555842</td>\n",
       "    </tr>\n",
       "    <tr>\n",
       "      <th>10</th>\n",
       "      <td>D</td>\n",
       "      <td>0.676967</td>\n",
       "      <td>0.483520</td>\n",
       "      <td>0.394620</td>\n",
       "    </tr>\n",
       "    <tr>\n",
       "      <th>11</th>\n",
       "      <td>D</td>\n",
       "      <td>0.810556</td>\n",
       "      <td>0.418145</td>\n",
       "      <td>0.416924</td>\n",
       "    </tr>\n",
       "  </tbody>\n",
       "</table>\n",
       "</div>"
      ],
      "text/plain": [
       "   Genotype    1_year    2_year    3_year\n",
       "0         A  0.798880  0.242349  0.895479\n",
       "1         A  0.444203  0.301017  0.241322\n",
       "2         A  0.688146  0.575508  0.334106\n",
       "3         B  0.921730  0.283969  0.570733\n",
       "4         B  0.484762  0.646569  0.500490\n",
       "5         B  0.843816  0.679019  0.311152\n",
       "6         C  0.008298  0.582349  0.591713\n",
       "7         C  0.403753  0.762290  0.709969\n",
       "8         C  0.801937  0.347441  0.527536\n",
       "9         D  0.983361  0.660600  0.555842\n",
       "10        D  0.676967  0.483520  0.394620\n",
       "11        D  0.810556  0.418145  0.416924"
      ]
     },
     "execution_count": 89,
     "metadata": {},
     "output_type": "execute_result"
    }
   ],
   "source": [
    "data"
   ]
  },
  {
   "cell_type": "code",
   "execution_count": 90,
   "metadata": {
    "execution": {
     "iopub.execute_input": "2021-04-17T17:36:22.151497Z",
     "iopub.status.busy": "2021-04-17T17:36:22.150729Z",
     "iopub.status.idle": "2021-04-17T17:36:22.154588Z",
     "shell.execute_reply": "2021-04-17T17:36:22.154105Z"
    },
    "papermill": {
     "duration": 0.319836,
     "end_time": "2021-04-17T17:36:22.154744",
     "exception": false,
     "start_time": "2021-04-17T17:36:21.834908",
     "status": "completed"
    },
    "tags": []
   },
   "outputs": [],
   "source": [
    "data_melt = pd.melt(data, id_vars = ['Genotype'], value_vars = ['1_year', '2_year', '3_year'])"
   ]
  },
  {
   "cell_type": "code",
   "execution_count": 91,
   "metadata": {
    "execution": {
     "iopub.execute_input": "2021-04-17T17:36:22.771137Z",
     "iopub.status.busy": "2021-04-17T17:36:22.770420Z",
     "iopub.status.idle": "2021-04-17T17:36:22.774250Z",
     "shell.execute_reply": "2021-04-17T17:36:22.774700Z"
    },
    "papermill": {
     "duration": 0.316355,
     "end_time": "2021-04-17T17:36:22.774869",
     "exception": false,
     "start_time": "2021-04-17T17:36:22.458514",
     "status": "completed"
    },
    "tags": []
   },
   "outputs": [
    {
     "data": {
      "text/html": [
       "<div>\n",
       "<style scoped>\n",
       "    .dataframe tbody tr th:only-of-type {\n",
       "        vertical-align: middle;\n",
       "    }\n",
       "\n",
       "    .dataframe tbody tr th {\n",
       "        vertical-align: top;\n",
       "    }\n",
       "\n",
       "    .dataframe thead th {\n",
       "        text-align: right;\n",
       "    }\n",
       "</style>\n",
       "<table border=\"1\" class=\"dataframe\">\n",
       "  <thead>\n",
       "    <tr style=\"text-align: right;\">\n",
       "      <th></th>\n",
       "      <th>Genotype</th>\n",
       "      <th>variable</th>\n",
       "      <th>value</th>\n",
       "    </tr>\n",
       "  </thead>\n",
       "  <tbody>\n",
       "    <tr>\n",
       "      <th>0</th>\n",
       "      <td>A</td>\n",
       "      <td>1_year</td>\n",
       "      <td>0.798880</td>\n",
       "    </tr>\n",
       "    <tr>\n",
       "      <th>1</th>\n",
       "      <td>A</td>\n",
       "      <td>1_year</td>\n",
       "      <td>0.444203</td>\n",
       "    </tr>\n",
       "    <tr>\n",
       "      <th>2</th>\n",
       "      <td>A</td>\n",
       "      <td>1_year</td>\n",
       "      <td>0.688146</td>\n",
       "    </tr>\n",
       "    <tr>\n",
       "      <th>3</th>\n",
       "      <td>B</td>\n",
       "      <td>1_year</td>\n",
       "      <td>0.921730</td>\n",
       "    </tr>\n",
       "    <tr>\n",
       "      <th>4</th>\n",
       "      <td>B</td>\n",
       "      <td>1_year</td>\n",
       "      <td>0.484762</td>\n",
       "    </tr>\n",
       "  </tbody>\n",
       "</table>\n",
       "</div>"
      ],
      "text/plain": [
       "  Genotype variable     value\n",
       "0        A   1_year  0.798880\n",
       "1        A   1_year  0.444203\n",
       "2        A   1_year  0.688146\n",
       "3        B   1_year  0.921730\n",
       "4        B   1_year  0.484762"
      ]
     },
     "execution_count": 91,
     "metadata": {},
     "output_type": "execute_result"
    }
   ],
   "source": [
    "data_melt.head()"
   ]
  },
  {
   "cell_type": "code",
   "execution_count": 92,
   "metadata": {
    "execution": {
     "iopub.execute_input": "2021-04-17T17:36:23.390054Z",
     "iopub.status.busy": "2021-04-17T17:36:23.389392Z",
     "iopub.status.idle": "2021-04-17T17:36:23.391889Z",
     "shell.execute_reply": "2021-04-17T17:36:23.392935Z"
    },
    "papermill": {
     "duration": 0.312301,
     "end_time": "2021-04-17T17:36:23.393157",
     "exception": false,
     "start_time": "2021-04-17T17:36:23.080856",
     "status": "completed"
    },
    "tags": []
   },
   "outputs": [],
   "source": [
    "data_melt.columns = ['Genotype', 'years', 'value']"
   ]
  },
  {
   "cell_type": "code",
   "execution_count": 93,
   "metadata": {
    "execution": {
     "iopub.execute_input": "2021-04-17T17:36:24.029082Z",
     "iopub.status.busy": "2021-04-17T17:36:24.027339Z",
     "iopub.status.idle": "2021-04-17T17:36:24.535169Z",
     "shell.execute_reply": "2021-04-17T17:36:24.534517Z"
    },
    "papermill": {
     "duration": 0.837712,
     "end_time": "2021-04-17T17:36:24.535321",
     "exception": false,
     "start_time": "2021-04-17T17:36:23.697609",
     "status": "completed"
    },
    "tags": []
   },
   "outputs": [
    {
     "data": {
      "text/plain": [
       "<AxesSubplot:xlabel='Genotype', ylabel='value'>"
      ]
     },
     "execution_count": 93,
     "metadata": {},
     "output_type": "execute_result"
    },
    {
     "data": {
      "image/png": "[encoded data removed]",
      "text/plain": [
       "<Figure size 432x288 with 1 Axes>"
      ]
     },
     "metadata": {
      "needs_background": "light"
     },
     "output_type": "display_data"
    }
   ],
   "source": [
    "sns.boxplot(x = 'Genotype', y = 'value', hue = 'years', data = data_melt, palette = ['r', 'k', 'w'])"
   ]
  },
  {
   "cell_type": "code",
   "execution_count": 94,
   "metadata": {
    "execution": {
     "iopub.execute_input": "2021-04-17T17:36:25.163214Z",
     "iopub.status.busy": "2021-04-17T17:36:25.156764Z",
     "iopub.status.idle": "2021-04-17T17:36:25.167365Z",
     "shell.execute_reply": "2021-04-17T17:36:25.166826Z"
    },
    "papermill": {
     "duration": 0.325564,
     "end_time": "2021-04-17T17:36:25.167512",
     "exception": false,
     "start_time": "2021-04-17T17:36:24.841948",
     "status": "completed"
    },
    "tags": []
   },
   "outputs": [],
   "source": [
    "model = ols('value ~ C(Genotype) + C(years) + C(Genotype) : C(years)', data = data_melt).fit()"
   ]
  },
  {
   "cell_type": "code",
   "execution_count": 95,
   "metadata": {
    "execution": {
     "iopub.execute_input": "2021-04-17T17:36:25.787222Z",
     "iopub.status.busy": "2021-04-17T17:36:25.786388Z",
     "iopub.status.idle": "2021-04-17T17:36:25.802315Z",
     "shell.execute_reply": "2021-04-17T17:36:25.802821Z"
    },
    "papermill": {
     "duration": 0.329846,
     "end_time": "2021-04-17T17:36:25.803125",
     "exception": false,
     "start_time": "2021-04-17T17:36:25.473279",
     "status": "completed"
    },
    "tags": []
   },
   "outputs": [
    {
     "data": {
      "text/html": [
       "<div>\n",
       "<style scoped>\n",
       "    .dataframe tbody tr th:only-of-type {\n",
       "        vertical-align: middle;\n",
       "    }\n",
       "\n",
       "    .dataframe tbody tr th {\n",
       "        vertical-align: top;\n",
       "    }\n",
       "\n",
       "    .dataframe thead th {\n",
       "        text-align: right;\n",
       "    }\n",
       "</style>\n",
       "<table border=\"1\" class=\"dataframe\">\n",
       "  <thead>\n",
       "    <tr style=\"text-align: right;\">\n",
       "      <th></th>\n",
       "      <th>sum_sq</th>\n",
       "      <th>df</th>\n",
       "      <th>F</th>\n",
       "      <th>PR(&gt;F)</th>\n",
       "    </tr>\n",
       "  </thead>\n",
       "  <tbody>\n",
       "    <tr>\n",
       "      <th>C(Genotype)</th>\n",
       "      <td>0.057341</td>\n",
       "      <td>3.0</td>\n",
       "      <td>0.404836</td>\n",
       "      <td>0.750861</td>\n",
       "    </tr>\n",
       "    <tr>\n",
       "      <th>C(years)</th>\n",
       "      <td>0.190343</td>\n",
       "      <td>2.0</td>\n",
       "      <td>2.015782</td>\n",
       "      <td>0.155155</td>\n",
       "    </tr>\n",
       "    <tr>\n",
       "      <th>C(Genotype):C(years)</th>\n",
       "      <td>0.356145</td>\n",
       "      <td>6.0</td>\n",
       "      <td>1.257226</td>\n",
       "      <td>0.313552</td>\n",
       "    </tr>\n",
       "    <tr>\n",
       "      <th>Residual</th>\n",
       "      <td>1.133115</td>\n",
       "      <td>24.0</td>\n",
       "      <td>NaN</td>\n",
       "      <td>NaN</td>\n",
       "    </tr>\n",
       "  </tbody>\n",
       "</table>\n",
       "</div>"
      ],
      "text/plain": [
       "                        sum_sq    df         F    PR(>F)\n",
       "C(Genotype)           0.057341   3.0  0.404836  0.750861\n",
       "C(years)              0.190343   2.0  2.015782  0.155155\n",
       "C(Genotype):C(years)  0.356145   6.0  1.257226  0.313552\n",
       "Residual              1.133115  24.0       NaN       NaN"
      ]
     },
     "execution_count": 95,
     "metadata": {},
     "output_type": "execute_result"
    }
   ],
   "source": [
    "anova_table = sm.stats.anova_lm(model, typ = 2)\n",
    "\n",
    "anova_table"
   ]
  },
  {
   "cell_type": "code",
   "execution_count": null,
   "metadata": {
    "papermill": {
     "duration": 0.346956,
     "end_time": "2021-04-17T17:36:26.458494",
     "exception": false,
     "start_time": "2021-04-17T17:36:26.111538",
     "status": "completed"
    },
    "tags": []
   },
   "outputs": [],
   "source": []
  },
  {
   "cell_type": "code",
   "execution_count": null,
   "metadata": {
    "papermill": {
     "duration": 0.313156,
     "end_time": "2021-04-17T17:36:27.078191",
     "exception": false,
     "start_time": "2021-04-17T17:36:26.765035",
     "status": "completed"
    },
    "tags": []
   },
   "outputs": [],
   "source": []
  },
  {
   "cell_type": "code",
   "execution_count": null,
   "metadata": {
    "papermill": {
     "duration": 0.306717,
     "end_time": "2021-04-17T17:36:27.691781",
     "exception": false,
     "start_time": "2021-04-17T17:36:27.385064",
     "status": "completed"
    },
    "tags": []
   },
   "outputs": [],
   "source": []
  },
  {
   "cell_type": "markdown",
   "metadata": {
    "papermill": {
     "duration": 0.307701,
     "end_time": "2021-04-17T17:36:28.308547",
     "exception": false,
     "start_time": "2021-04-17T17:36:28.000846",
     "status": "completed"
    },
    "tags": []
   },
   "source": [
    "##### Post-Hoc Analysis (Tukey's Test)"
   ]
  },
  {
   "cell_type": "code",
   "execution_count": 96,
   "metadata": {
    "execution": {
     "iopub.execute_input": "2021-04-17T17:36:28.928318Z",
     "iopub.status.busy": "2021-04-17T17:36:28.927678Z",
     "iopub.status.idle": "2021-04-17T17:36:42.454259Z",
     "shell.execute_reply": "2021-04-17T17:36:42.453189Z"
    },
    "papermill": {
     "duration": 13.839645,
     "end_time": "2021-04-17T17:36:42.454421",
     "exception": false,
     "start_time": "2021-04-17T17:36:28.614776",
     "status": "completed"
    },
    "tags": []
   },
   "outputs": [],
   "source": [
    "!pip install -q bioinfokit\n",
    "from bioinfokit.analys import stat"
   ]
  },
  {
   "cell_type": "code",
   "execution_count": 97,
   "metadata": {
    "execution": {
     "iopub.execute_input": "2021-04-17T17:36:43.122262Z",
     "iopub.status.busy": "2021-04-17T17:36:43.116066Z",
     "iopub.status.idle": "2021-04-17T17:36:43.228884Z",
     "shell.execute_reply": "2021-04-17T17:36:43.227728Z"
    },
    "papermill": {
     "duration": 0.465618,
     "end_time": "2021-04-17T17:36:43.229042",
     "exception": false,
     "start_time": "2021-04-17T17:36:42.763424",
     "status": "completed"
    },
    "tags": []
   },
   "outputs": [],
   "source": [
    "res = stat()\n",
    "res.tukey_hsd(df = df_melt, res_var = 'value', xfac_var = 'treatments', anova_model = 'value ~ C(treatments)')\n",
    "output = res.tukey_summary"
   ]
  },
  {
   "cell_type": "code",
   "execution_count": 98,
   "metadata": {
    "execution": {
     "iopub.execute_input": "2021-04-17T17:36:43.861019Z",
     "iopub.status.busy": "2021-04-17T17:36:43.859970Z",
     "iopub.status.idle": "2021-04-17T17:36:43.864520Z",
     "shell.execute_reply": "2021-04-17T17:36:43.864035Z"
    },
    "papermill": {
     "duration": 0.328708,
     "end_time": "2021-04-17T17:36:43.864672",
     "exception": false,
     "start_time": "2021-04-17T17:36:43.535964",
     "status": "completed"
    },
    "tags": []
   },
   "outputs": [
    {
     "data": {
      "text/html": [
       "<div>\n",
       "<style scoped>\n",
       "    .dataframe tbody tr th:only-of-type {\n",
       "        vertical-align: middle;\n",
       "    }\n",
       "\n",
       "    .dataframe tbody tr th {\n",
       "        vertical-align: top;\n",
       "    }\n",
       "\n",
       "    .dataframe thead th {\n",
       "        text-align: right;\n",
       "    }\n",
       "</style>\n",
       "<table border=\"1\" class=\"dataframe\">\n",
       "  <thead>\n",
       "    <tr style=\"text-align: right;\">\n",
       "      <th></th>\n",
       "      <th>group1</th>\n",
       "      <th>group2</th>\n",
       "      <th>Diff</th>\n",
       "      <th>Lower</th>\n",
       "      <th>Upper</th>\n",
       "      <th>q-value</th>\n",
       "      <th>p-value</th>\n",
       "    </tr>\n",
       "  </thead>\n",
       "  <tbody>\n",
       "    <tr>\n",
       "      <th>0</th>\n",
       "      <td>A</td>\n",
       "      <td>B</td>\n",
       "      <td>307.25</td>\n",
       "      <td>-316.636933</td>\n",
       "      <td>931.136933</td>\n",
       "      <td>2.067987</td>\n",
       "      <td>0.488263</td>\n",
       "    </tr>\n",
       "    <tr>\n",
       "      <th>1</th>\n",
       "      <td>A</td>\n",
       "      <td>C</td>\n",
       "      <td>89.00</td>\n",
       "      <td>-534.886933</td>\n",
       "      <td>712.886933</td>\n",
       "      <td>0.599026</td>\n",
       "      <td>0.900000</td>\n",
       "    </tr>\n",
       "    <tr>\n",
       "      <th>2</th>\n",
       "      <td>A</td>\n",
       "      <td>D</td>\n",
       "      <td>57.75</td>\n",
       "      <td>-566.136933</td>\n",
       "      <td>681.636933</td>\n",
       "      <td>0.388694</td>\n",
       "      <td>0.900000</td>\n",
       "    </tr>\n",
       "    <tr>\n",
       "      <th>3</th>\n",
       "      <td>B</td>\n",
       "      <td>C</td>\n",
       "      <td>218.25</td>\n",
       "      <td>-405.636933</td>\n",
       "      <td>842.136933</td>\n",
       "      <td>1.468961</td>\n",
       "      <td>0.714050</td>\n",
       "    </tr>\n",
       "    <tr>\n",
       "      <th>4</th>\n",
       "      <td>B</td>\n",
       "      <td>D</td>\n",
       "      <td>249.50</td>\n",
       "      <td>-374.386933</td>\n",
       "      <td>873.386933</td>\n",
       "      <td>1.679293</td>\n",
       "      <td>0.634770</td>\n",
       "    </tr>\n",
       "    <tr>\n",
       "      <th>5</th>\n",
       "      <td>C</td>\n",
       "      <td>D</td>\n",
       "      <td>31.25</td>\n",
       "      <td>-592.636933</td>\n",
       "      <td>655.136933</td>\n",
       "      <td>0.210332</td>\n",
       "      <td>0.900000</td>\n",
       "    </tr>\n",
       "  </tbody>\n",
       "</table>\n",
       "</div>"
      ],
      "text/plain": [
       "  group1 group2    Diff       Lower       Upper   q-value   p-value\n",
       "0      A      B  307.25 -316.636933  931.136933  2.067987  0.488263\n",
       "1      A      C   89.00 -534.886933  712.886933  0.599026  0.900000\n",
       "2      A      D   57.75 -566.136933  681.636933  0.388694  0.900000\n",
       "3      B      C  218.25 -405.636933  842.136933  1.468961  0.714050\n",
       "4      B      D  249.50 -374.386933  873.386933  1.679293  0.634770\n",
       "5      C      D   31.25 -592.636933  655.136933  0.210332  0.900000"
      ]
     },
     "execution_count": 98,
     "metadata": {},
     "output_type": "execute_result"
    }
   ],
   "source": [
    "output"
   ]
  },
  {
   "cell_type": "markdown",
   "metadata": {
    "papermill": {
     "duration": 0.315279,
     "end_time": "2021-04-17T17:36:44.526050",
     "exception": false,
     "start_time": "2021-04-17T17:36:44.210771",
     "status": "completed"
    },
    "tags": []
   },
   "source": [
    "All the values are in accordance to the condition p > 0.05 <br>\n",
    "Hence, aren't statistically significant."
   ]
  },
  {
   "cell_type": "code",
   "execution_count": null,
   "metadata": {
    "papermill": {
     "duration": 0.309917,
     "end_time": "2021-04-17T17:36:45.147838",
     "exception": false,
     "start_time": "2021-04-17T17:36:44.837921",
     "status": "completed"
    },
    "tags": []
   },
   "outputs": [],
   "source": []
  },
  {
   "cell_type": "markdown",
   "metadata": {
    "papermill": {
     "duration": 0.308518,
     "end_time": "2021-04-17T17:36:45.766413",
     "exception": false,
     "start_time": "2021-04-17T17:36:45.457895",
     "status": "completed"
    },
    "tags": []
   },
   "source": [
    "### 7. F Stats Test"
   ]
  },
  {
   "cell_type": "code",
   "execution_count": null,
   "metadata": {
    "papermill": {
     "duration": 0.307629,
     "end_time": "2021-04-17T17:36:46.384654",
     "exception": false,
     "start_time": "2021-04-17T17:36:46.077025",
     "status": "completed"
    },
    "tags": []
   },
   "outputs": [],
   "source": []
  },
  {
   "cell_type": "markdown",
   "metadata": {
    "papermill": {
     "duration": 0.318306,
     "end_time": "2021-04-17T17:36:47.053634",
     "exception": false,
     "start_time": "2021-04-17T17:36:46.735328",
     "status": "completed"
    },
    "tags": []
   },
   "source": [
    "### 8. Binomial Distribution"
   ]
  },
  {
   "cell_type": "code",
   "execution_count": 99,
   "metadata": {
    "execution": {
     "iopub.execute_input": "2021-04-17T17:36:47.688422Z",
     "iopub.status.busy": "2021-04-17T17:36:47.680247Z",
     "iopub.status.idle": "2021-04-17T17:36:47.691711Z",
     "shell.execute_reply": "2021-04-17T17:36:47.692294Z"
    },
    "papermill": {
     "duration": 0.327014,
     "end_time": "2021-04-17T17:36:47.692479",
     "exception": false,
     "start_time": "2021-04-17T17:36:47.365465",
     "status": "completed"
    },
    "tags": []
   },
   "outputs": [
    {
     "data": {
      "text/html": [
       "<div>\n",
       "<style scoped>\n",
       "    .dataframe tbody tr th:only-of-type {\n",
       "        vertical-align: middle;\n",
       "    }\n",
       "\n",
       "    .dataframe tbody tr th {\n",
       "        vertical-align: top;\n",
       "    }\n",
       "\n",
       "    .dataframe thead th {\n",
       "        text-align: right;\n",
       "    }\n",
       "</style>\n",
       "<table border=\"1\" class=\"dataframe\">\n",
       "  <thead>\n",
       "    <tr style=\"text-align: right;\">\n",
       "      <th></th>\n",
       "      <th>r</th>\n",
       "      <th>p(r)</th>\n",
       "    </tr>\n",
       "  </thead>\n",
       "  <tbody>\n",
       "    <tr>\n",
       "      <th>0</th>\n",
       "      <td>0</td>\n",
       "      <td>0.004096</td>\n",
       "    </tr>\n",
       "    <tr>\n",
       "      <th>1</th>\n",
       "      <td>1</td>\n",
       "      <td>0.036864</td>\n",
       "    </tr>\n",
       "    <tr>\n",
       "      <th>2</th>\n",
       "      <td>2</td>\n",
       "      <td>0.138240</td>\n",
       "    </tr>\n",
       "    <tr>\n",
       "      <th>3</th>\n",
       "      <td>3</td>\n",
       "      <td>0.276480</td>\n",
       "    </tr>\n",
       "    <tr>\n",
       "      <th>4</th>\n",
       "      <td>4</td>\n",
       "      <td>0.311040</td>\n",
       "    </tr>\n",
       "    <tr>\n",
       "      <th>5</th>\n",
       "      <td>5</td>\n",
       "      <td>0.186624</td>\n",
       "    </tr>\n",
       "    <tr>\n",
       "      <th>6</th>\n",
       "      <td>6</td>\n",
       "      <td>0.046656</td>\n",
       "    </tr>\n",
       "  </tbody>\n",
       "</table>\n",
       "</div>"
      ],
      "text/plain": [
       "   r      p(r)\n",
       "0  0  0.004096\n",
       "1  1  0.036864\n",
       "2  2  0.138240\n",
       "3  3  0.276480\n",
       "4  4  0.311040\n",
       "5  5  0.186624\n",
       "6  6  0.046656"
      ]
     },
     "execution_count": 99,
     "metadata": {},
     "output_type": "execute_result"
    }
   ],
   "source": [
    "from scipy.stats import binom\n",
    "\n",
    "n = 6\n",
    "p = 0.6\n",
    "\n",
    "r_values = list(range(n + 1))\n",
    "\n",
    "mean, var = binom.stats(n, p)\n",
    "\n",
    "\n",
    "dist = [binom.pmf(r, n, p) for r in r_values]\n",
    "\n",
    "df = pd.DataFrame(list(zip(r_values, dist)), columns = ['r', 'p(r)'], index = None)\n",
    "\n",
    "df"
   ]
  },
  {
   "cell_type": "code",
   "execution_count": 100,
   "metadata": {
    "execution": {
     "iopub.execute_input": "2021-04-17T17:36:48.324896Z",
     "iopub.status.busy": "2021-04-17T17:36:48.324237Z",
     "iopub.status.idle": "2021-04-17T17:36:48.497274Z",
     "shell.execute_reply": "2021-04-17T17:36:48.496714Z"
    },
    "papermill": {
     "duration": 0.489589,
     "end_time": "2021-04-17T17:36:48.497413",
     "exception": false,
     "start_time": "2021-04-17T17:36:48.007824",
     "status": "completed"
    },
    "tags": []
   },
   "outputs": [
    {
     "data": {
      "text/plain": [
       "<AxesSubplot:>"
      ]
     },
     "execution_count": 100,
     "metadata": {},
     "output_type": "execute_result"
    },
    {
     "data": {
      "image/png": "[encoded data removed]",
      "text/plain": [
       "<Figure size 432x288 with 1 Axes>"
      ]
     },
     "metadata": {
      "needs_background": "light"
     },
     "output_type": "display_data"
    }
   ],
   "source": [
    "df['p(r)'].plot.bar()"
   ]
  },
  {
   "cell_type": "markdown",
   "metadata": {
    "papermill": {
     "duration": 0.312889,
     "end_time": "2021-04-17T17:36:49.120912",
     "exception": false,
     "start_time": "2021-04-17T17:36:48.808023",
     "status": "completed"
    },
    "tags": []
   },
   "source": [
    "### 9. Normal Distribution"
   ]
  },
  {
   "cell_type": "markdown",
   "metadata": {
    "papermill": {
     "duration": 0.310208,
     "end_time": "2021-04-17T17:36:49.742142",
     "exception": false,
     "start_time": "2021-04-17T17:36:49.431934",
     "status": "completed"
    },
    "tags": []
   },
   "source": [
    "also known as \n",
    "* Gaussian Distribution\n",
    "* Bell Curve\n",
    "\n",
    "\n",
    "<br><br> Below is the probability distribution function (pdf) for Normal Distribution -> "
   ]
  },
  {
   "cell_type": "markdown",
   "metadata": {
    "papermill": {
     "duration": 0.311065,
     "end_time": "2021-04-17T17:36:50.362380",
     "exception": false,
     "start_time": "2021-04-17T17:36:50.051315",
     "status": "completed"
    },
    "tags": []
   },
   "source": [
    "![](https://cdn.askpython.com/wp-content/uploads/2020/10/Probability-density-function-of-Normal-Distribution.jpg.webp)"
   ]
  },
  {
   "cell_type": "markdown",
   "metadata": {
    "papermill": {
     "duration": 0.311375,
     "end_time": "2021-04-17T17:36:50.982097",
     "exception": false,
     "start_time": "2021-04-17T17:36:50.670722",
     "status": "completed"
    },
    "tags": []
   },
   "source": [
    "* x -> input value\n",
    "* mu -> mean\n",
    "* sigma -> std deviation"
   ]
  },
  {
   "cell_type": "markdown",
   "metadata": {
    "papermill": {
     "duration": 0.308953,
     "end_time": "2021-04-17T17:36:51.601255",
     "exception": false,
     "start_time": "2021-04-17T17:36:51.292302",
     "status": "completed"
    },
    "tags": []
   },
   "source": [
    "![](https://cdn.askpython.com/wp-content/uploads/2020/10/Standard-deviation-around-mean.jpg.webp)"
   ]
  },
  {
   "cell_type": "code",
   "execution_count": 101,
   "metadata": {
    "execution": {
     "iopub.execute_input": "2021-04-17T17:36:52.267654Z",
     "iopub.status.busy": "2021-04-17T17:36:52.267015Z",
     "iopub.status.idle": "2021-04-17T17:36:52.270277Z",
     "shell.execute_reply": "2021-04-17T17:36:52.269759Z"
    },
    "papermill": {
     "duration": 0.343065,
     "end_time": "2021-04-17T17:36:52.270420",
     "exception": false,
     "start_time": "2021-04-17T17:36:51.927355",
     "status": "completed"
    },
    "tags": []
   },
   "outputs": [],
   "source": [
    "mu, sigma = 0.5, 1"
   ]
  },
  {
   "cell_type": "code",
   "execution_count": 102,
   "metadata": {
    "execution": {
     "iopub.execute_input": "2021-04-17T17:36:52.896590Z",
     "iopub.status.busy": "2021-04-17T17:36:52.895896Z",
     "iopub.status.idle": "2021-04-17T17:36:52.899564Z",
     "shell.execute_reply": "2021-04-17T17:36:52.899027Z"
    },
    "papermill": {
     "duration": 0.319511,
     "end_time": "2021-04-17T17:36:52.899724",
     "exception": false,
     "start_time": "2021-04-17T17:36:52.580213",
     "status": "completed"
    },
    "tags": []
   },
   "outputs": [],
   "source": [
    "data = np.random.normal(mu, sigma, 10000)"
   ]
  },
  {
   "cell_type": "code",
   "execution_count": 103,
   "metadata": {
    "execution": {
     "iopub.execute_input": "2021-04-17T17:36:53.543481Z",
     "iopub.status.busy": "2021-04-17T17:36:53.541887Z",
     "iopub.status.idle": "2021-04-17T17:36:53.705275Z",
     "shell.execute_reply": "2021-04-17T17:36:53.705838Z"
    },
    "papermill": {
     "duration": 0.49325,
     "end_time": "2021-04-17T17:36:53.706014",
     "exception": false,
     "start_time": "2021-04-17T17:36:53.212764",
     "status": "completed"
    },
    "tags": []
   },
   "outputs": [
    {
     "data": {
      "image/png": "[encoded data removed]",
      "text/plain": [
       "<Figure size 432x288 with 1 Axes>"
      ]
     },
     "metadata": {
      "needs_background": "light"
     },
     "output_type": "display_data"
    }
   ],
   "source": [
    "count, bins, ignored = plt.hist(data, 20)\n",
    "\n"
   ]
  },
  {
   "cell_type": "markdown",
   "metadata": {
    "papermill": {
     "duration": 0.311811,
     "end_time": "2021-04-17T17:36:54.373119",
     "exception": false,
     "start_time": "2021-04-17T17:36:54.061308",
     "status": "completed"
    },
    "tags": []
   },
   "source": []
  },
  {
   "cell_type": "code",
   "execution_count": null,
   "metadata": {
    "papermill": {
     "duration": 0.313179,
     "end_time": "2021-04-17T17:36:54.997230",
     "exception": false,
     "start_time": "2021-04-17T17:36:54.684051",
     "status": "completed"
    },
    "tags": []
   },
   "outputs": [],
   "source": []
  },
  {
   "cell_type": "code",
   "execution_count": null,
   "metadata": {
    "papermill": {
     "duration": 0.310333,
     "end_time": "2021-04-17T17:36:55.622242",
     "exception": false,
     "start_time": "2021-04-17T17:36:55.311909",
     "status": "completed"
    },
    "tags": []
   },
   "outputs": [],
   "source": []
  },
  {
   "cell_type": "markdown",
   "metadata": {
    "papermill": {
     "duration": 0.314041,
     "end_time": "2021-04-17T17:36:56.249111",
     "exception": false,
     "start_time": "2021-04-17T17:36:55.935070",
     "status": "completed"
    },
    "tags": []
   },
   "source": [
    "### 10. Poisson Distribution"
   ]
  },
  {
   "cell_type": "markdown",
   "metadata": {
    "papermill": {
     "duration": 0.31227,
     "end_time": "2021-04-17T17:36:56.871300",
     "exception": false,
     "start_time": "2021-04-17T17:36:56.559030",
     "status": "completed"
    },
    "tags": []
   },
   "source": [
    "![](https://res.cloudinary.com/dyd911kmh/image/upload/f_auto,q_auto:best/v1539784818/output_39_0_knqrjh.png)"
   ]
  },
  {
   "cell_type": "markdown",
   "metadata": {
    "papermill": {
     "duration": 0.309594,
     "end_time": "2021-04-17T17:36:57.496592",
     "exception": false,
     "start_time": "2021-04-17T17:36:57.186998",
     "status": "completed"
    },
    "tags": []
   },
   "source": [
    "Note -> Normal Distribution is a limiting case of poisson distribution when lambda -> inf. "
   ]
  },
  {
   "cell_type": "code",
   "execution_count": 104,
   "metadata": {
    "execution": {
     "iopub.execute_input": "2021-04-17T17:36:58.124745Z",
     "iopub.status.busy": "2021-04-17T17:36:58.124107Z",
     "iopub.status.idle": "2021-04-17T17:36:58.130594Z",
     "shell.execute_reply": "2021-04-17T17:36:58.131192Z"
    },
    "papermill": {
     "duration": 0.32352,
     "end_time": "2021-04-17T17:36:58.131363",
     "exception": false,
     "start_time": "2021-04-17T17:36:57.807843",
     "status": "completed"
    },
    "tags": []
   },
   "outputs": [],
   "source": [
    "from scipy.stats import poisson\n",
    "data_poisson =poisson.rvs(mu = 3, size = 10000, random_state= 2021)"
   ]
  },
  {
   "cell_type": "code",
   "execution_count": 105,
   "metadata": {
    "execution": {
     "iopub.execute_input": "2021-04-17T17:36:58.758179Z",
     "iopub.status.busy": "2021-04-17T17:36:58.757453Z",
     "iopub.status.idle": "2021-04-17T17:36:58.936472Z",
     "shell.execute_reply": "2021-04-17T17:36:58.935972Z"
    },
    "papermill": {
     "duration": 0.49358,
     "end_time": "2021-04-17T17:36:58.936630",
     "exception": false,
     "start_time": "2021-04-17T17:36:58.443050",
     "status": "completed"
    },
    "tags": []
   },
   "outputs": [
    {
     "name": "stderr",
     "output_type": "stream",
     "text": [
      "/opt/conda/lib/python3.7/site-packages/seaborn/distributions.py:2557: FutureWarning: `distplot` is a deprecated function and will be removed in a future version. Please adapt your code to use either `displot` (a figure-level function with similar flexibility) or `histplot` (an axes-level function for histograms).\n",
      "  warnings.warn(msg, FutureWarning)\n"
     ]
    },
    {
     "data": {
      "text/plain": [
       "<AxesSubplot:>"
      ]
     },
     "execution_count": 105,
     "metadata": {},
     "output_type": "execute_result"
    },
    {
     "data": {
      "image/png": "[encoded data removed]",
      "text/plain": [
       "<Figure size 432x288 with 1 Axes>"
      ]
     },
     "metadata": {
      "needs_background": "light"
     },
     "output_type": "display_data"
    }
   ],
   "source": [
    "sns.distplot(data_poisson, bins = 30, kde = False, \n",
    "            color = 'skyblue',\n",
    "             hist_kws = {'linewidth' : 15, 'alpha' : 1}\n",
    "            )\n",
    "\n"
   ]
  },
  {
   "cell_type": "markdown",
   "metadata": {
    "papermill": {
     "duration": 0.311604,
     "end_time": "2021-04-17T17:36:59.605913",
     "exception": false,
     "start_time": "2021-04-17T17:36:59.294309",
     "status": "completed"
    },
    "tags": []
   },
   "source": [
    "### 11. Bernoulli Distribution"
   ]
  },
  {
   "cell_type": "markdown",
   "metadata": {
    "papermill": {
     "duration": 0.314249,
     "end_time": "2021-04-17T17:37:00.234045",
     "exception": false,
     "start_time": "2021-04-17T17:36:59.919796",
     "status": "completed"
    },
    "tags": []
   },
   "source": [
    "A bernoulli distribution has only 2 possible outcomes, 1 (success) and 0 (failure). <br>\n",
    "Eg. A coin toss. <br>"
   ]
  },
  {
   "cell_type": "code",
   "execution_count": null,
   "metadata": {
    "papermill": {
     "duration": 0.312719,
     "end_time": "2021-04-17T17:37:00.859030",
     "exception": false,
     "start_time": "2021-04-17T17:37:00.546311",
     "status": "completed"
    },
    "tags": []
   },
   "outputs": [],
   "source": []
  },
  {
   "cell_type": "code",
   "execution_count": null,
   "metadata": {
    "papermill": {
     "duration": 0.311827,
     "end_time": "2021-04-17T17:37:01.486615",
     "exception": false,
     "start_time": "2021-04-17T17:37:01.174788",
     "status": "completed"
    },
    "tags": []
   },
   "outputs": [],
   "source": []
  },
  {
   "cell_type": "markdown",
   "metadata": {
    "papermill": {
     "duration": 0.317022,
     "end_time": "2021-04-17T17:37:02.114124",
     "exception": false,
     "start_time": "2021-04-17T17:37:01.797102",
     "status": "completed"
    },
    "tags": []
   },
   "source": [
    "### 12. Central Limit Theorem"
   ]
  },
  {
   "cell_type": "markdown",
   "metadata": {
    "papermill": {
     "duration": 0.312846,
     "end_time": "2021-04-17T17:37:02.740432",
     "exception": false,
     "start_time": "2021-04-17T17:37:02.427586",
     "status": "completed"
    },
    "tags": []
   },
   "source": [
    "**What it states?** <br><br>\n",
    "Even when a sample is not normally distributed, if you draw multiple samples and take each of their averages, the averages will represent a normal distribution.<br><br>\n",
    "Which means repeated sampling from a not normally distributed sample and taking the means of those repeated samples will end up being a normally distributed sample. <br><br>\n",
    "\n",
    "100 samples in total which are not normally distributed. Take random 10 samples say 50 times and take the mean of these samples. It will come out to be a normally distributed sample."
   ]
  },
  {
   "cell_type": "code",
   "execution_count": null,
   "metadata": {
    "papermill": {
     "duration": 0.312755,
     "end_time": "2021-04-17T17:37:03.393508",
     "exception": false,
     "start_time": "2021-04-17T17:37:03.080753",
     "status": "completed"
    },
    "tags": []
   },
   "outputs": [],
   "source": []
  },
  {
   "cell_type": "markdown",
   "metadata": {
    "papermill": {
     "duration": 0.313863,
     "end_time": "2021-04-17T17:37:04.019063",
     "exception": false,
     "start_time": "2021-04-17T17:37:03.705200",
     "status": "completed"
    },
    "tags": []
   },
   "source": [
    "The following is an experiment of dice roll for 1000 times. <br>\n",
    "for 1000 times, we make samples of samples size 100 where possible outcomes are 1,2,3,4,5,6 <br><br>\n",
    "By plotting the histogram of the sample means, we obtain a normally distributed plot. <br>\n",
    "This is Central Limit Theorem"
   ]
  },
  {
   "cell_type": "code",
   "execution_count": 106,
   "metadata": {
    "execution": {
     "iopub.execute_input": "2021-04-17T17:37:04.711076Z",
     "iopub.status.busy": "2021-04-17T17:37:04.687121Z",
     "iopub.status.idle": "2021-04-17T17:37:04.829775Z",
     "shell.execute_reply": "2021-04-17T17:37:04.830252Z"
    },
    "papermill": {
     "duration": 0.495592,
     "end_time": "2021-04-17T17:37:04.830486",
     "exception": false,
     "start_time": "2021-04-17T17:37:04.334894",
     "status": "completed"
    },
    "tags": []
   },
   "outputs": [
    {
     "data": {
      "image/png": "[encoded data removed]",
      "text/plain": [
       "<Figure size 432x288 with 1 Axes>"
      ]
     },
     "metadata": {
      "needs_background": "light"
     },
     "output_type": "display_data"
    }
   ],
   "source": [
    "\n",
    "means = [np.mean(np.random.randint(1, 7, 100)) for _ in range(1000)]\n",
    "\n",
    "plt.hist(means)\n",
    "plt.show()"
   ]
  },
  {
   "cell_type": "markdown",
   "metadata": {
    "papermill": {
     "duration": 0.315156,
     "end_time": "2021-04-17T17:37:05.506656",
     "exception": false,
     "start_time": "2021-04-17T17:37:05.191500",
     "status": "completed"
    },
    "tags": []
   },
   "source": [
    "##### Key Takeaways :- <br><br>\n",
    "\n",
    "![](https://miro.medium.com/max/366/1*RdIQG331j0tayi50asTOIw.png)\n",
    "\n",
    "![](https://miro.medium.com/max/418/1*dCxzo7E6lmKxHLEg2xZSoQ.png)"
   ]
  },
  {
   "cell_type": "markdown",
   "metadata": {
    "papermill": {
     "duration": 0.315388,
     "end_time": "2021-04-17T17:37:06.136551",
     "exception": false,
     "start_time": "2021-04-17T17:37:05.821163",
     "status": "completed"
    },
    "tags": []
   },
   "source": [
    "You can never experiment with all your customers (population). However, to draw a conclusion for an experiment which is a good representaion of your customers, you need to perform repeated experiments on different set of customers (different samples of the not normally distributed population/sample as per the context) and confirm your hypotheses. "
   ]
  },
  {
   "cell_type": "code",
   "execution_count": null,
   "metadata": {
    "papermill": {
     "duration": 0.314337,
     "end_time": "2021-04-17T17:37:06.763975",
     "exception": false,
     "start_time": "2021-04-17T17:37:06.449638",
     "status": "completed"
    },
    "tags": []
   },
   "outputs": [],
   "source": []
  },
  {
   "cell_type": "code",
   "execution_count": null,
   "metadata": {
    "papermill": {
     "duration": 0.31645,
     "end_time": "2021-04-17T17:37:07.400467",
     "exception": false,
     "start_time": "2021-04-17T17:37:07.084017",
     "status": "completed"
    },
    "tags": []
   },
   "outputs": [],
   "source": []
  },
  {
   "cell_type": "markdown",
   "metadata": {
    "papermill": {
     "duration": 0.315991,
     "end_time": "2021-04-17T17:37:08.031112",
     "exception": false,
     "start_time": "2021-04-17T17:37:07.715121",
     "status": "completed"
    },
    "tags": []
   },
   "source": [
    "### 13. Calculating p-Value"
   ]
  },
  {
   "cell_type": "markdown",
   "metadata": {
    "papermill": {
     "duration": 0.313409,
     "end_time": "2021-04-17T17:37:08.663516",
     "exception": false,
     "start_time": "2021-04-17T17:37:08.350107",
     "status": "completed"
    },
    "tags": []
   },
   "source": [
    "![](https://miro.medium.com/max/963/1*0XXmFcatWBkagH3YeYdpig.png)"
   ]
  },
  {
   "cell_type": "markdown",
   "metadata": {
    "papermill": {
     "duration": 0.316804,
     "end_time": "2021-04-17T17:37:09.297175",
     "exception": false,
     "start_time": "2021-04-17T17:37:08.980371",
     "status": "completed"
    },
    "tags": []
   },
   "source": [
    "p-value is all about answering the question with certain confidence level. <br>\n",
    "eg. I am 90% confident that I will get that job. "
   ]
  },
  {
   "cell_type": "markdown",
   "metadata": {
    "papermill": {
     "duration": 0.31325,
     "end_time": "2021-04-17T17:37:09.924001",
     "exception": false,
     "start_time": "2021-04-17T17:37:09.610751",
     "status": "completed"
    },
    "tags": []
   },
   "source": [
    "**In p-value tests, our task might be to find the probability that a sample mean could be x, given the hypothesis that the population mean is y.** <br>\n",
    "\n",
    "<br>\n",
    "Conclusion => <br>\n",
    "The p-value gives us the probability of observing what we observed, given the hypothesis is true. It doesn't tell us the probability that the null hypothesis is true."
   ]
  },
  {
   "cell_type": "markdown",
   "metadata": {
    "papermill": {
     "duration": 0.314204,
     "end_time": "2021-04-17T17:37:10.554594",
     "exception": false,
     "start_time": "2021-04-17T17:37:10.240390",
     "status": "completed"
    },
    "tags": []
   },
   "source": [
    "**How it works?** <br>\n",
    "Statement (Null Hypothesis) -> "
   ]
  },
  {
   "cell_type": "code",
   "execution_count": 107,
   "metadata": {
    "execution": {
     "iopub.execute_input": "2021-04-17T17:37:11.193075Z",
     "iopub.status.busy": "2021-04-17T17:37:11.192407Z",
     "iopub.status.idle": "2021-04-17T17:37:11.195575Z",
     "shell.execute_reply": "2021-04-17T17:37:11.195108Z"
    },
    "papermill": {
     "duration": 0.327661,
     "end_time": "2021-04-17T17:37:11.195742",
     "exception": false,
     "start_time": "2021-04-17T17:37:10.868081",
     "status": "completed"
    },
    "tags": []
   },
   "outputs": [],
   "source": [
    "def pvalue(mu, sigma, samp_size, samp_mean = 0, deltam = 0):\n",
    "    \n",
    "    np.random.seed(2021)\n",
    "    "
   ]
  },
  {
   "cell_type": "markdown",
   "metadata": {
    "papermill": {
     "duration": 0.355325,
     "end_time": "2021-04-17T17:37:11.864171",
     "exception": false,
     "start_time": "2021-04-17T17:37:11.508846",
     "status": "completed"
    },
    "tags": []
   },
   "source": []
  },
  {
   "cell_type": "markdown",
   "metadata": {
    "papermill": {
     "duration": 0.31541,
     "end_time": "2021-04-17T17:37:12.496018",
     "exception": false,
     "start_time": "2021-04-17T17:37:12.180608",
     "status": "completed"
    },
    "tags": []
   },
   "source": [
    "COnsidering Means -> Use t-test"
   ]
  },
  {
   "cell_type": "markdown",
   "metadata": {
    "papermill": {
     "duration": 0.323408,
     "end_time": "2021-04-17T17:37:13.133152",
     "exception": false,
     "start_time": "2021-04-17T17:37:12.809744",
     "status": "completed"
    },
    "tags": []
   },
   "source": [
    "![](https://media.geeksforgeeks.org/wp-content/uploads/20200503190751/Annotation-2020-05-03-190733-300x92.png)"
   ]
  },
  {
   "cell_type": "code",
   "execution_count": null,
   "metadata": {
    "papermill": {
     "duration": 0.312504,
     "end_time": "2021-04-17T17:37:13.760012",
     "exception": false,
     "start_time": "2021-04-17T17:37:13.447508",
     "status": "completed"
    },
    "tags": []
   },
   "outputs": [],
   "source": []
  },
  {
   "cell_type": "markdown",
   "metadata": {
    "papermill": {
     "duration": 0.314077,
     "end_time": "2021-04-17T17:37:14.418155",
     "exception": false,
     "start_time": "2021-04-17T17:37:14.104078",
     "status": "completed"
    },
    "tags": []
   },
   "source": [
    "Considering Proportions -> z test"
   ]
  },
  {
   "cell_type": "markdown",
   "metadata": {
    "papermill": {
     "duration": 0.31451,
     "end_time": "2021-04-17T17:37:15.045859",
     "exception": false,
     "start_time": "2021-04-17T17:37:14.731349",
     "status": "completed"
    },
    "tags": []
   },
   "source": [
    "![](https://media.geeksforgeeks.org/wp-content/uploads/20200503191805/Annotation-2020-05-03-191654-300x92.png)"
   ]
  },
  {
   "cell_type": "code",
   "execution_count": null,
   "metadata": {
    "papermill": {
     "duration": 0.338569,
     "end_time": "2021-04-17T17:37:15.699208",
     "exception": false,
     "start_time": "2021-04-17T17:37:15.360639",
     "status": "completed"
    },
    "tags": []
   },
   "outputs": [],
   "source": []
  },
  {
   "cell_type": "markdown",
   "metadata": {
    "papermill": {
     "duration": 0.319816,
     "end_time": "2021-04-17T17:37:16.357084",
     "exception": false,
     "start_time": "2021-04-17T17:37:16.037268",
     "status": "completed"
    },
    "tags": []
   },
   "source": [
    "## Solving Questions on Distributions using python"
   ]
  },
  {
   "cell_type": "markdown",
   "metadata": {
    "papermill": {
     "duration": 0.317379,
     "end_time": "2021-04-17T17:37:16.988607",
     "exception": false,
     "start_time": "2021-04-17T17:37:16.671228",
     "status": "completed"
    },
    "tags": []
   },
   "source": [
    "Q1. Calculate the probability of getting 14 heads in 20 attempts from a fair coin."
   ]
  },
  {
   "cell_type": "code",
   "execution_count": 108,
   "metadata": {
    "execution": {
     "iopub.execute_input": "2021-04-17T17:37:17.623762Z",
     "iopub.status.busy": "2021-04-17T17:37:17.623098Z",
     "iopub.status.idle": "2021-04-17T17:37:17.627720Z",
     "shell.execute_reply": "2021-04-17T17:37:17.627094Z"
    },
    "papermill": {
     "duration": 0.322893,
     "end_time": "2021-04-17T17:37:17.627865",
     "exception": false,
     "start_time": "2021-04-17T17:37:17.304972",
     "status": "completed"
    },
    "tags": []
   },
   "outputs": [
    {
     "name": "stdout",
     "output_type": "stream",
     "text": [
      "0.03696441650390614\n"
     ]
    }
   ],
   "source": [
    "# It is a problem of binomial distribution. N = 20, p = 0.5, q = 0.5, x = 14\n",
    "\n",
    "\n",
    "# use the probability mass function to evaluate the probability\n",
    "print(stats.binom.pmf(k = 14, n = 20, p = 0.5))"
   ]
  },
  {
   "cell_type": "markdown",
   "metadata": {
    "papermill": {
     "duration": 0.317973,
     "end_time": "2021-04-17T17:37:18.261554",
     "exception": false,
     "start_time": "2021-04-17T17:37:17.943581",
     "status": "completed"
    },
    "tags": []
   },
   "source": [
    "Q2. A question paper contains 90 multiple choice questions. There are four alternatives answers to each question of which only one is correct. What is the probability to score atleast 22 marks without any preparation (random guessing)."
   ]
  },
  {
   "cell_type": "code",
   "execution_count": 109,
   "metadata": {
    "execution": {
     "iopub.execute_input": "2021-04-17T17:37:18.940850Z",
     "iopub.status.busy": "2021-04-17T17:37:18.940144Z",
     "iopub.status.idle": "2021-04-17T17:37:18.944369Z",
     "shell.execute_reply": "2021-04-17T17:37:18.943727Z"
    },
    "papermill": {
     "duration": 0.323366,
     "end_time": "2021-04-17T17:37:18.944536",
     "exception": false,
     "start_time": "2021-04-17T17:37:18.621170",
     "status": "completed"
    },
    "tags": []
   },
   "outputs": [
    {
     "data": {
      "text/plain": [
       "0.5885826169612627"
      ]
     },
     "execution_count": 109,
     "metadata": {},
     "output_type": "execute_result"
    }
   ],
   "source": [
    "## Again a question of binom distribution. N = 90, k = 22, p = 0.25\n",
    "\n",
    "\n",
    "# In this question, we'll be using cumulative distribution function and subtract the outcome from 1. \n",
    "# Find the cumulative probability till k = 21 and subtract it from 1 so that outcome is >= 22 marks\n",
    "1 - stats.binom.cdf(k = 21, n = 90, p = 0.25)"
   ]
  },
  {
   "cell_type": "markdown",
   "metadata": {
    "papermill": {
     "duration": 0.317677,
     "end_time": "2021-04-17T17:37:19.580532",
     "exception": false,
     "start_time": "2021-04-17T17:37:19.262855",
     "status": "completed"
    },
    "tags": []
   },
   "source": [
    "Q3. On an average 5% items supplied by a manufacturer are defective. If a batch of 10 items is inspected, what is the probability that 2 items are defective. "
   ]
  },
  {
   "cell_type": "code",
   "execution_count": 110,
   "metadata": {
    "execution": {
     "iopub.execute_input": "2021-04-17T17:37:20.218797Z",
     "iopub.status.busy": "2021-04-17T17:37:20.218126Z",
     "iopub.status.idle": "2021-04-17T17:37:20.223974Z",
     "shell.execute_reply": "2021-04-17T17:37:20.224474Z"
    },
    "papermill": {
     "duration": 0.329125,
     "end_time": "2021-04-17T17:37:20.224645",
     "exception": false,
     "start_time": "2021-04-17T17:37:19.895520",
     "status": "completed"
    },
    "tags": []
   },
   "outputs": [
    {
     "data": {
      "text/plain": [
       "0.07463479852001954"
      ]
     },
     "execution_count": 110,
     "metadata": {},
     "output_type": "execute_result"
    }
   ],
   "source": [
    "### Binomial Distribution problem\n",
    "\n",
    "## Defective sample is to be considered as success. p = 0.05, N = 10, k = 2\n",
    "\n",
    "stats.binom.pmf(k = 2, n= 10, p = 0.05)"
   ]
  },
  {
   "cell_type": "markdown",
   "metadata": {
    "papermill": {
     "duration": 0.315204,
     "end_time": "2021-04-17T17:37:20.859926",
     "exception": false,
     "start_time": "2021-04-17T17:37:20.544722",
     "status": "completed"
    },
    "tags": []
   },
   "source": [
    "Q4. A car distributor experiences on an average 3 car sales per day. Find the probability that on a randomly selected day they will sell \n",
    "1. 5 cars.\n",
    "2. 0 Cars\n",
    "3. At most 2 cars\n",
    "4. exactly 1 car"
   ]
  },
  {
   "cell_type": "code",
   "execution_count": 111,
   "metadata": {
    "execution": {
     "iopub.execute_input": "2021-04-17T17:37:21.496367Z",
     "iopub.status.busy": "2021-04-17T17:37:21.495751Z",
     "iopub.status.idle": "2021-04-17T17:37:21.501101Z",
     "shell.execute_reply": "2021-04-17T17:37:21.501539Z"
    },
    "papermill": {
     "duration": 0.322481,
     "end_time": "2021-04-17T17:37:21.501724",
     "exception": false,
     "start_time": "2021-04-17T17:37:21.179243",
     "status": "completed"
    },
    "tags": []
   },
   "outputs": [
    {
     "data": {
      "text/plain": [
       "0.10081881344492458"
      ]
     },
     "execution_count": 111,
     "metadata": {},
     "output_type": "execute_result"
    }
   ],
   "source": [
    "## Since we are dealing with discrete occurences over an interval, this is the case of poisson distribution.\n",
    "# x = 5, mu = 3\n",
    "stats.poisson.pmf(5, 3)"
   ]
  },
  {
   "cell_type": "code",
   "execution_count": 112,
   "metadata": {
    "execution": {
     "iopub.execute_input": "2021-04-17T17:37:22.138623Z",
     "iopub.status.busy": "2021-04-17T17:37:22.138003Z",
     "iopub.status.idle": "2021-04-17T17:37:22.144016Z",
     "shell.execute_reply": "2021-04-17T17:37:22.143274Z"
    },
    "papermill": {
     "duration": 0.327215,
     "end_time": "2021-04-17T17:37:22.144196",
     "exception": false,
     "start_time": "2021-04-17T17:37:21.816981",
     "status": "completed"
    },
    "tags": []
   },
   "outputs": [
    {
     "data": {
      "text/plain": [
       "0.049787068367863944"
      ]
     },
     "execution_count": 112,
     "metadata": {},
     "output_type": "execute_result"
    }
   ],
   "source": [
    "## Case ii. x = 0, mu = 3\n",
    "\n",
    "stats.poisson.pmf(0,3)"
   ]
  },
  {
   "cell_type": "code",
   "execution_count": 113,
   "metadata": {
    "execution": {
     "iopub.execute_input": "2021-04-17T17:37:22.785950Z",
     "iopub.status.busy": "2021-04-17T17:37:22.785304Z",
     "iopub.status.idle": "2021-04-17T17:37:22.790431Z",
     "shell.execute_reply": "2021-04-17T17:37:22.790948Z"
    },
    "papermill": {
     "duration": 0.327047,
     "end_time": "2021-04-17T17:37:22.791126",
     "exception": false,
     "start_time": "2021-04-17T17:37:22.464079",
     "status": "completed"
    },
    "tags": []
   },
   "outputs": [
    {
     "data": {
      "text/plain": [
       "0.42319008112684364"
      ]
     },
     "execution_count": 113,
     "metadata": {},
     "output_type": "execute_result"
    }
   ],
   "source": [
    "# Case iii. x <= 2, mu = 3\n",
    "\n",
    "stats.poisson.cdf(2, 3)"
   ]
  },
  {
   "cell_type": "code",
   "execution_count": 114,
   "metadata": {
    "execution": {
     "iopub.execute_input": "2021-04-17T17:37:23.428106Z",
     "iopub.status.busy": "2021-04-17T17:37:23.427384Z",
     "iopub.status.idle": "2021-04-17T17:37:23.432736Z",
     "shell.execute_reply": "2021-04-17T17:37:23.433241Z"
    },
    "papermill": {
     "duration": 0.324337,
     "end_time": "2021-04-17T17:37:23.433410",
     "exception": false,
     "start_time": "2021-04-17T17:37:23.109073",
     "status": "completed"
    },
    "tags": []
   },
   "outputs": [
    {
     "data": {
      "text/plain": [
       "0.14936120510359185"
      ]
     },
     "execution_count": 114,
     "metadata": {},
     "output_type": "execute_result"
    }
   ],
   "source": [
    "## Case iv. x = 1, mu = 3\n",
    "\n",
    "stats.poisson.pmf(1,3)"
   ]
  },
  {
   "cell_type": "markdown",
   "metadata": {
    "papermill": {
     "duration": 0.319649,
     "end_time": "2021-04-17T17:37:24.070383",
     "exception": false,
     "start_time": "2021-04-17T17:37:23.750734",
     "status": "completed"
    },
    "tags": []
   },
   "source": [
    "Q5. The weight of football players is normally distributed with mean of 200 pounds and a standard deviation of 25 pounds. Find the probability of a player weighing\n",
    "1. more than 241.25 pounds\n",
    "2. less than 250 pounds."
   ]
  },
  {
   "cell_type": "code",
   "execution_count": 115,
   "metadata": {
    "execution": {
     "iopub.execute_input": "2021-04-17T17:37:24.705234Z",
     "iopub.status.busy": "2021-04-17T17:37:24.704589Z",
     "iopub.status.idle": "2021-04-17T17:37:24.710121Z",
     "shell.execute_reply": "2021-04-17T17:37:24.710650Z"
    },
    "papermill": {
     "duration": 0.32456,
     "end_time": "2021-04-17T17:37:24.710832",
     "exception": false,
     "start_time": "2021-04-17T17:37:24.386272",
     "status": "completed"
    },
    "tags": []
   },
   "outputs": [
    {
     "data": {
      "text/plain": [
       "0.0494714680336481"
      ]
     },
     "execution_count": 115,
     "metadata": {},
     "output_type": "execute_result"
    }
   ],
   "source": [
    "# part 1\n",
    "# x = 241.25\n",
    "# loc = 200\n",
    "# scale = 25\n",
    "\n",
    "# P(z > 241.25)\n",
    "\n",
    "1 - stats.norm.cdf(241.25, 200, 25)"
   ]
  },
  {
   "cell_type": "code",
   "execution_count": 116,
   "metadata": {
    "execution": {
     "iopub.execute_input": "2021-04-17T17:37:25.422390Z",
     "iopub.status.busy": "2021-04-17T17:37:25.421708Z",
     "iopub.status.idle": "2021-04-17T17:37:25.428055Z",
     "shell.execute_reply": "2021-04-17T17:37:25.427342Z"
    },
    "papermill": {
     "duration": 0.327393,
     "end_time": "2021-04-17T17:37:25.428204",
     "exception": false,
     "start_time": "2021-04-17T17:37:25.100811",
     "status": "completed"
    },
    "tags": []
   },
   "outputs": [
    {
     "data": {
      "text/plain": [
       "0.9772498680518208"
      ]
     },
     "execution_count": 116,
     "metadata": {},
     "output_type": "execute_result"
    }
   ],
   "source": [
    "# part 2\n",
    "\n",
    "# x = 250\n",
    "# loc = 200\n",
    "# scale = 25\n",
    "\n",
    "# P(z < 250)\n",
    "\n",
    "stats.norm.cdf(250, 200, 25)"
   ]
  },
  {
   "cell_type": "markdown",
   "metadata": {
    "papermill": {
     "duration": 0.3202,
     "end_time": "2021-04-17T17:37:26.066673",
     "exception": false,
     "start_time": "2021-04-17T17:37:25.746473",
     "status": "completed"
    },
    "tags": []
   },
   "source": [
    "Q6. Assuming a binomial experiment with p = 0.5 and a sample size of 100. The expected value of this distribution is?"
   ]
  },
  {
   "cell_type": "code",
   "execution_count": 117,
   "metadata": {
    "execution": {
     "iopub.execute_input": "2021-04-17T17:37:26.706246Z",
     "iopub.status.busy": "2021-04-17T17:37:26.705638Z",
     "iopub.status.idle": "2021-04-17T17:37:26.708301Z",
     "shell.execute_reply": "2021-04-17T17:37:26.708860Z"
    },
    "papermill": {
     "duration": 0.324999,
     "end_time": "2021-04-17T17:37:26.709027",
     "exception": false,
     "start_time": "2021-04-17T17:37:26.384028",
     "status": "completed"
    },
    "tags": []
   },
   "outputs": [
    {
     "data": {
      "text/plain": [
       "50.0"
      ]
     },
     "execution_count": 117,
     "metadata": {},
     "output_type": "execute_result"
    }
   ],
   "source": [
    "# Expected value of a binomial experiment is np\n",
    "\n",
    "0.5 * 100"
   ]
  },
  {
   "cell_type": "markdown",
   "metadata": {
    "papermill": {
     "duration": 0.321598,
     "end_time": "2021-04-17T17:37:27.358687",
     "exception": false,
     "start_time": "2021-04-17T17:37:27.037089",
     "status": "completed"
    },
    "tags": []
   },
   "source": [
    "Q7. Probability of acceptance of a student in a college is 0.3 <br>\n",
    "If 5 students apply, probability that at most 2 are selected?"
   ]
  },
  {
   "cell_type": "code",
   "execution_count": 118,
   "metadata": {
    "execution": {
     "iopub.execute_input": "2021-04-17T17:37:27.997995Z",
     "iopub.status.busy": "2021-04-17T17:37:27.997308Z",
     "iopub.status.idle": "2021-04-17T17:37:28.002641Z",
     "shell.execute_reply": "2021-04-17T17:37:28.003166Z"
    },
    "papermill": {
     "duration": 0.327587,
     "end_time": "2021-04-17T17:37:28.003346",
     "exception": false,
     "start_time": "2021-04-17T17:37:27.675759",
     "status": "completed"
    },
    "tags": []
   },
   "outputs": [
    {
     "data": {
      "text/plain": [
       "0.8369199999999999"
      ]
     },
     "execution_count": 118,
     "metadata": {},
     "output_type": "execute_result"
    }
   ],
   "source": [
    "stats.binom.cdf(2, 5, 0.3)"
   ]
  },
  {
   "cell_type": "markdown",
   "metadata": {
    "papermill": {
     "duration": 0.315248,
     "end_time": "2021-04-17T17:37:28.637378",
     "exception": false,
     "start_time": "2021-04-17T17:37:28.322130",
     "status": "completed"
    },
    "tags": []
   },
   "source": [
    "Q8. Probability of obtaining 45 or fewer heads in 100 tosses of a coin?"
   ]
  },
  {
   "cell_type": "code",
   "execution_count": 119,
   "metadata": {
    "execution": {
     "iopub.execute_input": "2021-04-17T17:37:29.283226Z",
     "iopub.status.busy": "2021-04-17T17:37:29.282521Z",
     "iopub.status.idle": "2021-04-17T17:37:29.287578Z",
     "shell.execute_reply": "2021-04-17T17:37:29.288073Z"
    },
    "papermill": {
     "duration": 0.332752,
     "end_time": "2021-04-17T17:37:29.288255",
     "exception": false,
     "start_time": "2021-04-17T17:37:28.955503",
     "status": "completed"
    },
    "tags": []
   },
   "outputs": [
    {
     "data": {
      "text/plain": [
       "0.18410080866334827"
      ]
     },
     "execution_count": 119,
     "metadata": {},
     "output_type": "execute_result"
    }
   ],
   "source": [
    "stats.binom.cdf(45, 100, 0.5)"
   ]
  },
  {
   "cell_type": "markdown",
   "metadata": {
    "papermill": {
     "duration": 0.318257,
     "end_time": "2021-04-17T17:37:29.927148",
     "exception": false,
     "start_time": "2021-04-17T17:37:29.608891",
     "status": "completed"
    },
    "tags": []
   },
   "source": [
    "Q9. Suppose a die is tossed 5 times. Probability of getting exactly 2 fours?"
   ]
  },
  {
   "cell_type": "code",
   "execution_count": 120,
   "metadata": {
    "execution": {
     "iopub.execute_input": "2021-04-17T17:37:30.611522Z",
     "iopub.status.busy": "2021-04-17T17:37:30.610848Z",
     "iopub.status.idle": "2021-04-17T17:37:30.616443Z",
     "shell.execute_reply": "2021-04-17T17:37:30.616977Z"
    },
    "papermill": {
     "duration": 0.326938,
     "end_time": "2021-04-17T17:37:30.617151",
     "exception": false,
     "start_time": "2021-04-17T17:37:30.290213",
     "status": "completed"
    },
    "tags": []
   },
   "outputs": [
    {
     "data": {
      "text/plain": [
       "0.16120107977393003"
      ]
     },
     "execution_count": 120,
     "metadata": {},
     "output_type": "execute_result"
    }
   ],
   "source": [
    "stats.binom.pmf(2,5, 0.167)"
   ]
  },
  {
   "cell_type": "markdown",
   "metadata": {
    "papermill": {
     "duration": 0.322051,
     "end_time": "2021-04-17T17:37:31.261293",
     "exception": false,
     "start_time": "2021-04-17T17:37:30.939242",
     "status": "completed"
    },
    "tags": []
   },
   "source": [
    "Q10. An average light bulb manufactured by the Acme Corporation lasts 300 days with a standard deviation of 50 days. Assuming that bulb life is normally distributed, what is the probability that an Acme light bulb will last at most 365 days?"
   ]
  },
  {
   "cell_type": "code",
   "execution_count": 121,
   "metadata": {
    "execution": {
     "iopub.execute_input": "2021-04-17T17:37:31.904333Z",
     "iopub.status.busy": "2021-04-17T17:37:31.903715Z",
     "iopub.status.idle": "2021-04-17T17:37:31.908895Z",
     "shell.execute_reply": "2021-04-17T17:37:31.909331Z"
    },
    "papermill": {
     "duration": 0.329084,
     "end_time": "2021-04-17T17:37:31.909522",
     "exception": false,
     "start_time": "2021-04-17T17:37:31.580438",
     "status": "completed"
    },
    "tags": []
   },
   "outputs": [
    {
     "data": {
      "text/plain": [
       "0.9031995154143897"
      ]
     },
     "execution_count": 121,
     "metadata": {},
     "output_type": "execute_result"
    }
   ],
   "source": [
    "stats.norm.cdf(365, 300, 50)"
   ]
  },
  {
   "cell_type": "markdown",
   "metadata": {
    "papermill": {
     "duration": 0.320992,
     "end_time": "2021-04-17T17:37:32.553308",
     "exception": false,
     "start_time": "2021-04-17T17:37:32.232316",
     "status": "completed"
    },
    "tags": []
   },
   "source": [
    "Q11. Suppose scores on an IQ test are normally distributed. If the test has a mean of 100 and a standard deviation of 10, what is the probability that a person who takes the test will score between 90 and 110?"
   ]
  },
  {
   "cell_type": "code",
   "execution_count": 122,
   "metadata": {
    "execution": {
     "iopub.execute_input": "2021-04-17T17:37:33.200358Z",
     "iopub.status.busy": "2021-04-17T17:37:33.199743Z",
     "iopub.status.idle": "2021-04-17T17:37:33.205595Z",
     "shell.execute_reply": "2021-04-17T17:37:33.206132Z"
    },
    "papermill": {
     "duration": 0.332706,
     "end_time": "2021-04-17T17:37:33.206305",
     "exception": false,
     "start_time": "2021-04-17T17:37:32.873599",
     "status": "completed"
    },
    "tags": []
   },
   "outputs": [
    {
     "data": {
      "text/plain": [
       "0.6826894921370859"
      ]
     },
     "execution_count": 122,
     "metadata": {},
     "output_type": "execute_result"
    }
   ],
   "source": [
    "stats.norm.cdf(110, 100, 10) - stats.norm.cdf(90, 100, 10)"
   ]
  },
  {
   "cell_type": "markdown",
   "metadata": {
    "papermill": {
     "duration": 0.319465,
     "end_time": "2021-04-17T17:37:33.845972",
     "exception": false,
     "start_time": "2021-04-17T17:37:33.526507",
     "status": "completed"
    },
    "tags": []
   },
   "source": [
    "Q12. Suppose the average number of lions seen on a 1-day safari is 5. What is the probability that tourists will see fewer than four lions on the next 1-day safari?"
   ]
  },
  {
   "cell_type": "code",
   "execution_count": 123,
   "metadata": {
    "execution": {
     "iopub.execute_input": "2021-04-17T17:37:34.492840Z",
     "iopub.status.busy": "2021-04-17T17:37:34.492191Z",
     "iopub.status.idle": "2021-04-17T17:37:34.499015Z",
     "shell.execute_reply": "2021-04-17T17:37:34.498460Z"
    },
    "papermill": {
     "duration": 0.329837,
     "end_time": "2021-04-17T17:37:34.499157",
     "exception": false,
     "start_time": "2021-04-17T17:37:34.169320",
     "status": "completed"
    },
    "tags": []
   },
   "outputs": [
    {
     "data": {
      "text/plain": [
       "0.2650259152973616"
      ]
     },
     "execution_count": 123,
     "metadata": {},
     "output_type": "execute_result"
    }
   ],
   "source": [
    "stats.poisson.cdf(3, 5)"
   ]
  },
  {
   "cell_type": "markdown",
   "metadata": {
    "papermill": {
     "duration": 0.326677,
     "end_time": "2021-04-17T17:37:35.147013",
     "exception": false,
     "start_time": "2021-04-17T17:37:34.820336",
     "status": "completed"
    },
    "tags": []
   },
   "source": [
    "Q13. The average number of homes sold by the Acme Realty company is 2 homes per day. What is the probability that exactly 3 homes will be sold tomorrow?"
   ]
  },
  {
   "cell_type": "code",
   "execution_count": 124,
   "metadata": {
    "execution": {
     "iopub.execute_input": "2021-04-17T17:37:35.795259Z",
     "iopub.status.busy": "2021-04-17T17:37:35.794604Z",
     "iopub.status.idle": "2021-04-17T17:37:35.799155Z",
     "shell.execute_reply": "2021-04-17T17:37:35.799693Z"
    },
    "papermill": {
     "duration": 0.3319,
     "end_time": "2021-04-17T17:37:35.799875",
     "exception": false,
     "start_time": "2021-04-17T17:37:35.467975",
     "status": "completed"
    },
    "tags": []
   },
   "outputs": [
    {
     "data": {
      "text/plain": [
       "0.22404180765538775"
      ]
     },
     "execution_count": 124,
     "metadata": {},
     "output_type": "execute_result"
    }
   ],
   "source": [
    "stats.poisson.pmf(2,3)"
   ]
  },
  {
   "cell_type": "markdown",
   "metadata": {
    "papermill": {
     "duration": 0.321709,
     "end_time": "2021-04-17T17:37:36.515032",
     "exception": false,
     "start_time": "2021-04-17T17:37:36.193323",
     "status": "completed"
    },
    "tags": []
   },
   "source": [
    "Q14. Suppose scores on an IQ test are normally distributed, with a mean of 100. Suppose 20 people are randomly selected and tested. The standard deviation in the sample group is 15. What is the probability that the average test score in the sample group will be at most 110?"
   ]
  },
  {
   "cell_type": "code",
   "execution_count": null,
   "metadata": {
    "papermill": {
     "duration": 0.332932,
     "end_time": "2021-04-17T17:37:37.170453",
     "exception": false,
     "start_time": "2021-04-17T17:37:36.837521",
     "status": "completed"
    },
    "tags": []
   },
   "outputs": [],
   "source": []
  },
  {
   "cell_type": "markdown",
   "metadata": {
    "papermill": {
     "duration": 0.319417,
     "end_time": "2021-04-17T17:37:37.811114",
     "exception": false,
     "start_time": "2021-04-17T17:37:37.491697",
     "status": "completed"
    },
    "tags": []
   },
   "source": [
    "Q15. Acme Corporation manufactures light bulbs. The CEO claims that an average Acme light bulb lasts 300 days. A researcher randomly selects 15 bulbs for testing. The bulbs last an average of 290 days, with a standard deviation of 50 days. If the CEO's claim were true, what is the probability that 15 randomly selected bulbs would have an average life of no more than 290 days?"
   ]
  },
  {
   "cell_type": "code",
   "execution_count": null,
   "metadata": {
    "papermill": {
     "duration": 0.320525,
     "end_time": "2021-04-17T17:37:38.452836",
     "exception": false,
     "start_time": "2021-04-17T17:37:38.132311",
     "status": "completed"
    },
    "tags": []
   },
   "outputs": [],
   "source": []
  },
  {
   "cell_type": "markdown",
   "metadata": {
    "papermill": {
     "duration": 0.32208,
     "end_time": "2021-04-17T17:37:39.098582",
     "exception": false,
     "start_time": "2021-04-17T17:37:38.776502",
     "status": "completed"
    },
    "tags": []
   },
   "source": [
    "Q16. Suppose we select 5 cards from an ordinary deck of playing cards. What is the probability of obtaining 2 or fewer hearts?"
   ]
  },
  {
   "cell_type": "code",
   "execution_count": null,
   "metadata": {
    "papermill": {
     "duration": 0.320958,
     "end_time": "2021-04-17T17:37:39.739348",
     "exception": false,
     "start_time": "2021-04-17T17:37:39.418390",
     "status": "completed"
    },
    "tags": []
   },
   "outputs": [],
   "source": []
  },
  {
   "cell_type": "code",
   "execution_count": null,
   "metadata": {
    "papermill": {
     "duration": 0.328411,
     "end_time": "2021-04-17T17:37:40.392037",
     "exception": false,
     "start_time": "2021-04-17T17:37:40.063626",
     "status": "completed"
    },
    "tags": []
   },
   "outputs": [],
   "source": []
  },
  {
   "cell_type": "markdown",
   "metadata": {
    "papermill": {
     "duration": 0.325593,
     "end_time": "2021-04-17T17:37:41.039787",
     "exception": false,
     "start_time": "2021-04-17T17:37:40.714194",
     "status": "completed"
    },
    "tags": []
   },
   "source": [
    "### 14. Measuring Correlation"
   ]
  },
  {
   "cell_type": "markdown",
   "metadata": {
    "papermill": {
     "duration": 0.321917,
     "end_time": "2021-04-17T17:37:41.688445",
     "exception": false,
     "start_time": "2021-04-17T17:37:41.366528",
     "status": "completed"
    },
    "tags": []
   },
   "source": [
    "The strength of the association between two variables is known as correlation test. <br>\n",
    "If we want to know the relation between height and weight of human beings, a dataset of the same is to be obtain and correlation is to be found to justify or reject the above hypothesis. "
   ]
  },
  {
   "cell_type": "markdown",
   "metadata": {
    "papermill": {
     "duration": 0.326412,
     "end_time": "2021-04-17T17:37:42.337045",
     "exception": false,
     "start_time": "2021-04-17T17:37:42.010633",
     "status": "completed"
    },
    "tags": []
   },
   "source": [
    "* r takes values -1 to +1 \n",
    "* r = 0 means no correlation\n",
    "* can't be applied to ordinal variables\n",
    "* the sample size should be moderate 20 to 30. \n",
    "* outliers can lead to misleading calculations"
   ]
  },
  {
   "cell_type": "markdown",
   "metadata": {
    "papermill": {
     "duration": 0.36504,
     "end_time": "2021-04-17T17:37:43.023697",
     "exception": false,
     "start_time": "2021-04-17T17:37:42.658657",
     "status": "completed"
    },
    "tags": []
   },
   "source": [
    "![](https://media.geeksforgeeks.org/wp-content/uploads/20200311233526/formula6.png)"
   ]
  },
  {
   "cell_type": "code",
   "execution_count": 125,
   "metadata": {
    "execution": {
     "iopub.execute_input": "2021-04-17T17:37:43.678290Z",
     "iopub.status.busy": "2021-04-17T17:37:43.677443Z",
     "iopub.status.idle": "2021-04-17T17:37:43.681260Z",
     "shell.execute_reply": "2021-04-17T17:37:43.680608Z"
    },
    "papermill": {
     "duration": 0.332323,
     "end_time": "2021-04-17T17:37:43.681396",
     "exception": false,
     "start_time": "2021-04-17T17:37:43.349073",
     "status": "completed"
    },
    "tags": []
   },
   "outputs": [
    {
     "name": "stdout",
     "output_type": "stream",
     "text": [
      "Elements of 1st list ->  [51, 80, 69, 35, 31, 81, 4, 56, 60, 73, 8, 40, 34, 37, 91, 9, 20, 21, 6, 13, 70, 86, 94, 68, 59, 14, 25, 92, 96, 67, 43, 47, 50, 74, 28, 95, 75, 65, 30, 7, 41, 87, 66, 29, 61, 18, 89, 17, 0, 1] \n",
      "\n",
      "Elements of 2nd list ->  [68, 96, 29, 24, 21, 31, 51, 54, 74, 83, 47, 88, 33, 6, 35, 9, 10, 22, 91, 57, 28, 81, 17, 92, 50, 34, 55, 82, 76, 77, 60, 36, 13, 44, 1, 80, 37, 72, 40, 7, 4, 32, 5, 27, 20, 63, 86, 46, 53, 90] \n",
      "\n"
     ]
    }
   ],
   "source": [
    "random.seed(2021)\n",
    "lst1 = random.sample(range(100), 50)\n",
    "print(\"Elements of 1st list -> \", lst1, \"\\n\")\n",
    "\n",
    "\n",
    "lst2 = random.sample(range(100), 50)\n",
    "print(\"Elements of 2nd list -> \", lst2, \"\\n\")\n"
   ]
  },
  {
   "cell_type": "code",
   "execution_count": 126,
   "metadata": {
    "execution": {
     "iopub.execute_input": "2021-04-17T17:37:44.333082Z",
     "iopub.status.busy": "2021-04-17T17:37:44.332277Z",
     "iopub.status.idle": "2021-04-17T17:37:44.335158Z",
     "shell.execute_reply": "2021-04-17T17:37:44.335621Z"
    },
    "papermill": {
     "duration": 0.332023,
     "end_time": "2021-04-17T17:37:44.335801",
     "exception": false,
     "start_time": "2021-04-17T17:37:44.003778",
     "status": "completed"
    },
    "tags": []
   },
   "outputs": [
    {
     "name": "stdout",
     "output_type": "stream",
     "text": [
      "Pearsons correlation :  0.23250778094287392\n"
     ]
    }
   ],
   "source": [
    "corr, _ = stats.pearsonr(lst1, lst2)\n",
    "\n",
    "print(\"Pearsons correlation : \", corr)"
   ]
  },
  {
   "cell_type": "markdown",
   "metadata": {
    "papermill": {
     "duration": 0.322451,
     "end_time": "2021-04-17T17:37:44.981342",
     "exception": false,
     "start_time": "2021-04-17T17:37:44.658891",
     "status": "completed"
    },
    "tags": []
   },
   "source": [
    "Inference -> A value close to 0 means there is no correlation between the values of the elements. We can say there is slight but insignificant correlation between the values"
   ]
  },
  {
   "cell_type": "markdown",
   "metadata": {
    "papermill": {
     "duration": 0.325774,
     "end_time": "2021-04-17T17:37:45.632888",
     "exception": false,
     "start_time": "2021-04-17T17:37:45.307114",
     "status": "completed"
    },
    "tags": []
   },
   "source": [
    "### 15. Measuring Variance"
   ]
  },
  {
   "cell_type": "markdown",
   "metadata": {
    "papermill": {
     "duration": 0.323454,
     "end_time": "2021-04-17T17:37:46.281834",
     "exception": false,
     "start_time": "2021-04-17T17:37:45.958380",
     "status": "completed"
    },
    "tags": []
   },
   "source": [
    "Variance -> Measures how far from their mean the individual observations in dataset are. <br>\n",
    "Std Deviation -> Square root of variance is std deviation which measures the amount of dispersion of the dataset."
   ]
  },
  {
   "cell_type": "code",
   "execution_count": 127,
   "metadata": {
    "execution": {
     "iopub.execute_input": "2021-04-17T17:37:46.964065Z",
     "iopub.status.busy": "2021-04-17T17:37:46.963042Z",
     "iopub.status.idle": "2021-04-17T17:37:46.966741Z",
     "shell.execute_reply": "2021-04-17T17:37:46.965803Z"
    },
    "papermill": {
     "duration": 0.359628,
     "end_time": "2021-04-17T17:37:46.966947",
     "exception": false,
     "start_time": "2021-04-17T17:37:46.607319",
     "status": "completed"
    },
    "tags": []
   },
   "outputs": [],
   "source": [
    "def variance(data):\n",
    "    \n",
    "    n = len(data)\n",
    "    \n",
    "    mean = sum(data)/n\n",
    "    \n",
    "    deviations = [(x - mean) ** 2 for x in data]\n",
    "    \n",
    "    variance = sum(deviations) / n\n",
    "    \n",
    "    return variance"
   ]
  },
  {
   "cell_type": "code",
   "execution_count": 128,
   "metadata": {
    "execution": {
     "iopub.execute_input": "2021-04-17T17:37:47.680688Z",
     "iopub.status.busy": "2021-04-17T17:37:47.679654Z",
     "iopub.status.idle": "2021-04-17T17:37:47.683900Z",
     "shell.execute_reply": "2021-04-17T17:37:47.684335Z"
    },
    "papermill": {
     "duration": 0.365222,
     "end_time": "2021-04-17T17:37:47.684518",
     "exception": false,
     "start_time": "2021-04-17T17:37:47.319296",
     "status": "completed"
    },
    "tags": []
   },
   "outputs": [
    {
     "data": {
      "text/plain": [
       "78529.56"
      ]
     },
     "execution_count": 128,
     "metadata": {},
     "output_type": "execute_result"
    }
   ],
   "source": [
    "random.seed(2021)\n",
    "data = random.sample(range(1000), 10)\n",
    "\n",
    "variance(data)"
   ]
  },
  {
   "cell_type": "markdown",
   "metadata": {
    "papermill": {
     "duration": 0.326429,
     "end_time": "2021-04-17T17:37:48.337723",
     "exception": false,
     "start_time": "2021-04-17T17:37:48.011294",
     "status": "completed"
    },
    "tags": []
   },
   "source": [
    "Variance estimate of the population using sample data"
   ]
  },
  {
   "cell_type": "code",
   "execution_count": 129,
   "metadata": {
    "execution": {
     "iopub.execute_input": "2021-04-17T17:37:49.027854Z",
     "iopub.status.busy": "2021-04-17T17:37:49.026873Z",
     "iopub.status.idle": "2021-04-17T17:37:49.030178Z",
     "shell.execute_reply": "2021-04-17T17:37:49.029639Z"
    },
    "papermill": {
     "duration": 0.37095,
     "end_time": "2021-04-17T17:37:49.030317",
     "exception": false,
     "start_time": "2021-04-17T17:37:48.659367",
     "status": "completed"
    },
    "tags": []
   },
   "outputs": [],
   "source": [
    "def variance(data , dof = 0):\n",
    "    \n",
    "    n = len(data)\n",
    "    mean = sum(data) / n\n",
    "    \n",
    "    return sum((x - mean)** 2 for x in data) / (n - dof)\n",
    "\n"
   ]
  },
  {
   "cell_type": "code",
   "execution_count": 130,
   "metadata": {
    "execution": {
     "iopub.execute_input": "2021-04-17T17:37:49.689367Z",
     "iopub.status.busy": "2021-04-17T17:37:49.688425Z",
     "iopub.status.idle": "2021-04-17T17:37:49.692641Z",
     "shell.execute_reply": "2021-04-17T17:37:49.692137Z"
    },
    "papermill": {
     "duration": 0.332803,
     "end_time": "2021-04-17T17:37:49.692793",
     "exception": false,
     "start_time": "2021-04-17T17:37:49.359990",
     "status": "completed"
    },
    "tags": []
   },
   "outputs": [
    {
     "data": {
      "text/plain": [
       "87255.06666666667"
      ]
     },
     "execution_count": 130,
     "metadata": {},
     "output_type": "execute_result"
    }
   ],
   "source": [
    "variance(data, dof = 1)"
   ]
  },
  {
   "cell_type": "markdown",
   "metadata": {
    "papermill": {
     "duration": 0.326708,
     "end_time": "2021-04-17T17:37:50.347825",
     "exception": false,
     "start_time": "2021-04-17T17:37:50.021117",
     "status": "completed"
    },
    "tags": []
   },
   "source": [
    "Standard deviation is the square root of the variance value calculated. <br><br><br>\n",
    "Values that are within one standard deviation of the mean can be thought of as fairly typical. <br>\n",
    "Those values which are three or more standard deviations away from the mean can be considered as **outliers**. "
   ]
  },
  {
   "cell_type": "code",
   "execution_count": null,
   "metadata": {
    "papermill": {
     "duration": 0.32718,
     "end_time": "2021-04-17T17:37:50.999759",
     "exception": false,
     "start_time": "2021-04-17T17:37:50.672579",
     "status": "completed"
    },
    "tags": []
   },
   "outputs": [],
   "source": []
  },
  {
   "cell_type": "markdown",
   "metadata": {
    "papermill": {
     "duration": 0.322835,
     "end_time": "2021-04-17T17:37:51.649347",
     "exception": false,
     "start_time": "2021-04-17T17:37:51.326512",
     "status": "completed"
    },
    "tags": []
   },
   "source": [
    "### 16. Sample Statistics"
   ]
  },
  {
   "cell_type": "code",
   "execution_count": null,
   "metadata": {
    "papermill": {
     "duration": 0.327867,
     "end_time": "2021-04-17T17:37:52.300625",
     "exception": false,
     "start_time": "2021-04-17T17:37:51.972758",
     "status": "completed"
    },
    "tags": []
   },
   "outputs": [],
   "source": []
  },
  {
   "cell_type": "code",
   "execution_count": null,
   "metadata": {
    "papermill": {
     "duration": 0.334581,
     "end_time": "2021-04-17T17:37:52.958519",
     "exception": false,
     "start_time": "2021-04-17T17:37:52.623938",
     "status": "completed"
    },
    "tags": []
   },
   "outputs": [],
   "source": []
  },
  {
   "cell_type": "code",
   "execution_count": null,
   "metadata": {
    "papermill": {
     "duration": 0.324023,
     "end_time": "2021-04-17T17:37:53.609885",
     "exception": false,
     "start_time": "2021-04-17T17:37:53.285862",
     "status": "completed"
    },
    "tags": []
   },
   "outputs": [],
   "source": []
  },
  {
   "cell_type": "markdown",
   "metadata": {
    "papermill": {
     "duration": 0.326705,
     "end_time": "2021-04-17T17:37:54.257892",
     "exception": false,
     "start_time": "2021-04-17T17:37:53.931187",
     "status": "completed"
    },
    "tags": []
   },
   "source": [
    "### 17. Population Statistics"
   ]
  },
  {
   "cell_type": "code",
   "execution_count": null,
   "metadata": {
    "papermill": {
     "duration": 0.32323,
     "end_time": "2021-04-17T17:37:54.950276",
     "exception": false,
     "start_time": "2021-04-17T17:37:54.627046",
     "status": "completed"
    },
    "tags": []
   },
   "outputs": [],
   "source": []
  },
  {
   "cell_type": "code",
   "execution_count": null,
   "metadata": {
    "papermill": {
     "duration": 0.322725,
     "end_time": "2021-04-17T17:37:55.599824",
     "exception": false,
     "start_time": "2021-04-17T17:37:55.277099",
     "status": "completed"
    },
    "tags": []
   },
   "outputs": [],
   "source": []
  },
  {
   "cell_type": "markdown",
   "metadata": {
    "papermill": {
     "duration": 0.324284,
     "end_time": "2021-04-17T17:37:56.247390",
     "exception": false,
     "start_time": "2021-04-17T17:37:55.923106",
     "status": "completed"
    },
    "tags": []
   },
   "source": [
    "### 18. Maximum Likehood Estimation"
   ]
  },
  {
   "cell_type": "markdown",
   "metadata": {
    "papermill": {
     "duration": 0.326365,
     "end_time": "2021-04-17T17:37:56.898378",
     "exception": false,
     "start_time": "2021-04-17T17:37:56.572013",
     "status": "completed"
    },
    "tags": []
   },
   "source": [
    "MLE is a method to find the most likely density function that would have generated the data. <br>\n",
    "The likelihood function depends on mean 'mu' and variance σ2 which is found through an iterative process using calculators or computers.<br>\n"
   ]
  },
  {
   "cell_type": "markdown",
   "metadata": {
    "papermill": {
     "duration": 0.323913,
     "end_time": "2021-04-17T17:37:57.548349",
     "exception": false,
     "start_time": "2021-04-17T17:37:57.224436",
     "status": "completed"
    },
    "tags": []
   },
   "source": [
    "|  S.No | Likelihood   | Probability  |\n",
    "|---|---|---|\n",
    "| 1  | Refers to past events with known outcomes  | Refers to the occurence of future outcomes  |\n",
    "| 2  | eg. A coin is flipped 10 times and 10 heads occur. Likelihood the coin is an unbiased coin?  | eg. A coin flipped n times. Probability of getting heads.| \n",
    "| 3  | Sum of Likelihoods != 1  | Sum of Probabilities = 1  |  "
   ]
  },
  {
   "cell_type": "markdown",
   "metadata": {
    "papermill": {
     "duration": 0.354892,
     "end_time": "2021-04-17T17:37:58.228731",
     "exception": false,
     "start_time": "2021-04-17T17:37:57.873839",
     "status": "completed"
    },
    "tags": []
   },
   "source": [
    "**Steps to perform MLE:** <br>\n",
    "* Perform a certain experiment to collect data\n",
    "* Choose parametric model of the data\n",
    "* Formulate the likelihood as an objective function to be maximized \n",
    "* Maximize the objective func and derive the parameters of the model\n",
    "\n",
    "\n",
    "**Examples** -> <br>\n",
    "* Coin Toss to find the probabilities of heads and tails\n",
    "* Dart throwing"
   ]
  },
  {
   "cell_type": "markdown",
   "metadata": {
    "papermill": {
     "duration": 0.322187,
     "end_time": "2021-04-17T17:37:58.875558",
     "exception": false,
     "start_time": "2021-04-17T17:37:58.553371",
     "status": "completed"
    },
    "tags": []
   },
   "source": [
    "Note :- For linear regression models, we use Ordinary Least Squares (OLS) to fit the regression model and estimate the parameters B0 & B1. <br>\n",
    "**MLE** is based on the data we observe, what are the model parameters that maximize the likelihood of the observed data occuring?"
   ]
  },
  {
   "cell_type": "markdown",
   "metadata": {
    "papermill": {
     "duration": 0.324157,
     "end_time": "2021-04-17T17:37:59.525339",
     "exception": false,
     "start_time": "2021-04-17T17:37:59.201182",
     "status": "completed"
    },
    "tags": []
   },
   "source": [
    "**Applications ->** <br>\n",
    "The parameters of a logistic regression model can be estimated by the probabilistic framework called Maximum Likelihood Estimation."
   ]
  },
  {
   "cell_type": "markdown",
   "metadata": {
    "papermill": {
     "duration": 0.368034,
     "end_time": "2021-04-17T17:38:00.216358",
     "exception": false,
     "start_time": "2021-04-17T17:37:59.848324",
     "status": "completed"
    },
    "tags": []
   },
   "source": [
    "The outputs of a logistic regression are class probabilities."
   ]
  },
  {
   "cell_type": "markdown",
   "metadata": {
    "papermill": {
     "duration": 0.322238,
     "end_time": "2021-04-17T17:38:00.864494",
     "exception": false,
     "start_time": "2021-04-17T17:38:00.542256",
     "status": "completed"
    },
    "tags": []
   },
   "source": [
    "**Brief Overview** -> <br>\n",
    "![](https://miro.medium.com/max/421/1*ayxQCn3xz6sm41KRjf3Ygw.gif)\n",
    "\n",
    "![](https://miro.medium.com/max/721/1*6MTXtB4zipiDMguZrlXSlA.gif)\n",
    "\n",
    "In statistics, MLE is widely used to obtain the parameter for a distribution. In this paradigm, "
   ]
  },
  {
   "cell_type": "markdown",
   "metadata": {
    "papermill": {
     "duration": 0.32376,
     "end_time": "2021-04-17T17:38:01.516046",
     "exception": false,
     "start_time": "2021-04-17T17:38:01.192286",
     "status": "completed"
    },
    "tags": []
   },
   "source": [
    "In this paradigm, to maximize log likelihood, we need to minimize the cost function. <br>\n",
    "![](https://miro.medium.com/max/774/1*VAb-6NSg2vwUtqCtfNdjrA.gif)\n",
    "\n",
    "Gradient Descent algorithm is used to tweak the values of the cost function using MLE. "
   ]
  },
  {
   "cell_type": "code",
   "execution_count": null,
   "metadata": {
    "papermill": {
     "duration": 0.32472,
     "end_time": "2021-04-17T17:38:02.163036",
     "exception": false,
     "start_time": "2021-04-17T17:38:01.838316",
     "status": "completed"
    },
    "tags": []
   },
   "outputs": [],
   "source": []
  },
  {
   "cell_type": "code",
   "execution_count": null,
   "metadata": {
    "papermill": {
     "duration": 0.322192,
     "end_time": "2021-04-17T17:38:02.810827",
     "exception": false,
     "start_time": "2021-04-17T17:38:02.488635",
     "status": "completed"
    },
    "tags": []
   },
   "outputs": [],
   "source": []
  },
  {
   "cell_type": "markdown",
   "metadata": {
    "papermill": {
     "duration": 0.327869,
     "end_time": "2021-04-17T17:38:03.464484",
     "exception": false,
     "start_time": "2021-04-17T17:38:03.136615",
     "status": "completed"
    },
    "tags": []
   },
   "source": [
    "### 19. Cluster Analysis"
   ]
  },
  {
   "cell_type": "markdown",
   "metadata": {
    "papermill": {
     "duration": 0.326583,
     "end_time": "2021-04-17T17:38:04.116474",
     "exception": false,
     "start_time": "2021-04-17T17:38:03.789891",
     "status": "completed"
    },
    "tags": []
   },
   "source": [
    "Cluster Analysis is an unsupervised technique of grouping objects together based on their properties. By doing so, the objects in one group are more similar to each other than to those in other groups."
   ]
  },
  {
   "cell_type": "markdown",
   "metadata": {
    "papermill": {
     "duration": 0.32241,
     "end_time": "2021-04-17T17:38:04.764084",
     "exception": false,
     "start_time": "2021-04-17T17:38:04.441674",
     "status": "completed"
    },
    "tags": []
   },
   "source": [
    "Cluster Analysis vs Discriminant Analysis"
   ]
  },
  {
   "cell_type": "markdown",
   "metadata": {
    "papermill": {
     "duration": 0.323554,
     "end_time": "2021-04-17T17:38:05.409715",
     "exception": false,
     "start_time": "2021-04-17T17:38:05.086161",
     "status": "completed"
    },
    "tags": []
   },
   "source": [
    "Cluster Analysis assigns objects to various groups without any prior object labels whereas Discriminant Analysis uses such knowledge which was defined in advance."
   ]
  },
  {
   "cell_type": "markdown",
   "metadata": {
    "papermill": {
     "duration": 0.367301,
     "end_time": "2021-04-17T17:38:06.102474",
     "exception": false,
     "start_time": "2021-04-17T17:38:05.735173",
     "status": "completed"
    },
    "tags": []
   },
   "source": [
    "**Distance Functions**"
   ]
  },
  {
   "cell_type": "markdown",
   "metadata": {
    "papermill": {
     "duration": 0.332014,
     "end_time": "2021-04-17T17:38:06.759257",
     "exception": false,
     "start_time": "2021-04-17T17:38:06.427243",
     "status": "completed"
    },
    "tags": []
   },
   "source": [
    "Minkowski Distance <br><br>\n",
    "A generalization of both the Euclidean and the manhattan metric is the Minowski distance given by :- <br>\n",
    "\n",
    "\n",
    "![](https://slideplayer.com/slide/5070455/16/images/16/Minkowski+Distance+Minkowski+distance%3A+a+generalization.jpg)\n",
    "\n",
    "![](https://www.researchgate.net/publication/349155159/figure/fig1/AS:989596292767746@1612949550717/Three-typical-Minkowski-distances-ie-Euclidean-Manhattan-and-Chebyshev-distances.png)"
   ]
  },
  {
   "cell_type": "markdown",
   "metadata": {
    "papermill": {
     "duration": 0.323664,
     "end_time": "2021-04-17T17:38:07.412475",
     "exception": false,
     "start_time": "2021-04-17T17:38:07.088811",
     "status": "completed"
    },
    "tags": []
   },
   "source": [
    "Understanding various distance functions -> <br>\n",
    "Both euclidean and manhattan distance satisfy the following -> \n",
    "* d(i,j) >= 0\n",
    "* d(i,j) = d(j,i)\n",
    "* d(i,j) >= d(i,h) + d(h,j)\n",
    "* d(i,i) != 0"
   ]
  },
  {
   "cell_type": "markdown",
   "metadata": {
    "papermill": {
     "duration": 0.329019,
     "end_time": "2021-04-17T17:38:08.066200",
     "exception": false,
     "start_time": "2021-04-17T17:38:07.737181",
     "status": "completed"
    },
    "tags": []
   },
   "source": [
    "#### 19. i. K Means Clustering"
   ]
  },
  {
   "cell_type": "markdown",
   "metadata": {
    "papermill": {
     "duration": 0.325319,
     "end_time": "2021-04-17T17:38:08.717695",
     "exception": false,
     "start_time": "2021-04-17T17:38:08.392376",
     "status": "completed"
    },
    "tags": []
   },
   "source": [
    "![](https://files.realpython.com/media/kmeans-algorithm.a94498a7ecd2.png)"
   ]
  },
  {
   "cell_type": "markdown",
   "metadata": {
    "papermill": {
     "duration": 0.326706,
     "end_time": "2021-04-17T17:38:09.397746",
     "exception": false,
     "start_time": "2021-04-17T17:38:09.071040",
     "status": "completed"
    },
    "tags": []
   },
   "source": [
    "**Ways to choose optimal number of clusters** -> <br>\n",
    "1. Elbow Method\n",
    "2. Silhouette coefficient"
   ]
  },
  {
   "cell_type": "code",
   "execution_count": 131,
   "metadata": {
    "execution": {
     "iopub.execute_input": "2021-04-17T17:38:10.053952Z",
     "iopub.status.busy": "2021-04-17T17:38:10.053328Z",
     "iopub.status.idle": "2021-04-17T17:38:10.146471Z",
     "shell.execute_reply": "2021-04-17T17:38:10.145924Z"
    },
    "papermill": {
     "duration": 0.423104,
     "end_time": "2021-04-17T17:38:10.146617",
     "exception": false,
     "start_time": "2021-04-17T17:38:09.723513",
     "status": "completed"
    },
    "tags": []
   },
   "outputs": [],
   "source": [
    "from sklearn.datasets import make_blobs\n",
    "from sklearn.cluster import KMeans"
   ]
  },
  {
   "cell_type": "code",
   "execution_count": 132,
   "metadata": {
    "execution": {
     "iopub.execute_input": "2021-04-17T17:38:10.799794Z",
     "iopub.status.busy": "2021-04-17T17:38:10.798783Z",
     "iopub.status.idle": "2021-04-17T17:38:10.943265Z",
     "shell.execute_reply": "2021-04-17T17:38:10.942622Z"
    },
    "papermill": {
     "duration": 0.474116,
     "end_time": "2021-04-17T17:38:10.943405",
     "exception": false,
     "start_time": "2021-04-17T17:38:10.469289",
     "status": "completed"
    },
    "tags": []
   },
   "outputs": [
    {
     "data": {
      "text/plain": [
       "<matplotlib.collections.PathCollection at 0x7f229dbe0990>"
      ]
     },
     "execution_count": 132,
     "metadata": {},
     "output_type": "execute_result"
    },
    {
     "data": {
      "image/png": "[encoded data removed]",
      "text/plain": [
       "<Figure size 432x288 with 1 Axes>"
      ]
     },
     "metadata": {
      "needs_background": "light"
     },
     "output_type": "display_data"
    }
   ],
   "source": [
    "X, y = make_blobs(n_samples = 300, centers = 4, cluster_std = 0.60, random_state = 0)\n",
    "\n",
    "\n",
    "plt.scatter(X[:,0], X[:,1])"
   ]
  },
  {
   "cell_type": "markdown",
   "metadata": {
    "papermill": {
     "duration": 0.329264,
     "end_time": "2021-04-17T17:38:11.595873",
     "exception": false,
     "start_time": "2021-04-17T17:38:11.266609",
     "status": "completed"
    },
    "tags": []
   },
   "source": [
    "Elbow Method"
   ]
  },
  {
   "cell_type": "code",
   "execution_count": 133,
   "metadata": {
    "execution": {
     "iopub.execute_input": "2021-04-17T17:38:12.299825Z",
     "iopub.status.busy": "2021-04-17T17:38:12.298832Z",
     "iopub.status.idle": "2021-04-17T17:38:12.865050Z",
     "shell.execute_reply": "2021-04-17T17:38:12.865571Z"
    },
    "papermill": {
     "duration": 0.943014,
     "end_time": "2021-04-17T17:38:12.865769",
     "exception": false,
     "start_time": "2021-04-17T17:38:11.922755",
     "status": "completed"
    },
    "tags": []
   },
   "outputs": [
    {
     "data": {
      "image/png": "[encoded data removed]",
      "text/plain": [
       "<Figure size 432x288 with 1 Axes>"
      ]
     },
     "metadata": {
      "needs_background": "light"
     },
     "output_type": "display_data"
    }
   ],
   "source": [
    "wcss = []\n",
    "\n",
    "for i in range(1, 11):\n",
    "    kmeans = KMeans(n_clusters = i, init = 'k-means++', max_iter = 300, n_init = 10, random_state = 0)\n",
    "    \n",
    "    kmeans.fit(X)\n",
    "    wcss.append(kmeans.inertia_)\n",
    "    \n",
    "    \n",
    "plt.plot(range(1,11), wcss)\n",
    "plt.title('Elbow method')\n",
    "plt.xlabel('Number of Clusters')\n",
    "plt.ylabel('WCSS')\n",
    "plt.show()"
   ]
  },
  {
   "cell_type": "code",
   "execution_count": 134,
   "metadata": {
    "execution": {
     "iopub.execute_input": "2021-04-17T17:38:13.525444Z",
     "iopub.status.busy": "2021-04-17T17:38:13.521941Z",
     "iopub.status.idle": "2021-04-17T17:38:13.692957Z",
     "shell.execute_reply": "2021-04-17T17:38:13.692450Z"
    },
    "papermill": {
     "duration": 0.499705,
     "end_time": "2021-04-17T17:38:13.693094",
     "exception": false,
     "start_time": "2021-04-17T17:38:13.193389",
     "status": "completed"
    },
    "tags": []
   },
   "outputs": [
    {
     "data": {
      "image/png": "[encoded data removed]",
      "text/plain": [
       "<Figure size 432x288 with 1 Axes>"
      ]
     },
     "metadata": {
      "needs_background": "light"
     },
     "output_type": "display_data"
    }
   ],
   "source": [
    "kmeans = KMeans(n_clusters=4, init='k-means++', max_iter=300, n_init=10, random_state=0)\n",
    "pred_y = kmeans.fit_predict(X)\n",
    "plt.scatter(X[:,0], X[:,1])\n",
    "plt.scatter(kmeans.cluster_centers_[:, 0], kmeans.cluster_centers_[:, 1], s=300, c='red')\n",
    "plt.show()"
   ]
  },
  {
   "cell_type": "markdown",
   "metadata": {
    "papermill": {
     "duration": 0.327442,
     "end_time": "2021-04-17T17:38:14.352056",
     "exception": false,
     "start_time": "2021-04-17T17:38:14.024614",
     "status": "completed"
    },
    "tags": []
   },
   "source": [
    "Silhouette Analysis Method"
   ]
  },
  {
   "cell_type": "code",
   "execution_count": 135,
   "metadata": {
    "execution": {
     "iopub.execute_input": "2021-04-17T17:38:15.016555Z",
     "iopub.status.busy": "2021-04-17T17:38:15.015910Z",
     "iopub.status.idle": "2021-04-17T17:38:15.019325Z",
     "shell.execute_reply": "2021-04-17T17:38:15.018816Z"
    },
    "papermill": {
     "duration": 0.337575,
     "end_time": "2021-04-17T17:38:15.019459",
     "exception": false,
     "start_time": "2021-04-17T17:38:14.681884",
     "status": "completed"
    },
    "tags": []
   },
   "outputs": [],
   "source": [
    "from sklearn.metrics import silhouette_samples, silhouette_score"
   ]
  },
  {
   "cell_type": "code",
   "execution_count": 136,
   "metadata": {
    "execution": {
     "iopub.execute_input": "2021-04-17T17:38:15.679942Z",
     "iopub.status.busy": "2021-04-17T17:38:15.679245Z",
     "iopub.status.idle": "2021-04-17T17:38:15.993853Z",
     "shell.execute_reply": "2021-04-17T17:38:15.993245Z"
    },
    "papermill": {
     "duration": 0.645547,
     "end_time": "2021-04-17T17:38:15.994232",
     "exception": false,
     "start_time": "2021-04-17T17:38:15.348685",
     "status": "completed"
    },
    "tags": []
   },
   "outputs": [
    {
     "name": "stdout",
     "output_type": "stream",
     "text": [
      "\n",
      "For n_clusters =  2 \n",
      "The average silhouette_score is :  0.5426422297358302\n",
      "\n",
      "For n_clusters =  3 \n",
      "The average silhouette_score is :  0.5890390393551769\n",
      "\n",
      "For n_clusters =  4 \n",
      "The average silhouette_score is :  0.6819938690643478\n",
      "\n",
      "For n_clusters =  5 \n",
      "The average silhouette_score is :  0.5923875148758644\n",
      "\n",
      "For n_clusters =  6 \n",
      "The average silhouette_score is :  0.4993450440592758\n",
      "\n",
      "For n_clusters =  7 \n",
      "The average silhouette_score is :  0.424399822715831\n",
      "\n",
      "For n_clusters =  8 \n",
      "The average silhouette_score is :  0.3249897986721672\n",
      "\n",
      "For n_clusters =  9 \n",
      "The average silhouette_score is :  0.34339638088479935\n"
     ]
    }
   ],
   "source": [
    "n_clusters = [2,3,4,5,6,7,8,9]\n",
    "\n",
    "\n",
    "for n_cluster in n_clusters:\n",
    "    \n",
    "    clusterer = KMeans(n_clusters = n_cluster, random_state = 10)\n",
    "    cluster_labels = clusterer.fit_predict(X)\n",
    "    \n",
    "    silhouette_avg = silhouette_score(X, cluster_labels)\n",
    "    print(\"\\nFor n_clusters = \", n_cluster, \"\\nThe average silhouette_score is : \", silhouette_avg)\n",
    "    "
   ]
  },
  {
   "cell_type": "markdown",
   "metadata": {
    "papermill": {
     "duration": 0.329698,
     "end_time": "2021-04-17T17:38:16.654650",
     "exception": false,
     "start_time": "2021-04-17T17:38:16.324952",
     "status": "completed"
    },
    "tags": []
   },
   "source": [
    "As we can see, for n = 4, we obtain the highest silhouette score. <br>\n",
    "This is exactly the same number we obtained using elbow method as well as it is the number of clusters we have defined in our dataset."
   ]
  },
  {
   "cell_type": "markdown",
   "metadata": {
    "papermill": {
     "duration": 0.329639,
     "end_time": "2021-04-17T17:38:17.315077",
     "exception": false,
     "start_time": "2021-04-17T17:38:16.985438",
     "status": "completed"
    },
    "tags": []
   },
   "source": [
    "#### 19. ii. K-Mediods"
   ]
  },
  {
   "cell_type": "markdown",
   "metadata": {
    "papermill": {
     "duration": 0.327799,
     "end_time": "2021-04-17T17:38:17.972613",
     "exception": false,
     "start_time": "2021-04-17T17:38:17.644814",
     "status": "completed"
    },
    "tags": []
   },
   "source": [
    "**K-Means** clustering algorithm is sensitive to **outliers** as mean value is easily influenced by **extreme values**. <br>\n",
    "**K-Mediods** is a variant of K-Means which is more robust to noises and outliers."
   ]
  },
  {
   "cell_type": "code",
   "execution_count": 137,
   "metadata": {
    "execution": {
     "iopub.execute_input": "2021-04-17T17:38:18.690977Z",
     "iopub.status.busy": "2021-04-17T17:38:18.690237Z",
     "iopub.status.idle": "2021-04-17T17:39:19.042498Z",
     "shell.execute_reply": "2021-04-17T17:39:19.041752Z"
    },
    "papermill": {
     "duration": 60.696031,
     "end_time": "2021-04-17T17:39:19.042656",
     "exception": false,
     "start_time": "2021-04-17T17:38:18.346625",
     "status": "completed"
    },
    "tags": []
   },
   "outputs": [],
   "source": [
    "!pip install -q https://github.com/scikit-learn-contrib/scikit-learn-extra/archive/master.zip\n"
   ]
  },
  {
   "cell_type": "code",
   "execution_count": 138,
   "metadata": {
    "execution": {
     "iopub.execute_input": "2021-04-17T17:39:19.727627Z",
     "iopub.status.busy": "2021-04-17T17:39:19.726641Z",
     "iopub.status.idle": "2021-04-17T17:39:19.742961Z",
     "shell.execute_reply": "2021-04-17T17:39:19.742380Z"
    },
    "papermill": {
     "duration": 0.361213,
     "end_time": "2021-04-17T17:39:19.743107",
     "exception": false,
     "start_time": "2021-04-17T17:39:19.381894",
     "status": "completed"
    },
    "tags": []
   },
   "outputs": [],
   "source": [
    "from sklearn_extra.cluster import KMedoids\n",
    "\n",
    "kmediods = KMedoids(n_clusters = 3, random_state = 0).fit(X)"
   ]
  },
  {
   "cell_type": "code",
   "execution_count": 139,
   "metadata": {
    "execution": {
     "iopub.execute_input": "2021-04-17T17:39:20.411971Z",
     "iopub.status.busy": "2021-04-17T17:39:20.410990Z",
     "iopub.status.idle": "2021-04-17T17:39:20.415366Z",
     "shell.execute_reply": "2021-04-17T17:39:20.414841Z"
    },
    "papermill": {
     "duration": 0.339596,
     "end_time": "2021-04-17T17:39:20.415507",
     "exception": false,
     "start_time": "2021-04-17T17:39:20.075911",
     "status": "completed"
    },
    "tags": []
   },
   "outputs": [
    {
     "data": {
      "text/plain": [
       "array([1, 2, 0, 2, 1, 1, 0, 0, 2, 2, 0, 2, 0, 2, 1, 0, 0, 1, 0, 0, 1, 1,\n",
       "       0, 0, 0, 0, 1, 0, 0, 0, 2, 2, 0, 2, 2, 2, 2, 2, 0, 1, 0, 0, 0, 0,\n",
       "       0, 0, 2, 0, 2, 1, 0, 1, 2, 1, 1, 0, 2, 0, 2, 1, 2, 0, 2, 0, 0, 0,\n",
       "       2, 1, 2, 0, 0, 0, 2, 0, 0, 2, 0, 0, 1, 2, 1, 0, 1, 1, 2, 0, 1, 0,\n",
       "       2, 2, 0, 1, 2, 0, 0, 0, 1, 1, 0, 0, 2, 1, 2, 1, 0, 1, 1, 0, 2, 0,\n",
       "       0, 0, 1, 2, 1, 1, 2, 1, 1, 0, 0, 1, 0, 1, 1, 1, 1, 0, 1, 0, 2, 0,\n",
       "       0, 1, 2, 0, 0, 2, 0, 2, 2, 0, 0, 0, 0, 0, 2, 0, 2, 2, 2, 0, 2, 0,\n",
       "       1, 0, 2, 0, 1, 0, 2, 0, 0, 1, 0, 0, 0, 0, 1, 0, 0, 2, 1, 0, 0, 2,\n",
       "       1, 1, 0, 0, 1, 0, 0, 0, 0, 0, 0, 0, 1, 2, 0, 0, 0, 0, 0, 0, 0, 0,\n",
       "       0, 2, 0, 0, 1, 0, 0, 2, 0, 2, 0, 2, 0, 0, 0, 0, 2, 0, 0, 1, 1, 0,\n",
       "       2, 1, 1, 0, 1, 0, 0, 2, 2, 0, 0, 2, 0, 1, 0, 0, 1, 0, 2, 0, 1, 0,\n",
       "       1, 2, 2, 2, 2, 0, 0, 2, 0, 0, 1, 0, 0, 0, 0, 1, 1, 2, 0, 0, 0, 1,\n",
       "       2, 0, 0, 2, 0, 1, 1, 0, 0, 1, 1, 1, 1, 0, 2, 2, 1, 1, 0, 1, 1, 1,\n",
       "       2, 0, 2, 0, 1, 1, 2, 2, 2, 1, 1, 0, 2, 0])"
      ]
     },
     "execution_count": 139,
     "metadata": {},
     "output_type": "execute_result"
    }
   ],
   "source": [
    "kmediods.labels_"
   ]
  },
  {
   "cell_type": "code",
   "execution_count": null,
   "metadata": {
    "papermill": {
     "duration": 0.331034,
     "end_time": "2021-04-17T17:39:21.076461",
     "exception": false,
     "start_time": "2021-04-17T17:39:20.745427",
     "status": "completed"
    },
    "tags": []
   },
   "outputs": [],
   "source": []
  },
  {
   "cell_type": "code",
   "execution_count": null,
   "metadata": {
    "papermill": {
     "duration": 0.328233,
     "end_time": "2021-04-17T17:39:21.733766",
     "exception": false,
     "start_time": "2021-04-17T17:39:21.405533",
     "status": "completed"
    },
    "tags": []
   },
   "outputs": [],
   "source": []
  },
  {
   "cell_type": "markdown",
   "metadata": {
    "papermill": {
     "duration": 0.331907,
     "end_time": "2021-04-17T17:39:22.397527",
     "exception": false,
     "start_time": "2021-04-17T17:39:22.065620",
     "status": "completed"
    },
    "tags": []
   },
   "source": [
    "#### 19. iii. Agglomerative Clustering"
   ]
  },
  {
   "cell_type": "code",
   "execution_count": 140,
   "metadata": {
    "execution": {
     "iopub.execute_input": "2021-04-17T17:39:23.066722Z",
     "iopub.status.busy": "2021-04-17T17:39:23.065967Z",
     "iopub.status.idle": "2021-04-17T17:39:23.068953Z",
     "shell.execute_reply": "2021-04-17T17:39:23.068338Z"
    },
    "papermill": {
     "duration": 0.340703,
     "end_time": "2021-04-17T17:39:23.069087",
     "exception": false,
     "start_time": "2021-04-17T17:39:22.728384",
     "status": "completed"
    },
    "tags": []
   },
   "outputs": [],
   "source": [
    "from sklearn.cluster import AgglomerativeClustering \n",
    "import scipy.cluster.hierarchy as shc"
   ]
  },
  {
   "cell_type": "code",
   "execution_count": 141,
   "metadata": {
    "execution": {
     "iopub.execute_input": "2021-04-17T17:39:23.813914Z",
     "iopub.status.busy": "2021-04-17T17:39:23.812500Z",
     "iopub.status.idle": "2021-04-17T17:39:23.878946Z",
     "shell.execute_reply": "2021-04-17T17:39:23.877909Z"
    },
    "papermill": {
     "duration": 0.468469,
     "end_time": "2021-04-17T17:39:23.879093",
     "exception": false,
     "start_time": "2021-04-17T17:39:23.410624",
     "status": "completed"
    },
    "tags": []
   },
   "outputs": [],
   "source": [
    "df = pd.read_csv('../input/ccdata/CC GENERAL.csv')\n",
    "\n",
    "X = df.drop(['CUST_ID'], axis = 1)\n",
    "\n",
    "X.fillna(method = 'ffill', inplace = True)"
   ]
  },
  {
   "cell_type": "code",
   "execution_count": 142,
   "metadata": {
    "execution": {
     "iopub.execute_input": "2021-04-17T17:39:24.553517Z",
     "iopub.status.busy": "2021-04-17T17:39:24.552877Z",
     "iopub.status.idle": "2021-04-17T17:39:24.563637Z",
     "shell.execute_reply": "2021-04-17T17:39:24.564122Z"
    },
    "papermill": {
     "duration": 0.349239,
     "end_time": "2021-04-17T17:39:24.564328",
     "exception": false,
     "start_time": "2021-04-17T17:39:24.215089",
     "status": "completed"
    },
    "tags": []
   },
   "outputs": [],
   "source": [
    "from sklearn.preprocessing import StandardScaler, normalize\n",
    "\n",
    "scaler = StandardScaler()\n",
    "\n",
    "X_scaled = scaler.fit_transform(X)\n",
    "\n",
    "\n",
    "X_normalized = normalize(X_scaled)\n",
    "\n",
    "\n",
    "X_normalized = pd.DataFrame(X_normalized)"
   ]
  },
  {
   "cell_type": "code",
   "execution_count": 143,
   "metadata": {
    "execution": {
     "iopub.execute_input": "2021-04-17T17:39:25.254188Z",
     "iopub.status.busy": "2021-04-17T17:39:25.253452Z",
     "iopub.status.idle": "2021-04-17T17:39:25.257118Z",
     "shell.execute_reply": "2021-04-17T17:39:25.257690Z"
    },
    "papermill": {
     "duration": 0.360345,
     "end_time": "2021-04-17T17:39:25.257856",
     "exception": false,
     "start_time": "2021-04-17T17:39:24.897511",
     "status": "completed"
    },
    "tags": []
   },
   "outputs": [
    {
     "data": {
      "text/html": [
       "<div>\n",
       "<style scoped>\n",
       "    .dataframe tbody tr th:only-of-type {\n",
       "        vertical-align: middle;\n",
       "    }\n",
       "\n",
       "    .dataframe tbody tr th {\n",
       "        vertical-align: top;\n",
       "    }\n",
       "\n",
       "    .dataframe thead th {\n",
       "        text-align: right;\n",
       "    }\n",
       "</style>\n",
       "<table border=\"1\" class=\"dataframe\">\n",
       "  <thead>\n",
       "    <tr style=\"text-align: right;\">\n",
       "      <th></th>\n",
       "      <th>0</th>\n",
       "      <th>1</th>\n",
       "      <th>2</th>\n",
       "      <th>3</th>\n",
       "      <th>4</th>\n",
       "      <th>5</th>\n",
       "      <th>6</th>\n",
       "      <th>7</th>\n",
       "      <th>8</th>\n",
       "      <th>9</th>\n",
       "      <th>10</th>\n",
       "      <th>11</th>\n",
       "      <th>12</th>\n",
       "      <th>13</th>\n",
       "      <th>14</th>\n",
       "      <th>15</th>\n",
       "      <th>16</th>\n",
       "    </tr>\n",
       "  </thead>\n",
       "  <tbody>\n",
       "    <tr>\n",
       "      <th>0</th>\n",
       "      <td>-0.312038</td>\n",
       "      <td>-0.106331</td>\n",
       "      <td>-0.181129</td>\n",
       "      <td>-0.152156</td>\n",
       "      <td>-0.148808</td>\n",
       "      <td>-0.198985</td>\n",
       "      <td>-0.343796</td>\n",
       "      <td>-0.289304</td>\n",
       "      <td>-0.301518</td>\n",
       "      <td>-0.287892</td>\n",
       "      <td>-0.202942</td>\n",
       "      <td>-0.217975</td>\n",
       "      <td>-0.409413</td>\n",
       "      <td>-0.225497</td>\n",
       "      <td>-0.130160</td>\n",
       "      <td>-0.224036</td>\n",
       "      <td>0.153753</td>\n",
       "    </tr>\n",
       "    <tr>\n",
       "      <th>1</th>\n",
       "      <td>0.219928</td>\n",
       "      <td>0.037539</td>\n",
       "      <td>-0.131224</td>\n",
       "      <td>-0.099751</td>\n",
       "      <td>-0.127038</td>\n",
       "      <td>0.728177</td>\n",
       "      <td>-0.341439</td>\n",
       "      <td>-0.189662</td>\n",
       "      <td>-0.256269</td>\n",
       "      <td>0.160403</td>\n",
       "      <td>0.030762</td>\n",
       "      <td>-0.165387</td>\n",
       "      <td>0.192455</td>\n",
       "      <td>0.228782</td>\n",
       "      <td>0.024353</td>\n",
       "      <td>0.065458</td>\n",
       "      <td>0.100798</td>\n",
       "    </tr>\n",
       "    <tr>\n",
       "      <th>2</th>\n",
       "      <td>0.126684</td>\n",
       "      <td>0.146785</td>\n",
       "      <td>-0.030505</td>\n",
       "      <td>0.030851</td>\n",
       "      <td>-0.128792</td>\n",
       "      <td>-0.132251</td>\n",
       "      <td>0.359775</td>\n",
       "      <td>0.757449</td>\n",
       "      <td>-0.259805</td>\n",
       "      <td>-0.191342</td>\n",
       "      <td>-0.134881</td>\n",
       "      <td>-0.030888</td>\n",
       "      <td>0.234046</td>\n",
       "      <td>-0.108741</td>\n",
       "      <td>-0.028363</td>\n",
       "      <td>-0.148900</td>\n",
       "      <td>0.102189</td>\n",
       "    </tr>\n",
       "    <tr>\n",
       "      <th>3</th>\n",
       "      <td>0.020571</td>\n",
       "      <td>-0.426063</td>\n",
       "      <td>0.097223</td>\n",
       "      <td>0.228832</td>\n",
       "      <td>-0.190449</td>\n",
       "      <td>-0.154451</td>\n",
       "      <td>-0.424878</td>\n",
       "      <td>-0.167299</td>\n",
       "      <td>-0.384185</td>\n",
       "      <td>-0.108474</td>\n",
       "      <td>-0.138062</td>\n",
       "      <td>-0.231084</td>\n",
       "      <td>0.346093</td>\n",
       "      <td>-0.250827</td>\n",
       "      <td>-0.041942</td>\n",
       "      <td>-0.220185</td>\n",
       "      <td>0.151110</td>\n",
       "    </tr>\n",
       "    <tr>\n",
       "      <th>4</th>\n",
       "      <td>-0.151630</td>\n",
       "      <td>0.218959</td>\n",
       "      <td>-0.195282</td>\n",
       "      <td>-0.146778</td>\n",
       "      <td>-0.192118</td>\n",
       "      <td>-0.197278</td>\n",
       "      <td>-0.428601</td>\n",
       "      <td>-0.168765</td>\n",
       "      <td>-0.387551</td>\n",
       "      <td>-0.285424</td>\n",
       "      <td>-0.201202</td>\n",
       "      <td>-0.233109</td>\n",
       "      <td>-0.382671</td>\n",
       "      <td>-0.153993</td>\n",
       "      <td>-0.110323</td>\n",
       "      <td>-0.222114</td>\n",
       "      <td>0.152435</td>\n",
       "    </tr>\n",
       "    <tr>\n",
       "      <th>...</th>\n",
       "      <td>...</td>\n",
       "      <td>...</td>\n",
       "      <td>...</td>\n",
       "      <td>...</td>\n",
       "      <td>...</td>\n",
       "      <td>...</td>\n",
       "      <td>...</td>\n",
       "      <td>...</td>\n",
       "      <td>...</td>\n",
       "      <td>...</td>\n",
       "      <td>...</td>\n",
       "      <td>...</td>\n",
       "      <td>...</td>\n",
       "      <td>...</td>\n",
       "      <td>...</td>\n",
       "      <td>...</td>\n",
       "      <td>...</td>\n",
       "    </tr>\n",
       "    <tr>\n",
       "      <th>8945</th>\n",
       "      <td>-0.146906</td>\n",
       "      <td>0.103137</td>\n",
       "      <td>-0.066350</td>\n",
       "      <td>-0.071056</td>\n",
       "      <td>-0.026406</td>\n",
       "      <td>-0.092925</td>\n",
       "      <td>0.252792</td>\n",
       "      <td>-0.135103</td>\n",
       "      <td>0.234873</td>\n",
       "      <td>-0.134444</td>\n",
       "      <td>-0.094773</td>\n",
       "      <td>-0.069757</td>\n",
       "      <td>-0.191193</td>\n",
       "      <td>-0.096793</td>\n",
       "      <td>-0.068374</td>\n",
       "      <td>0.235693</td>\n",
       "      <td>-0.820733</td>\n",
       "    </tr>\n",
       "    <tr>\n",
       "      <th>8946</th>\n",
       "      <td>-0.151150</td>\n",
       "      <td>0.105477</td>\n",
       "      <td>-0.067009</td>\n",
       "      <td>-0.072668</td>\n",
       "      <td>-0.025006</td>\n",
       "      <td>-0.095033</td>\n",
       "      <td>0.258527</td>\n",
       "      <td>-0.138169</td>\n",
       "      <td>0.240202</td>\n",
       "      <td>-0.137494</td>\n",
       "      <td>-0.096923</td>\n",
       "      <td>-0.071340</td>\n",
       "      <td>-0.195531</td>\n",
       "      <td>-0.102486</td>\n",
       "      <td>-0.069925</td>\n",
       "      <td>-0.106997</td>\n",
       "      <td>-0.839354</td>\n",
       "    </tr>\n",
       "    <tr>\n",
       "      <th>8947</th>\n",
       "      <td>-0.156989</td>\n",
       "      <td>-0.039327</td>\n",
       "      <td>-0.085230</td>\n",
       "      <td>-0.075682</td>\n",
       "      <td>-0.062527</td>\n",
       "      <td>-0.098974</td>\n",
       "      <td>0.181198</td>\n",
       "      <td>-0.143898</td>\n",
       "      <td>0.161244</td>\n",
       "      <td>-0.143196</td>\n",
       "      <td>-0.100942</td>\n",
       "      <td>-0.082828</td>\n",
       "      <td>-0.203640</td>\n",
       "      <td>-0.120989</td>\n",
       "      <td>-0.069834</td>\n",
       "      <td>0.069801</td>\n",
       "      <td>-0.874162</td>\n",
       "    </tr>\n",
       "    <tr>\n",
       "      <th>8948</th>\n",
       "      <td>-0.154334</td>\n",
       "      <td>-0.038414</td>\n",
       "      <td>-0.097250</td>\n",
       "      <td>-0.073925</td>\n",
       "      <td>-0.094148</td>\n",
       "      <td>-0.093066</td>\n",
       "      <td>-0.253040</td>\n",
       "      <td>-0.140558</td>\n",
       "      <td>-0.189920</td>\n",
       "      <td>0.032626</td>\n",
       "      <td>-0.037901</td>\n",
       "      <td>-0.122568</td>\n",
       "      <td>-0.227375</td>\n",
       "      <td>-0.120236</td>\n",
       "      <td>-0.070536</td>\n",
       "      <td>0.068181</td>\n",
       "      <td>-0.853872</td>\n",
       "    </tr>\n",
       "    <tr>\n",
       "      <th>8949</th>\n",
       "      <td>-0.115217</td>\n",
       "      <td>-0.178896</td>\n",
       "      <td>0.008481</td>\n",
       "      <td>0.060716</td>\n",
       "      <td>-0.091472</td>\n",
       "      <td>-0.081739</td>\n",
       "      <td>0.088400</td>\n",
       "      <td>0.313123</td>\n",
       "      <td>-0.184523</td>\n",
       "      <td>0.199293</td>\n",
       "      <td>-0.036824</td>\n",
       "      <td>0.067114</td>\n",
       "      <td>-0.182199</td>\n",
       "      <td>-0.116081</td>\n",
       "      <td>-0.065777</td>\n",
       "      <td>-0.105754</td>\n",
       "      <td>-0.829606</td>\n",
       "    </tr>\n",
       "  </tbody>\n",
       "</table>\n",
       "<p>8950 rows × 17 columns</p>\n",
       "</div>"
      ],
      "text/plain": [
       "            0         1         2         3         4         5         6   \\\n",
       "0    -0.312038 -0.106331 -0.181129 -0.152156 -0.148808 -0.198985 -0.343796   \n",
       "1     0.219928  0.037539 -0.131224 -0.099751 -0.127038  0.728177 -0.341439   \n",
       "2     0.126684  0.146785 -0.030505  0.030851 -0.128792 -0.132251  0.359775   \n",
       "3     0.020571 -0.426063  0.097223  0.228832 -0.190449 -0.154451 -0.424878   \n",
       "4    -0.151630  0.218959 -0.195282 -0.146778 -0.192118 -0.197278 -0.428601   \n",
       "...        ...       ...       ...       ...       ...       ...       ...   \n",
       "8945 -0.146906  0.103137 -0.066350 -0.071056 -0.026406 -0.092925  0.252792   \n",
       "8946 -0.151150  0.105477 -0.067009 -0.072668 -0.025006 -0.095033  0.258527   \n",
       "8947 -0.156989 -0.039327 -0.085230 -0.075682 -0.062527 -0.098974  0.181198   \n",
       "8948 -0.154334 -0.038414 -0.097250 -0.073925 -0.094148 -0.093066 -0.253040   \n",
       "8949 -0.115217 -0.178896  0.008481  0.060716 -0.091472 -0.081739  0.088400   \n",
       "\n",
       "            7         8         9         10        11        12        13  \\\n",
       "0    -0.289304 -0.301518 -0.287892 -0.202942 -0.217975 -0.409413 -0.225497   \n",
       "1    -0.189662 -0.256269  0.160403  0.030762 -0.165387  0.192455  0.228782   \n",
       "2     0.757449 -0.259805 -0.191342 -0.134881 -0.030888  0.234046 -0.108741   \n",
       "3    -0.167299 -0.384185 -0.108474 -0.138062 -0.231084  0.346093 -0.250827   \n",
       "4    -0.168765 -0.387551 -0.285424 -0.201202 -0.233109 -0.382671 -0.153993   \n",
       "...        ...       ...       ...       ...       ...       ...       ...   \n",
       "8945 -0.135103  0.234873 -0.134444 -0.094773 -0.069757 -0.191193 -0.096793   \n",
       "8946 -0.138169  0.240202 -0.137494 -0.096923 -0.071340 -0.195531 -0.102486   \n",
       "8947 -0.143898  0.161244 -0.143196 -0.100942 -0.082828 -0.203640 -0.120989   \n",
       "8948 -0.140558 -0.189920  0.032626 -0.037901 -0.122568 -0.227375 -0.120236   \n",
       "8949  0.313123 -0.184523  0.199293 -0.036824  0.067114 -0.182199 -0.116081   \n",
       "\n",
       "            14        15        16  \n",
       "0    -0.130160 -0.224036  0.153753  \n",
       "1     0.024353  0.065458  0.100798  \n",
       "2    -0.028363 -0.148900  0.102189  \n",
       "3    -0.041942 -0.220185  0.151110  \n",
       "4    -0.110323 -0.222114  0.152435  \n",
       "...        ...       ...       ...  \n",
       "8945 -0.068374  0.235693 -0.820733  \n",
       "8946 -0.069925 -0.106997 -0.839354  \n",
       "8947 -0.069834  0.069801 -0.874162  \n",
       "8948 -0.070536  0.068181 -0.853872  \n",
       "8949 -0.065777 -0.105754 -0.829606  \n",
       "\n",
       "[8950 rows x 17 columns]"
      ]
     },
     "execution_count": 143,
     "metadata": {},
     "output_type": "execute_result"
    }
   ],
   "source": [
    "X_normalized"
   ]
  },
  {
   "cell_type": "code",
   "execution_count": 144,
   "metadata": {
    "execution": {
     "iopub.execute_input": "2021-04-17T17:39:25.933809Z",
     "iopub.status.busy": "2021-04-17T17:39:25.932807Z",
     "iopub.status.idle": "2021-04-17T17:39:26.012130Z",
     "shell.execute_reply": "2021-04-17T17:39:26.013260Z"
    },
    "papermill": {
     "duration": 0.426019,
     "end_time": "2021-04-17T17:39:26.013549",
     "exception": false,
     "start_time": "2021-04-17T17:39:25.587530",
     "status": "completed"
    },
    "tags": []
   },
   "outputs": [],
   "source": [
    "from sklearn.decomposition import PCA \n",
    "\n",
    "\n",
    "pca = PCA(n_components = 2)\n",
    "\n",
    "\n",
    "x_pca = pca.fit_transform(X_normalized)\n",
    "\n",
    "x_pca = pd.DataFrame(x_pca)\n",
    "x_pca.columns = ['P1', 'P2']"
   ]
  },
  {
   "cell_type": "code",
   "execution_count": 145,
   "metadata": {
    "execution": {
     "iopub.execute_input": "2021-04-17T17:39:26.742315Z",
     "iopub.status.busy": "2021-04-17T17:39:26.741617Z",
     "iopub.status.idle": "2021-04-17T17:44:26.797906Z",
     "shell.execute_reply": "2021-04-17T17:44:26.798409Z"
    },
    "papermill": {
     "duration": 300.41086,
     "end_time": "2021-04-17T17:44:26.798588",
     "exception": false,
     "start_time": "2021-04-17T17:39:26.387728",
     "status": "completed"
    },
    "tags": []
   },
   "outputs": [
    {
     "data": {
      "image/png": "[encoded data removed]",
      "text/plain": [
       "<Figure size 576x576 with 1 Axes>"
      ]
     },
     "metadata": {
      "needs_background": "light"
     },
     "output_type": "display_data"
    }
   ],
   "source": [
    "plt.figure(figsize =(8, 8))\n",
    "plt.title('Visualising the data')\n",
    "Dendrogram = shc.dendrogram((shc.linkage(x_pca, method ='ward')))"
   ]
  },
  {
   "cell_type": "markdown",
   "metadata": {
    "papermill": {
     "duration": 0.331437,
     "end_time": "2021-04-17T17:44:27.466181",
     "exception": false,
     "start_time": "2021-04-17T17:44:27.134744",
     "status": "completed"
    },
    "tags": []
   },
   "source": [
    "We can use silhouette scores to find the optimal number of clusters."
   ]
  },
  {
   "cell_type": "code",
   "execution_count": null,
   "metadata": {
    "papermill": {
     "duration": 0.332305,
     "end_time": "2021-04-17T17:44:28.131378",
     "exception": false,
     "start_time": "2021-04-17T17:44:27.799073",
     "status": "completed"
    },
    "tags": []
   },
   "outputs": [],
   "source": []
  },
  {
   "cell_type": "code",
   "execution_count": null,
   "metadata": {
    "papermill": {
     "duration": 0.332859,
     "end_time": "2021-04-17T17:44:28.796771",
     "exception": false,
     "start_time": "2021-04-17T17:44:28.463912",
     "status": "completed"
    },
    "tags": []
   },
   "outputs": [],
   "source": []
  },
  {
   "cell_type": "markdown",
   "metadata": {
    "papermill": {
     "duration": 0.334168,
     "end_time": "2021-04-17T17:44:29.511219",
     "exception": false,
     "start_time": "2021-04-17T17:44:29.177051",
     "status": "completed"
    },
    "tags": []
   },
   "source": [
    "### 20. Hypothesis Testing"
   ]
  },
  {
   "cell_type": "markdown",
   "metadata": {
    "papermill": {
     "duration": 0.333518,
     "end_time": "2021-04-17T17:44:30.178473",
     "exception": false,
     "start_time": "2021-04-17T17:44:29.844955",
     "status": "completed"
    },
    "tags": []
   },
   "source": [
    "It is a statistical method used for making statistical decisions using experimental data. <br>\n",
    "Used to evaluate two mutually exclusive statements in a population to determine which statement is best supported using the sample data."
   ]
  },
  {
   "cell_type": "markdown",
   "metadata": {
    "papermill": {
     "duration": 0.331336,
     "end_time": "2021-04-17T17:44:30.840313",
     "exception": false,
     "start_time": "2021-04-17T17:44:30.508977",
     "status": "completed"
    },
    "tags": []
   },
   "source": [
    "![](https://miro.medium.com/max/481/1*2vTwIrqdELKJY-tpheO7GA.jpeg)\n",
    "\n",
    "Standardized Normal Curve <br>\n",
    "Which means it is a normal distribution curve which is standardized (mean = 0, std = 1)."
   ]
  },
  {
   "cell_type": "markdown",
   "metadata": {
    "papermill": {
     "duration": 0.330257,
     "end_time": "2021-04-17T17:44:31.503064",
     "exception": false,
     "start_time": "2021-04-17T17:44:31.172807",
     "status": "completed"
    },
    "tags": []
   },
   "source": [
    "Normal Curve -> \n",
    "![](https://miro.medium.com/max/626/1*gBnxoTRwo9sDovvegHfm6g.png)"
   ]
  },
  {
   "cell_type": "markdown",
   "metadata": {
    "papermill": {
     "duration": 0.336898,
     "end_time": "2021-04-17T17:44:32.172283",
     "exception": false,
     "start_time": "2021-04-17T17:44:31.835385",
     "status": "completed"
    },
    "tags": []
   },
   "source": [
    "**Important Terminologies ->** <br><br><br>\n",
    "**Level of Significance** => the degree of significance in which we accept or reject the nuol hypothesis. A 5% significance means the the result should be atleast 95% confident to give a similar result in each sample. "
   ]
  },
  {
   "cell_type": "markdown",
   "metadata": {
    "papermill": {
     "duration": 0.331282,
     "end_time": "2021-04-17T17:44:32.835371",
     "exception": false,
     "start_time": "2021-04-17T17:44:32.504089",
     "status": "completed"
    },
    "tags": []
   },
   "source": []
  },
  {
   "cell_type": "code",
   "execution_count": null,
   "metadata": {
    "papermill": {
     "duration": 0.332682,
     "end_time": "2021-04-17T17:44:33.501978",
     "exception": false,
     "start_time": "2021-04-17T17:44:33.169296",
     "status": "completed"
    },
    "tags": []
   },
   "outputs": [],
   "source": []
  },
  {
   "cell_type": "code",
   "execution_count": null,
   "metadata": {
    "papermill": {
     "duration": 0.351661,
     "end_time": "2021-04-17T17:44:34.186946",
     "exception": false,
     "start_time": "2021-04-17T17:44:33.835285",
     "status": "completed"
    },
    "tags": []
   },
   "outputs": [],
   "source": []
  },
  {
   "cell_type": "code",
   "execution_count": null,
   "metadata": {
    "papermill": {
     "duration": 0.333549,
     "end_time": "2021-04-17T17:44:34.897361",
     "exception": false,
     "start_time": "2021-04-17T17:44:34.563812",
     "status": "completed"
    },
    "tags": []
   },
   "outputs": [],
   "source": []
  },
  {
   "cell_type": "code",
   "execution_count": null,
   "metadata": {
    "papermill": {
     "duration": 0.330542,
     "end_time": "2021-04-17T17:44:35.562179",
     "exception": false,
     "start_time": "2021-04-17T17:44:35.231637",
     "status": "completed"
    },
    "tags": []
   },
   "outputs": [],
   "source": []
  },
  {
   "cell_type": "markdown",
   "metadata": {
    "papermill": {
     "duration": 0.334231,
     "end_time": "2021-04-17T17:44:36.233735",
     "exception": false,
     "start_time": "2021-04-17T17:44:35.899504",
     "status": "completed"
    },
    "tags": []
   },
   "source": [
    "### 21. Type-I Error & Type-II Error"
   ]
  },
  {
   "cell_type": "markdown",
   "metadata": {
    "papermill": {
     "duration": 0.33742,
     "end_time": "2021-04-17T17:44:36.906432",
     "exception": false,
     "start_time": "2021-04-17T17:44:36.569012",
     "status": "completed"
    },
    "tags": []
   },
   "source": [
    "Type I Error"
   ]
  },
  {
   "cell_type": "markdown",
   "metadata": {
    "papermill": {
     "duration": 0.332359,
     "end_time": "2021-04-17T17:44:37.579678",
     "exception": false,
     "start_time": "2021-04-17T17:44:37.247319",
     "status": "completed"
    },
    "tags": []
   },
   "source": [
    "When you reject the null hypothesis but thay hypothesis was true. Type I error is denoted by alpha. The region that shows the critical region , is called the alpha region. <br>"
   ]
  },
  {
   "cell_type": "markdown",
   "metadata": {
    "papermill": {
     "duration": 0.337256,
     "end_time": "2021-04-17T17:44:38.257409",
     "exception": false,
     "start_time": "2021-04-17T17:44:37.920153",
     "status": "completed"
    },
    "tags": []
   },
   "source": [
    "Type II Error"
   ]
  },
  {
   "cell_type": "markdown",
   "metadata": {
    "papermill": {
     "duration": 0.334099,
     "end_time": "2021-04-17T17:44:38.925622",
     "exception": false,
     "start_time": "2021-04-17T17:44:38.591523",
     "status": "completed"
    },
    "tags": []
   },
   "source": [
    "When we accept null hypothesis but it is false. Denoted by Beta. The normal curve that shows the acceptance region is called the beta region. "
   ]
  },
  {
   "cell_type": "markdown",
   "metadata": {
    "papermill": {
     "duration": 0.335713,
     "end_time": "2021-04-17T17:44:39.596441",
     "exception": false,
     "start_time": "2021-04-17T17:44:39.260728",
     "status": "completed"
    },
    "tags": []
   },
   "source": [
    "One tailed Test"
   ]
  },
  {
   "cell_type": "markdown",
   "metadata": {
    "papermill": {
     "duration": 0.384165,
     "end_time": "2021-04-17T17:44:40.315868",
     "exception": false,
     "start_time": "2021-04-17T17:44:39.931703",
     "status": "completed"
    },
    "tags": []
   },
   "source": [
    "A statistical test in which the region of **rejection** is only on **one** side of the sampling distribution. "
   ]
  },
  {
   "cell_type": "markdown",
   "metadata": {
    "papermill": {
     "duration": 0.335081,
     "end_time": "2021-04-17T17:44:40.983232",
     "exception": false,
     "start_time": "2021-04-17T17:44:40.648151",
     "status": "completed"
    },
    "tags": []
   },
   "source": [
    "Two Tailed Test"
   ]
  },
  {
   "cell_type": "markdown",
   "metadata": {
    "papermill": {
     "duration": 0.334023,
     "end_time": "2021-04-17T17:44:41.653773",
     "exception": false,
     "start_time": "2021-04-17T17:44:41.319750",
     "status": "completed"
    },
    "tags": []
   },
   "source": [
    "A **two-tailed** test is a statistical **test** in which the critical area of distribution is **two-sided** and tests are adopted as whether the samples aare greater than or less than some critical values. If the sample being tested falls in either of the critical values, the alternate hypothesis is accepted instead of the null hypothesis. "
   ]
  },
  {
   "cell_type": "markdown",
   "metadata": {
    "papermill": {
     "duration": 0.340353,
     "end_time": "2021-04-17T17:44:42.333705",
     "exception": false,
     "start_time": "2021-04-17T17:44:41.993352",
     "status": "completed"
    },
    "tags": []
   },
   "source": [
    "P-Value"
   ]
  },
  {
   "cell_type": "markdown",
   "metadata": {
    "papermill": {
     "duration": 0.334948,
     "end_time": "2021-04-17T17:44:43.003520",
     "exception": false,
     "start_time": "2021-04-17T17:44:42.668572",
     "status": "completed"
    },
    "tags": []
   },
   "source": [
    "The **p-Value**, or calculated probability, of finding extreme results when the null hypothesis is true. <br>\n",
    "If your p value is less than the chosen significance level, you reject the null hypothesis. "
   ]
  },
  {
   "cell_type": "markdown",
   "metadata": {
    "papermill": {
     "duration": 0.331694,
     "end_time": "2021-04-17T17:44:43.667861",
     "exception": false,
     "start_time": "2021-04-17T17:44:43.336167",
     "status": "completed"
    },
    "tags": []
   },
   "source": [
    "**Degree of Freedom** -> <br>\n"
   ]
  },
  {
   "cell_type": "markdown",
   "metadata": {
    "papermill": {
     "duration": 0.334442,
     "end_time": "2021-04-17T17:44:44.338574",
     "exception": false,
     "start_time": "2021-04-17T17:44:44.004132",
     "status": "completed"
    },
    "tags": []
   },
   "source": []
  },
  {
   "cell_type": "markdown",
   "metadata": {
    "papermill": {
     "duration": 0.365611,
     "end_time": "2021-04-17T17:44:45.036898",
     "exception": false,
     "start_time": "2021-04-17T17:44:44.671287",
     "status": "completed"
    },
    "tags": []
   },
   "source": [
    "**Widely Used hypothesis testing types ->** <br>\n",
    "* T Test (Student T Test)\n",
    "* Z Test\n",
    "* ANOVA Test\n",
    "* Chi-Square Test"
   ]
  },
  {
   "cell_type": "code",
   "execution_count": null,
   "metadata": {
    "papermill": {
     "duration": 0.372156,
     "end_time": "2021-04-17T17:44:45.744006",
     "exception": false,
     "start_time": "2021-04-17T17:44:45.371850",
     "status": "completed"
    },
    "tags": []
   },
   "outputs": [],
   "source": []
  },
  {
   "cell_type": "code",
   "execution_count": null,
   "metadata": {
    "papermill": {
     "duration": 0.334441,
     "end_time": "2021-04-17T17:44:46.411129",
     "exception": false,
     "start_time": "2021-04-17T17:44:46.076688",
     "status": "completed"
    },
    "tags": []
   },
   "outputs": [],
   "source": []
  },
  {
   "cell_type": "markdown",
   "metadata": {
    "papermill": {
     "duration": 0.336745,
     "end_time": "2021-04-17T17:44:47.083019",
     "exception": false,
     "start_time": "2021-04-17T17:44:46.746274",
     "status": "completed"
    },
    "tags": []
   },
   "source": [
    "### 22. Z-Stats & T-Stats"
   ]
  },
  {
   "cell_type": "markdown",
   "metadata": {
    "papermill": {
     "duration": 0.329621,
     "end_time": "2021-04-17T17:44:47.744720",
     "exception": false,
     "start_time": "2021-04-17T17:44:47.415099",
     "status": "completed"
    },
    "tags": []
   },
   "source": [
    "T-Test <br>\n",
    "Type of inferential statistics used to determine if there is a significant difference between means of two groups which may be related in certain features. <br>\n",
    "Used when the datasets would follow a normal distribution and may have unknown variances. "
   ]
  },
  {
   "cell_type": "markdown",
   "metadata": {
    "papermill": {
     "duration": 0.330566,
     "end_time": "2021-04-17T17:44:48.408105",
     "exception": false,
     "start_time": "2021-04-17T17:44:48.077539",
     "status": "completed"
    },
    "tags": []
   },
   "source": [
    "We have two types of T-Tests -> <br>\n",
    "* 1 sample t-test\n",
    "* 2 sample t-test"
   ]
  },
  {
   "cell_type": "markdown",
   "metadata": {
    "papermill": {
     "duration": 0.334242,
     "end_time": "2021-04-17T17:44:49.073148",
     "exception": false,
     "start_time": "2021-04-17T17:44:48.738906",
     "status": "completed"
    },
    "tags": []
   },
   "source": [
    "One Sample t-test -> <br>\n"
   ]
  },
  {
   "cell_type": "code",
   "execution_count": null,
   "metadata": {
    "papermill": {
     "duration": 0.332382,
     "end_time": "2021-04-17T17:44:49.740124",
     "exception": false,
     "start_time": "2021-04-17T17:44:49.407742",
     "status": "completed"
    },
    "tags": []
   },
   "outputs": [],
   "source": []
  },
  {
   "cell_type": "markdown",
   "metadata": {
    "papermill": {
     "duration": 0.333231,
     "end_time": "2021-04-17T17:44:50.408536",
     "exception": false,
     "start_time": "2021-04-17T17:44:50.075305",
     "status": "completed"
    },
    "tags": []
   },
   "source": [
    "2 Samples t-test -> <br>\n",
    "        Compares the means of two independent groups in order to determine whether there is statistical evidence that the associated population means are statistically different. <br>\n",
    "        Also known as **Independent t-test**"
   ]
  },
  {
   "cell_type": "code",
   "execution_count": null,
   "metadata": {
    "papermill": {
     "duration": 0.356657,
     "end_time": "2021-04-17T17:44:51.140254",
     "exception": false,
     "start_time": "2021-04-17T17:44:50.783597",
     "status": "completed"
    },
    "tags": []
   },
   "outputs": [],
   "source": []
  },
  {
   "cell_type": "markdown",
   "metadata": {
    "papermill": {
     "duration": 0.333762,
     "end_time": "2021-04-17T17:44:51.825848",
     "exception": false,
     "start_time": "2021-04-17T17:44:51.492086",
     "status": "completed"
    },
    "tags": []
   },
   "source": [
    "**Paired sampled t-test** -> <br>\n",
    "Also known as dependent sample t-test. <br>\n",
    "Univariate test that tests for a significant difference between 2 related variables. "
   ]
  },
  {
   "cell_type": "code",
   "execution_count": null,
   "metadata": {
    "papermill": {
     "duration": 0.329942,
     "end_time": "2021-04-17T17:44:52.488947",
     "exception": false,
     "start_time": "2021-04-17T17:44:52.159005",
     "status": "completed"
    },
    "tags": []
   },
   "outputs": [],
   "source": []
  },
  {
   "cell_type": "markdown",
   "metadata": {
    "papermill": {
     "duration": 0.33415,
     "end_time": "2021-04-17T17:44:53.151544",
     "exception": false,
     "start_time": "2021-04-17T17:44:52.817394",
     "status": "completed"
    },
    "tags": []
   },
   "source": [
    "Z-Test <br>\n",
    "Use Z-test if -> <br>\n",
    "* Sample Size > 30\n",
    "* Data points **independent** from each other. \n",
    "* Data should be normally distributed. Sometimes, if the sample size is large enough, this doesn't matter. \n",
    "* Data items have equal chance of getting selected. "
   ]
  },
  {
   "cell_type": "markdown",
   "metadata": {
    "papermill": {
     "duration": 0.330547,
     "end_time": "2021-04-17T17:44:53.814121",
     "exception": false,
     "start_time": "2021-04-17T17:44:53.483574",
     "status": "completed"
    },
    "tags": []
   },
   "source": [
    "One-Sample Z-Test"
   ]
  },
  {
   "cell_type": "code",
   "execution_count": 146,
   "metadata": {
    "execution": {
     "iopub.execute_input": "2021-04-17T17:44:54.484887Z",
     "iopub.status.busy": "2021-04-17T17:44:54.484221Z",
     "iopub.status.idle": "2021-04-17T17:44:54.487289Z",
     "shell.execute_reply": "2021-04-17T17:44:54.486735Z"
    },
    "papermill": {
     "duration": 0.338844,
     "end_time": "2021-04-17T17:44:54.487433",
     "exception": false,
     "start_time": "2021-04-17T17:44:54.148589",
     "status": "completed"
    },
    "tags": []
   },
   "outputs": [],
   "source": [
    "from statsmodels.stats import weightstats as stests\n",
    "\n",
    "\n"
   ]
  },
  {
   "cell_type": "markdown",
   "metadata": {
    "papermill": {
     "duration": 0.339044,
     "end_time": "2021-04-17T17:44:55.161889",
     "exception": false,
     "start_time": "2021-04-17T17:44:54.822845",
     "status": "completed"
    },
    "tags": []
   },
   "source": [
    "Two Sample Z-Test"
   ]
  },
  {
   "cell_type": "code",
   "execution_count": null,
   "metadata": {
    "papermill": {
     "duration": 0.330581,
     "end_time": "2021-04-17T17:44:55.826611",
     "exception": false,
     "start_time": "2021-04-17T17:44:55.496030",
     "status": "completed"
    },
    "tags": []
   },
   "outputs": [],
   "source": []
  },
  {
   "cell_type": "markdown",
   "metadata": {
    "papermill": {
     "duration": 0.332809,
     "end_time": "2021-04-17T17:44:56.567176",
     "exception": false,
     "start_time": "2021-04-17T17:44:56.234367",
     "status": "completed"
    },
    "tags": []
   },
   "source": [
    "ANOVA test or F-Test"
   ]
  },
  {
   "cell_type": "code",
   "execution_count": null,
   "metadata": {
    "papermill": {
     "duration": 0.33354,
     "end_time": "2021-04-17T17:44:57.237095",
     "exception": false,
     "start_time": "2021-04-17T17:44:56.903555",
     "status": "completed"
    },
    "tags": []
   },
   "outputs": [],
   "source": []
  },
  {
   "cell_type": "markdown",
   "metadata": {
    "papermill": {
     "duration": 0.331099,
     "end_time": "2021-04-17T17:44:57.902348",
     "exception": false,
     "start_time": "2021-04-17T17:44:57.571249",
     "status": "completed"
    },
    "tags": []
   },
   "source": [
    "One-Way F-Test (Anova) -> <br>\n"
   ]
  },
  {
   "cell_type": "code",
   "execution_count": null,
   "metadata": {
    "papermill": {
     "duration": 0.331772,
     "end_time": "2021-04-17T17:44:58.571151",
     "exception": false,
     "start_time": "2021-04-17T17:44:58.239379",
     "status": "completed"
    },
    "tags": []
   },
   "outputs": [],
   "source": []
  },
  {
   "cell_type": "markdown",
   "metadata": {
    "papermill": {
     "duration": 0.337063,
     "end_time": "2021-04-17T17:44:59.243683",
     "exception": false,
     "start_time": "2021-04-17T17:44:58.906620",
     "status": "completed"
    },
    "tags": []
   },
   "source": [
    "Two-Way F-Test (Anova) -> "
   ]
  },
  {
   "cell_type": "code",
   "execution_count": null,
   "metadata": {
    "papermill": {
     "duration": 0.335969,
     "end_time": "2021-04-17T17:44:59.913361",
     "exception": false,
     "start_time": "2021-04-17T17:44:59.577392",
     "status": "completed"
    },
    "tags": []
   },
   "outputs": [],
   "source": []
  },
  {
   "cell_type": "code",
   "execution_count": null,
   "metadata": {
    "papermill": {
     "duration": 0.330793,
     "end_time": "2021-04-17T17:45:00.579028",
     "exception": false,
     "start_time": "2021-04-17T17:45:00.248235",
     "status": "completed"
    },
    "tags": []
   },
   "outputs": [],
   "source": []
  },
  {
   "cell_type": "markdown",
   "metadata": {
    "papermill": {
     "duration": 0.334792,
     "end_time": "2021-04-17T17:45:01.244262",
     "exception": false,
     "start_time": "2021-04-17T17:45:00.909470",
     "status": "completed"
    },
    "tags": []
   },
   "source": [
    "Chi-Sq Test"
   ]
  },
  {
   "cell_type": "code",
   "execution_count": null,
   "metadata": {
    "papermill": {
     "duration": 0.375213,
     "end_time": "2021-04-17T17:45:01.951545",
     "exception": false,
     "start_time": "2021-04-17T17:45:01.576332",
     "status": "completed"
    },
    "tags": []
   },
   "outputs": [],
   "source": []
  },
  {
   "cell_type": "markdown",
   "metadata": {
    "papermill": {
     "duration": 0.3357,
     "end_time": "2021-04-17T17:45:02.621620",
     "exception": false,
     "start_time": "2021-04-17T17:45:02.285920",
     "status": "completed"
    },
    "tags": []
   },
   "source": [
    "KS Test"
   ]
  },
  {
   "cell_type": "markdown",
   "metadata": {
    "papermill": {
     "duration": 0.333675,
     "end_time": "2021-04-17T17:45:03.287031",
     "exception": false,
     "start_time": "2021-04-17T17:45:02.953356",
     "status": "completed"
    },
    "tags": []
   },
   "source": [
    "KS Test is used to check if given values follow a distribution. <br>\n"
   ]
  },
  {
   "cell_type": "code",
   "execution_count": 147,
   "metadata": {
    "execution": {
     "iopub.execute_input": "2021-04-17T17:45:03.954456Z",
     "iopub.status.busy": "2021-04-17T17:45:03.953812Z",
     "iopub.status.idle": "2021-04-17T17:45:03.965748Z",
     "shell.execute_reply": "2021-04-17T17:45:03.966416Z"
    },
    "papermill": {
     "duration": 0.34734,
     "end_time": "2021-04-17T17:45:03.966600",
     "exception": false,
     "start_time": "2021-04-17T17:45:03.619260",
     "status": "completed"
    },
    "tags": []
   },
   "outputs": [
    {
     "name": "stdout",
     "output_type": "stream",
     "text": [
      "KstestResult(statistic=0.09091978889293212, pvalue=0.3584836633568587)\n"
     ]
    }
   ],
   "source": [
    "np.random.seed(2021)\n",
    "v = np.random.normal(size = 100)\n",
    "\n",
    "res = stats.kstest(v, 'norm')\n",
    "\n",
    "print(res)"
   ]
  },
  {
   "cell_type": "code",
   "execution_count": null,
   "metadata": {
    "papermill": {
     "duration": 0.332179,
     "end_time": "2021-04-17T17:45:04.637606",
     "exception": false,
     "start_time": "2021-04-17T17:45:04.305427",
     "status": "completed"
    },
    "tags": []
   },
   "outputs": [],
   "source": []
  },
  {
   "cell_type": "markdown",
   "metadata": {
    "papermill": {
     "duration": 0.331884,
     "end_time": "2021-04-17T17:45:05.300286",
     "exception": false,
     "start_time": "2021-04-17T17:45:04.968402",
     "status": "completed"
    },
    "tags": []
   },
   "source": [
    "### 23. Confidence Interval"
   ]
  },
  {
   "cell_type": "markdown",
   "metadata": {
    "papermill": {
     "duration": 0.333251,
     "end_time": "2021-04-17T17:45:05.965024",
     "exception": false,
     "start_time": "2021-04-17T17:45:05.631773",
     "status": "completed"
    },
    "tags": []
   },
   "source": [
    "It is a range of values. <br>\n",
    "95% confidence interval is the most common. <br>\n",
    "Note -> 95% confidence interval doesn't mean 95% probability. "
   ]
  },
  {
   "cell_type": "code",
   "execution_count": null,
   "metadata": {
    "papermill": {
     "duration": 0.332025,
     "end_time": "2021-04-17T17:45:06.631849",
     "exception": false,
     "start_time": "2021-04-17T17:45:06.299824",
     "status": "completed"
    },
    "tags": []
   },
   "outputs": [],
   "source": []
  },
  {
   "cell_type": "markdown",
   "metadata": {
    "papermill": {
     "duration": 0.380346,
     "end_time": "2021-04-17T17:45:07.376248",
     "exception": false,
     "start_time": "2021-04-17T17:45:06.995902",
     "status": "completed"
    },
    "tags": []
   },
   "source": [
    "**Calculation of confidence interval** <br>\n"
   ]
  },
  {
   "cell_type": "code",
   "execution_count": 148,
   "metadata": {
    "execution": {
     "iopub.execute_input": "2021-04-17T17:45:08.047964Z",
     "iopub.status.busy": "2021-04-17T17:45:08.047333Z",
     "iopub.status.idle": "2021-04-17T17:45:08.052560Z",
     "shell.execute_reply": "2021-04-17T17:45:08.053138Z"
    },
    "papermill": {
     "duration": 0.343953,
     "end_time": "2021-04-17T17:45:08.053320",
     "exception": false,
     "start_time": "2021-04-17T17:45:07.709367",
     "status": "completed"
    },
    "tags": []
   },
   "outputs": [],
   "source": [
    "def mean_confidence_interval(data, confidence = 0.95):\n",
    "    a = 1.0 * np.array(data)\n",
    "    n = len(a)\n",
    "    \n",
    "    m, se = np.mean(a), stats.sem(a)\n",
    "    h = se * stats.t.ppf((1 + confidence) / 2., n - 1)\n",
    "    \n",
    "    return m, m - h, m + h"
   ]
  },
  {
   "cell_type": "markdown",
   "metadata": {
    "papermill": {
     "duration": 0.333497,
     "end_time": "2021-04-17T17:45:08.720716",
     "exception": false,
     "start_time": "2021-04-17T17:45:08.387219",
     "status": "completed"
    },
    "tags": []
   },
   "source": [
    "I. Confidence interval for a sample"
   ]
  },
  {
   "cell_type": "markdown",
   "metadata": {
    "papermill": {
     "duration": 0.334367,
     "end_time": "2021-04-17T17:45:09.389265",
     "exception": false,
     "start_time": "2021-04-17T17:45:09.054898",
     "status": "completed"
    },
    "tags": []
   },
   "source": []
  },
  {
   "cell_type": "markdown",
   "metadata": {
    "papermill": {
     "duration": 0.33154,
     "end_time": "2021-04-17T17:45:10.051781",
     "exception": false,
     "start_time": "2021-04-17T17:45:09.720241",
     "status": "completed"
    },
    "tags": []
   },
   "source": [
    "II. Confidence Interval with a small sample"
   ]
  },
  {
   "cell_type": "markdown",
   "metadata": {
    "papermill": {
     "duration": 0.331614,
     "end_time": "2021-04-17T17:45:10.716676",
     "exception": false,
     "start_time": "2021-04-17T17:45:10.385062",
     "status": "completed"
    },
    "tags": []
   },
   "source": []
  },
  {
   "cell_type": "markdown",
   "metadata": {
    "papermill": {
     "duration": 0.334817,
     "end_time": "2021-04-17T17:45:11.384711",
     "exception": false,
     "start_time": "2021-04-17T17:45:11.049894",
     "status": "completed"
    },
    "tags": []
   },
   "source": [
    "III. Confidence Interval with the Normal Distribution / Z-Distribution"
   ]
  },
  {
   "cell_type": "markdown",
   "metadata": {
    "papermill": {
     "duration": 0.333367,
     "end_time": "2021-04-17T17:45:12.050045",
     "exception": false,
     "start_time": "2021-04-17T17:45:11.716678",
     "status": "completed"
    },
    "tags": []
   },
   "source": []
  },
  {
   "cell_type": "markdown",
   "metadata": {
    "papermill": {
     "duration": 0.336803,
     "end_time": "2021-04-17T17:45:12.766065",
     "exception": false,
     "start_time": "2021-04-17T17:45:12.429262",
     "status": "completed"
    },
    "tags": []
   },
   "source": [
    "IV. Confidence Interval for a proportion"
   ]
  },
  {
   "cell_type": "markdown",
   "metadata": {
    "papermill": {
     "duration": 0.330922,
     "end_time": "2021-04-17T17:45:13.435338",
     "exception": false,
     "start_time": "2021-04-17T17:45:13.104416",
     "status": "completed"
    },
    "tags": []
   },
   "source": []
  },
  {
   "cell_type": "markdown",
   "metadata": {
    "papermill": {
     "duration": 0.331719,
     "end_time": "2021-04-17T17:45:14.098184",
     "exception": false,
     "start_time": "2021-04-17T17:45:13.766465",
     "status": "completed"
    },
    "tags": []
   },
   "source": [
    "V. Confidence Interval for 2 populations or (proportions)"
   ]
  },
  {
   "cell_type": "markdown",
   "metadata": {
    "papermill": {
     "duration": 0.33179,
     "end_time": "2021-04-17T17:45:14.763399",
     "exception": false,
     "start_time": "2021-04-17T17:45:14.431609",
     "status": "completed"
    },
    "tags": []
   },
   "source": []
  },
  {
   "cell_type": "markdown",
   "metadata": {
    "papermill": {
     "duration": 0.333757,
     "end_time": "2021-04-17T17:45:15.429810",
     "exception": false,
     "start_time": "2021-04-17T17:45:15.096053",
     "status": "completed"
    },
    "tags": []
   },
   "source": []
  },
  {
   "cell_type": "code",
   "execution_count": null,
   "metadata": {
    "papermill": {
     "duration": 0.332895,
     "end_time": "2021-04-17T17:45:16.093646",
     "exception": false,
     "start_time": "2021-04-17T17:45:15.760751",
     "status": "completed"
    },
    "tags": []
   },
   "outputs": [],
   "source": []
  },
  {
   "cell_type": "markdown",
   "metadata": {
    "papermill": {
     "duration": 0.332175,
     "end_time": "2021-04-17T17:45:16.760113",
     "exception": false,
     "start_time": "2021-04-17T17:45:16.427938",
     "status": "completed"
    },
    "tags": []
   },
   "source": [
    "In a local teaching district a technology grant is available to teachers in order to install a cluster of four computers in their classrooms. From 6250 teachers in the district, 250 were randly selected and asked if they felt that computers were an essential teaching tool for their classroom. Of those selected, 142 teachers felt that computers were an essential teaching tool. <br>\n",
    "1. Calculate a 99% confidence interval for the propertion of teachers who felt that computers are an essential teaching tool. <br>\n",
    "2. How could the survey be changed to narrow the confidence interval but to maintain the 99% confidence interval?"
   ]
  },
  {
   "cell_type": "markdown",
   "metadata": {
    "papermill": {
     "duration": 0.334205,
     "end_time": "2021-04-17T17:45:17.433204",
     "exception": false,
     "start_time": "2021-04-17T17:45:17.098999",
     "status": "completed"
    },
    "tags": []
   },
   "source": [
    "### 24. Confusion Matrix, ROC & Regression Analysis"
   ]
  },
  {
   "cell_type": "markdown",
   "metadata": {
    "papermill": {
     "duration": 0.3664,
     "end_time": "2021-04-17T17:45:18.177881",
     "exception": false,
     "start_time": "2021-04-17T17:45:17.811481",
     "status": "completed"
    },
    "tags": []
   },
   "source": [
    "**Confusion Matrix** <br><br>\n",
    "\n",
    "We'll learn confusion matrix for both Binary Classifiers as well as Multi Class Classifiers. "
   ]
  },
  {
   "cell_type": "markdown",
   "metadata": {
    "papermill": {
     "duration": 0.332083,
     "end_time": "2021-04-17T17:45:18.841869",
     "exception": false,
     "start_time": "2021-04-17T17:45:18.509786",
     "status": "completed"
    },
    "tags": []
   },
   "source": [
    "![](https://miro.medium.com/proxy/0*-oGC3SE8sPCPdmxs.jpg)"
   ]
  },
  {
   "cell_type": "markdown",
   "metadata": {
    "papermill": {
     "duration": 0.332876,
     "end_time": "2021-04-17T17:45:19.507044",
     "exception": false,
     "start_time": "2021-04-17T17:45:19.174168",
     "status": "completed"
    },
    "tags": []
   },
   "source": [
    "I. Binary Classifiers "
   ]
  },
  {
   "cell_type": "code",
   "execution_count": 149,
   "metadata": {
    "execution": {
     "iopub.execute_input": "2021-04-17T17:45:20.180462Z",
     "iopub.status.busy": "2021-04-17T17:45:20.179836Z",
     "iopub.status.idle": "2021-04-17T17:45:20.183093Z",
     "shell.execute_reply": "2021-04-17T17:45:20.183604Z"
    },
    "papermill": {
     "duration": 0.343708,
     "end_time": "2021-04-17T17:45:20.183858",
     "exception": false,
     "start_time": "2021-04-17T17:45:19.840150",
     "status": "completed"
    },
    "tags": []
   },
   "outputs": [],
   "source": [
    "# Let's assume the following was a confusion matrix obtained for a Binary Dataset"
   ]
  },
  {
   "cell_type": "code",
   "execution_count": 150,
   "metadata": {
    "execution": {
     "iopub.execute_input": "2021-04-17T17:45:20.851774Z",
     "iopub.status.busy": "2021-04-17T17:45:20.851160Z",
     "iopub.status.idle": "2021-04-17T17:45:20.855190Z",
     "shell.execute_reply": "2021-04-17T17:45:20.855777Z"
    },
    "papermill": {
     "duration": 0.339573,
     "end_time": "2021-04-17T17:45:20.855941",
     "exception": false,
     "start_time": "2021-04-17T17:45:20.516368",
     "status": "completed"
    },
    "tags": []
   },
   "outputs": [],
   "source": [
    "from sklearn.metrics import confusion_matrix"
   ]
  },
  {
   "cell_type": "code",
   "execution_count": 151,
   "metadata": {
    "execution": {
     "iopub.execute_input": "2021-04-17T17:45:21.526909Z",
     "iopub.status.busy": "2021-04-17T17:45:21.526305Z",
     "iopub.status.idle": "2021-04-17T17:45:21.533846Z",
     "shell.execute_reply": "2021-04-17T17:45:21.534330Z"
    },
    "papermill": {
     "duration": 0.343124,
     "end_time": "2021-04-17T17:45:21.534497",
     "exception": false,
     "start_time": "2021-04-17T17:45:21.191373",
     "status": "completed"
    },
    "tags": []
   },
   "outputs": [
    {
     "data": {
      "text/plain": [
       "array([[2, 1],\n",
       "       [1, 2]])"
      ]
     },
     "execution_count": 151,
     "metadata": {},
     "output_type": "execute_result"
    }
   ],
   "source": [
    "y_true = [0,1,0,1,0,1]\n",
    "y_pred = [0,0,1,1,0,1]\n",
    "\n",
    "confusion_matrix(y_true, y_pred)"
   ]
  },
  {
   "cell_type": "markdown",
   "metadata": {
    "papermill": {
     "duration": 0.334018,
     "end_time": "2021-04-17T17:45:22.201690",
     "exception": false,
     "start_time": "2021-04-17T17:45:21.867672",
     "status": "completed"
    },
    "tags": []
   },
   "source": [
    "With the help of confusion matrix, we can obtain values for TN, FP, FN, TP"
   ]
  },
  {
   "cell_type": "code",
   "execution_count": 152,
   "metadata": {
    "execution": {
     "iopub.execute_input": "2021-04-17T17:45:22.914188Z",
     "iopub.status.busy": "2021-04-17T17:45:22.913406Z",
     "iopub.status.idle": "2021-04-17T17:45:22.924228Z",
     "shell.execute_reply": "2021-04-17T17:45:22.923587Z"
    },
    "papermill": {
     "duration": 0.379693,
     "end_time": "2021-04-17T17:45:22.924365",
     "exception": false,
     "start_time": "2021-04-17T17:45:22.544672",
     "status": "completed"
    },
    "tags": []
   },
   "outputs": [
    {
     "name": "stdout",
     "output_type": "stream",
     "text": [
      "True Negatives ->  2\n",
      "False Positives ->  1\n",
      "False Negatives ->  1\n",
      "True Positives ->  2\n"
     ]
    }
   ],
   "source": [
    "tn, fp, fn, tp = confusion_matrix(y_true, y_pred).ravel()\n",
    "\n",
    "print(\"True Negatives -> \", tn)\n",
    "print(\"False Positives -> \", fp)\n",
    "print(\"False Negatives -> \", fn)\n",
    "print(\"True Positives -> \", tp)"
   ]
  },
  {
   "cell_type": "markdown",
   "metadata": {
    "papermill": {
     "duration": 0.377668,
     "end_time": "2021-04-17T17:45:23.640748",
     "exception": false,
     "start_time": "2021-04-17T17:45:23.263080",
     "status": "completed"
    },
    "tags": []
   },
   "source": [
    "Let's define a function to output all the metrics needed to gauge model performance. <br>"
   ]
  },
  {
   "cell_type": "code",
   "execution_count": 153,
   "metadata": {
    "execution": {
     "iopub.execute_input": "2021-04-17T17:45:24.317842Z",
     "iopub.status.busy": "2021-04-17T17:45:24.317177Z",
     "iopub.status.idle": "2021-04-17T17:45:24.320040Z",
     "shell.execute_reply": "2021-04-17T17:45:24.320508Z"
    },
    "papermill": {
     "duration": 0.346299,
     "end_time": "2021-04-17T17:45:24.320708",
     "exception": false,
     "start_time": "2021-04-17T17:45:23.974409",
     "status": "completed"
    },
    "tags": []
   },
   "outputs": [],
   "source": [
    "def calculate_performance(tn, fp, fn, tp):\n",
    "    \n",
    "    \n",
    "    accuracy = (tp + tn)/ (tp + tn + fp + fn)\n",
    "    \n",
    "    precision = tp / (tp + fp)\n",
    "    \n",
    "    recall = tp / (tp + fn)\n",
    "    \n",
    "    f1 = ( 2 * precision * recall ) / (precision + recall)\n",
    "    \n",
    "    \n",
    "    return accuracy, precision, recall, f1"
   ]
  },
  {
   "cell_type": "code",
   "execution_count": 154,
   "metadata": {
    "execution": {
     "iopub.execute_input": "2021-04-17T17:45:24.994205Z",
     "iopub.status.busy": "2021-04-17T17:45:24.992901Z",
     "iopub.status.idle": "2021-04-17T17:45:24.999183Z",
     "shell.execute_reply": "2021-04-17T17:45:24.998452Z"
    },
    "papermill": {
     "duration": 0.344737,
     "end_time": "2021-04-17T17:45:24.999337",
     "exception": false,
     "start_time": "2021-04-17T17:45:24.654600",
     "status": "completed"
    },
    "tags": []
   },
   "outputs": [
    {
     "name": "stdout",
     "output_type": "stream",
     "text": [
      "Accuracy of the hypothetical model ->  0.5714285714285714\n",
      "Precision of the hypothetical model ->  0.5\n",
      "Recall of the hypothetical model ->  0.6666666666666666\n",
      "F1-score of the hypothetical model ->  0.5714285714285715\n"
     ]
    }
   ],
   "source": [
    "acc, precision, recall, f1 = calculate_performance(tn, tp, fn, tp)\n",
    "\n",
    "print(\"Accuracy of the hypothetical model -> \", acc)\n",
    "print(\"Precision of the hypothetical model -> \", precision)\n",
    "print(\"Recall of the hypothetical model -> \", recall)\n",
    "print(\"F1-score of the hypothetical model -> \", f1)"
   ]
  },
  {
   "cell_type": "markdown",
   "metadata": {
    "papermill": {
     "duration": 0.333227,
     "end_time": "2021-04-17T17:45:25.670284",
     "exception": false,
     "start_time": "2021-04-17T17:45:25.337057",
     "status": "completed"
    },
    "tags": []
   },
   "source": [
    "You can also display the output of your confusion matrix in a better visual format"
   ]
  },
  {
   "cell_type": "code",
   "execution_count": 155,
   "metadata": {
    "execution": {
     "iopub.execute_input": "2021-04-17T17:45:26.364898Z",
     "iopub.status.busy": "2021-04-17T17:45:26.355995Z",
     "iopub.status.idle": "2021-04-17T17:45:26.536165Z",
     "shell.execute_reply": "2021-04-17T17:45:26.535622Z"
    },
    "papermill": {
     "duration": 0.532666,
     "end_time": "2021-04-17T17:45:26.536308",
     "exception": false,
     "start_time": "2021-04-17T17:45:26.003642",
     "status": "completed"
    },
    "tags": []
   },
   "outputs": [
    {
     "data": {
      "text/plain": [
       "<sklearn.metrics._plot.confusion_matrix.ConfusionMatrixDisplay at 0x7f22865bf8d0>"
      ]
     },
     "execution_count": 155,
     "metadata": {},
     "output_type": "execute_result"
    },
    {
     "data": {
      "image/png": "[encoded data removed]",
      "text/plain": [
       "<Figure size 432x288 with 2 Axes>"
      ]
     },
     "metadata": {
      "needs_background": "light"
     },
     "output_type": "display_data"
    }
   ],
   "source": [
    "from sklearn.metrics import ConfusionMatrixDisplay\n",
    "\n",
    "disp = ConfusionMatrixDisplay(confusion_matrix=confusion_matrix(y_true, y_pred),\n",
    "                               display_labels=[0,1])\n",
    "\n",
    "disp.plot()"
   ]
  },
  {
   "cell_type": "code",
   "execution_count": null,
   "metadata": {
    "papermill": {
     "duration": 0.342002,
     "end_time": "2021-04-17T17:45:27.215024",
     "exception": false,
     "start_time": "2021-04-17T17:45:26.873022",
     "status": "completed"
    },
    "tags": []
   },
   "outputs": [],
   "source": []
  },
  {
   "cell_type": "markdown",
   "metadata": {
    "papermill": {
     "duration": 0.339476,
     "end_time": "2021-04-17T17:45:27.889774",
     "exception": false,
     "start_time": "2021-04-17T17:45:27.550298",
     "status": "completed"
    },
    "tags": []
   },
   "source": [
    "II. Multi-Class Classifiers"
   ]
  },
  {
   "cell_type": "code",
   "execution_count": 156,
   "metadata": {
    "execution": {
     "iopub.execute_input": "2021-04-17T17:45:28.568359Z",
     "iopub.status.busy": "2021-04-17T17:45:28.567733Z",
     "iopub.status.idle": "2021-04-17T17:45:28.571211Z",
     "shell.execute_reply": "2021-04-17T17:45:28.570576Z"
    },
    "papermill": {
     "duration": 0.344983,
     "end_time": "2021-04-17T17:45:28.571347",
     "exception": false,
     "start_time": "2021-04-17T17:45:28.226364",
     "status": "completed"
    },
    "tags": []
   },
   "outputs": [],
   "source": [
    "# For multi-class classifiers, let's understand how to obtain the metrics given the hypothetical confusion matrix."
   ]
  },
  {
   "cell_type": "code",
   "execution_count": 157,
   "metadata": {
    "execution": {
     "iopub.execute_input": "2021-04-17T17:45:29.323634Z",
     "iopub.status.busy": "2021-04-17T17:45:29.323022Z",
     "iopub.status.idle": "2021-04-17T17:45:29.325881Z",
     "shell.execute_reply": "2021-04-17T17:45:29.326421Z"
    },
    "papermill": {
     "duration": 0.409371,
     "end_time": "2021-04-17T17:45:29.326578",
     "exception": false,
     "start_time": "2021-04-17T17:45:28.917207",
     "status": "completed"
    },
    "tags": []
   },
   "outputs": [
    {
     "data": {
      "text/plain": [
       "array([[2, 1, 0],\n",
       "       [1, 1, 1],\n",
       "       [0, 2, 1]])"
      ]
     },
     "execution_count": 157,
     "metadata": {},
     "output_type": "execute_result"
    }
   ],
   "source": [
    "y_true = [0,1,2, 0,1,2,0,1,2]\n",
    "y_pred = [0,2,1,0,1,2,1,0,1]\n",
    "\n",
    "confusion_matrix(y_true, y_pred)"
   ]
  },
  {
   "cell_type": "code",
   "execution_count": 158,
   "metadata": {
    "execution": {
     "iopub.execute_input": "2021-04-17T17:45:30.025231Z",
     "iopub.status.busy": "2021-04-17T17:45:30.024550Z",
     "iopub.status.idle": "2021-04-17T17:45:30.225435Z",
     "shell.execute_reply": "2021-04-17T17:45:30.225940Z"
    },
    "papermill": {
     "duration": 0.561692,
     "end_time": "2021-04-17T17:45:30.226129",
     "exception": false,
     "start_time": "2021-04-17T17:45:29.664437",
     "status": "completed"
    },
    "tags": []
   },
   "outputs": [
    {
     "data": {
      "text/plain": [
       "<sklearn.metrics._plot.confusion_matrix.ConfusionMatrixDisplay at 0x7f2285644990>"
      ]
     },
     "execution_count": 158,
     "metadata": {},
     "output_type": "execute_result"
    },
    {
     "data": {
      "image/png": "[encoded data removed]",
      "text/plain": [
       "<Figure size 432x288 with 2 Axes>"
      ]
     },
     "metadata": {
      "needs_background": "light"
     },
     "output_type": "display_data"
    }
   ],
   "source": [
    "disp = ConfusionMatrixDisplay(confusion_matrix=confusion_matrix(y_true, y_pred),\n",
    "                               display_labels=[0,1,2])\n",
    "\n",
    "disp.plot()"
   ]
  },
  {
   "cell_type": "markdown",
   "metadata": {
    "papermill": {
     "duration": 0.336044,
     "end_time": "2021-04-17T17:45:30.900586",
     "exception": false,
     "start_time": "2021-04-17T17:45:30.564542",
     "status": "completed"
    },
    "tags": []
   },
   "source": [
    "How to read a multi-class confusion matrix?\n",
    "\n",
    "![](https://miro.medium.com/max/875/1*uQDpo9iISx00ucl3gftLVA.png)"
   ]
  },
  {
   "cell_type": "markdown",
   "metadata": {
    "papermill": {
     "duration": 0.337193,
     "end_time": "2021-04-17T17:45:31.574390",
     "exception": false,
     "start_time": "2021-04-17T17:45:31.237197",
     "status": "completed"
    },
    "tags": []
   },
   "source": [
    "Now we need to calculate TP, FN, FP, TN values. "
   ]
  },
  {
   "cell_type": "code",
   "execution_count": 159,
   "metadata": {
    "execution": {
     "iopub.execute_input": "2021-04-17T17:45:32.257389Z",
     "iopub.status.busy": "2021-04-17T17:45:32.256732Z",
     "iopub.status.idle": "2021-04-17T17:45:32.266011Z",
     "shell.execute_reply": "2021-04-17T17:45:32.266509Z"
    },
    "papermill": {
     "duration": 0.353237,
     "end_time": "2021-04-17T17:45:32.266696",
     "exception": false,
     "start_time": "2021-04-17T17:45:31.913459",
     "status": "completed"
    },
    "tags": []
   },
   "outputs": [],
   "source": [
    "def calculate_metrics_multi(cnf_matrix):\n",
    "    FP = cnf_matrix.sum(axis=0) - np.diag(cnf_matrix) \n",
    "    FN = cnf_matrix.sum(axis=1) - np.diag(cnf_matrix)\n",
    "    TP = np.diag(cnf_matrix)\n",
    "    TN = cnf_matrix.sum() - (FP + FN + TP)\n",
    "    \n",
    "    FP = FP.astype(float)\n",
    "    FN = FN.astype(float)\n",
    "    TP = TP.astype(float)\n",
    "    TN = TN.astype(float)\n",
    "    \n",
    "    # Sensitivity, hit rate, recall, or true positive rate\n",
    "    TPR = TP/(TP+FN)\n",
    "    # Specificity or true negative rate\n",
    "    TNR = TN/(TN+FP) \n",
    "    # Precision or positive predictive value\n",
    "    PPV = TP/(TP+FP)\n",
    "    # Negative predictive value\n",
    "    NPV = TN/(TN+FN)\n",
    "    # Fall out or false positive rate\n",
    "    FPR = FP/(FP+TN)\n",
    "    # False negative rate\n",
    "    FNR = FN/(TP+FN)\n",
    "    # False discovery rate\n",
    "    FDR = FP/(TP+FP)\n",
    "    # Overall accuracy for each class\n",
    "    ACC = (TP+TN)/(TP+FP+FN+TN)\n",
    "    \n",
    "    f1 = 2 * precision * recall / (precision + recall)\n",
    "    \n",
    "    print(\"The calculated metrics are as follows -> \\n\\n\")\n",
    "    print(f\"\\n1. Accuracy = {ACC} \\n2. Recall or Sensitivity = {TPR} \\n3. Specificity or True Negative Rate = {TNR} \\n4. Precision = {PPV} \\n5. Negative Predictive Value = {NPV} \\n6. Fall out or False Positive Rate = {FPR} \\n7. False Negative Rate = {FNR} \\n8. False Discovery Rate = {FDR} \\n9. F1-Score = {f1}\")"
   ]
  },
  {
   "cell_type": "code",
   "execution_count": 160,
   "metadata": {
    "execution": {
     "iopub.execute_input": "2021-04-17T17:45:32.950229Z",
     "iopub.status.busy": "2021-04-17T17:45:32.949399Z",
     "iopub.status.idle": "2021-04-17T17:45:32.952848Z",
     "shell.execute_reply": "2021-04-17T17:45:32.953320Z"
    },
    "papermill": {
     "duration": 0.347486,
     "end_time": "2021-04-17T17:45:32.953486",
     "exception": false,
     "start_time": "2021-04-17T17:45:32.606000",
     "status": "completed"
    },
    "tags": []
   },
   "outputs": [
    {
     "name": "stdout",
     "output_type": "stream",
     "text": [
      "The calculated metrics are as follows -> \n",
      "\n",
      "\n",
      "\n",
      "1. Accuracy = [0.77777778 0.44444444 0.66666667] \n",
      "2. Recall or Sensitivity = [0.66666667 0.33333333 0.33333333] \n",
      "3. Specificity or True Negative Rate = [0.83333333 0.5        0.83333333] \n",
      "4. Precision = [0.66666667 0.25       0.5       ] \n",
      "5. Negative Predictive Value = [0.83333333 0.6        0.71428571] \n",
      "6. Fall out or False Positive Rate = [0.16666667 0.5        0.16666667] \n",
      "7. False Negative Rate = [0.33333333 0.66666667 0.66666667] \n",
      "8. False Discovery Rate = [0.33333333 0.75       0.5       ] \n",
      "9. F1-Score = 0.5714285714285715\n"
     ]
    }
   ],
   "source": [
    "calculate_metrics_multi(confusion_matrix(y_true, y_pred))"
   ]
  },
  {
   "cell_type": "markdown",
   "metadata": {
    "papermill": {
     "duration": 0.337445,
     "end_time": "2021-04-17T17:45:33.628466",
     "exception": false,
     "start_time": "2021-04-17T17:45:33.291021",
     "status": "completed"
    },
    "tags": []
   },
   "source": [
    "**Receiver Operating Characteristic** <br>\n"
   ]
  },
  {
   "cell_type": "markdown",
   "metadata": {
    "papermill": {
     "duration": 0.338897,
     "end_time": "2021-04-17T17:45:34.304091",
     "exception": false,
     "start_time": "2021-04-17T17:45:33.965194",
     "status": "completed"
    },
    "tags": []
   },
   "source": [
    "**What is it?** <br>\n",
    "ROC is a plot useful for predicting the probability of a binary outcome. <br>\n",
    "It is the plot of the false positive rate (x-axis) versus the true positive rate (y-axis) for a number of different candidate threshold values between 0.0 and 1.0 <br>"
   ]
  },
  {
   "cell_type": "markdown",
   "metadata": {
    "papermill": {
     "duration": 0.338032,
     "end_time": "2021-04-17T17:45:35.024320",
     "exception": false,
     "start_time": "2021-04-17T17:45:34.686288",
     "status": "completed"
    },
    "tags": []
   },
   "source": [
    "![](https://developers.google.com/machine-learning/crash-course/images/ROCCurve.svg)"
   ]
  },
  {
   "cell_type": "markdown",
   "metadata": {
    "papermill": {
     "duration": 0.33924,
     "end_time": "2021-04-17T17:45:35.702675",
     "exception": false,
     "start_time": "2021-04-17T17:45:35.363435",
     "status": "completed"
    },
    "tags": []
   },
   "source": [
    "**Area Under the ROC Curve** -> <br>\n",
    "AUC provides aggregate measure of performance across all possible classification thresholds. "
   ]
  },
  {
   "cell_type": "markdown",
   "metadata": {
    "papermill": {
     "duration": 0.338074,
     "end_time": "2021-04-17T17:45:36.381299",
     "exception": false,
     "start_time": "2021-04-17T17:45:36.043225",
     "status": "completed"
    },
    "tags": []
   },
   "source": [
    "**AUC is desirable for 2 reasons** -> <br>\n",
    "* Scale invariant \n",
    "* classification-model-threshold invariant"
   ]
  },
  {
   "cell_type": "markdown",
   "metadata": {
    "papermill": {
     "duration": 0.344483,
     "end_time": "2021-04-17T17:45:37.065408",
     "exception": false,
     "start_time": "2021-04-17T17:45:36.720925",
     "status": "completed"
    },
    "tags": []
   },
   "source": [
    "**Q. How would multiplying all of the predictions from a given model by 2.0 (for example, if the model predicts 0.4, we multiply by 2.0 to get a prediction of 0.8) change the model's performance as measured by AUC?** <br><br>\n",
    "Ans. No change. AUC only cares about relative prediction scores."
   ]
  },
  {
   "cell_type": "code",
   "execution_count": null,
   "metadata": {
    "papermill": {
     "duration": 0.338251,
     "end_time": "2021-04-17T17:45:37.746423",
     "exception": false,
     "start_time": "2021-04-17T17:45:37.408172",
     "status": "completed"
    },
    "tags": []
   },
   "outputs": [],
   "source": []
  },
  {
   "cell_type": "markdown",
   "metadata": {
    "papermill": {
     "duration": 0.340991,
     "end_time": "2021-04-17T17:45:38.427109",
     "exception": false,
     "start_time": "2021-04-17T17:45:38.086118",
     "status": "completed"
    },
    "tags": []
   },
   "source": [
    "**Thresholding in ROC**"
   ]
  },
  {
   "cell_type": "markdown",
   "metadata": {
    "papermill": {
     "duration": 0.345287,
     "end_time": "2021-04-17T17:45:39.111205",
     "exception": false,
     "start_time": "2021-04-17T17:45:38.765918",
     "status": "completed"
    },
    "tags": []
   },
   "source": [
    "The aim of the plot is to analyze the predictive power of the predictor "
   ]
  },
  {
   "cell_type": "markdown",
   "metadata": {
    "papermill": {
     "duration": 0.381183,
     "end_time": "2021-04-17T17:45:39.832607",
     "exception": false,
     "start_time": "2021-04-17T17:45:39.451424",
     "status": "completed"
    },
    "tags": []
   },
   "source": [
    "While selecting threshold, you should visualize the following graph for threshold selection and\n",
    "\n",
    "![](https://miro.medium.com/max/644/1*P2qKi7w1UHF7zg6SnCGTag.png)"
   ]
  },
  {
   "cell_type": "markdown",
   "metadata": {
    "papermill": {
     "duration": 0.338391,
     "end_time": "2021-04-17T17:45:40.528530",
     "exception": false,
     "start_time": "2021-04-17T17:45:40.190139",
     "status": "completed"
    },
    "tags": []
   },
   "source": [
    "analyze the performance based on the following ROC curve generated."
   ]
  },
  {
   "cell_type": "markdown",
   "metadata": {
    "papermill": {
     "duration": 0.342016,
     "end_time": "2021-04-17T17:45:41.206250",
     "exception": false,
     "start_time": "2021-04-17T17:45:40.864234",
     "status": "completed"
    },
    "tags": []
   },
   "source": [
    "![](https://miro.medium.com/max/601/1*QkWHqoSHSBig31InTzr8TA.jpeg)"
   ]
  },
  {
   "cell_type": "markdown",
   "metadata": {
    "papermill": {
     "duration": 0.337229,
     "end_time": "2021-04-17T17:45:41.881690",
     "exception": false,
     "start_time": "2021-04-17T17:45:41.544461",
     "status": "completed"
    },
    "tags": []
   },
   "source": [
    "* If you aim for very low FPR, you might pick up a "
   ]
  },
  {
   "cell_type": "markdown",
   "metadata": {
    "papermill": {
     "duration": 0.338764,
     "end_time": "2021-04-17T17:45:42.560933",
     "exception": false,
     "start_time": "2021-04-17T17:45:42.222169",
     "status": "completed"
    },
    "tags": []
   },
   "source": [
    "**Poor Classifier** <br><br>\n",
    "![](https://miro.medium.com/max/764/1*HVvNkWufhzGj2s0sc4CyIw.png)"
   ]
  },
  {
   "cell_type": "code",
   "execution_count": null,
   "metadata": {
    "papermill": {
     "duration": 0.33908,
     "end_time": "2021-04-17T17:45:43.236332",
     "exception": false,
     "start_time": "2021-04-17T17:45:42.897252",
     "status": "completed"
    },
    "tags": []
   },
   "outputs": [],
   "source": []
  },
  {
   "cell_type": "markdown",
   "metadata": {
    "papermill": {
     "duration": 0.337434,
     "end_time": "2021-04-17T17:45:43.912563",
     "exception": false,
     "start_time": "2021-04-17T17:45:43.575129",
     "status": "completed"
    },
    "tags": []
   },
   "source": [
    "Understanding the influence of threshold on the ROC Curve -> <br>\n",
    "There are 2 possible cases for ROC Curve's threshold movement -> <br>\n",
    "* Shifting the threshold to the right\n",
    "* Shifting the threshold to the left"
   ]
  },
  {
   "cell_type": "markdown",
   "metadata": {
    "papermill": {
     "duration": 0.338611,
     "end_time": "2021-04-17T17:45:44.591099",
     "exception": false,
     "start_time": "2021-04-17T17:45:44.252488",
     "status": "completed"
    },
    "tags": []
   },
   "source": [
    "In such a scenario, never remember the standard TPR vs FPR diagram for ROC Curve. Rather Refer to the following diagram -> <br>\n",
    "![](https://lukeoakdenrayner.files.wordpress.com/2018/01/threshold2.png?w=656)\n",
    "\n",
    "**Case I : Shifting the threshold to the right**<br>\n",
    "This would case TP to decrease, FP to decrease, FN to increase and TN to increase. <br>\n",
    "By doing so, TPR or Sensitivity (which is TP / Sum(+ves)) decreases. FPR (which is (FP / Sum(-ves) ) decreases. If FPR decreases, specificity increases as FPR = 1 - specificity."
   ]
  },
  {
   "cell_type": "markdown",
   "metadata": {
    "papermill": {
     "duration": 0.380077,
     "end_time": "2021-04-17T17:45:45.308392",
     "exception": false,
     "start_time": "2021-04-17T17:45:44.928315",
     "status": "completed"
    },
    "tags": []
   },
   "source": [
    "**Case I : Shifting the threshold to the left**<br>\n",
    "This would case TP to increase, FP to increase, FN to decrease and TN to decrease. <br>\n",
    "By doing so, TPR or Sensitivity (which is TP / Sum(+ves)) increases. FPR (which is (FP / Sum(-ves) ) increases. If FPR increases, specificity decreases as FPR = 1 - specificity."
   ]
  },
  {
   "cell_type": "code",
   "execution_count": null,
   "metadata": {
    "papermill": {
     "duration": 0.338025,
     "end_time": "2021-04-17T17:45:45.986651",
     "exception": false,
     "start_time": "2021-04-17T17:45:45.648626",
     "status": "completed"
    },
    "tags": []
   },
   "outputs": [],
   "source": []
  },
  {
   "cell_type": "markdown",
   "metadata": {
    "papermill": {
     "duration": 0.337304,
     "end_time": "2021-04-17T17:45:46.661626",
     "exception": false,
     "start_time": "2021-04-17T17:45:46.324322",
     "status": "completed"
    },
    "tags": []
   },
   "source": [
    "Concluding Remarks about ROC & AUC Curves -> <br>\n",
    "* can be used as a summary of the model skill\n",
    "* ROC Curves of different models can be compared directly in general or for different thresholds.\n",
    "* Shape of ROC curves contains info about the predictive power of the model.\n",
    "* for imbalanced class distribution, ROC curves are very helpful. Helps to visualize the trade-off between TPR and FPR and thus help us to arrive at a threshold that minimizes the mis-classification cost."
   ]
  },
  {
   "cell_type": "markdown",
   "metadata": {
    "papermill": {
     "duration": 0.339822,
     "end_time": "2021-04-17T17:45:47.345283",
     "exception": false,
     "start_time": "2021-04-17T17:45:47.005461",
     "status": "completed"
    },
    "tags": []
   },
   "source": [
    "![](https://miro.medium.com/max/603/1*D05sMUrwZIgvwsQVF_CJdg.jpeg)"
   ]
  },
  {
   "cell_type": "markdown",
   "metadata": {
    "papermill": {
     "duration": 0.33789,
     "end_time": "2021-04-17T17:45:48.020735",
     "exception": false,
     "start_time": "2021-04-17T17:45:47.682845",
     "status": "completed"
    },
    "tags": []
   },
   "source": [
    "**Regression Analysis**"
   ]
  },
  {
   "cell_type": "markdown",
   "metadata": {
    "papermill": {
     "duration": 0.338851,
     "end_time": "2021-04-17T17:45:48.700991",
     "exception": false,
     "start_time": "2021-04-17T17:45:48.362140",
     "status": "completed"
    },
    "tags": []
   },
   "source": [
    "Output of a regression analysis is usually a summary statistic that includes: <br>\n",
    "* R \n",
    "* R squared\n",
    "* adjusted R-squared\n",
    "* standard error of the estimate"
   ]
  },
  {
   "cell_type": "markdown",
   "metadata": {
    "papermill": {
     "duration": 0.338787,
     "end_time": "2021-04-17T17:45:49.378139",
     "exception": false,
     "start_time": "2021-04-17T17:45:49.039352",
     "status": "completed"
    },
    "tags": []
   },
   "source": [
    "**Use regression analysis to ->** <br><br>\n",
    "* Model multiple independent variables\n",
    "* use polynomial terms to model the curvature. \n",
    "* include continuous and categorical variables\n",
    "* assess interaction terms to determine affect of one independent variable on the value of another variable."
   ]
  },
  {
   "cell_type": "code",
   "execution_count": null,
   "metadata": {
    "papermill": {
     "duration": 0.336541,
     "end_time": "2021-04-17T17:45:50.052566",
     "exception": false,
     "start_time": "2021-04-17T17:45:49.716025",
     "status": "completed"
    },
    "tags": []
   },
   "outputs": [],
   "source": []
  },
  {
   "cell_type": "code",
   "execution_count": null,
   "metadata": {
    "papermill": {
     "duration": 0.338845,
     "end_time": "2021-04-17T17:45:50.728226",
     "exception": false,
     "start_time": "2021-04-17T17:45:50.389381",
     "status": "completed"
    },
    "tags": []
   },
   "outputs": [],
   "source": []
  },
  {
   "cell_type": "code",
   "execution_count": null,
   "metadata": {
    "papermill": {
     "duration": 0.337113,
     "end_time": "2021-04-17T17:45:51.480887",
     "exception": false,
     "start_time": "2021-04-17T17:45:51.143774",
     "status": "completed"
    },
    "tags": []
   },
   "outputs": [],
   "source": []
  },
  {
   "cell_type": "markdown",
   "metadata": {
    "papermill": {
     "duration": 0.338038,
     "end_time": "2021-04-17T17:45:52.157251",
     "exception": false,
     "start_time": "2021-04-17T17:45:51.819213",
     "status": "completed"
    },
    "tags": []
   },
   "source": [
    "### 25. Summary Statistics"
   ]
  },
  {
   "cell_type": "markdown",
   "metadata": {
    "papermill": {
     "duration": 0.339719,
     "end_time": "2021-04-17T17:45:52.837819",
     "exception": false,
     "start_time": "2021-04-17T17:45:52.498100",
     "status": "completed"
    },
    "tags": []
   },
   "source": [
    "#### I. Central Tendency Statistics"
   ]
  },
  {
   "cell_type": "markdown",
   "metadata": {
    "papermill": {
     "duration": 0.338844,
     "end_time": "2021-04-17T17:45:53.516707",
     "exception": false,
     "start_time": "2021-04-17T17:45:53.177863",
     "status": "completed"
    },
    "tags": []
   },
   "source": [
    "a. Arithmetic Mean"
   ]
  },
  {
   "cell_type": "markdown",
   "metadata": {
    "papermill": {
     "duration": 0.338163,
     "end_time": "2021-04-17T17:45:54.194271",
     "exception": false,
     "start_time": "2021-04-17T17:45:53.856108",
     "status": "completed"
    },
    "tags": []
   },
   "source": [
    "Given a set of numbers -> [n1,n2,n3,n4,n5]<br><br>\n",
    "\n",
    "Average or **Arithmetic Mean** -> Sum of dataset / num of data items <br>\n",
    "-> (n1 + n2 + n3 + n4 + n5) / 5 \n"
   ]
  },
  {
   "cell_type": "code",
   "execution_count": 161,
   "metadata": {
    "execution": {
     "iopub.execute_input": "2021-04-17T17:45:54.922666Z",
     "iopub.status.busy": "2021-04-17T17:45:54.921921Z",
     "iopub.status.idle": "2021-04-17T17:45:54.926302Z",
     "shell.execute_reply": "2021-04-17T17:45:54.925819Z"
    },
    "papermill": {
     "duration": 0.395013,
     "end_time": "2021-04-17T17:45:54.926438",
     "exception": false,
     "start_time": "2021-04-17T17:45:54.531425",
     "status": "completed"
    },
    "tags": []
   },
   "outputs": [
    {
     "data": {
      "text/plain": [
       "array([1, 3, 5, 7, 9])"
      ]
     },
     "execution_count": 161,
     "metadata": {},
     "output_type": "execute_result"
    }
   ],
   "source": [
    "data1 = np.arange(1, 10, 2)\n",
    "data1"
   ]
  },
  {
   "cell_type": "code",
   "execution_count": 162,
   "metadata": {
    "execution": {
     "iopub.execute_input": "2021-04-17T17:45:55.619370Z",
     "iopub.status.busy": "2021-04-17T17:45:55.618727Z",
     "iopub.status.idle": "2021-04-17T17:45:55.624444Z",
     "shell.execute_reply": "2021-04-17T17:45:55.623857Z"
    },
    "papermill": {
     "duration": 0.352807,
     "end_time": "2021-04-17T17:45:55.624585",
     "exception": false,
     "start_time": "2021-04-17T17:45:55.271778",
     "status": "completed"
    },
    "tags": []
   },
   "outputs": [
    {
     "name": "stdout",
     "output_type": "stream",
     "text": [
      "Mean of the above data set is =>  5.0\n"
     ]
    }
   ],
   "source": [
    "print(\"Mean of the above data set is => \", np.mean(data1))"
   ]
  },
  {
   "cell_type": "code",
   "execution_count": null,
   "metadata": {
    "papermill": {
     "duration": 0.341662,
     "end_time": "2021-04-17T17:45:56.308759",
     "exception": false,
     "start_time": "2021-04-17T17:45:55.967097",
     "status": "completed"
    },
    "tags": []
   },
   "outputs": [],
   "source": []
  },
  {
   "cell_type": "markdown",
   "metadata": {
    "papermill": {
     "duration": 0.340659,
     "end_time": "2021-04-17T17:45:57.034889",
     "exception": false,
     "start_time": "2021-04-17T17:45:56.694230",
     "status": "completed"
    },
    "tags": []
   },
   "source": [
    "b. Weighted Mean"
   ]
  },
  {
   "cell_type": "markdown",
   "metadata": {
    "papermill": {
     "duration": 0.34043,
     "end_time": "2021-04-17T17:45:57.715463",
     "exception": false,
     "start_time": "2021-04-17T17:45:57.375033",
     "status": "completed"
    },
    "tags": []
   },
   "source": [
    "For calculating weighted mean, <br>\n",
    "you would require two lists. <br>\n",
    "* The data items list\n",
    "* The corresponding weights list"
   ]
  },
  {
   "cell_type": "code",
   "execution_count": 163,
   "metadata": {
    "execution": {
     "iopub.execute_input": "2021-04-17T17:45:58.396617Z",
     "iopub.status.busy": "2021-04-17T17:45:58.396022Z",
     "iopub.status.idle": "2021-04-17T17:45:58.401816Z",
     "shell.execute_reply": "2021-04-17T17:45:58.401321Z"
    },
    "papermill": {
     "duration": 0.347447,
     "end_time": "2021-04-17T17:45:58.401955",
     "exception": false,
     "start_time": "2021-04-17T17:45:58.054508",
     "status": "completed"
    },
    "tags": []
   },
   "outputs": [
    {
     "data": {
      "text/plain": [
       "array([ 1,  3,  5,  7,  9, 11, 13, 15, 17, 19])"
      ]
     },
     "execution_count": 163,
     "metadata": {},
     "output_type": "execute_result"
    }
   ],
   "source": [
    "data1 = np.arange(1, 21, 2)\n",
    "data1"
   ]
  },
  {
   "cell_type": "code",
   "execution_count": 164,
   "metadata": {
    "execution": {
     "iopub.execute_input": "2021-04-17T17:45:59.088972Z",
     "iopub.status.busy": "2021-04-17T17:45:59.088301Z",
     "iopub.status.idle": "2021-04-17T17:45:59.093779Z",
     "shell.execute_reply": "2021-04-17T17:45:59.093258Z"
    },
    "papermill": {
     "duration": 0.350164,
     "end_time": "2021-04-17T17:45:59.093936",
     "exception": false,
     "start_time": "2021-04-17T17:45:58.743772",
     "status": "completed"
    },
    "tags": []
   },
   "outputs": [
    {
     "data": {
      "text/plain": [
       "array([0.71764771, 0.1482483 , 0.39368226, 0.80261811, 0.81018863,\n",
       "       0.7960028 , 0.85798945, 0.29674024, 0.15884363, 0.68614311])"
      ]
     },
     "execution_count": 164,
     "metadata": {},
     "output_type": "execute_result"
    }
   ],
   "source": [
    "weights = np.random.random(len(data1))\n",
    "weights"
   ]
  },
  {
   "cell_type": "code",
   "execution_count": 165,
   "metadata": {
    "execution": {
     "iopub.execute_input": "2021-04-17T17:45:59.782930Z",
     "iopub.status.busy": "2021-04-17T17:45:59.782295Z",
     "iopub.status.idle": "2021-04-17T17:45:59.785018Z",
     "shell.execute_reply": "2021-04-17T17:45:59.785498Z"
    },
    "papermill": {
     "duration": 0.35086,
     "end_time": "2021-04-17T17:45:59.785659",
     "exception": false,
     "start_time": "2021-04-17T17:45:59.434799",
     "status": "completed"
    },
    "tags": []
   },
   "outputs": [],
   "source": [
    "def weighted_mean(data_lst, weights_lst):\n",
    "    return np.average(data_lst, weights = weights_lst)"
   ]
  },
  {
   "cell_type": "code",
   "execution_count": 166,
   "metadata": {
    "execution": {
     "iopub.execute_input": "2021-04-17T17:46:00.473361Z",
     "iopub.status.busy": "2021-04-17T17:46:00.472721Z",
     "iopub.status.idle": "2021-04-17T17:46:00.475521Z",
     "shell.execute_reply": "2021-04-17T17:46:00.476029Z"
    },
    "papermill": {
     "duration": 0.348945,
     "end_time": "2021-04-17T17:46:00.476200",
     "exception": false,
     "start_time": "2021-04-17T17:46:00.127255",
     "status": "completed"
    },
    "tags": []
   },
   "outputs": [
    {
     "name": "stdout",
     "output_type": "stream",
     "text": [
      "Weighted Mean is ->  9.904349686689075\n"
     ]
    }
   ],
   "source": [
    "print(\"Weighted Mean is -> \", weighted_mean(data1, weights))"
   ]
  },
  {
   "cell_type": "code",
   "execution_count": null,
   "metadata": {
    "papermill": {
     "duration": 0.3467,
     "end_time": "2021-04-17T17:46:01.165075",
     "exception": false,
     "start_time": "2021-04-17T17:46:00.818375",
     "status": "completed"
    },
    "tags": []
   },
   "outputs": [],
   "source": []
  },
  {
   "cell_type": "markdown",
   "metadata": {
    "papermill": {
     "duration": 0.392573,
     "end_time": "2021-04-17T17:46:01.900028",
     "exception": false,
     "start_time": "2021-04-17T17:46:01.507455",
     "status": "completed"
    },
    "tags": []
   },
   "source": [
    "c. Median"
   ]
  },
  {
   "cell_type": "markdown",
   "metadata": {
    "papermill": {
     "duration": 0.341861,
     "end_time": "2021-04-17T17:46:02.609011",
     "exception": false,
     "start_time": "2021-04-17T17:46:02.267150",
     "status": "completed"
    },
    "tags": []
   },
   "source": [
    "Median for **odd** number of elements is the middle most element. <br>\n",
    "Median for **even** number of elements is the average of the middle two elements. <br>"
   ]
  },
  {
   "cell_type": "markdown",
   "metadata": {
    "papermill": {
     "duration": 0.34558,
     "end_time": "2021-04-17T17:46:03.299583",
     "exception": false,
     "start_time": "2021-04-17T17:46:02.954003",
     "status": "completed"
    },
    "tags": []
   },
   "source": [
    "case 1 : even number of elements"
   ]
  },
  {
   "cell_type": "code",
   "execution_count": 167,
   "metadata": {
    "execution": {
     "iopub.execute_input": "2021-04-17T17:46:03.992309Z",
     "iopub.status.busy": "2021-04-17T17:46:03.991624Z",
     "iopub.status.idle": "2021-04-17T17:46:03.996834Z",
     "shell.execute_reply": "2021-04-17T17:46:03.997340Z"
    },
    "papermill": {
     "duration": 0.35618,
     "end_time": "2021-04-17T17:46:03.997525",
     "exception": false,
     "start_time": "2021-04-17T17:46:03.641345",
     "status": "completed"
    },
    "tags": []
   },
   "outputs": [
    {
     "data": {
      "text/plain": [
       "array([ 1,  3,  5,  7,  9, 11, 13, 15, 17, 19])"
      ]
     },
     "execution_count": 167,
     "metadata": {},
     "output_type": "execute_result"
    }
   ],
   "source": [
    "data1 = np.arange(1, 21, 2)\n",
    "data1"
   ]
  },
  {
   "cell_type": "code",
   "execution_count": 168,
   "metadata": {
    "execution": {
     "iopub.execute_input": "2021-04-17T17:46:04.687707Z",
     "iopub.status.busy": "2021-04-17T17:46:04.687080Z",
     "iopub.status.idle": "2021-04-17T17:46:04.694725Z",
     "shell.execute_reply": "2021-04-17T17:46:04.694053Z"
    },
    "papermill": {
     "duration": 0.353064,
     "end_time": "2021-04-17T17:46:04.694874",
     "exception": false,
     "start_time": "2021-04-17T17:46:04.341810",
     "status": "completed"
    },
    "tags": []
   },
   "outputs": [
    {
     "data": {
      "text/plain": [
       "10.0"
      ]
     },
     "execution_count": 168,
     "metadata": {},
     "output_type": "execute_result"
    }
   ],
   "source": [
    "np.median(data1)"
   ]
  },
  {
   "cell_type": "markdown",
   "metadata": {
    "papermill": {
     "duration": 0.343214,
     "end_time": "2021-04-17T17:46:05.385612",
     "exception": false,
     "start_time": "2021-04-17T17:46:05.042398",
     "status": "completed"
    },
    "tags": []
   },
   "source": [
    "case 2: odd number of elements"
   ]
  },
  {
   "cell_type": "code",
   "execution_count": 169,
   "metadata": {
    "execution": {
     "iopub.execute_input": "2021-04-17T17:46:06.078748Z",
     "iopub.status.busy": "2021-04-17T17:46:06.078082Z",
     "iopub.status.idle": "2021-04-17T17:46:06.080773Z",
     "shell.execute_reply": "2021-04-17T17:46:06.081235Z"
    },
    "papermill": {
     "duration": 0.353587,
     "end_time": "2021-04-17T17:46:06.081397",
     "exception": false,
     "start_time": "2021-04-17T17:46:05.727810",
     "status": "completed"
    },
    "tags": []
   },
   "outputs": [
    {
     "data": {
      "text/plain": [
       "array([1, 3, 5, 7, 9])"
      ]
     },
     "execution_count": 169,
     "metadata": {},
     "output_type": "execute_result"
    }
   ],
   "source": [
    "data1 = np.arange(1, 10, 2)\n",
    "data1"
   ]
  },
  {
   "cell_type": "code",
   "execution_count": 170,
   "metadata": {
    "execution": {
     "iopub.execute_input": "2021-04-17T17:46:06.773602Z",
     "iopub.status.busy": "2021-04-17T17:46:06.772982Z",
     "iopub.status.idle": "2021-04-17T17:46:06.779756Z",
     "shell.execute_reply": "2021-04-17T17:46:06.778998Z"
    },
    "papermill": {
     "duration": 0.354392,
     "end_time": "2021-04-17T17:46:06.779912",
     "exception": false,
     "start_time": "2021-04-17T17:46:06.425520",
     "status": "completed"
    },
    "tags": []
   },
   "outputs": [
    {
     "name": "stdout",
     "output_type": "stream",
     "text": [
      "Median of the above dataset is ->  5.0\n"
     ]
    }
   ],
   "source": [
    "print(\"Median of the above dataset is -> \", np.median(data1))"
   ]
  },
  {
   "cell_type": "markdown",
   "metadata": {
    "papermill": {
     "duration": 0.343851,
     "end_time": "2021-04-17T17:46:07.521400",
     "exception": false,
     "start_time": "2021-04-17T17:46:07.177549",
     "status": "completed"
    },
    "tags": []
   },
   "source": [
    "d. Percentile"
   ]
  },
  {
   "cell_type": "markdown",
   "metadata": {
    "papermill": {
     "duration": 0.34595,
     "end_time": "2021-04-17T17:46:08.210748",
     "exception": false,
     "start_time": "2021-04-17T17:46:07.864798",
     "status": "completed"
    },
    "tags": []
   },
   "source": [
    "Percentile is calculated by assuming the highest or maximum value in a dataset as the upper limit and relative to that value other values are calculated indicating how far or near they are."
   ]
  },
  {
   "cell_type": "markdown",
   "metadata": {
    "papermill": {
     "duration": 0.343594,
     "end_time": "2021-04-17T17:46:08.896348",
     "exception": false,
     "start_time": "2021-04-17T17:46:08.552754",
     "status": "completed"
    },
    "tags": []
   },
   "source": [
    "We'll be generating the following percentile values for the dataset -> <br>\n",
    "* 50th Percentile / Median\n",
    "* 25th Percentile\n",
    "* 75th Percentile"
   ]
  },
  {
   "cell_type": "markdown",
   "metadata": {
    "papermill": {
     "duration": 0.342836,
     "end_time": "2021-04-17T17:46:09.585359",
     "exception": false,
     "start_time": "2021-04-17T17:46:09.242523",
     "status": "completed"
    },
    "tags": []
   },
   "source": [
    "case 1. 1D dataset"
   ]
  },
  {
   "cell_type": "code",
   "execution_count": 171,
   "metadata": {
    "execution": {
     "iopub.execute_input": "2021-04-17T17:46:10.281348Z",
     "iopub.status.busy": "2021-04-17T17:46:10.280306Z",
     "iopub.status.idle": "2021-04-17T17:46:10.284133Z",
     "shell.execute_reply": "2021-04-17T17:46:10.284619Z"
    },
    "papermill": {
     "duration": 0.355629,
     "end_time": "2021-04-17T17:46:10.284815",
     "exception": false,
     "start_time": "2021-04-17T17:46:09.929186",
     "status": "completed"
    },
    "tags": []
   },
   "outputs": [
    {
     "data": {
      "text/plain": [
       "[996,\n",
       " 454,\n",
       " 485,\n",
       " 588,\n",
       " 65,\n",
       " 320,\n",
       " 276,\n",
       " 303,\n",
       " 486,\n",
       " 78,\n",
       " 935,\n",
       " 909,\n",
       " 165,\n",
       " 168,\n",
       " 849,\n",
       " 54,\n",
       " 761,\n",
       " 106,\n",
       " 689,\n",
       " 733]"
      ]
     },
     "execution_count": 171,
     "metadata": {},
     "output_type": "execute_result"
    }
   ],
   "source": [
    "data1 = random.sample(range(1000), 20)\n",
    "data1"
   ]
  },
  {
   "cell_type": "code",
   "execution_count": 172,
   "metadata": {
    "execution": {
     "iopub.execute_input": "2021-04-17T17:46:10.978833Z",
     "iopub.status.busy": "2021-04-17T17:46:10.977834Z",
     "iopub.status.idle": "2021-04-17T17:46:10.985135Z",
     "shell.execute_reply": "2021-04-17T17:46:10.984415Z"
    },
    "papermill": {
     "duration": 0.356469,
     "end_time": "2021-04-17T17:46:10.985299",
     "exception": false,
     "start_time": "2021-04-17T17:46:10.628830",
     "status": "completed"
    },
    "tags": []
   },
   "outputs": [
    {
     "name": "stdout",
     "output_type": "stream",
     "text": [
      "25th Percentile ->  167.25\n"
     ]
    }
   ],
   "source": [
    "print('25th Percentile -> ', np.percentile(data1, 25))"
   ]
  },
  {
   "cell_type": "code",
   "execution_count": 173,
   "metadata": {
    "execution": {
     "iopub.execute_input": "2021-04-17T17:46:11.685461Z",
     "iopub.status.busy": "2021-04-17T17:46:11.684583Z",
     "iopub.status.idle": "2021-04-17T17:46:11.687853Z",
     "shell.execute_reply": "2021-04-17T17:46:11.688400Z"
    },
    "papermill": {
     "duration": 0.357776,
     "end_time": "2021-04-17T17:46:11.688580",
     "exception": false,
     "start_time": "2021-04-17T17:46:11.330804",
     "status": "completed"
    },
    "tags": []
   },
   "outputs": [
    {
     "name": "stdout",
     "output_type": "stream",
     "text": [
      "50th Percentile ->  469.5\n"
     ]
    }
   ],
   "source": [
    "print('50th Percentile -> ', np.percentile(data1, 50))"
   ]
  },
  {
   "cell_type": "code",
   "execution_count": 174,
   "metadata": {
    "execution": {
     "iopub.execute_input": "2021-04-17T17:46:12.393301Z",
     "iopub.status.busy": "2021-04-17T17:46:12.392635Z",
     "iopub.status.idle": "2021-04-17T17:46:12.398654Z",
     "shell.execute_reply": "2021-04-17T17:46:12.398170Z"
    },
    "papermill": {
     "duration": 0.356872,
     "end_time": "2021-04-17T17:46:12.398812",
     "exception": false,
     "start_time": "2021-04-17T17:46:12.041940",
     "status": "completed"
    },
    "tags": []
   },
   "outputs": [
    {
     "name": "stdout",
     "output_type": "stream",
     "text": [
      "75th Percentile ->  740.0\n"
     ]
    }
   ],
   "source": [
    "print('75th Percentile -> ', np.percentile(data1, 75))"
   ]
  },
  {
   "cell_type": "markdown",
   "metadata": {
    "papermill": {
     "duration": 0.380839,
     "end_time": "2021-04-17T17:46:13.171314",
     "exception": false,
     "start_time": "2021-04-17T17:46:12.790475",
     "status": "completed"
    },
    "tags": []
   },
   "source": [
    "case 2. 2D dataset"
   ]
  },
  {
   "cell_type": "code",
   "execution_count": null,
   "metadata": {
    "papermill": {
     "duration": 0.344299,
     "end_time": "2021-04-17T17:46:13.859538",
     "exception": false,
     "start_time": "2021-04-17T17:46:13.515239",
     "status": "completed"
    },
    "tags": []
   },
   "outputs": [],
   "source": []
  },
  {
   "cell_type": "code",
   "execution_count": 175,
   "metadata": {
    "execution": {
     "iopub.execute_input": "2021-04-17T17:46:14.557838Z",
     "iopub.status.busy": "2021-04-17T17:46:14.557165Z",
     "iopub.status.idle": "2021-04-17T17:46:14.561462Z",
     "shell.execute_reply": "2021-04-17T17:46:14.560988Z"
    },
    "papermill": {
     "duration": 0.355415,
     "end_time": "2021-04-17T17:46:14.561595",
     "exception": false,
     "start_time": "2021-04-17T17:46:14.206180",
     "status": "completed"
    },
    "tags": []
   },
   "outputs": [
    {
     "data": {
      "text/plain": [
       "[[51, 80, 69, 35], [31, 81, 4, 56], [60, 73, 8, 40]]"
      ]
     },
     "execution_count": 175,
     "metadata": {},
     "output_type": "execute_result"
    }
   ],
   "source": [
    "random.seed(2021)\n",
    "\n",
    "data = [random.sample(range(100), 4), \n",
    "       random.sample(range(100), 4),\n",
    "       random.sample(range(100), 4)]\n",
    "data"
   ]
  },
  {
   "cell_type": "code",
   "execution_count": 176,
   "metadata": {
    "execution": {
     "iopub.execute_input": "2021-04-17T17:46:15.260356Z",
     "iopub.status.busy": "2021-04-17T17:46:15.259566Z",
     "iopub.status.idle": "2021-04-17T17:46:15.265434Z",
     "shell.execute_reply": "2021-04-17T17:46:15.265901Z"
    },
    "papermill": {
     "duration": 0.358038,
     "end_time": "2021-04-17T17:46:15.266075",
     "exception": false,
     "start_time": "2021-04-17T17:46:14.908037",
     "status": "completed"
    },
    "tags": []
   },
   "outputs": [
    {
     "name": "stdout",
     "output_type": "stream",
     "text": [
      "25th percentile value for axis = None ->  34.0\n",
      "25th percentile value for axis = 0 ->  [41.  76.5  6.  37.5]\n",
      "25th percentile value for axis = 1 ->  [47.   24.25 32.  ]\n"
     ]
    }
   ],
   "source": [
    "print(\"25th percentile value for axis = None -> \", np.percentile(data, 25,))\n",
    "print(\"25th percentile value for axis = 0 -> \", np.percentile(data, 25,axis = 0))\n",
    "print(\"25th percentile value for axis = 1 -> \", np.percentile(data, 25,axis = 1))"
   ]
  },
  {
   "cell_type": "code",
   "execution_count": 177,
   "metadata": {
    "execution": {
     "iopub.execute_input": "2021-04-17T17:46:15.965038Z",
     "iopub.status.busy": "2021-04-17T17:46:15.964415Z",
     "iopub.status.idle": "2021-04-17T17:46:15.972976Z",
     "shell.execute_reply": "2021-04-17T17:46:15.972276Z"
    },
    "papermill": {
     "duration": 0.359918,
     "end_time": "2021-04-17T17:46:15.973139",
     "exception": false,
     "start_time": "2021-04-17T17:46:15.613221",
     "status": "completed"
    },
    "tags": []
   },
   "outputs": [
    {
     "name": "stdout",
     "output_type": "stream",
     "text": [
      "50th percentile value for axis = None ->  53.5\n",
      "50th percentile value for axis = 0 ->  [51. 80.  8. 40.]\n",
      "50th percentile value for axis = 1 ->  [60.  43.5 50. ]\n"
     ]
    }
   ],
   "source": [
    "print(\"50th percentile value for axis = None -> \", np.percentile(data, 50,))\n",
    "print(\"50th percentile value for axis = 0 -> \", np.percentile(data, 50,axis = 0))\n",
    "print(\"50th percentile value for axis = 1 -> \", np.percentile(data, 50,axis = 1))"
   ]
  },
  {
   "cell_type": "code",
   "execution_count": 178,
   "metadata": {
    "execution": {
     "iopub.execute_input": "2021-04-17T17:46:16.677093Z",
     "iopub.status.busy": "2021-04-17T17:46:16.676374Z",
     "iopub.status.idle": "2021-04-17T17:46:16.684007Z",
     "shell.execute_reply": "2021-04-17T17:46:16.683422Z"
    },
    "papermill": {
     "duration": 0.360933,
     "end_time": "2021-04-17T17:46:16.684147",
     "exception": false,
     "start_time": "2021-04-17T17:46:16.323214",
     "status": "completed"
    },
    "tags": []
   },
   "outputs": [
    {
     "name": "stdout",
     "output_type": "stream",
     "text": [
      "75th percentile value for axis = None ->  70.0\n",
      "75th percentile value for axis = 0 ->  [55.5 80.5 38.5 48. ]\n",
      "75th percentile value for axis = 1 ->  [71.75 62.25 63.25]\n"
     ]
    }
   ],
   "source": [
    "print(\"75th percentile value for axis = None -> \", np.percentile(data, 75,))\n",
    "print(\"75th percentile value for axis = 0 -> \", np.percentile(data, 75,axis = 0))\n",
    "print(\"75th percentile value for axis = 1 -> \", np.percentile(data, 75,axis = 1))"
   ]
  },
  {
   "cell_type": "code",
   "execution_count": null,
   "metadata": {
    "papermill": {
     "duration": 0.346269,
     "end_time": "2021-04-17T17:46:17.381780",
     "exception": false,
     "start_time": "2021-04-17T17:46:17.035511",
     "status": "completed"
    },
    "tags": []
   },
   "outputs": [],
   "source": []
  },
  {
   "cell_type": "markdown",
   "metadata": {
    "papermill": {
     "duration": 0.349664,
     "end_time": "2021-04-17T17:46:18.120059",
     "exception": false,
     "start_time": "2021-04-17T17:46:17.770395",
     "status": "completed"
    },
    "tags": []
   },
   "source": [
    "#### II. Dispersion"
   ]
  },
  {
   "cell_type": "markdown",
   "metadata": {
    "papermill": {
     "duration": 0.343906,
     "end_time": "2021-04-17T17:46:18.808935",
     "exception": false,
     "start_time": "2021-04-17T17:46:18.465029",
     "status": "completed"
    },
    "tags": []
   },
   "source": [
    "a. Skewness"
   ]
  },
  {
   "cell_type": "markdown",
   "metadata": {
    "papermill": {
     "duration": 0.346261,
     "end_time": "2021-04-17T17:46:19.504901",
     "exception": false,
     "start_time": "2021-04-17T17:46:19.158640",
     "status": "completed"
    },
    "tags": []
   },
   "source": [
    "* skewness = 0, normally distributed\n",
    "* skewness > 0, more weight in the left tail of the distribution\n",
    "* skewness < 0, more weight in the right tail of the distribution"
   ]
  },
  {
   "cell_type": "markdown",
   "metadata": {
    "papermill": {
     "duration": 0.350008,
     "end_time": "2021-04-17T17:46:20.203951",
     "exception": false,
     "start_time": "2021-04-17T17:46:19.853943",
     "status": "completed"
    },
    "tags": []
   },
   "source": [
    "![](https://media.geeksforgeeks.org/wp-content/uploads/skewness.jpg)"
   ]
  },
  {
   "cell_type": "code",
   "execution_count": 179,
   "metadata": {
    "execution": {
     "iopub.execute_input": "2021-04-17T17:46:20.901839Z",
     "iopub.status.busy": "2021-04-17T17:46:20.901161Z",
     "iopub.status.idle": "2021-04-17T17:46:21.074973Z",
     "shell.execute_reply": "2021-04-17T17:46:21.074297Z"
    },
    "papermill": {
     "duration": 0.526232,
     "end_time": "2021-04-17T17:46:21.075129",
     "exception": false,
     "start_time": "2021-04-17T17:46:20.548897",
     "status": "completed"
    },
    "tags": []
   },
   "outputs": [
    {
     "name": "stdout",
     "output_type": "stream",
     "text": [
      "Skewness of the data -->  2.184420217406685\n"
     ]
    },
    {
     "data": {
      "image/png": "[encoded data removed]",
      "text/plain": [
       "<Figure size 432x288 with 1 Axes>"
      ]
     },
     "metadata": {
      "needs_background": "light"
     },
     "output_type": "display_data"
    }
   ],
   "source": [
    "from scipy.stats import skew\n",
    "import pylab\n",
    "x1 = np.linspace(-10, 10, 1000)\n",
    "y1 = 1./ (np.sqrt(2. * np.pi)) * np.exp(-.5 * (x1) ** 2)\n",
    "\n",
    "pylab.plot(x1, y1)\n",
    "\n",
    "print(\"Skewness of the data --> \", skew(y1))"
   ]
  },
  {
   "cell_type": "code",
   "execution_count": 180,
   "metadata": {
    "execution": {
     "iopub.execute_input": "2021-04-17T17:46:21.799311Z",
     "iopub.status.busy": "2021-04-17T17:46:21.790354Z",
     "iopub.status.idle": "2021-04-17T17:46:21.944766Z",
     "shell.execute_reply": "2021-04-17T17:46:21.945382Z"
    },
    "papermill": {
     "duration": 0.519046,
     "end_time": "2021-04-17T17:46:21.945617",
     "exception": false,
     "start_time": "2021-04-17T17:46:21.426571",
     "status": "completed"
    },
    "tags": []
   },
   "outputs": [
    {
     "name": "stdout",
     "output_type": "stream",
     "text": [
      "Skewness of the data ->  1.719723672010651\n"
     ]
    },
    {
     "data": {
      "image/png": "[encoded data removed]",
      "text/plain": [
       "<Figure size 432x288 with 1 Axes>"
      ]
     },
     "metadata": {
      "needs_background": "light"
     },
     "output_type": "display_data"
    }
   ],
   "source": [
    "x1 = np.linspace(-5, 10, 1000)\n",
    "y1 = 1./ (np.sqrt(2. * np.pi)) * np.exp(-.5 * (x1) ** 2)\n",
    "\n",
    "pylab.plot(x1, y1)\n",
    "\n",
    "print(\"Skewness of the data -> \", skew(y1))"
   ]
  },
  {
   "cell_type": "code",
   "execution_count": 181,
   "metadata": {
    "execution": {
     "iopub.execute_input": "2021-04-17T17:46:22.651433Z",
     "iopub.status.busy": "2021-04-17T17:46:22.650824Z",
     "iopub.status.idle": "2021-04-17T17:46:22.657918Z",
     "shell.execute_reply": "2021-04-17T17:46:22.657403Z"
    },
    "papermill": {
     "duration": 0.360548,
     "end_time": "2021-04-17T17:46:22.658064",
     "exception": false,
     "start_time": "2021-04-17T17:46:22.297516",
     "status": "completed"
    },
    "tags": []
   },
   "outputs": [
    {
     "name": "stdout",
     "output_type": "stream",
     "text": [
      "X: \n",
      " [-1.36857157  0.90803555 -1.45033216 ...  2.02615376  0.18323387\n",
      " -3.29878223]\n",
      "\n",
      "Skewness for data :  -0.013029260340621438\n"
     ]
    }
   ],
   "source": [
    "x = np.random.normal(0, 2, 10000)\n",
    "\n",
    "\n",
    "print(\"X: \\n\", x)\n",
    "\n",
    "print(\"\\nSkewness for data : \", skew(x))"
   ]
  },
  {
   "cell_type": "markdown",
   "metadata": {
    "papermill": {
     "duration": 0.349635,
     "end_time": "2021-04-17T17:46:23.408404",
     "exception": false,
     "start_time": "2021-04-17T17:46:23.058769",
     "status": "completed"
    },
    "tags": []
   },
   "source": [
    "b. Kurtosis"
   ]
  },
  {
   "cell_type": "markdown",
   "metadata": {
    "papermill": {
     "duration": 0.377027,
     "end_time": "2021-04-17T17:46:24.132571",
     "exception": false,
     "start_time": "2021-04-17T17:46:23.755544",
     "status": "completed"
    },
    "tags": []
   },
   "source": [
    "It helps in the measure of how heavy the tail is in compared to a normal distribution."
   ]
  },
  {
   "cell_type": "markdown",
   "metadata": {
    "papermill": {
     "duration": 0.348788,
     "end_time": "2021-04-17T17:46:24.831892",
     "exception": false,
     "start_time": "2021-04-17T17:46:24.483104",
     "status": "completed"
    },
    "tags": []
   },
   "source": [
    "![](https://media.geeksforgeeks.org/wp-content/uploads/kurtosis.jpg)"
   ]
  },
  {
   "cell_type": "code",
   "execution_count": 182,
   "metadata": {
    "execution": {
     "iopub.execute_input": "2021-04-17T17:46:25.554979Z",
     "iopub.status.busy": "2021-04-17T17:46:25.554300Z",
     "iopub.status.idle": "2021-04-17T17:46:25.717143Z",
     "shell.execute_reply": "2021-04-17T17:46:25.717677Z"
    },
    "papermill": {
     "duration": 0.528502,
     "end_time": "2021-04-17T17:46:25.717852",
     "exception": false,
     "start_time": "2021-04-17T17:46:25.189350",
     "status": "completed"
    },
    "tags": []
   },
   "outputs": [
    {
     "name": "stdout",
     "output_type": "stream",
     "text": [
      "Kurtosis for normal distribution :  1.4908202196578797\n",
      "Kurtosis for normal distribution :  4.49082021965788\n",
      "Kurtosis for normal distribution :  1.4908202196578797\n"
     ]
    },
    {
     "data": {
      "image/png": "[encoded data removed]",
      "text/plain": [
       "<Figure size 432x288 with 1 Axes>"
      ]
     },
     "metadata": {
      "needs_background": "light"
     },
     "output_type": "display_data"
    }
   ],
   "source": [
    "x = np.linspace(-10, 10, 1000)\n",
    "y1 = 1./(np.sqrt(2.*np.pi)) * np.exp( -.5*(x1)**2  )\n",
    "\n",
    "\n",
    "pylab.plot(x,y1, '*')\n",
    "\n",
    "print(\"Kurtosis for normal distribution : \", stats.kurtosis(y1))\n",
    "\n",
    "print(\"Kurtosis for normal distribution : \", stats.kurtosis(y1, fisher = False))\n",
    "\n",
    "print(\"Kurtosis for normal distribution : \", stats.kurtosis(y1, fisher = True))"
   ]
  },
  {
   "cell_type": "markdown",
   "metadata": {
    "papermill": {
     "duration": 0.355524,
     "end_time": "2021-04-17T17:46:26.429250",
     "exception": false,
     "start_time": "2021-04-17T17:46:26.073726",
     "status": "completed"
    },
    "tags": []
   },
   "source": [
    "c. Range"
   ]
  },
  {
   "cell_type": "markdown",
   "metadata": {
    "papermill": {
     "duration": 0.363418,
     "end_time": "2021-04-17T17:46:27.194754",
     "exception": false,
     "start_time": "2021-04-17T17:46:26.831336",
     "status": "completed"
    },
    "tags": []
   },
   "source": [
    "Range is the span of values in the entire dataset. <br>\n",
    "Range is denoted by [min_value, max_value]"
   ]
  },
  {
   "cell_type": "code",
   "execution_count": 183,
   "metadata": {
    "execution": {
     "iopub.execute_input": "2021-04-17T17:46:27.911074Z",
     "iopub.status.busy": "2021-04-17T17:46:27.910312Z",
     "iopub.status.idle": "2021-04-17T17:46:27.913378Z",
     "shell.execute_reply": "2021-04-17T17:46:27.912873Z"
    },
    "papermill": {
     "duration": 0.360959,
     "end_time": "2021-04-17T17:46:27.913683",
     "exception": false,
     "start_time": "2021-04-17T17:46:27.552724",
     "status": "completed"
    },
    "tags": []
   },
   "outputs": [],
   "source": [
    "random.seed(2021)\n",
    "data1 = random.sample(range(-1000, 1000), 100)\n",
    "#data1"
   ]
  },
  {
   "cell_type": "code",
   "execution_count": 184,
   "metadata": {
    "execution": {
     "iopub.execute_input": "2021-04-17T17:46:28.684466Z",
     "iopub.status.busy": "2021-04-17T17:46:28.683838Z",
     "iopub.status.idle": "2021-04-17T17:46:28.687880Z",
     "shell.execute_reply": "2021-04-17T17:46:28.688359Z"
    },
    "papermill": {
     "duration": 0.362506,
     "end_time": "2021-04-17T17:46:28.688533",
     "exception": false,
     "start_time": "2021-04-17T17:46:28.326027",
     "status": "completed"
    },
    "tags": []
   },
   "outputs": [
    {
     "name": "stdout",
     "output_type": "stream",
     "text": [
      "Range of the dataset -> [-990,993]\n"
     ]
    }
   ],
   "source": [
    "min_value = min(data1)\n",
    "\n",
    "max_value = max(data1)\n",
    "\n",
    "print(f\"Range of the dataset -> [{min_value},{max_value}]\")"
   ]
  },
  {
   "cell_type": "markdown",
   "metadata": {
    "papermill": {
     "duration": 0.349879,
     "end_time": "2021-04-17T17:46:29.389259",
     "exception": false,
     "start_time": "2021-04-17T17:46:29.039380",
     "status": "completed"
    },
    "tags": []
   },
   "source": [
    "d. Interquartile Range"
   ]
  },
  {
   "cell_type": "markdown",
   "metadata": {
    "papermill": {
     "duration": 0.353688,
     "end_time": "2021-04-17T17:46:30.093069",
     "exception": false,
     "start_time": "2021-04-17T17:46:29.739381",
     "status": "completed"
    },
    "tags": []
   },
   "source": [
    "Interquartile range also called as midspread, or middle 50% or technically H-spread. <br>\n",
    "Technically, it is the Q3 - Q1 where Q3 is the third quartile and the first quartile. <br>\n",
    "It covers the center of the distribution and contains 50% of the observations. <br><br>\n",
    "\n",
    "**IQR** = **Q3 - Q1**"
   ]
  },
  {
   "cell_type": "markdown",
   "metadata": {
    "papermill": {
     "duration": 0.348504,
     "end_time": "2021-04-17T17:46:30.793305",
     "exception": false,
     "start_time": "2021-04-17T17:46:30.444801",
     "status": "completed"
    },
    "tags": []
   },
   "source": [
    "##### Applications -> <br>\n",
    "* helps in easy identification of outlier values\n",
    "* gives the central tendency of the data.\n",
    "* higher the IQR, higher the variablity.\n",
    "* lower the IQR, the preferable the dataset is."
   ]
  },
  {
   "cell_type": "code",
   "execution_count": 185,
   "metadata": {
    "execution": {
     "iopub.execute_input": "2021-04-17T17:46:31.502545Z",
     "iopub.status.busy": "2021-04-17T17:46:31.501849Z",
     "iopub.status.idle": "2021-04-17T17:46:31.507830Z",
     "shell.execute_reply": "2021-04-17T17:46:31.508321Z"
    },
    "papermill": {
     "duration": 0.360212,
     "end_time": "2021-04-17T17:46:31.508488",
     "exception": false,
     "start_time": "2021-04-17T17:46:31.148276",
     "status": "completed"
    },
    "tags": []
   },
   "outputs": [
    {
     "name": "stdout",
     "output_type": "stream",
     "text": [
      "Dataset -> [856, 413, 878, 644, 557, 283, 253, 899, 650, 35, 996, 454, 485, 588, 65, 320, 276, 303, 486, 78, 935, 909, 165, 168, 849, 54, 761, 106, 689, 733]\n",
      "\n",
      "\n",
      "482.5\n"
     ]
    }
   ],
   "source": [
    "\n",
    "\n",
    "\n",
    "random.seed(2021)\n",
    "\n",
    "data = random.sample(range(1000), 30)\n",
    "\n",
    "print(f\"Dataset -> {data}\\n\\n\")\n",
    "IQR = stats.iqr(data, interpolation = 'midpoint')\n",
    "\n",
    "print(IQR)"
   ]
  },
  {
   "cell_type": "markdown",
   "metadata": {
    "papermill": {
     "duration": 0.353552,
     "end_time": "2021-04-17T17:46:32.218902",
     "exception": false,
     "start_time": "2021-04-17T17:46:31.865350",
     "status": "completed"
    },
    "tags": []
   },
   "source": [
    "e. Variance"
   ]
  },
  {
   "cell_type": "markdown",
   "metadata": {
    "papermill": {
     "duration": 0.349974,
     "end_time": "2021-04-17T17:46:32.920731",
     "exception": false,
     "start_time": "2021-04-17T17:46:32.570757",
     "status": "completed"
    },
    "tags": []
   },
   "source": [
    "Variance is the square of the difference of a variable from its mean. <br>\n",
    "It measures the spread of random data in a set from its mean or median value. <br>\n",
    "* Low value for variance indicates the data are clustered together.\n",
    "* High value for variance indicates the data are spread widely."
   ]
  },
  {
   "cell_type": "markdown",
   "metadata": {
    "papermill": {
     "duration": 0.350573,
     "end_time": "2021-04-17T17:46:33.668094",
     "exception": false,
     "start_time": "2021-04-17T17:46:33.317521",
     "status": "completed"
    },
    "tags": []
   },
   "source": [
    "![](https://www.geeksforgeeks.org/wp-content/ql-cache/quicklatex.com-7b0fdc0b3c4d7ef2aeeba85f690456c2_l3.svg)"
   ]
  },
  {
   "cell_type": "code",
   "execution_count": 186,
   "metadata": {
    "execution": {
     "iopub.execute_input": "2021-04-17T17:46:34.383883Z",
     "iopub.status.busy": "2021-04-17T17:46:34.383147Z",
     "iopub.status.idle": "2021-04-17T17:46:34.388938Z",
     "shell.execute_reply": "2021-04-17T17:46:34.389557Z"
    },
    "papermill": {
     "duration": 0.367252,
     "end_time": "2021-04-17T17:46:34.389762",
     "exception": false,
     "start_time": "2021-04-17T17:46:34.022510",
     "status": "completed"
    },
    "tags": []
   },
   "outputs": [
    {
     "name": "stdout",
     "output_type": "stream",
     "text": [
      "Variance of the sample set --> 95338.27126436781\n"
     ]
    }
   ],
   "source": [
    "print(f\"Variance of the sample set --> {statistics.variance(data)}\")"
   ]
  },
  {
   "cell_type": "code",
   "execution_count": null,
   "metadata": {
    "papermill": {
     "duration": 0.380864,
     "end_time": "2021-04-17T17:46:35.122503",
     "exception": false,
     "start_time": "2021-04-17T17:46:34.741639",
     "status": "completed"
    },
    "tags": []
   },
   "outputs": [],
   "source": []
  },
  {
   "cell_type": "markdown",
   "metadata": {
    "papermill": {
     "duration": 0.351196,
     "end_time": "2021-04-17T17:46:35.829845",
     "exception": false,
     "start_time": "2021-04-17T17:46:35.478649",
     "status": "completed"
    },
    "tags": []
   },
   "source": [
    "f. Standard Score or Z-Score"
   ]
  },
  {
   "cell_type": "markdown",
   "metadata": {
    "papermill": {
     "duration": 0.353223,
     "end_time": "2021-04-17T17:46:36.540634",
     "exception": false,
     "start_time": "2021-04-17T17:46:36.187411",
     "status": "completed"
    },
    "tags": []
   },
   "source": [
    "**z-score** tells us how many standard deviations away a value is from the mean.\n",
    "\n",
    "z = (X – μ) / σ\n"
   ]
  },
  {
   "cell_type": "code",
   "execution_count": 187,
   "metadata": {
    "execution": {
     "iopub.execute_input": "2021-04-17T17:46:37.257941Z",
     "iopub.status.busy": "2021-04-17T17:46:37.257001Z",
     "iopub.status.idle": "2021-04-17T17:46:37.260967Z",
     "shell.execute_reply": "2021-04-17T17:46:37.261553Z"
    },
    "papermill": {
     "duration": 0.363782,
     "end_time": "2021-04-17T17:46:37.261741",
     "exception": false,
     "start_time": "2021-04-17T17:46:36.897959",
     "status": "completed"
    },
    "tags": []
   },
   "outputs": [],
   "source": [
    "import scipy.stats as stats"
   ]
  },
  {
   "cell_type": "code",
   "execution_count": 188,
   "metadata": {
    "execution": {
     "iopub.execute_input": "2021-04-17T17:46:37.971770Z",
     "iopub.status.busy": "2021-04-17T17:46:37.970829Z",
     "iopub.status.idle": "2021-04-17T17:46:37.977124Z",
     "shell.execute_reply": "2021-04-17T17:46:37.977611Z"
    },
    "papermill": {
     "duration": 0.36345,
     "end_time": "2021-04-17T17:46:37.977794",
     "exception": false,
     "start_time": "2021-04-17T17:46:37.614344",
     "status": "completed"
    },
    "tags": []
   },
   "outputs": [
    {
     "data": {
      "text/plain": [
       "array([ 1.1849736 , -0.27428318,  1.25744233,  0.48663853,  0.20005763,\n",
       "       -0.70250751, -0.80132851,  1.32661703,  0.50640273, -1.51942778,\n",
       "        1.64613827, -0.13922781, -0.03711278,  0.30217266, -1.42060678,\n",
       "       -0.58062828, -0.72556575, -0.63662685, -0.03381874, -1.37778435,\n",
       "        1.44520223,  1.35955737, -1.09120345, -1.08132135,  1.16191536,\n",
       "       -1.45684115,  0.87204043, -1.28555142,  0.63487003,  0.7798075 ])"
      ]
     },
     "execution_count": 188,
     "metadata": {},
     "output_type": "execute_result"
    }
   ],
   "source": [
    "stats.zscore(data)"
   ]
  },
  {
   "cell_type": "markdown",
   "metadata": {
    "papermill": {
     "duration": 0.353913,
     "end_time": "2021-04-17T17:46:38.731640",
     "exception": false,
     "start_time": "2021-04-17T17:46:38.377727",
     "status": "completed"
    },
    "tags": []
   },
   "source": [
    "Here each z-score tells us how many std. deviations each value is away from mean."
   ]
  },
  {
   "cell_type": "code",
   "execution_count": null,
   "metadata": {
    "papermill": {
     "duration": 0.354356,
     "end_time": "2021-04-17T17:46:39.441762",
     "exception": false,
     "start_time": "2021-04-17T17:46:39.087406",
     "status": "completed"
    },
    "tags": []
   },
   "outputs": [],
   "source": []
  },
  {
   "cell_type": "markdown",
   "metadata": {
    "papermill": {
     "duration": 0.356873,
     "end_time": "2021-04-17T17:46:40.151955",
     "exception": false,
     "start_time": "2021-04-17T17:46:39.795082",
     "status": "completed"
    },
    "tags": []
   },
   "source": [
    "g. Coefficient of Variation"
   ]
  },
  {
   "cell_type": "markdown",
   "metadata": {
    "papermill": {
     "duration": 0.354861,
     "end_time": "2021-04-17T17:46:40.865458",
     "exception": false,
     "start_time": "2021-04-17T17:46:40.510597",
     "status": "completed"
    },
    "tags": []
   },
   "source": [
    "It is the ratio of standard deviation to mean. "
   ]
  },
  {
   "cell_type": "code",
   "execution_count": 189,
   "metadata": {
    "execution": {
     "iopub.execute_input": "2021-04-17T17:46:41.582968Z",
     "iopub.status.busy": "2021-04-17T17:46:41.582024Z",
     "iopub.status.idle": "2021-04-17T17:46:41.589478Z",
     "shell.execute_reply": "2021-04-17T17:46:41.590004Z"
    },
    "papermill": {
     "duration": 0.366451,
     "end_time": "2021-04-17T17:46:41.590174",
     "exception": false,
     "start_time": "2021-04-17T17:46:41.223723",
     "status": "completed"
    },
    "tags": []
   },
   "outputs": [
    {
     "name": "stdout",
     "output_type": "stream",
     "text": [
      "\n",
      "Variation at axis = 0: \n",
      " [ 3.52845528  3.3470547   1.80598357 -1.59881564 -5.15100563]\n",
      "\n",
      "Variation at axis = 1: \n",
      " [ 2.74078274  1.91282102 -2.02345542 -3.0812028   2.00687297]\n"
     ]
    }
   ],
   "source": [
    "np.random.seed(2021)\n",
    "data1 = np.random.randn(5,5)\n",
    "\n",
    "print(\"\\nVariation at axis = 0: \\n\", stats.variation(data1, axis = 0))\n",
    "print(\"\\nVariation at axis = 1: \\n\", stats.variation(data1, axis = 1))"
   ]
  },
  {
   "cell_type": "code",
   "execution_count": null,
   "metadata": {
    "papermill": {
     "duration": 0.356932,
     "end_time": "2021-04-17T17:46:42.301177",
     "exception": false,
     "start_time": "2021-04-17T17:46:41.944245",
     "status": "completed"
    },
    "tags": []
   },
   "outputs": [],
   "source": []
  },
  {
   "cell_type": "markdown",
   "metadata": {
    "papermill": {
     "duration": 0.35237,
     "end_time": "2021-04-17T17:46:43.006136",
     "exception": false,
     "start_time": "2021-04-17T17:46:42.653766",
     "status": "completed"
    },
    "tags": []
   },
   "source": [
    "### 26. Familiarizing with different error metrics"
   ]
  },
  {
   "cell_type": "markdown",
   "metadata": {
    "papermill": {
     "duration": 0.354069,
     "end_time": "2021-04-17T17:46:43.758271",
     "exception": false,
     "start_time": "2021-04-17T17:46:43.404202",
     "status": "completed"
    },
    "tags": []
   },
   "source": [
    "SST "
   ]
  },
  {
   "cell_type": "markdown",
   "metadata": {
    "papermill": {
     "duration": 0.353525,
     "end_time": "2021-04-17T17:46:44.470477",
     "exception": false,
     "start_time": "2021-04-17T17:46:44.116952",
     "status": "completed"
    },
    "tags": []
   },
   "source": [
    "Sum of Squares Total - the squared difference between the observed dependent variable and its mean.<br>\n",
    "SST is also denoted as TSS or total sum of squares."
   ]
  },
  {
   "cell_type": "code",
   "execution_count": null,
   "metadata": {
    "papermill": {
     "duration": 0.359389,
     "end_time": "2021-04-17T17:46:45.183691",
     "exception": false,
     "start_time": "2021-04-17T17:46:44.824302",
     "status": "completed"
    },
    "tags": []
   },
   "outputs": [],
   "source": []
  },
  {
   "cell_type": "markdown",
   "metadata": {
    "papermill": {
     "duration": 0.360428,
     "end_time": "2021-04-17T17:46:45.900437",
     "exception": false,
     "start_time": "2021-04-17T17:46:45.540009",
     "status": "completed"
    },
    "tags": []
   },
   "source": [
    "SSR"
   ]
  },
  {
   "cell_type": "markdown",
   "metadata": {
    "papermill": {
     "duration": 0.353917,
     "end_time": "2021-04-17T17:46:46.635157",
     "exception": false,
     "start_time": "2021-04-17T17:46:46.281240",
     "status": "completed"
    },
    "tags": []
   },
   "source": [
    "Sum of differences between the predicted value and the mean of the dependent variable."
   ]
  },
  {
   "cell_type": "markdown",
   "metadata": {
    "papermill": {
     "duration": 0.354669,
     "end_time": "2021-04-17T17:46:47.348790",
     "exception": false,
     "start_time": "2021-04-17T17:46:46.994121",
     "status": "completed"
    },
    "tags": []
   },
   "source": [
    "if SSR = SST, our regression model captures all the observed variablity and its perfect. <br>\n",
    "ESS -> Explained sum of squares."
   ]
  },
  {
   "cell_type": "markdown",
   "metadata": {
    "papermill": {
     "duration": 0.352224,
     "end_time": "2021-04-17T17:46:48.054508",
     "exception": false,
     "start_time": "2021-04-17T17:46:47.702284",
     "status": "completed"
    },
    "tags": []
   },
   "source": []
  },
  {
   "cell_type": "markdown",
   "metadata": {
    "papermill": {
     "duration": 0.352786,
     "end_time": "2021-04-17T17:46:48.805319",
     "exception": false,
     "start_time": "2021-04-17T17:46:48.452533",
     "status": "completed"
    },
    "tags": []
   },
   "source": [
    "SSE"
   ]
  },
  {
   "cell_type": "markdown",
   "metadata": {
    "papermill": {
     "duration": 0.353222,
     "end_time": "2021-04-17T17:46:49.513031",
     "exception": false,
     "start_time": "2021-04-17T17:46:49.159809",
     "status": "completed"
    },
    "tags": []
   },
   "source": [
    "The error is the difference between the observed value and the predicted value. <br>\n",
    "We want to minimize the error. The smaller the error, the better the estimation power of the regression. <br>\n"
   ]
  },
  {
   "cell_type": "code",
   "execution_count": null,
   "metadata": {
    "papermill": {
     "duration": 0.354191,
     "end_time": "2021-04-17T17:46:50.222121",
     "exception": false,
     "start_time": "2021-04-17T17:46:49.867930",
     "status": "completed"
    },
    "tags": []
   },
   "outputs": [],
   "source": []
  },
  {
   "cell_type": "markdown",
   "metadata": {
    "papermill": {
     "duration": 0.355588,
     "end_time": "2021-04-17T17:46:50.933774",
     "exception": false,
     "start_time": "2021-04-17T17:46:50.578186",
     "status": "completed"
    },
    "tags": []
   },
   "source": [
    "#### Relation between SST, SSR, SSE"
   ]
  },
  {
   "cell_type": "markdown",
   "metadata": {
    "papermill": {
     "duration": 0.352752,
     "end_time": "2021-04-17T17:46:51.642655",
     "exception": false,
     "start_time": "2021-04-17T17:46:51.289903",
     "status": "completed"
    },
    "tags": []
   },
   "source": [
    "SST = SSR + SSE <br>\n",
    "The total variability = Explained Variability + Unexplained Variability"
   ]
  },
  {
   "cell_type": "markdown",
   "metadata": {
    "papermill": {
     "duration": 0.359153,
     "end_time": "2021-04-17T17:46:52.356356",
     "exception": false,
     "start_time": "2021-04-17T17:46:51.997203",
     "status": "completed"
    },
    "tags": []
   },
   "source": [
    "**Mean Squared Error** -> <br>\n",
    "1/n * SSE <br><br>\n",
    "**Root Mean Squared Error** -> <br>\n",
    "sqrt(MSE) <br><br>\n",
    "**R Squared** -> <br>\n",
    "1 - SSE / SST <br><br>\n",
    "**Adjusted R-squared** -> <br>\n",
    "1 - (n + k / n - k) * (1 - R**2) "
   ]
  },
  {
   "cell_type": "markdown",
   "metadata": {
    "papermill": {
     "duration": 0.355797,
     "end_time": "2021-04-17T17:46:53.066171",
     "exception": false,
     "start_time": "2021-04-17T17:46:52.710374",
     "status": "completed"
    },
    "tags": []
   },
   "source": [
    "**MSR ->** <br><br>\n",
    "\n",
    "Mean Square due to regression, <br>\n",
    "SSR / "
   ]
  },
  {
   "cell_type": "markdown",
   "metadata": {
    "papermill": {
     "duration": 0.35248,
     "end_time": "2021-04-17T17:46:53.812616",
     "exception": false,
     "start_time": "2021-04-17T17:46:53.460136",
     "status": "completed"
    },
    "tags": []
   },
   "source": [
    "### 27. Simmilarity and Dissimilarity Index"
   ]
  },
  {
   "cell_type": "code",
   "execution_count": null,
   "metadata": {
    "papermill": {
     "duration": 0.353838,
     "end_time": "2021-04-17T17:46:54.520322",
     "exception": false,
     "start_time": "2021-04-17T17:46:54.166484",
     "status": "completed"
    },
    "tags": []
   },
   "outputs": [],
   "source": []
  },
  {
   "cell_type": "markdown",
   "metadata": {
    "papermill": {
     "duration": 0.357018,
     "end_time": "2021-04-17T17:46:55.231361",
     "exception": false,
     "start_time": "2021-04-17T17:46:54.874343",
     "status": "completed"
    },
    "tags": []
   },
   "source": [
    "### 28. Logistic Regression"
   ]
  },
  {
   "cell_type": "markdown",
   "metadata": {
    "papermill": {
     "duration": 0.355655,
     "end_time": "2021-04-17T17:46:55.942483",
     "exception": false,
     "start_time": "2021-04-17T17:46:55.586828",
     "status": "completed"
    },
    "tags": []
   },
   "source": [
    "**Assumptions of Logistic Regression ->** <br>\n",
    "* Binary Logistic Regression requires the dependent variable to be binary\n",
    "* The variables should be independent of each other. That is, the model should have little or no multicollinearity. \n",
    "* Samples sizes should be preferably large. \n",
    "* "
   ]
  },
  {
   "cell_type": "markdown",
   "metadata": {
    "papermill": {
     "duration": 0.352775,
     "end_time": "2021-04-17T17:46:56.654428",
     "exception": false,
     "start_time": "2021-04-17T17:46:56.301653",
     "status": "completed"
    },
    "tags": []
   },
   "source": [
    "#### I. Python Implementation"
   ]
  },
  {
   "cell_type": "code",
   "execution_count": 190,
   "metadata": {
    "execution": {
     "iopub.execute_input": "2021-04-17T17:46:57.400805Z",
     "iopub.status.busy": "2021-04-17T17:46:57.399863Z",
     "iopub.status.idle": "2021-04-17T17:46:57.434309Z",
     "shell.execute_reply": "2021-04-17T17:46:57.433655Z"
    },
    "papermill": {
     "duration": 0.389498,
     "end_time": "2021-04-17T17:46:57.434444",
     "exception": false,
     "start_time": "2021-04-17T17:46:57.044946",
     "status": "completed"
    },
    "tags": []
   },
   "outputs": [
    {
     "name": "stdout",
     "output_type": "stream",
     "text": [
      "Optimization terminated successfully.\n",
      "         Current function value: 0.352707\n",
      "         Iterations 8\n",
      "                           Logit Regression Results                           \n",
      "==============================================================================\n",
      "Dep. Variable:               admitted   No. Observations:                   30\n",
      "Model:                          Logit   Df Residuals:                       27\n",
      "Method:                           MLE   Df Model:                            2\n",
      "Date:                Sat, 17 Apr 2021   Pseudo R-squ.:                  0.4912\n",
      "Time:                        17:46:57   Log-Likelihood:                -10.581\n",
      "converged:                       True   LL-Null:                       -20.794\n",
      "Covariance Type:            nonrobust   LLR p-value:                 3.668e-05\n",
      "===================================================================================\n",
      "                      coef    std err          z      P>|z|      [0.025      0.975]\n",
      "-----------------------------------------------------------------------------------\n",
      "gmat               -0.0262      0.011     -2.383      0.017      -0.048      -0.005\n",
      "gpa                 3.9422      1.964      2.007      0.045       0.092       7.792\n",
      "work_experience     1.1983      0.482      2.487      0.013       0.254       2.143\n",
      "===================================================================================\n"
     ]
    }
   ],
   "source": [
    "df = pd.read_csv(\"../input/logistic-regression-stats-dataset/logit_train1.csv\", index_col = 0)\n",
    "\n",
    "Xtrain = df[['gmat', 'gpa', 'work_experience']]\n",
    "ytrain = df[['admitted']]\n",
    "\n",
    "\n",
    "log_reg = sm.Logit(ytrain, Xtrain).fit()\n",
    "\n",
    "\n",
    "print(log_reg.summary())"
   ]
  },
  {
   "cell_type": "markdown",
   "metadata": {
    "papermill": {
     "duration": 0.385275,
     "end_time": "2021-04-17T17:46:58.174463",
     "exception": false,
     "start_time": "2021-04-17T17:46:57.789188",
     "status": "completed"
    },
    "tags": []
   },
   "source": [
    "#### II. Calculating G-Statistic"
   ]
  },
  {
   "cell_type": "markdown",
   "metadata": {
    "papermill": {
     "duration": 0.356179,
     "end_time": "2021-04-17T17:46:58.947970",
     "exception": false,
     "start_time": "2021-04-17T17:46:58.591791",
     "status": "completed"
    },
    "tags": []
   },
   "source": [
    "G - statistic in logistic regression is -> <br>\n",
    "-2ln[ likelihood without variable/ likelihood with variable]"
   ]
  },
  {
   "cell_type": "markdown",
   "metadata": {
    "papermill": {
     "duration": 0.353157,
     "end_time": "2021-04-17T17:46:59.657946",
     "exception": false,
     "start_time": "2021-04-17T17:46:59.304789",
     "status": "completed"
    },
    "tags": []
   },
   "source": [
    "Applications of G-Statistic -> <br>\n",
    "* Helps to verify the overall significance of the model\n",
    "* "
   ]
  },
  {
   "cell_type": "markdown",
   "metadata": {
    "papermill": {
     "duration": 0.356563,
     "end_time": "2021-04-17T17:47:00.374413",
     "exception": false,
     "start_time": "2021-04-17T17:47:00.017850",
     "status": "completed"
    },
    "tags": []
   },
   "source": [
    "Wald Test -> <br>\n",
    "Measures an individual independent variable's significance"
   ]
  },
  {
   "cell_type": "markdown",
   "metadata": {
    "papermill": {
     "duration": 0.354694,
     "end_time": "2021-04-17T17:47:01.087818",
     "exception": false,
     "start_time": "2021-04-17T17:47:00.733124",
     "status": "completed"
    },
    "tags": []
   },
   "source": []
  },
  {
   "cell_type": "code",
   "execution_count": null,
   "metadata": {
    "papermill": {
     "duration": 0.351496,
     "end_time": "2021-04-17T17:47:01.797610",
     "exception": false,
     "start_time": "2021-04-17T17:47:01.446114",
     "status": "completed"
    },
    "tags": []
   },
   "outputs": [],
   "source": []
  },
  {
   "cell_type": "markdown",
   "metadata": {
    "papermill": {
     "duration": 0.354222,
     "end_time": "2021-04-17T17:47:02.509029",
     "exception": false,
     "start_time": "2021-04-17T17:47:02.154807",
     "status": "completed"
    },
    "tags": []
   },
   "source": [
    "### Notebook in Making.  <br>\n",
    "Est. Date of Completion - 28-03-2021"
   ]
  }
 ],
 "metadata": {
  "kernelspec": {
   "display_name": "Python 3.10.4 64-bit",
   "language": "python",
   "name": "python3"
  },
  "language_info": {
   "codemirror_mode": {
    "name": "ipython",
    "version": 3
   },
   "file_extension": ".py",
   "mimetype": "text/x-python",
   "name": "python",
   "nbconvert_exporter": "python",
   "pygments_lexer": "ipython3",
   "version": "3.10.4"
  },
  "papermill": {
   "default_parameters": {},
   "duration": 765.59309,
   "end_time": "2021-04-17T17:47:04.075906",
   "environment_variables": {},
   "exception": null,
   "input_path": "__notebook__.ipynb",
   "output_path": "__notebook__.ipynb",
   "parameters": {},
   "start_time": "2021-04-17T17:34:18.482816",
   "version": "2.2.2"
  },
  "vscode": {
   "interpreter": {
    "hash": "369f2c481f4da34e4445cda3fffd2e751bd1c4d706f27375911949ba6bb62e1c"
   }
  }
 },
 "nbformat": 4,
 "nbformat_minor": 4
}
