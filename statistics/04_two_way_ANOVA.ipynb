{
 "cells": [
  {
   "cell_type": "markdown",
   "metadata": {},
   "source": [
    "# **Two  way ANOVA**"
   ]
  },
  {
   "cell_type": "code",
   "execution_count": 2,
   "metadata": {},
   "outputs": [],
   "source": [
    "import pandas as pd\n",
    "import numpy as np\n",
    "import seaborn as sns\n",
    "import matplotlib.pyplot as plt"
   ]
  },
  {
   "cell_type": "code",
   "execution_count": 36,
   "metadata": {},
   "outputs": [
    {
     "name": "stdout",
     "output_type": "stream",
     "text": [
      "     water     sun  height\n",
      "0    daily     low       6\n",
      "1    daily     low       4\n",
      "2    daily     low       5\n",
      "3    daily     low       6\n",
      "4    daily     low       6\n",
      "5    daily  medium       5\n",
      "6    daily  medium       3\n",
      "7    daily  medium       4\n",
      "8    daily  medium       5\n",
      "9    daily  medium       6\n",
      "10   daily    high       6\n",
      "11   daily    high       5\n",
      "12   daily    high       5\n",
      "13   daily    high       6\n",
      "14   daily    high       4\n",
      "15  weakly     low       5\n",
      "16  weakly     low       8\n",
      "17  weakly     low       7\n",
      "18  weakly     low       5\n",
      "19  weakly     low       7\n",
      "20  weakly  medium       6\n",
      "21  weakly  medium       2\n",
      "22  weakly  medium       6\n",
      "23  weakly  medium       2\n",
      "24  weakly  medium       6\n",
      "25  weakly    high       5\n",
      "26  weakly    high       3\n",
      "27  weakly    high       7\n",
      "28  weakly    high       5\n",
      "29  weakly    high       6\n"
     ]
    }
   ],
   "source": [
    "# craete a data set\n",
    "df=pd.DataFrame({'water':np.repeat(['daily','weakly'],15),\n",
    "                 'sun':np.tile(np.repeat([\"low\",'medium','high'],5),2),\n",
    "                 'height':[6,4,5,6,6,5,3,4,5,6,\n",
    "                           6,5,5,6,4,5,8,7,5,7,\n",
    "                           6,2,6,2,6,5,3,7,5,6]})\n",
    "print(df)"
   ]
  },
  {
   "cell_type": "code",
   "execution_count": 4,
   "metadata": {},
   "outputs": [
    {
     "data": {
      "text/plain": [
       "<AxesSubplot:xlabel='sun', ylabel='height'>"
      ]
     },
     "execution_count": 4,
     "metadata": {},
     "output_type": "execute_result"
    },
    {
     "data": {
      "image/png": "[encoded data removed]",
      "text/plain": [
       "<Figure size 432x288 with 1 Axes>"
      ]
     },
     "metadata": {
      "needs_background": "light"
     },
     "output_type": "display_data"
    }
   ],
   "source": [
    "sns.boxplot(x='sun',y='height',data=df)"
   ]
  },
  {
   "cell_type": "code",
   "execution_count": 5,
   "metadata": {},
   "outputs": [
    {
     "data": {
      "text/plain": [
       "<AxesSubplot:xlabel='sun', ylabel='height'>"
      ]
     },
     "execution_count": 5,
     "metadata": {},
     "output_type": "execute_result"
    },
    {
     "data": {
      "image/png": "[encoded data removed]",
      "text/plain": [
       "<Figure size 432x288 with 1 Axes>"
      ]
     },
     "metadata": {
      "needs_background": "light"
     },
     "output_type": "display_data"
    }
   ],
   "source": [
    "sns.boxplot(x='sun',y='height',data=df,hue='water') # there are two variables so we use two way anova"
   ]
  },
  {
   "cell_type": "code",
   "execution_count": 6,
   "metadata": {},
   "outputs": [],
   "source": [
    "# stats\n",
    "import statsmodels.api as sm\n",
    "from statsmodels.formula.api import ols"
   ]
  },
  {
   "cell_type": "code",
   "execution_count": 7,
   "metadata": {},
   "outputs": [
    {
     "name": "stdout",
     "output_type": "stream",
     "text": [
      "            df  sum_sq   mean_sq    F   PR(>F)\n",
      "sun        2.0     9.8  4.900000  2.7  0.08532\n",
      "Residual  27.0    49.0  1.814815  NaN      NaN\n"
     ]
    }
   ],
   "source": [
    "# ONE WAY ANOVA\n",
    "mod=ols('height~sun',data=df).fit()\n",
    "ano_table=sm.stats.anova_lm(mod,type=2)\n",
    "print(ano_table)"
   ]
  },
  {
   "cell_type": "code",
   "execution_count": 8,
   "metadata": {},
   "outputs": [
    {
     "name": "stdout",
     "output_type": "stream",
     "text": [
      "                   df     sum_sq   mean_sq         F    PR(>F)\n",
      "C(sun)            2.0   9.800000  4.900000  2.534483  0.100318\n",
      "C(water)          1.0   0.533333  0.533333  0.275862  0.604245\n",
      "C(sun):C(water)   2.0   2.066667  1.033333  0.534483  0.592786\n",
      "Residual         24.0  46.400000  1.933333       NaN       NaN\n"
     ]
    }
   ],
   "source": [
    "# TWO WAY ANOVA\n",
    "mod=ols('height~ C(sun)+C(water)+C(sun):C(water)',data=df).fit()\n",
    "ano_table=sm.stats.anova_lm(mod,type=2)\n",
    "print(ano_table)"
   ]
  },
  {
   "cell_type": "markdown",
   "metadata": {},
   "source": [
    "### |---> there is significant difference between (sun and water) and height"
   ]
  },
  {
   "cell_type": "code",
   "execution_count": 9,
   "metadata": {},
   "outputs": [
    {
     "name": "stdout",
     "output_type": "stream",
     "text": [
      "        Source         SS  DF        MS         F     p-unc       np2\n",
      "0          sun   9.800000   2  4.900000  2.534483  0.100318  0.174377\n",
      "1        water   0.533333   1  0.533333  0.275862  0.604245  0.011364\n",
      "2  sun * water   2.066667   2  1.033333  0.534483  0.592786  0.042641\n",
      "3     Residual  46.400000  24  1.933333       NaN       NaN       NaN\n"
     ]
    }
   ],
   "source": [
    "# Another way to doing 2 way anova\n",
    "# tucky test\n",
    "import pingouin as pg\n",
    "# first calculate anova table\n",
    "aov=pg.anova(data=df,dv='height',between=['sun','water'],detailed=True)\n",
    "print(aov)"
   ]
  },
  {
   "cell_type": "code",
   "execution_count": 41,
   "metadata": {},
   "outputs": [
    {
     "name": "stdout",
     "output_type": "stream",
     "text": [
      "Multiple Comparison of Means - Tukey HSD, FWER=0.05\n",
      "===================================================\n",
      "group1 group2 meandiff p-adj   lower  upper  reject\n",
      "---------------------------------------------------\n",
      "  high    low      0.7 0.4855 -0.7938 2.1938  False\n",
      "  high medium     -0.7 0.4855 -2.1938 0.7938  False\n",
      "   low medium     -1.4 0.0694 -2.8938 0.0938  False\n",
      "---------------------------------------------------\n"
     ]
    }
   ],
   "source": [
    " # tucky test\n",
    "from statsmodels.stats.multicomp import pairwise_tukeyhsd\n",
    "tucky=pairwise_tukeyhsd(df['height'],df['sun'],alpha=0.05)\n",
    "print(tucky)"
   ]
  },
  {
   "cell_type": "code",
   "execution_count": 42,
   "metadata": {},
   "outputs": [
    {
     "data": {
      "text/plain": [
       "<AxesSubplot:xlabel='sun', ylabel='height'>"
      ]
     },
     "execution_count": 42,
     "metadata": {},
     "output_type": "execute_result"
    },
    {
     "data": {
      "image/png": "[encoded data removed]",
      "text/plain": [
       "<Figure size 432x288 with 1 Axes>"
      ]
     },
     "metadata": {
      "needs_background": "light"
     },
     "output_type": "display_data"
    }
   ],
   "source": [
    "sns.boxplot(x='sun',y='height',data=df,hue='water')"
   ]
  },
  {
   "cell_type": "code",
   "execution_count": 43,
   "metadata": {},
   "outputs": [
    {
     "data": {
      "image/png": "[encoded data removed]",
      "text/plain": [
       "<Figure size 432x288 with 1 Axes>"
      ]
     },
     "metadata": {
      "needs_background": "light"
     },
     "output_type": "display_data"
    }
   ],
   "source": [
    "# QQ-norm plot \n",
    "res=mod.resid\n",
    "fig=sm.qqplot(res,line='s')\n",
    "plt.show()  # QQ-norm plot"
   ]
  }
 ],
 "metadata": {
  "kernelspec": {
   "display_name": "Python 3.10.4 64-bit",
   "language": "python",
   "name": "python3"
  },
  "language_info": {
   "codemirror_mode": {
    "name": "ipython",
    "version": 3
   },
   "file_extension": ".py",
   "mimetype": "text/x-python",
   "name": "python",
   "nbconvert_exporter": "python",
   "pygments_lexer": "ipython3",
   "version": "3.10.4"
  },
  "orig_nbformat": 4,
  "vscode": {
   "interpreter": {
    "hash": "369f2c481f4da34e4445cda3fffd2e751bd1c4d706f27375911949ba6bb62e1c"
   }
  }
 },
 "nbformat": 4,
 "nbformat_minor": 2
}
