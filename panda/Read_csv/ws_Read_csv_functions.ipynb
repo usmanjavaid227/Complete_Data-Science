{
 "cells": [
  {
   "cell_type": "markdown",
   "metadata": {},
   "source": [
    "### Pandas functions"
   ]
  },
  {
   "cell_type": "code",
   "execution_count": 2,
   "metadata": {},
   "outputs": [
    {
     "data": {
      "text/html": [
       "<div>\n",
       "<style scoped>\n",
       "    .dataframe tbody tr th:only-of-type {\n",
       "        vertical-align: middle;\n",
       "    }\n",
       "\n",
       "    .dataframe tbody tr th {\n",
       "        vertical-align: top;\n",
       "    }\n",
       "\n",
       "    .dataframe thead th {\n",
       "        text-align: right;\n",
       "    }\n",
       "</style>\n",
       "<table border=\"1\" class=\"dataframe\">\n",
       "  <thead>\n",
       "    <tr style=\"text-align: right;\">\n",
       "      <th></th>\n",
       "      <th>Gender</th>\n",
       "      <th>Age</th>\n",
       "      <th>Location</th>\n",
       "      <th>Time of class (pm)</th>\n",
       "      <th>Duration (min)</th>\n",
       "    </tr>\n",
       "  </thead>\n",
       "  <tbody>\n",
       "    <tr>\n",
       "      <th>0</th>\n",
       "      <td>Male</td>\n",
       "      <td>16-30</td>\n",
       "      <td>Pakistan</td>\n",
       "      <td>10:30</td>\n",
       "      <td>60</td>\n",
       "    </tr>\n",
       "    <tr>\n",
       "      <th>1</th>\n",
       "      <td>Male</td>\n",
       "      <td>16-30</td>\n",
       "      <td>Pakistan</td>\n",
       "      <td>10:00</td>\n",
       "      <td>60</td>\n",
       "    </tr>\n",
       "    <tr>\n",
       "      <th>2</th>\n",
       "      <td>Male</td>\n",
       "      <td>16-30</td>\n",
       "      <td>Pakistan</td>\n",
       "      <td>10:00</td>\n",
       "      <td>30</td>\n",
       "    </tr>\n",
       "    <tr>\n",
       "      <th>3</th>\n",
       "      <td>Male</td>\n",
       "      <td>30-40</td>\n",
       "      <td>Pakistan</td>\n",
       "      <td>9:30</td>\n",
       "      <td>30</td>\n",
       "    </tr>\n",
       "    <tr>\n",
       "      <th>4</th>\n",
       "      <td>Male</td>\n",
       "      <td>16-30</td>\n",
       "      <td>East</td>\n",
       "      <td>9:30</td>\n",
       "      <td>60</td>\n",
       "    </tr>\n",
       "    <tr>\n",
       "      <th>...</th>\n",
       "      <td>...</td>\n",
       "      <td>...</td>\n",
       "      <td>...</td>\n",
       "      <td>...</td>\n",
       "      <td>...</td>\n",
       "    </tr>\n",
       "    <tr>\n",
       "      <th>301</th>\n",
       "      <td>Male</td>\n",
       "      <td>16-30</td>\n",
       "      <td>Pakistan</td>\n",
       "      <td>9:30</td>\n",
       "      <td>30</td>\n",
       "    </tr>\n",
       "    <tr>\n",
       "      <th>302</th>\n",
       "      <td>Male</td>\n",
       "      <td>16-30</td>\n",
       "      <td>Pakistan</td>\n",
       "      <td>10:30</td>\n",
       "      <td>45</td>\n",
       "    </tr>\n",
       "    <tr>\n",
       "      <th>303</th>\n",
       "      <td>Male</td>\n",
       "      <td>16-30</td>\n",
       "      <td>Pakistan</td>\n",
       "      <td>10:00</td>\n",
       "      <td>60</td>\n",
       "    </tr>\n",
       "    <tr>\n",
       "      <th>304</th>\n",
       "      <td>Female</td>\n",
       "      <td>16-30</td>\n",
       "      <td>Pakistan</td>\n",
       "      <td>10:30</td>\n",
       "      <td>60</td>\n",
       "    </tr>\n",
       "    <tr>\n",
       "      <th>305</th>\n",
       "      <td>Male</td>\n",
       "      <td>16-30</td>\n",
       "      <td>Pakistan</td>\n",
       "      <td>10:30</td>\n",
       "      <td>45</td>\n",
       "    </tr>\n",
       "  </tbody>\n",
       "</table>\n",
       "<p>306 rows × 5 columns</p>\n",
       "</div>"
      ],
      "text/plain": [
       "     Gender    Age  Location Time of class (pm)  Duration (min)\n",
       "0      Male  16-30  Pakistan              10:30              60\n",
       "1      Male  16-30  Pakistan              10:00              60\n",
       "2      Male  16-30  Pakistan              10:00              30\n",
       "3      Male  30-40  Pakistan               9:30              30\n",
       "4      Male  16-30      East               9:30              60\n",
       "..      ...    ...       ...                ...             ...\n",
       "301    Male  16-30  Pakistan               9:30              30\n",
       "302    Male  16-30  Pakistan              10:30              45\n",
       "303    Male  16-30  Pakistan              10:00              60\n",
       "304  Female  16-30  Pakistan              10:30              60\n",
       "305    Male  16-30  Pakistan              10:30              45\n",
       "\n",
       "[306 rows x 5 columns]"
      ]
     },
     "execution_count": 2,
     "metadata": {},
     "output_type": "execute_result"
    }
   ],
   "source": [
    "import pandas as pd\n",
    "x=pd.read_csv('data_viz.csv')\n",
    "x"
   ]
  },
  {
   "cell_type": "markdown",
   "metadata": {},
   "source": [
    "#### 1- To find index"
   ]
  },
  {
   "cell_type": "code",
   "execution_count": 3,
   "metadata": {},
   "outputs": [
    {
     "data": {
      "text/plain": [
       "RangeIndex(start=0, stop=306, step=1)"
      ]
     },
     "execution_count": 3,
     "metadata": {},
     "output_type": "execute_result"
    }
   ],
   "source": [
    "x.index"
   ]
  },
  {
   "cell_type": "markdown",
   "metadata": {},
   "source": [
    "#### 2- To find columns "
   ]
  },
  {
   "cell_type": "code",
   "execution_count": 4,
   "metadata": {},
   "outputs": [
    {
     "data": {
      "text/plain": [
       "Index(['Gender', 'Age', 'Location', 'Time of class (pm)', 'Duration (min)'], dtype='object')"
      ]
     },
     "execution_count": 4,
     "metadata": {},
     "output_type": "execute_result"
    }
   ],
   "source": [
    "x.columns"
   ]
  },
  {
   "cell_type": "markdown",
   "metadata": {},
   "source": [
    "#### 3- To find numaric describe values"
   ]
  },
  {
   "cell_type": "code",
   "execution_count": 5,
   "metadata": {},
   "outputs": [
    {
     "data": {
      "text/html": [
       "<div>\n",
       "<style scoped>\n",
       "    .dataframe tbody tr th:only-of-type {\n",
       "        vertical-align: middle;\n",
       "    }\n",
       "\n",
       "    .dataframe tbody tr th {\n",
       "        vertical-align: top;\n",
       "    }\n",
       "\n",
       "    .dataframe thead th {\n",
       "        text-align: right;\n",
       "    }\n",
       "</style>\n",
       "<table border=\"1\" class=\"dataframe\">\n",
       "  <thead>\n",
       "    <tr style=\"text-align: right;\">\n",
       "      <th></th>\n",
       "      <th>Duration (min)</th>\n",
       "    </tr>\n",
       "  </thead>\n",
       "  <tbody>\n",
       "    <tr>\n",
       "      <th>count</th>\n",
       "      <td>306.000000</td>\n",
       "    </tr>\n",
       "    <tr>\n",
       "      <th>mean</th>\n",
       "      <td>46.862745</td>\n",
       "    </tr>\n",
       "    <tr>\n",
       "      <th>std</th>\n",
       "      <td>11.306205</td>\n",
       "    </tr>\n",
       "    <tr>\n",
       "      <th>min</th>\n",
       "      <td>30.000000</td>\n",
       "    </tr>\n",
       "    <tr>\n",
       "      <th>25%</th>\n",
       "      <td>45.000000</td>\n",
       "    </tr>\n",
       "    <tr>\n",
       "      <th>50%</th>\n",
       "      <td>45.000000</td>\n",
       "    </tr>\n",
       "    <tr>\n",
       "      <th>75%</th>\n",
       "      <td>60.000000</td>\n",
       "    </tr>\n",
       "    <tr>\n",
       "      <th>max</th>\n",
       "      <td>60.000000</td>\n",
       "    </tr>\n",
       "  </tbody>\n",
       "</table>\n",
       "</div>"
      ],
      "text/plain": [
       "       Duration (min)\n",
       "count      306.000000\n",
       "mean        46.862745\n",
       "std         11.306205\n",
       "min         30.000000\n",
       "25%         45.000000\n",
       "50%         45.000000\n",
       "75%         60.000000\n",
       "max         60.000000"
      ]
     },
     "execution_count": 5,
     "metadata": {},
     "output_type": "execute_result"
    }
   ],
   "source": [
    "x.describe()"
   ]
  },
  {
   "cell_type": "markdown",
   "metadata": {},
   "source": [
    "#### 4- To find Top rows"
   ]
  },
  {
   "cell_type": "code",
   "execution_count": 7,
   "metadata": {},
   "outputs": [
    {
     "data": {
      "text/html": [
       "<div>\n",
       "<style scoped>\n",
       "    .dataframe tbody tr th:only-of-type {\n",
       "        vertical-align: middle;\n",
       "    }\n",
       "\n",
       "    .dataframe tbody tr th {\n",
       "        vertical-align: top;\n",
       "    }\n",
       "\n",
       "    .dataframe thead th {\n",
       "        text-align: right;\n",
       "    }\n",
       "</style>\n",
       "<table border=\"1\" class=\"dataframe\">\n",
       "  <thead>\n",
       "    <tr style=\"text-align: right;\">\n",
       "      <th></th>\n",
       "      <th>Gender</th>\n",
       "      <th>Age</th>\n",
       "      <th>Location</th>\n",
       "      <th>Time of class (pm)</th>\n",
       "      <th>Duration (min)</th>\n",
       "    </tr>\n",
       "  </thead>\n",
       "  <tbody>\n",
       "    <tr>\n",
       "      <th>0</th>\n",
       "      <td>Male</td>\n",
       "      <td>16-30</td>\n",
       "      <td>Pakistan</td>\n",
       "      <td>10:30</td>\n",
       "      <td>60</td>\n",
       "    </tr>\n",
       "    <tr>\n",
       "      <th>1</th>\n",
       "      <td>Male</td>\n",
       "      <td>16-30</td>\n",
       "      <td>Pakistan</td>\n",
       "      <td>10:00</td>\n",
       "      <td>60</td>\n",
       "    </tr>\n",
       "    <tr>\n",
       "      <th>2</th>\n",
       "      <td>Male</td>\n",
       "      <td>16-30</td>\n",
       "      <td>Pakistan</td>\n",
       "      <td>10:00</td>\n",
       "      <td>30</td>\n",
       "    </tr>\n",
       "  </tbody>\n",
       "</table>\n",
       "</div>"
      ],
      "text/plain": [
       "  Gender    Age  Location Time of class (pm)  Duration (min)\n",
       "0   Male  16-30  Pakistan              10:30              60\n",
       "1   Male  16-30  Pakistan              10:00              60\n",
       "2   Male  16-30  Pakistan              10:00              30"
      ]
     },
     "execution_count": 7,
     "metadata": {},
     "output_type": "execute_result"
    }
   ],
   "source": [
    "x.head(3)"
   ]
  },
  {
   "cell_type": "markdown",
   "metadata": {},
   "source": [
    "#### 5- To find lower rows"
   ]
  },
  {
   "cell_type": "code",
   "execution_count": 8,
   "metadata": {},
   "outputs": [
    {
     "data": {
      "text/html": [
       "<div>\n",
       "<style scoped>\n",
       "    .dataframe tbody tr th:only-of-type {\n",
       "        vertical-align: middle;\n",
       "    }\n",
       "\n",
       "    .dataframe tbody tr th {\n",
       "        vertical-align: top;\n",
       "    }\n",
       "\n",
       "    .dataframe thead th {\n",
       "        text-align: right;\n",
       "    }\n",
       "</style>\n",
       "<table border=\"1\" class=\"dataframe\">\n",
       "  <thead>\n",
       "    <tr style=\"text-align: right;\">\n",
       "      <th></th>\n",
       "      <th>Gender</th>\n",
       "      <th>Age</th>\n",
       "      <th>Location</th>\n",
       "      <th>Time of class (pm)</th>\n",
       "      <th>Duration (min)</th>\n",
       "    </tr>\n",
       "  </thead>\n",
       "  <tbody>\n",
       "    <tr>\n",
       "      <th>301</th>\n",
       "      <td>Male</td>\n",
       "      <td>16-30</td>\n",
       "      <td>Pakistan</td>\n",
       "      <td>9:30</td>\n",
       "      <td>30</td>\n",
       "    </tr>\n",
       "    <tr>\n",
       "      <th>302</th>\n",
       "      <td>Male</td>\n",
       "      <td>16-30</td>\n",
       "      <td>Pakistan</td>\n",
       "      <td>10:30</td>\n",
       "      <td>45</td>\n",
       "    </tr>\n",
       "    <tr>\n",
       "      <th>303</th>\n",
       "      <td>Male</td>\n",
       "      <td>16-30</td>\n",
       "      <td>Pakistan</td>\n",
       "      <td>10:00</td>\n",
       "      <td>60</td>\n",
       "    </tr>\n",
       "    <tr>\n",
       "      <th>304</th>\n",
       "      <td>Female</td>\n",
       "      <td>16-30</td>\n",
       "      <td>Pakistan</td>\n",
       "      <td>10:30</td>\n",
       "      <td>60</td>\n",
       "    </tr>\n",
       "    <tr>\n",
       "      <th>305</th>\n",
       "      <td>Male</td>\n",
       "      <td>16-30</td>\n",
       "      <td>Pakistan</td>\n",
       "      <td>10:30</td>\n",
       "      <td>45</td>\n",
       "    </tr>\n",
       "  </tbody>\n",
       "</table>\n",
       "</div>"
      ],
      "text/plain": [
       "     Gender    Age  Location Time of class (pm)  Duration (min)\n",
       "301    Male  16-30  Pakistan               9:30              30\n",
       "302    Male  16-30  Pakistan              10:30              45\n",
       "303    Male  16-30  Pakistan              10:00              60\n",
       "304  Female  16-30  Pakistan              10:30              60\n",
       "305    Male  16-30  Pakistan              10:30              45"
      ]
     },
     "execution_count": 8,
     "metadata": {},
     "output_type": "execute_result"
    }
   ],
   "source": [
    "x.tail()"
   ]
  },
  {
   "cell_type": "markdown",
   "metadata": {},
   "source": [
    "#### 6- To find specific rows"
   ]
  },
  {
   "cell_type": "code",
   "execution_count": 9,
   "metadata": {},
   "outputs": [
    {
     "data": {
      "text/html": [
       "<div>\n",
       "<style scoped>\n",
       "    .dataframe tbody tr th:only-of-type {\n",
       "        vertical-align: middle;\n",
       "    }\n",
       "\n",
       "    .dataframe tbody tr th {\n",
       "        vertical-align: top;\n",
       "    }\n",
       "\n",
       "    .dataframe thead th {\n",
       "        text-align: right;\n",
       "    }\n",
       "</style>\n",
       "<table border=\"1\" class=\"dataframe\">\n",
       "  <thead>\n",
       "    <tr style=\"text-align: right;\">\n",
       "      <th></th>\n",
       "      <th>Gender</th>\n",
       "      <th>Age</th>\n",
       "      <th>Location</th>\n",
       "      <th>Time of class (pm)</th>\n",
       "      <th>Duration (min)</th>\n",
       "    </tr>\n",
       "  </thead>\n",
       "  <tbody>\n",
       "    <tr>\n",
       "      <th>0</th>\n",
       "      <td>Male</td>\n",
       "      <td>16-30</td>\n",
       "      <td>Pakistan</td>\n",
       "      <td>10:30</td>\n",
       "      <td>60</td>\n",
       "    </tr>\n",
       "    <tr>\n",
       "      <th>1</th>\n",
       "      <td>Male</td>\n",
       "      <td>16-30</td>\n",
       "      <td>Pakistan</td>\n",
       "      <td>10:00</td>\n",
       "      <td>60</td>\n",
       "    </tr>\n",
       "    <tr>\n",
       "      <th>2</th>\n",
       "      <td>Male</td>\n",
       "      <td>16-30</td>\n",
       "      <td>Pakistan</td>\n",
       "      <td>10:00</td>\n",
       "      <td>30</td>\n",
       "    </tr>\n",
       "    <tr>\n",
       "      <th>3</th>\n",
       "      <td>Male</td>\n",
       "      <td>30-40</td>\n",
       "      <td>Pakistan</td>\n",
       "      <td>9:30</td>\n",
       "      <td>30</td>\n",
       "    </tr>\n",
       "    <tr>\n",
       "      <th>4</th>\n",
       "      <td>Male</td>\n",
       "      <td>16-30</td>\n",
       "      <td>East</td>\n",
       "      <td>9:30</td>\n",
       "      <td>60</td>\n",
       "    </tr>\n",
       "    <tr>\n",
       "      <th>5</th>\n",
       "      <td>Male</td>\n",
       "      <td>16-30</td>\n",
       "      <td>Pakistan</td>\n",
       "      <td>10:00</td>\n",
       "      <td>60</td>\n",
       "    </tr>\n",
       "    <tr>\n",
       "      <th>6</th>\n",
       "      <td>Male</td>\n",
       "      <td>30-40</td>\n",
       "      <td>Pakistan</td>\n",
       "      <td>10:30</td>\n",
       "      <td>45</td>\n",
       "    </tr>\n",
       "    <tr>\n",
       "      <th>7</th>\n",
       "      <td>Male</td>\n",
       "      <td>16-30</td>\n",
       "      <td>West</td>\n",
       "      <td>10:30</td>\n",
       "      <td>30</td>\n",
       "    </tr>\n",
       "  </tbody>\n",
       "</table>\n",
       "</div>"
      ],
      "text/plain": [
       "  Gender    Age  Location Time of class (pm)  Duration (min)\n",
       "0   Male  16-30  Pakistan              10:30              60\n",
       "1   Male  16-30  Pakistan              10:00              60\n",
       "2   Male  16-30  Pakistan              10:00              30\n",
       "3   Male  30-40  Pakistan               9:30              30\n",
       "4   Male  16-30      East               9:30              60\n",
       "5   Male  16-30  Pakistan              10:00              60\n",
       "6   Male  30-40  Pakistan              10:30              45\n",
       "7   Male  16-30      West              10:30              30"
      ]
     },
     "execution_count": 9,
     "metadata": {},
     "output_type": "execute_result"
    }
   ],
   "source": [
    "x[:8]"
   ]
  },
  {
   "cell_type": "markdown",
   "metadata": {},
   "source": [
    "#### 7- To find index arrays"
   ]
  },
  {
   "cell_type": "code",
   "execution_count": 11,
   "metadata": {},
   "outputs": [
    {
     "data": {
      "text/plain": [
       "<PandasArray>\n",
       "[  0,   1,   2,   3,   4,   5,   6,   7,   8,   9,\n",
       " ...\n",
       " 296, 297, 298, 299, 300, 301, 302, 303, 304, 305]\n",
       "Length: 306, dtype: int64"
      ]
     },
     "execution_count": 11,
     "metadata": {},
     "output_type": "execute_result"
    }
   ],
   "source": [
    "x.index.array"
   ]
  },
  {
   "cell_type": "markdown",
   "metadata": {},
   "source": [
    "#### 8- To find numpy array "
   ]
  },
  {
   "cell_type": "code",
   "execution_count": 12,
   "metadata": {},
   "outputs": [
    {
     "data": {
      "text/plain": [
       "<bound method DataFrame.to_numpy of      Gender    Age  Location Time of class (pm)  Duration (min)\n",
       "0      Male  16-30  Pakistan              10:30              60\n",
       "1      Male  16-30  Pakistan              10:00              60\n",
       "2      Male  16-30  Pakistan              10:00              30\n",
       "3      Male  30-40  Pakistan               9:30              30\n",
       "4      Male  16-30      East               9:30              60\n",
       "..      ...    ...       ...                ...             ...\n",
       "301    Male  16-30  Pakistan               9:30              30\n",
       "302    Male  16-30  Pakistan              10:30              45\n",
       "303    Male  16-30  Pakistan              10:00              60\n",
       "304  Female  16-30  Pakistan              10:30              60\n",
       "305    Male  16-30  Pakistan              10:30              45\n",
       "\n",
       "[306 rows x 5 columns]>"
      ]
     },
     "execution_count": 12,
     "metadata": {},
     "output_type": "execute_result"
    }
   ],
   "source": [
    "x.to_numpy"
   ]
  },
  {
   "cell_type": "markdown",
   "metadata": {},
   "source": [
    "#### 9- To shows array"
   ]
  },
  {
   "cell_type": "code",
   "execution_count": 13,
   "metadata": {},
   "outputs": [
    {
     "data": {
      "text/plain": [
       "array([['Male', '16-30', 'Pakistan', '10:30', 60],\n",
       "       ['Male', '16-30', 'Pakistan', '10:00', 60],\n",
       "       ['Male', '16-30', 'Pakistan', '10:00', 30],\n",
       "       ...,\n",
       "       ['Male', '16-30', 'Pakistan', '10:00', 60],\n",
       "       ['Female', '16-30', 'Pakistan', '10:30', 60],\n",
       "       ['Male', '16-30', 'Pakistan', '10:30', 45]], dtype=object)"
      ]
     },
     "execution_count": 13,
     "metadata": {},
     "output_type": "execute_result"
    }
   ],
   "source": [
    "import numpy as np\n",
    "v=np.asarray(x)\n",
    "v"
   ]
  },
  {
   "cell_type": "markdown",
   "metadata": {},
   "source": [
    "#### 10- To find reverse "
   ]
  },
  {
   "cell_type": "code",
   "execution_count": 14,
   "metadata": {},
   "outputs": [
    {
     "data": {
      "text/html": [
       "<div>\n",
       "<style scoped>\n",
       "    .dataframe tbody tr th:only-of-type {\n",
       "        vertical-align: middle;\n",
       "    }\n",
       "\n",
       "    .dataframe tbody tr th {\n",
       "        vertical-align: top;\n",
       "    }\n",
       "\n",
       "    .dataframe thead th {\n",
       "        text-align: right;\n",
       "    }\n",
       "</style>\n",
       "<table border=\"1\" class=\"dataframe\">\n",
       "  <thead>\n",
       "    <tr style=\"text-align: right;\">\n",
       "      <th></th>\n",
       "      <th>Gender</th>\n",
       "      <th>Age</th>\n",
       "      <th>Location</th>\n",
       "      <th>Time of class (pm)</th>\n",
       "      <th>Duration (min)</th>\n",
       "    </tr>\n",
       "  </thead>\n",
       "  <tbody>\n",
       "    <tr>\n",
       "      <th>305</th>\n",
       "      <td>Male</td>\n",
       "      <td>16-30</td>\n",
       "      <td>Pakistan</td>\n",
       "      <td>10:30</td>\n",
       "      <td>45</td>\n",
       "    </tr>\n",
       "    <tr>\n",
       "      <th>304</th>\n",
       "      <td>Female</td>\n",
       "      <td>16-30</td>\n",
       "      <td>Pakistan</td>\n",
       "      <td>10:30</td>\n",
       "      <td>60</td>\n",
       "    </tr>\n",
       "    <tr>\n",
       "      <th>303</th>\n",
       "      <td>Male</td>\n",
       "      <td>16-30</td>\n",
       "      <td>Pakistan</td>\n",
       "      <td>10:00</td>\n",
       "      <td>60</td>\n",
       "    </tr>\n",
       "    <tr>\n",
       "      <th>302</th>\n",
       "      <td>Male</td>\n",
       "      <td>16-30</td>\n",
       "      <td>Pakistan</td>\n",
       "      <td>10:30</td>\n",
       "      <td>45</td>\n",
       "    </tr>\n",
       "    <tr>\n",
       "      <th>301</th>\n",
       "      <td>Male</td>\n",
       "      <td>16-30</td>\n",
       "      <td>Pakistan</td>\n",
       "      <td>9:30</td>\n",
       "      <td>30</td>\n",
       "    </tr>\n",
       "    <tr>\n",
       "      <th>...</th>\n",
       "      <td>...</td>\n",
       "      <td>...</td>\n",
       "      <td>...</td>\n",
       "      <td>...</td>\n",
       "      <td>...</td>\n",
       "    </tr>\n",
       "    <tr>\n",
       "      <th>4</th>\n",
       "      <td>Male</td>\n",
       "      <td>16-30</td>\n",
       "      <td>East</td>\n",
       "      <td>9:30</td>\n",
       "      <td>60</td>\n",
       "    </tr>\n",
       "    <tr>\n",
       "      <th>3</th>\n",
       "      <td>Male</td>\n",
       "      <td>30-40</td>\n",
       "      <td>Pakistan</td>\n",
       "      <td>9:30</td>\n",
       "      <td>30</td>\n",
       "    </tr>\n",
       "    <tr>\n",
       "      <th>2</th>\n",
       "      <td>Male</td>\n",
       "      <td>16-30</td>\n",
       "      <td>Pakistan</td>\n",
       "      <td>10:00</td>\n",
       "      <td>30</td>\n",
       "    </tr>\n",
       "    <tr>\n",
       "      <th>1</th>\n",
       "      <td>Male</td>\n",
       "      <td>16-30</td>\n",
       "      <td>Pakistan</td>\n",
       "      <td>10:00</td>\n",
       "      <td>60</td>\n",
       "    </tr>\n",
       "    <tr>\n",
       "      <th>0</th>\n",
       "      <td>Male</td>\n",
       "      <td>16-30</td>\n",
       "      <td>Pakistan</td>\n",
       "      <td>10:30</td>\n",
       "      <td>60</td>\n",
       "    </tr>\n",
       "  </tbody>\n",
       "</table>\n",
       "<p>306 rows × 5 columns</p>\n",
       "</div>"
      ],
      "text/plain": [
       "     Gender    Age  Location Time of class (pm)  Duration (min)\n",
       "305    Male  16-30  Pakistan              10:30              45\n",
       "304  Female  16-30  Pakistan              10:30              60\n",
       "303    Male  16-30  Pakistan              10:00              60\n",
       "302    Male  16-30  Pakistan              10:30              45\n",
       "301    Male  16-30  Pakistan               9:30              30\n",
       "..      ...    ...       ...                ...             ...\n",
       "4      Male  16-30      East               9:30              60\n",
       "3      Male  30-40  Pakistan               9:30              30\n",
       "2      Male  16-30  Pakistan              10:00              30\n",
       "1      Male  16-30  Pakistan              10:00              60\n",
       "0      Male  16-30  Pakistan              10:30              60\n",
       "\n",
       "[306 rows x 5 columns]"
      ]
     },
     "execution_count": 14,
     "metadata": {},
     "output_type": "execute_result"
    }
   ],
   "source": [
    "x.sort_index(axis=0,ascending=False)"
   ]
  },
  {
   "cell_type": "markdown",
   "metadata": {},
   "source": [
    "#### 11- To find a specific value"
   ]
  },
  {
   "cell_type": "code",
   "execution_count": 25,
   "metadata": {},
   "outputs": [
    {
     "data": {
      "text/html": [
       "<div>\n",
       "<style scoped>\n",
       "    .dataframe tbody tr th:only-of-type {\n",
       "        vertical-align: middle;\n",
       "    }\n",
       "\n",
       "    .dataframe tbody tr th {\n",
       "        vertical-align: top;\n",
       "    }\n",
       "\n",
       "    .dataframe thead th {\n",
       "        text-align: right;\n",
       "    }\n",
       "</style>\n",
       "<table border=\"1\" class=\"dataframe\">\n",
       "  <thead>\n",
       "    <tr style=\"text-align: right;\">\n",
       "      <th></th>\n",
       "      <th>Gender</th>\n",
       "      <th>Age</th>\n",
       "      <th>Location</th>\n",
       "      <th>Time of class (pm)</th>\n",
       "      <th>Duration (min)</th>\n",
       "    </tr>\n",
       "  </thead>\n",
       "  <tbody>\n",
       "    <tr>\n",
       "      <th>0</th>\n",
       "      <td>Male</td>\n",
       "      <td>16-30</td>\n",
       "      <td>Pakistan</td>\n",
       "      <td>10:30</td>\n",
       "      <td>30</td>\n",
       "    </tr>\n",
       "    <tr>\n",
       "      <th>1</th>\n",
       "      <td>Male</td>\n",
       "      <td>16-30</td>\n",
       "      <td>Pakistan</td>\n",
       "      <td>10:00</td>\n",
       "      <td>60</td>\n",
       "    </tr>\n",
       "    <tr>\n",
       "      <th>2</th>\n",
       "      <td>Male</td>\n",
       "      <td>16-30</td>\n",
       "      <td>Pakistan</td>\n",
       "      <td>10:00</td>\n",
       "      <td>30</td>\n",
       "    </tr>\n",
       "    <tr>\n",
       "      <th>3</th>\n",
       "      <td>Male</td>\n",
       "      <td>30-40</td>\n",
       "      <td>Pakistan</td>\n",
       "      <td>9:30</td>\n",
       "      <td>30</td>\n",
       "    </tr>\n",
       "    <tr>\n",
       "      <th>4</th>\n",
       "      <td>Male</td>\n",
       "      <td>16-30</td>\n",
       "      <td>East</td>\n",
       "      <td>9:30</td>\n",
       "      <td>60</td>\n",
       "    </tr>\n",
       "    <tr>\n",
       "      <th>...</th>\n",
       "      <td>...</td>\n",
       "      <td>...</td>\n",
       "      <td>...</td>\n",
       "      <td>...</td>\n",
       "      <td>...</td>\n",
       "    </tr>\n",
       "    <tr>\n",
       "      <th>301</th>\n",
       "      <td>Male</td>\n",
       "      <td>16-30</td>\n",
       "      <td>Pakistan</td>\n",
       "      <td>9:30</td>\n",
       "      <td>30</td>\n",
       "    </tr>\n",
       "    <tr>\n",
       "      <th>302</th>\n",
       "      <td>Male</td>\n",
       "      <td>16-30</td>\n",
       "      <td>Pakistan</td>\n",
       "      <td>10:30</td>\n",
       "      <td>45</td>\n",
       "    </tr>\n",
       "    <tr>\n",
       "      <th>303</th>\n",
       "      <td>Male</td>\n",
       "      <td>16-30</td>\n",
       "      <td>Pakistan</td>\n",
       "      <td>10:00</td>\n",
       "      <td>60</td>\n",
       "    </tr>\n",
       "    <tr>\n",
       "      <th>304</th>\n",
       "      <td>Female</td>\n",
       "      <td>16-30</td>\n",
       "      <td>Pakistan</td>\n",
       "      <td>10:30</td>\n",
       "      <td>60</td>\n",
       "    </tr>\n",
       "    <tr>\n",
       "      <th>305</th>\n",
       "      <td>Male</td>\n",
       "      <td>16-30</td>\n",
       "      <td>Pakistan</td>\n",
       "      <td>10:30</td>\n",
       "      <td>45</td>\n",
       "    </tr>\n",
       "  </tbody>\n",
       "</table>\n",
       "<p>306 rows × 5 columns</p>\n",
       "</div>"
      ],
      "text/plain": [
       "     Gender    Age  Location Time of class (pm)  Duration (min)\n",
       "0      Male  16-30  Pakistan              10:30              30\n",
       "1      Male  16-30  Pakistan              10:00              60\n",
       "2      Male  16-30  Pakistan              10:00              30\n",
       "3      Male  30-40  Pakistan               9:30              30\n",
       "4      Male  16-30      East               9:30              60\n",
       "..      ...    ...       ...                ...             ...\n",
       "301    Male  16-30  Pakistan               9:30              30\n",
       "302    Male  16-30  Pakistan              10:30              45\n",
       "303    Male  16-30  Pakistan              10:00              60\n",
       "304  Female  16-30  Pakistan              10:30              60\n",
       "305    Male  16-30  Pakistan              10:30              45\n",
       "\n",
       "[306 rows x 5 columns]"
      ]
     },
     "execution_count": 25,
     "metadata": {},
     "output_type": "execute_result"
    }
   ],
   "source": [
    "x.loc[0,\"Duration (min)\"]=30\n",
    "x"
   ]
  },
  {
   "cell_type": "code",
   "execution_count": 29,
   "metadata": {},
   "outputs": [
    {
     "data": {
      "text/plain": [
       "0    30\n",
       "3    30\n",
       "Name: Duration (min), dtype: int64"
      ]
     },
     "execution_count": 29,
     "metadata": {},
     "output_type": "execute_result"
    }
   ],
   "source": [
    "x.loc[[0,3],\"Duration (min)\"]"
   ]
  },
  {
   "cell_type": "code",
   "execution_count": 30,
   "metadata": {},
   "outputs": [
    {
     "data": {
      "text/plain": [
       "0      30\n",
       "1      60\n",
       "2      30\n",
       "3      30\n",
       "4      60\n",
       "       ..\n",
       "301    30\n",
       "302    45\n",
       "303    60\n",
       "304    60\n",
       "305    45\n",
       "Name: Duration (min), Length: 306, dtype: int64"
      ]
     },
     "execution_count": 30,
     "metadata": {},
     "output_type": "execute_result"
    }
   ],
   "source": [
    "x.loc[:,\"Duration (min)\"]"
   ]
  },
  {
   "cell_type": "code",
   "execution_count": 32,
   "metadata": {},
   "outputs": [
    {
     "data": {
      "text/plain": [
       "'16-30'"
      ]
     },
     "execution_count": 32,
     "metadata": {},
     "output_type": "execute_result"
    }
   ],
   "source": [
    "x.iloc[0,1]"
   ]
  },
  {
   "cell_type": "code",
   "execution_count": 33,
   "metadata": {},
   "outputs": [
    {
     "data": {
      "text/html": [
       "<div>\n",
       "<style scoped>\n",
       "    .dataframe tbody tr th:only-of-type {\n",
       "        vertical-align: middle;\n",
       "    }\n",
       "\n",
       "    .dataframe tbody tr th {\n",
       "        vertical-align: top;\n",
       "    }\n",
       "\n",
       "    .dataframe thead th {\n",
       "        text-align: right;\n",
       "    }\n",
       "</style>\n",
       "<table border=\"1\" class=\"dataframe\">\n",
       "  <thead>\n",
       "    <tr style=\"text-align: right;\">\n",
       "      <th></th>\n",
       "      <th>Gender</th>\n",
       "      <th>Age</th>\n",
       "      <th>Location</th>\n",
       "      <th>Time of class (pm)</th>\n",
       "    </tr>\n",
       "  </thead>\n",
       "  <tbody>\n",
       "    <tr>\n",
       "      <th>0</th>\n",
       "      <td>Male</td>\n",
       "      <td>16-30</td>\n",
       "      <td>Pakistan</td>\n",
       "      <td>10:30</td>\n",
       "    </tr>\n",
       "    <tr>\n",
       "      <th>1</th>\n",
       "      <td>Male</td>\n",
       "      <td>16-30</td>\n",
       "      <td>Pakistan</td>\n",
       "      <td>10:00</td>\n",
       "    </tr>\n",
       "    <tr>\n",
       "      <th>2</th>\n",
       "      <td>Male</td>\n",
       "      <td>16-30</td>\n",
       "      <td>Pakistan</td>\n",
       "      <td>10:00</td>\n",
       "    </tr>\n",
       "    <tr>\n",
       "      <th>3</th>\n",
       "      <td>Male</td>\n",
       "      <td>30-40</td>\n",
       "      <td>Pakistan</td>\n",
       "      <td>9:30</td>\n",
       "    </tr>\n",
       "    <tr>\n",
       "      <th>4</th>\n",
       "      <td>Male</td>\n",
       "      <td>16-30</td>\n",
       "      <td>East</td>\n",
       "      <td>9:30</td>\n",
       "    </tr>\n",
       "    <tr>\n",
       "      <th>...</th>\n",
       "      <td>...</td>\n",
       "      <td>...</td>\n",
       "      <td>...</td>\n",
       "      <td>...</td>\n",
       "    </tr>\n",
       "    <tr>\n",
       "      <th>301</th>\n",
       "      <td>Male</td>\n",
       "      <td>16-30</td>\n",
       "      <td>Pakistan</td>\n",
       "      <td>9:30</td>\n",
       "    </tr>\n",
       "    <tr>\n",
       "      <th>302</th>\n",
       "      <td>Male</td>\n",
       "      <td>16-30</td>\n",
       "      <td>Pakistan</td>\n",
       "      <td>10:30</td>\n",
       "    </tr>\n",
       "    <tr>\n",
       "      <th>303</th>\n",
       "      <td>Male</td>\n",
       "      <td>16-30</td>\n",
       "      <td>Pakistan</td>\n",
       "      <td>10:00</td>\n",
       "    </tr>\n",
       "    <tr>\n",
       "      <th>304</th>\n",
       "      <td>Female</td>\n",
       "      <td>16-30</td>\n",
       "      <td>Pakistan</td>\n",
       "      <td>10:30</td>\n",
       "    </tr>\n",
       "    <tr>\n",
       "      <th>305</th>\n",
       "      <td>Male</td>\n",
       "      <td>16-30</td>\n",
       "      <td>Pakistan</td>\n",
       "      <td>10:30</td>\n",
       "    </tr>\n",
       "  </tbody>\n",
       "</table>\n",
       "<p>306 rows × 4 columns</p>\n",
       "</div>"
      ],
      "text/plain": [
       "     Gender    Age  Location Time of class (pm)\n",
       "0      Male  16-30  Pakistan              10:30\n",
       "1      Male  16-30  Pakistan              10:00\n",
       "2      Male  16-30  Pakistan              10:00\n",
       "3      Male  30-40  Pakistan               9:30\n",
       "4      Male  16-30      East               9:30\n",
       "..      ...    ...       ...                ...\n",
       "301    Male  16-30  Pakistan               9:30\n",
       "302    Male  16-30  Pakistan              10:30\n",
       "303    Male  16-30  Pakistan              10:00\n",
       "304  Female  16-30  Pakistan              10:30\n",
       "305    Male  16-30  Pakistan              10:30\n",
       "\n",
       "[306 rows x 4 columns]"
      ]
     },
     "execution_count": 33,
     "metadata": {},
     "output_type": "execute_result"
    }
   ],
   "source": [
    "x.drop(\"Duration (min)\",axis=1)"
   ]
  }
 ],
 "metadata": {
  "kernelspec": {
   "display_name": "Python 3.10.4 64-bit",
   "language": "python",
   "name": "python3"
  },
  "language_info": {
   "codemirror_mode": {
    "name": "ipython",
    "version": 3
   },
   "file_extension": ".py",
   "mimetype": "text/x-python",
   "name": "python",
   "nbconvert_exporter": "python",
   "pygments_lexer": "ipython3",
   "version": "3.10.4"
  },
  "orig_nbformat": 4,
  "vscode": {
   "interpreter": {
    "hash": "369f2c481f4da34e4445cda3fffd2e751bd1c4d706f27375911949ba6bb62e1c"
   }
  }
 },
 "nbformat": 4,
 "nbformat_minor": 2
}
