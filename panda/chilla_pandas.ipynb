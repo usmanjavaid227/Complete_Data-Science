{
 "cells": [
  {
   "cell_type": "markdown",
   "metadata": {},
   "source": [
    "### Pandas\n",
    ">  _pannel data analysis_\\\n",
    "  -> use for\n",
    "> - Data manupulation\n",
    ">  - Data analysis"
   ]
  },
  {
   "cell_type": "code",
   "execution_count": 1,
   "metadata": {},
   "outputs": [],
   "source": [
    "import numpy as np\n",
    "import pandas as pd\n"
   ]
  },
  {
   "cell_type": "code",
   "execution_count": 3,
   "metadata": {},
   "outputs": [
    {
     "data": {
      "text/plain": [
       "0    1.0\n",
       "1    2.0\n",
       "2    NaN\n",
       "3    3.0\n",
       "4    4.0\n",
       "5    5.0\n",
       "dtype: float64"
      ]
     },
     "execution_count": 3,
     "metadata": {},
     "output_type": "execute_result"
    }
   ],
   "source": [
    "# Object Creation\n",
    "s=pd.Series([1,2,np.nan,3,4,5])\n",
    "s"
   ]
  },
  {
   "cell_type": "code",
   "execution_count": 7,
   "metadata": {},
   "outputs": [
    {
     "data": {
      "text/plain": [
       "DatetimeIndex(['2022-01-01', '2022-01-02', '2022-01-03', '2022-01-04',\n",
       "               '2022-01-05', '2022-01-06', '2022-01-07', '2022-01-08',\n",
       "               '2022-01-09', '2022-01-10', '2022-01-11'],\n",
       "              dtype='datetime64[ns]', freq='D')"
      ]
     },
     "execution_count": 7,
     "metadata": {},
     "output_type": "execute_result"
    }
   ],
   "source": [
    "dates=pd.date_range('20220101',periods=6)"
   ]
  },
  {
   "cell_type": "code",
   "execution_count": 12,
   "metadata": {},
   "outputs": [
    {
     "data": {
      "text/html": [
       "<div>\n",
       "<style scoped>\n",
       "    .dataframe tbody tr th:only-of-type {\n",
       "        vertical-align: middle;\n",
       "    }\n",
       "\n",
       "    .dataframe tbody tr th {\n",
       "        vertical-align: top;\n",
       "    }\n",
       "\n",
       "    .dataframe thead th {\n",
       "        text-align: right;\n",
       "    }\n",
       "</style>\n",
       "<table border=\"1\" class=\"dataframe\">\n",
       "  <thead>\n",
       "    <tr style=\"text-align: right;\">\n",
       "      <th></th>\n",
       "      <th>A</th>\n",
       "      <th>B</th>\n",
       "      <th>C</th>\n",
       "      <th>D</th>\n",
       "    </tr>\n",
       "  </thead>\n",
       "  <tbody>\n",
       "    <tr>\n",
       "      <th>2022-01-01</th>\n",
       "      <td>1.413868</td>\n",
       "      <td>0.398530</td>\n",
       "      <td>0.808857</td>\n",
       "      <td>-1.616968</td>\n",
       "    </tr>\n",
       "    <tr>\n",
       "      <th>2022-01-02</th>\n",
       "      <td>2.350190</td>\n",
       "      <td>-0.469907</td>\n",
       "      <td>-0.717189</td>\n",
       "      <td>1.269061</td>\n",
       "    </tr>\n",
       "    <tr>\n",
       "      <th>2022-01-03</th>\n",
       "      <td>-0.212911</td>\n",
       "      <td>0.505259</td>\n",
       "      <td>-0.139016</td>\n",
       "      <td>-0.652310</td>\n",
       "    </tr>\n",
       "    <tr>\n",
       "      <th>2022-01-04</th>\n",
       "      <td>0.753046</td>\n",
       "      <td>-1.512515</td>\n",
       "      <td>0.325610</td>\n",
       "      <td>-0.584921</td>\n",
       "    </tr>\n",
       "    <tr>\n",
       "      <th>2022-01-05</th>\n",
       "      <td>0.158616</td>\n",
       "      <td>0.968052</td>\n",
       "      <td>-0.950928</td>\n",
       "      <td>0.654336</td>\n",
       "    </tr>\n",
       "    <tr>\n",
       "      <th>2022-01-06</th>\n",
       "      <td>-0.264623</td>\n",
       "      <td>0.988564</td>\n",
       "      <td>-0.426094</td>\n",
       "      <td>0.533337</td>\n",
       "    </tr>\n",
       "  </tbody>\n",
       "</table>\n",
       "</div>"
      ],
      "text/plain": [
       "                   A         B         C         D\n",
       "2022-01-01  1.413868  0.398530  0.808857 -1.616968\n",
       "2022-01-02  2.350190 -0.469907 -0.717189  1.269061\n",
       "2022-01-03 -0.212911  0.505259 -0.139016 -0.652310\n",
       "2022-01-04  0.753046 -1.512515  0.325610 -0.584921\n",
       "2022-01-05  0.158616  0.968052 -0.950928  0.654336\n",
       "2022-01-06 -0.264623  0.988564 -0.426094  0.533337"
      ]
     },
     "execution_count": 12,
     "metadata": {},
     "output_type": "execute_result"
    }
   ],
   "source": [
    "dates=pd.date_range('20220101',periods=6)\n",
    "df=pd.DataFrame(np.random.randn(6,4),index=dates,columns=list(\"ABCD\"))\n",
    "df"
   ]
  }
 ],
 "metadata": {
  "kernelspec": {
   "display_name": "Python 3.10.4 64-bit",
   "language": "python",
   "name": "python3"
  },
  "language_info": {
   "codemirror_mode": {
    "name": "ipython",
    "version": 3
   },
   "file_extension": ".py",
   "mimetype": "text/x-python",
   "name": "python",
   "nbconvert_exporter": "python",
   "pygments_lexer": "ipython3",
   "version": "3.10.4"
  },
  "orig_nbformat": 4,
  "vscode": {
   "interpreter": {
    "hash": "369f2c481f4da34e4445cda3fffd2e751bd1c4d706f27375911949ba6bb62e1c"
   }
  }
 },
 "nbformat": 4,
 "nbformat_minor": 2
}
