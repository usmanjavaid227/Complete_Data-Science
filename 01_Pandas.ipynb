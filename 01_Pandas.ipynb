{
 "cells": [
  {
   "cell_type": "code",
   "execution_count": 1,
   "id": "f9a7a057",
   "metadata": {},
   "outputs": [],
   "source": [
    "import pandas as pd"
   ]
  },
  {
   "cell_type": "code",
   "execution_count": 2,
   "id": "6a684e7e",
   "metadata": {},
   "outputs": [
    {
     "data": {
      "text/plain": [
       "'1.2.4'"
      ]
     },
     "execution_count": 2,
     "metadata": {},
     "output_type": "execute_result"
    }
   ],
   "source": [
    "pd.__version__"
   ]
  },
  {
   "cell_type": "code",
   "execution_count": 3,
   "id": "103b2539",
   "metadata": {},
   "outputs": [
    {
     "data": {
      "text/plain": [
       "[1, 2, -5, 7.4, 6, 'Pak']"
      ]
     },
     "execution_count": 3,
     "metadata": {},
     "output_type": "execute_result"
    }
   ],
   "source": [
    "lis_s=[1,2,-5,7.4,6,\"Pak\"]\n",
    "lis_s"
   ]
  },
  {
   "cell_type": "code",
   "execution_count": 5,
   "id": "eabd2f25",
   "metadata": {
    "scrolled": true
   },
   "outputs": [
    {
     "name": "stdout",
     "output_type": "stream",
     "text": [
      "0      1\n",
      "1      2\n",
      "2     -5\n",
      "3    7.4\n",
      "4      6\n",
      "5    Pak\n",
      "dtype: object\n"
     ]
    }
   ],
   "source": [
    "series1=pd.Series(lis_s)\n",
    "print(series1)"
   ]
  },
  {
   "cell_type": "code",
   "execution_count": 6,
   "id": "269b7b44",
   "metadata": {
    "scrolled": true
   },
   "outputs": [
    {
     "data": {
      "text/plain": [
       "pandas.core.series.Series"
      ]
     },
     "execution_count": 6,
     "metadata": {},
     "output_type": "execute_result"
    }
   ],
   "source": [
    "type(series1)"
   ]
  },
  {
   "cell_type": "code",
   "execution_count": 7,
   "id": "a5d024e7",
   "metadata": {
    "scrolled": true
   },
   "outputs": [
    {
     "name": "stdout",
     "output_type": "stream",
     "text": [
      "0    56\n",
      "1     3\n",
      "2    23\n",
      "3    43\n",
      "4     4\n",
      "dtype: int64\n"
     ]
    }
   ],
   "source": [
    "series2=pd.Series([56,3,23,43,4])\n",
    "print(series2)"
   ]
  },
  {
   "cell_type": "code",
   "execution_count": 9,
   "id": "6367538b",
   "metadata": {},
   "outputs": [
    {
     "name": "stdout",
     "output_type": "stream",
     "text": [
      "Series([], dtype: int32)\n"
     ]
    }
   ],
   "source": [
    "#Empty series::\n",
    "empty_series=pd.Series([] ,dtype=int)\n",
    "print(empty_series)"
   ]
  },
  {
   "cell_type": "code",
   "execution_count": 12,
   "id": "826b295d",
   "metadata": {},
   "outputs": [
    {
     "name": "stdout",
     "output_type": "stream",
     "text": [
      "a    56\n",
      "b     3\n",
      "c    23\n",
      "d    43\n",
      "f     4\n",
      "dtype: int64\n"
     ]
    }
   ],
   "source": [
    "# index values should be same as data values:\n",
    "series3=pd.Series([56,3,23,43,4],index=['a','b','c','d','f'])\n",
    "print(series3)"
   ]
  },
  {
   "cell_type": "code",
   "execution_count": 13,
   "id": "642622ad",
   "metadata": {},
   "outputs": [
    {
     "name": "stdout",
     "output_type": "stream",
     "text": [
      "a    56.0\n",
      "b     3.0\n",
      "c    23.0\n",
      "d    43.0\n",
      "f     4.0\n",
      "dtype: float64\n"
     ]
    }
   ],
   "source": [
    "# index values should be same as data values:\n",
    "series4=pd.Series([56,3,23,43,4],index=['a','b','c','d','f'] , dtype=float)\n",
    "print(series4)"
   ]
  },
  {
   "cell_type": "code",
   "execution_count": 15,
   "id": "7b8b47af",
   "metadata": {},
   "outputs": [
    {
     "name": "stdout",
     "output_type": "stream",
     "text": [
      "a    56\n",
      "b     3\n",
      "c    23\n",
      "d    43\n",
      "f     4\n",
      "Name: Data_values, dtype: int64\n"
     ]
    }
   ],
   "source": [
    "# we can give name to the colums:\n",
    "# index values should be same as data values:\n",
    "series5=pd.Series([56,3,23,43,4],index=['a','b','c','d','f'],name=\"Data_values\")\n",
    "print(series5)"
   ]
  },
  {
   "cell_type": "code",
   "execution_count": 16,
   "id": "9fc53367",
   "metadata": {},
   "outputs": [
    {
     "data": {
      "text/plain": [
       "0    0.5\n",
       "dtype: float64"
      ]
     },
     "execution_count": 16,
     "metadata": {},
     "output_type": "execute_result"
    }
   ],
   "source": [
    "scalar_single=pd.Series(0.5)\n",
    "scalar_single"
   ]
  },
  {
   "cell_type": "code",
   "execution_count": 17,
   "id": "50706bbb",
   "metadata": {},
   "outputs": [
    {
     "data": {
      "text/plain": [
       "1    0.5\n",
       "2    0.5\n",
       "3    0.5\n",
       "dtype: float64"
      ]
     },
     "execution_count": 17,
     "metadata": {},
     "output_type": "execute_result"
    }
   ],
   "source": [
    "scalar_single=pd.Series(0.5,index=[1,2,3])\n",
    "scalar_single"
   ]
  },
  {
   "cell_type": "code",
   "execution_count": 19,
   "id": "f01d72ac",
   "metadata": {},
   "outputs": [
    {
     "data": {
      "text/plain": [
       "a    1\n",
       "b    2\n",
       "dtype: int64"
      ]
     },
     "execution_count": 19,
     "metadata": {},
     "output_type": "execute_result"
    }
   ],
   "source": [
    "dict_s=pd.Series({'a':1,'b':2})\n",
    "dict_s"
   ]
  },
  {
   "cell_type": "code",
   "execution_count": 23,
   "id": "9c9a98ce",
   "metadata": {},
   "outputs": [
    {
     "data": {
      "text/plain": [
       "1"
      ]
     },
     "execution_count": 23,
     "metadata": {},
     "output_type": "execute_result"
    }
   ],
   "source": [
    "s4=pd.Series([1,2,3,4,6,23,5,432,3])\n",
    "s4[0]"
   ]
  },
  {
   "cell_type": "code",
   "execution_count": 24,
   "id": "5b815e3c",
   "metadata": {},
   "outputs": [
    {
     "data": {
      "text/plain": [
       "4"
      ]
     },
     "execution_count": 24,
     "metadata": {},
     "output_type": "execute_result"
    }
   ],
   "source": [
    "s4[3]"
   ]
  },
  {
   "cell_type": "code",
   "execution_count": 22,
   "id": "1b87310a",
   "metadata": {},
   "outputs": [
    {
     "data": {
      "text/plain": [
       "0    1\n",
       "1    2\n",
       "2    3\n",
       "3    4\n",
       "dtype: int64"
      ]
     },
     "execution_count": 22,
     "metadata": {},
     "output_type": "execute_result"
    }
   ],
   "source": [
    "s4[:4]"
   ]
  },
  {
   "cell_type": "code",
   "execution_count": 25,
   "id": "aa04a658",
   "metadata": {},
   "outputs": [
    {
     "data": {
      "text/plain": [
       "432"
      ]
     },
     "execution_count": 25,
     "metadata": {},
     "output_type": "execute_result"
    }
   ],
   "source": [
    "max(s4)"
   ]
  },
  {
   "cell_type": "code",
   "execution_count": 26,
   "id": "9e95d579",
   "metadata": {},
   "outputs": [
    {
     "data": {
      "text/plain": [
       "1"
      ]
     },
     "execution_count": 26,
     "metadata": {},
     "output_type": "execute_result"
    }
   ],
   "source": [
    "min(s4)"
   ]
  },
  {
   "cell_type": "code",
   "execution_count": 27,
   "id": "9a55cdbe",
   "metadata": {},
   "outputs": [
    {
     "data": {
      "text/plain": [
       "4      6\n",
       "5     23\n",
       "7    432\n",
       "dtype: int64"
      ]
     },
     "execution_count": 27,
     "metadata": {},
     "output_type": "execute_result"
    }
   ],
   "source": [
    "s4[s4>5]"
   ]
  },
  {
   "cell_type": "code",
   "execution_count": null,
   "id": "674ee774",
   "metadata": {},
   "outputs": [],
   "source": []
  }
 ],
 "metadata": {
  "kernelspec": {
   "display_name": "Python 3",
   "language": "python",
   "name": "python3"
  },
  "language_info": {
   "codemirror_mode": {
    "name": "ipython",
    "version": 3
   },
   "file_extension": ".py",
   "mimetype": "text/x-python",
   "name": "python",
   "nbconvert_exporter": "python",
   "pygments_lexer": "ipython3",
   "version": "3.8.8"
  }
 },
 "nbformat": 4,
 "nbformat_minor": 5
}
